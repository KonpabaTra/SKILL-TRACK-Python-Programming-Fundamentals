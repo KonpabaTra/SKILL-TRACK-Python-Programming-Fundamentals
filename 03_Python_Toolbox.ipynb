{
  "nbformat": 4,
  "nbformat_minor": 0,
  "metadata": {
    "colab": {
      "provenance": [],
      "authorship_tag": "ABX9TyMVtFn8hIAF6OG+P0JCg0HA",
      "include_colab_link": true
    },
    "kernelspec": {
      "name": "python3",
      "display_name": "Python 3"
    },
    "language_info": {
      "name": "python"
    }
  },
  "cells": [
    {
      "cell_type": "markdown",
      "metadata": {
        "id": "view-in-github",
        "colab_type": "text"
      },
      "source": [
        "<a href=\"https://colab.research.google.com/github/KonpabaTra/SKILL-TRACK-Python-Programming-Fundamentals/blob/main/03_Python_Toolbox.ipynb\" target=\"_parent\"><img src=\"https://colab.research.google.com/assets/colab-badge.svg\" alt=\"Open In Colab\"/></a>"
      ]
    },
    {
      "cell_type": "markdown",
      "source": [
        "**Description**\n",
        "\n",
        "In this Python Toolbox course, you'll continue to build more advanced Python skills. First, you'll learn about iterators, objects you have already encountered in the context of for loops. You'll then learn about list comprehensions, which are extremely handy tools for all data professionals and developers working in Python. You'll end the course by working through a case study in which you'll apply all the techniques you learned in both parts of this course."
      ],
      "metadata": {
        "id": "lntKx6FDW5-P"
      }
    },
    {
      "cell_type": "markdown",
      "source": [
        "# Chapter 1: Using iterators in PythonLand\n",
        "\n",
        "You'll learn all about iterators and iterables, which you have already worked with when writing for loops. You'll learn some handy functions that will allow you to effectively work with iterators. And you’ll finish the chapter with a use case that is pertinent to the world of data science and dealing with large amounts of data—in this case, data from Twitter that you will load in chunks using iterators."
      ],
      "metadata": {
        "id": "iC0G_x5UXT_b"
      }
    },
    {
      "cell_type": "markdown",
      "source": [
        "## Lesson 1: Introduction to iterators\n"
      ],
      "metadata": {
        "id": "40UBdjF_xAyQ"
      }
    },
    {
      "cell_type": "markdown",
      "source": [
        "### Iterating with a for loop\n"
      ],
      "metadata": {
        "id": "1L4FJnX0xjQR"
      }
    },
    {
      "cell_type": "markdown",
      "source": [
        "* We can iterate over a list using a for loop"
      ],
      "metadata": {
        "id": "Pa0R_Ifjxm6P"
      }
    },
    {
      "cell_type": "code",
      "source": [
        "employees = ['Nick', 'Lore', 'Hugo']\n",
        "for employee in employees:\n",
        "  print(employee)"
      ],
      "metadata": {
        "colab": {
          "base_uri": "https://localhost:8080/"
        },
        "id": "Pn_V7uSYxn74",
        "outputId": "08fd2deb-b664-476e-f901-937139c796ae"
      },
      "execution_count": null,
      "outputs": [
        {
          "output_type": "stream",
          "name": "stdout",
          "text": [
            "Nick\n",
            "Lore\n",
            "Hugo\n"
          ]
        }
      ]
    },
    {
      "cell_type": "markdown",
      "source": [
        "* We can iterate over a string using a for loop"
      ],
      "metadata": {
        "id": "2CSot5coxxnK"
      }
    },
    {
      "cell_type": "code",
      "source": [
        "for letter in 'DataCamp':\n",
        "  print(letter)"
      ],
      "metadata": {
        "colab": {
          "base_uri": "https://localhost:8080/"
        },
        "id": "sx5Uq2_Oxyoo",
        "outputId": "35ef99e9-00b5-454e-8121-deb6956ebde8"
      },
      "execution_count": null,
      "outputs": [
        {
          "output_type": "stream",
          "name": "stdout",
          "text": [
            "D\n",
            "a\n",
            "t\n",
            "a\n",
            "C\n",
            "a\n",
            "m\n",
            "p\n"
          ]
        }
      ]
    },
    {
      "cell_type": "markdown",
      "source": [
        "* We can iterate over a range object using a for loop"
      ],
      "metadata": {
        "id": "vZ1wkDcHx5mR"
      }
    },
    {
      "cell_type": "code",
      "source": [
        "for i in range(4):\n",
        " print(i)"
      ],
      "metadata": {
        "colab": {
          "base_uri": "https://localhost:8080/"
        },
        "id": "fPzsiYRZx8FL",
        "outputId": "3a94f497-517a-4d7f-9c81-54db7ac155c4"
      },
      "execution_count": null,
      "outputs": [
        {
          "output_type": "stream",
          "name": "stdout",
          "text": [
            "0\n",
            "1\n",
            "2\n",
            "3\n"
          ]
        }
      ]
    },
    {
      "cell_type": "markdown",
      "source": [
        "### Iterators vs. iterables\n",
        "\n",
        "* Iterable\n",
        "  * Examples: lists, strings, dictionaries, ,le connections\n",
        "  * An object with an associated `iter()` method\n",
        "  * Applying `iter()` to an iterable creates an iterator\n",
        "*Iterator\n",
        "  * Produces next value with `next()`"
      ],
      "metadata": {
        "id": "xYx-8lIlywKD"
      }
    },
    {
      "cell_type": "markdown",
      "source": [
        "### Iterating over iterables: `next()`"
      ],
      "metadata": {
        "id": "ghr4kwW1zIPx"
      }
    },
    {
      "cell_type": "code",
      "source": [
        "word = 'Da'\n",
        "it = iter(word)\n",
        "next(it)"
      ],
      "metadata": {
        "colab": {
          "base_uri": "https://localhost:8080/",
          "height": 36
        },
        "id": "Q6eeiVFDzMCb",
        "outputId": "f2cfb92c-b388-4e49-9406-297a5b7eefab"
      },
      "execution_count": null,
      "outputs": [
        {
          "output_type": "execute_result",
          "data": {
            "text/plain": [
              "'D'"
            ],
            "application/vnd.google.colaboratory.intrinsic+json": {
              "type": "string"
            }
          },
          "metadata": {},
          "execution_count": 4
        }
      ]
    },
    {
      "cell_type": "code",
      "source": [
        "next(it)"
      ],
      "metadata": {
        "colab": {
          "base_uri": "https://localhost:8080/",
          "height": 36
        },
        "id": "CD1h8d4vzO1S",
        "outputId": "387c588c-e69c-4651-9a12-866348d4349b"
      },
      "execution_count": null,
      "outputs": [
        {
          "output_type": "execute_result",
          "data": {
            "text/plain": [
              "'a'"
            ],
            "application/vnd.google.colaboratory.intrinsic+json": {
              "type": "string"
            }
          },
          "metadata": {},
          "execution_count": 5
        }
      ]
    },
    {
      "cell_type": "code",
      "source": [
        "next(it)"
      ],
      "metadata": {
        "colab": {
          "base_uri": "https://localhost:8080/",
          "height": 141
        },
        "id": "9GIAhIOtzP-5",
        "outputId": "3f42d48b-36da-42a1-da8a-f40a01215ac9"
      },
      "execution_count": null,
      "outputs": [
        {
          "output_type": "error",
          "ename": "StopIteration",
          "evalue": "",
          "traceback": [
            "\u001b[0;31m---------------------------------------------------------------------------\u001b[0m",
            "\u001b[0;31mStopIteration\u001b[0m                             Traceback (most recent call last)",
            "\u001b[0;32m<ipython-input-6-bc1ab118995a>\u001b[0m in \u001b[0;36m<cell line: 0>\u001b[0;34m()\u001b[0m\n\u001b[0;32m----> 1\u001b[0;31m \u001b[0mnext\u001b[0m\u001b[0;34m(\u001b[0m\u001b[0mit\u001b[0m\u001b[0;34m)\u001b[0m\u001b[0;34m\u001b[0m\u001b[0;34m\u001b[0m\u001b[0m\n\u001b[0m",
            "\u001b[0;31mStopIteration\u001b[0m: "
          ]
        }
      ]
    },
    {
      "cell_type": "markdown",
      "source": [
        "### Iterating at once with `*`"
      ],
      "metadata": {
        "id": "zuW-J1L5zYrB"
      }
    },
    {
      "cell_type": "code",
      "source": [
        "word = 'Data'\n",
        "it = iter(word)\n",
        "print(*it)"
      ],
      "metadata": {
        "colab": {
          "base_uri": "https://localhost:8080/"
        },
        "id": "9Vtf0jr-zcN7",
        "outputId": "cc6a2f94-e92a-43ab-9ba3-ad84db4ef25c"
      },
      "execution_count": null,
      "outputs": [
        {
          "output_type": "stream",
          "name": "stdout",
          "text": [
            "D a t a\n"
          ]
        }
      ]
    },
    {
      "cell_type": "code",
      "source": [
        "print(*it)"
      ],
      "metadata": {
        "colab": {
          "base_uri": "https://localhost:8080/"
        },
        "id": "athYi1B0z2lL",
        "outputId": "e5f37dec-ac99-401e-885e-f35b341265ef"
      },
      "execution_count": null,
      "outputs": [
        {
          "output_type": "stream",
          "name": "stdout",
          "text": [
            "\n"
          ]
        }
      ]
    },
    {
      "cell_type": "markdown",
      "source": [
        "* No more values to go through!"
      ],
      "metadata": {
        "id": "ORMXHeTFz7cz"
      }
    },
    {
      "cell_type": "markdown",
      "source": [
        "### Iterating over dictionaries\n"
      ],
      "metadata": {
        "id": "2d8Jlgvv0FM7"
      }
    },
    {
      "cell_type": "code",
      "source": [
        "pythonistas = {'hugo': 'bowne-anderson', 'francis': 'castro'}\n",
        "for key, value in pythonistas.items():\n",
        "  print(key, value)"
      ],
      "metadata": {
        "colab": {
          "base_uri": "https://localhost:8080/"
        },
        "id": "K2w3sOkt0IkR",
        "outputId": "4a4adf7c-80ef-43c9-ff62-059b5537e5ba"
      },
      "execution_count": null,
      "outputs": [
        {
          "output_type": "stream",
          "name": "stdout",
          "text": [
            "hugo bowne-anderson\n",
            "francis castro\n"
          ]
        }
      ]
    },
    {
      "cell_type": "markdown",
      "source": [
        "### Iterating over file connections"
      ],
      "metadata": {
        "id": "zJ6loc7b0aIJ"
      }
    },
    {
      "cell_type": "code",
      "source": [
        "file = open('file.txt')\n",
        "it = iter(file)\n",
        "print(next(it))"
      ],
      "metadata": {
        "colab": {
          "base_uri": "https://localhost:8080/",
          "height": 176
        },
        "id": "mxakujH90bNE",
        "outputId": "2fe77c1f-605d-4cc7-f26e-86e01c1a2b3d"
      },
      "execution_count": null,
      "outputs": [
        {
          "output_type": "error",
          "ename": "FileNotFoundError",
          "evalue": "[Errno 2] No such file or directory: 'file.txt'",
          "traceback": [
            "\u001b[0;31m---------------------------------------------------------------------------\u001b[0m",
            "\u001b[0;31mFileNotFoundError\u001b[0m                         Traceback (most recent call last)",
            "\u001b[0;32m<ipython-input-10-9d32bd786dc7>\u001b[0m in \u001b[0;36m<cell line: 0>\u001b[0;34m()\u001b[0m\n\u001b[0;32m----> 1\u001b[0;31m \u001b[0mfile\u001b[0m \u001b[0;34m=\u001b[0m \u001b[0mopen\u001b[0m\u001b[0;34m(\u001b[0m\u001b[0;34m'file.txt'\u001b[0m\u001b[0;34m)\u001b[0m\u001b[0;34m\u001b[0m\u001b[0;34m\u001b[0m\u001b[0m\n\u001b[0m\u001b[1;32m      2\u001b[0m \u001b[0mit\u001b[0m \u001b[0;34m=\u001b[0m \u001b[0miter\u001b[0m\u001b[0;34m(\u001b[0m\u001b[0mfile\u001b[0m\u001b[0;34m)\u001b[0m\u001b[0;34m\u001b[0m\u001b[0;34m\u001b[0m\u001b[0m\n\u001b[1;32m      3\u001b[0m \u001b[0mprint\u001b[0m\u001b[0;34m(\u001b[0m\u001b[0mnext\u001b[0m\u001b[0;34m(\u001b[0m\u001b[0mit\u001b[0m\u001b[0;34m)\u001b[0m\u001b[0;34m)\u001b[0m\u001b[0;34m\u001b[0m\u001b[0;34m\u001b[0m\u001b[0m\n",
            "\u001b[0;31mFileNotFoundError\u001b[0m: [Errno 2] No such file or directory: 'file.txt'"
          ]
        }
      ]
    },
    {
      "cell_type": "code",
      "source": [
        "print(next(it))"
      ],
      "metadata": {
        "colab": {
          "base_uri": "https://localhost:8080/",
          "height": 141
        },
        "id": "gsKvlOTK0eCn",
        "outputId": "cf7f1c9b-dce2-449f-8c37-311e0c31dcd4"
      },
      "execution_count": null,
      "outputs": [
        {
          "output_type": "error",
          "ename": "StopIteration",
          "evalue": "",
          "traceback": [
            "\u001b[0;31m---------------------------------------------------------------------------\u001b[0m",
            "\u001b[0;31mStopIteration\u001b[0m                             Traceback (most recent call last)",
            "\u001b[0;32m<ipython-input-11-4d0222393be1>\u001b[0m in \u001b[0;36m<cell line: 0>\u001b[0;34m()\u001b[0m\n\u001b[0;32m----> 1\u001b[0;31m \u001b[0mprint\u001b[0m\u001b[0;34m(\u001b[0m\u001b[0mnext\u001b[0m\u001b[0;34m(\u001b[0m\u001b[0mit\u001b[0m\u001b[0;34m)\u001b[0m\u001b[0;34m)\u001b[0m\u001b[0;34m\u001b[0m\u001b[0;34m\u001b[0m\u001b[0m\n\u001b[0m",
            "\u001b[0;31mStopIteration\u001b[0m: "
          ]
        }
      ]
    },
    {
      "cell_type": "markdown",
      "source": [
        "### Excercise 1: Iterating over iterables (1)"
      ],
      "metadata": {
        "id": "Gx_NqUjj2WtQ"
      }
    },
    {
      "cell_type": "markdown",
      "source": [
        "Great, you're familiar with what iterables and iterators are! In this exercise, you will reinforce your knowledge about these by iterating over and printing from iterables and iterators.\n",
        "\n",
        "You are provided with a list of strings `flash`. You will practice iterating over the list by using a `for` loop. You will also create an iterator for the list and access the values from the iterator."
      ],
      "metadata": {
        "id": "NqeWQr0X2ZHS"
      }
    },
    {
      "cell_type": "markdown",
      "source": [
        "**Instructions**\n",
        "* Create a `for` loop to loop over `flash` and print the values in the list. Use `person` as the loop variable.\n",
        "* Create an *iterator* for the list `flash` and assign the result to `superhero`.\n",
        "* Print each of the items from superhero using `next()` 4 times."
      ],
      "metadata": {
        "id": "2eo4WgcC2nhC"
      }
    },
    {
      "cell_type": "code",
      "source": [
        "# Create a list of strings: flash\n",
        "flash = ['jay garrick', 'barry allen', 'wally west', 'bart allen']\n",
        "\n",
        "# Print each list item in flash using a for loop\n",
        "for person in flash:\n",
        "    print(person)\n",
        "\n",
        "\n",
        "# Create an iterator for flash: superhero\n",
        "superhero = iter(flash)\n",
        "\n",
        "# Print each item from the iterator\n",
        "print(next(superhero))\n",
        "print(next(superhero))\n",
        "print(next(superhero))\n",
        "print(next(superhero))"
      ],
      "metadata": {
        "colab": {
          "base_uri": "https://localhost:8080/"
        },
        "id": "6q4NzvRB2e4T",
        "outputId": "22ba5a5b-aa4b-42a8-c1c8-15d2cd04493e"
      },
      "execution_count": null,
      "outputs": [
        {
          "output_type": "stream",
          "name": "stdout",
          "text": [
            "jay garrick\n",
            "barry allen\n",
            "wally west\n",
            "bart allen\n",
            "jay garrick\n",
            "barry allen\n",
            "wally west\n",
            "bart allen\n"
          ]
        }
      ]
    },
    {
      "cell_type": "markdown",
      "source": [
        "### Excercise 2: Iterating over iterables (2)\n"
      ],
      "metadata": {
        "id": "kO4QMOb44ITC"
      }
    },
    {
      "cell_type": "markdown",
      "source": [
        "One of the things you learned about in this chapter is that not all iterables are *actual* lists. A couple of examples that we looked at are *strings* and the use of the `range()` function. In this exercise, we will focus on the `range()` function.\n",
        "\n",
        "You can use `range()` in a for loop as if it's a list to be iterated over:\n",
        "\n",
        "\n",
        "```\n",
        "for i in range(5):\n",
        "    print(i)\n",
        "```\n",
        "\n",
        "\n",
        "\n",
        "Recall that `range()` doesn't actually create the list; instead, it creates a range object with an iterator that produces the values until it reaches the limit (in the example, until the value 4). If `range()` created the actual list, calling it with a value of 10^100  may not work, especially since a number as big as that may go over a regular computer's memory. The value 10^100\n",
        " is actually what's called a **Googol** which is a 1 followed by a hundred 0s. That's a huge number!\n",
        "\n",
        "Your task for this exercise is to show that calling `range()` with\n",
        " won't actually pre-create the list."
      ],
      "metadata": {
        "id": "Q-DCkTUz4Lcy"
      }
    },
    {
      "cell_type": "markdown",
      "source": [
        "**Instructions**\n",
        "* Create an iterator object `small_value` over `range(3)` using the function `iter()`.\n",
        "* Using a `for` loop, iterate over `range(3)`, printing the value for every iteration. Use `num` as the loop variable.\n",
        "* Create an iterator object `googol` over `range(10 ** 100)`."
      ],
      "metadata": {
        "id": "UvtIJ9Aq43Ya"
      }
    },
    {
      "cell_type": "code",
      "source": [
        "# Create an iterator for range(3): small_value\n",
        "small_value = iter(range(3))\n",
        "\n",
        "# Print the values in small_value\n",
        "print(next(small_value))\n",
        "print(next(small_value))\n",
        "print(next(small_value))\n",
        "\n",
        "# Loop over range(3) and print the values\n",
        "for num in range(3):\n",
        "    print(num)\n",
        "\n",
        "\n",
        "# Create an iterator for range(10 ** 100): googol\n",
        "googol = iter(range(10**100))\n",
        "\n",
        "# Print the first 5 values from googol\n",
        "print(next(googol))\n",
        "print(next(googol))\n",
        "print(next(googol))\n",
        "print(next(googol))\n",
        "print(next(googol))\n"
      ],
      "metadata": {
        "colab": {
          "base_uri": "https://localhost:8080/"
        },
        "id": "ZoijrXVU5gFT",
        "outputId": "7fc4d952-ff37-46e1-fc2f-0fa07ae01e85"
      },
      "execution_count": null,
      "outputs": [
        {
          "output_type": "stream",
          "name": "stdout",
          "text": [
            "0\n",
            "1\n",
            "2\n",
            "0\n",
            "1\n",
            "2\n",
            "0\n",
            "1\n",
            "2\n",
            "3\n",
            "4\n"
          ]
        }
      ]
    },
    {
      "cell_type": "markdown",
      "source": [
        "### Excercise 3: Iterators as function arguments"
      ],
      "metadata": {
        "id": "6vpj-Qm-6azK"
      }
    },
    {
      "cell_type": "markdown",
      "source": [
        "You've been using the `iter()` function to get an iterator object, as well as the `next()` function to retrieve the values one by one from the iterator object.\n",
        "\n",
        "There are also functions that take iterators and iterables as arguments. For example, the `list()` and `sum()` functions return a list and the sum of elements, respectively.\n",
        "\n",
        "In this exercise, you will use these functions by passing an iterable from `range()` and then printing the results of the function calls."
      ],
      "metadata": {
        "id": "LISDdG7D6eJb"
      }
    },
    {
      "cell_type": "markdown",
      "source": [
        "**Instructions**\n",
        "* Create a `range` object that would produce the values from 10 to 20 using `range()`. Assign the result to `values`.\n",
        "* Use the `list()` function to create a list of `values` from the range object values. Assign the result to `values_list`.\n",
        "* Use the `sum()` function to get the sum of the values from 10 to 20 from the range object values. Assign the result to `values_sum`."
      ],
      "metadata": {
        "id": "5eggPqHG6y8S"
      }
    },
    {
      "cell_type": "code",
      "source": [
        "# Create a range object: values\n",
        "values = range(10,21)\n",
        "\n",
        "# Print the range object\n",
        "print(values)\n",
        "\n",
        "# Create a list of integers: values_list\n",
        "values_list = list(values)\n",
        "\n",
        "# Print values_list\n",
        "print(values_list)\n",
        "\n",
        "# Get the sum of values: values_sum\n",
        "values_sum = sum(values)\n",
        "\n",
        "# Print values_sum\n",
        "print(values_sum)\n"
      ],
      "metadata": {
        "colab": {
          "base_uri": "https://localhost:8080/"
        },
        "id": "1W-k32cO78nB",
        "outputId": "d5f21a29-d75d-4b98-c3b6-b723bcffb1b0"
      },
      "execution_count": null,
      "outputs": [
        {
          "output_type": "stream",
          "name": "stdout",
          "text": [
            "range(10, 21)\n",
            "[10, 11, 12, 13, 14, 15, 16, 17, 18, 19, 20]\n",
            "165\n"
          ]
        }
      ]
    },
    {
      "cell_type": "markdown",
      "source": [
        "## Lesson 2: Playing with iterators"
      ],
      "metadata": {
        "id": "KOJgWKdl-vTy"
      }
    },
    {
      "cell_type": "markdown",
      "source": [
        "### Using enumerate()"
      ],
      "metadata": {
        "id": "mBAlW6aG_el2"
      }
    },
    {
      "cell_type": "code",
      "source": [
        "avengers = ['hawkeye', 'iron man', 'thor', 'quicksilver']\n",
        "e = enumerate(avengers)\n",
        "print(type(e))"
      ],
      "metadata": {
        "colab": {
          "base_uri": "https://localhost:8080/"
        },
        "id": "2KhRL76w_nFz",
        "outputId": "48356aae-eb29-4761-a637-69e05f3e6e30"
      },
      "execution_count": null,
      "outputs": [
        {
          "output_type": "stream",
          "name": "stdout",
          "text": [
            "<class 'enumerate'>\n"
          ]
        }
      ]
    },
    {
      "cell_type": "code",
      "source": [
        "e_list = list(e)\n",
        "print(e_list)"
      ],
      "metadata": {
        "colab": {
          "base_uri": "https://localhost:8080/"
        },
        "id": "biMDBows_qgx",
        "outputId": "2161989e-eaad-42cd-9d1a-6387527fc191"
      },
      "execution_count": null,
      "outputs": [
        {
          "output_type": "stream",
          "name": "stdout",
          "text": [
            "[(0, 'hawkeye'), (1, 'iron man'), (2, 'thor'), (3, 'quicksilver')]\n"
          ]
        }
      ]
    },
    {
      "cell_type": "markdown",
      "source": [
        "### `enumerate()` and `unpack`"
      ],
      "metadata": {
        "id": "XaTtZijs_x-6"
      }
    },
    {
      "cell_type": "code",
      "source": [
        "avengers = ['hawkeye', 'iron man', 'thor', 'quicksilver']\n",
        "for index, value in enumerate(avengers):\n",
        "  print(index, value)"
      ],
      "metadata": {
        "colab": {
          "base_uri": "https://localhost:8080/"
        },
        "id": "V8Qr6mQ6_1AY",
        "outputId": "9d09b5a7-177e-4096-d3d0-7e86721a4852"
      },
      "execution_count": null,
      "outputs": [
        {
          "output_type": "stream",
          "name": "stdout",
          "text": [
            "0 hawkeye\n",
            "1 iron man\n",
            "2 thor\n",
            "3 quicksilver\n"
          ]
        }
      ]
    },
    {
      "cell_type": "code",
      "source": [
        "for index, value in enumerate(avengers, start=10):\n",
        "  print(index, value)"
      ],
      "metadata": {
        "colab": {
          "base_uri": "https://localhost:8080/"
        },
        "id": "IcDZ-elf_-aq",
        "outputId": "2300b617-1981-426a-9fe4-1f77f607afd9"
      },
      "execution_count": null,
      "outputs": [
        {
          "output_type": "stream",
          "name": "stdout",
          "text": [
            "10 hawkeye\n",
            "11 iron man\n",
            "12 thor\n",
            "13 quicksilver\n"
          ]
        }
      ]
    },
    {
      "cell_type": "markdown",
      "source": [
        "### Using `zip()`"
      ],
      "metadata": {
        "id": "yOOmD1FmAvqi"
      }
    },
    {
      "cell_type": "code",
      "source": [
        "avengers = ['hawkeye', 'iron man', 'thor', 'quicksilver']\n",
        "names = ['barton', 'stark', 'odinson', 'maximoff']\n",
        "z = zip(avengers, names)\n",
        "print(type(z))"
      ],
      "metadata": {
        "colab": {
          "base_uri": "https://localhost:8080/"
        },
        "id": "l40gDN8jA0Se",
        "outputId": "ec729451-b5c9-41c7-abd9-edb07cd12cad"
      },
      "execution_count": null,
      "outputs": [
        {
          "output_type": "stream",
          "name": "stdout",
          "text": [
            "<class 'zip'>\n"
          ]
        }
      ]
    },
    {
      "cell_type": "code",
      "source": [
        "z_list = list(z)\n",
        "print(z_list)"
      ],
      "metadata": {
        "colab": {
          "base_uri": "https://localhost:8080/"
        },
        "id": "kbPPOTIuA3vr",
        "outputId": "a882bc95-b21e-4368-8eba-6f04a5dcc528"
      },
      "execution_count": null,
      "outputs": [
        {
          "output_type": "stream",
          "name": "stdout",
          "text": [
            "[('hawkeye', 'barton'), ('iron man', 'stark'), ('thor', 'odinson'), ('quicksilver', 'maximoff')]\n"
          ]
        }
      ]
    },
    {
      "cell_type": "markdown",
      "source": [
        "### `zip()` and `unpack`"
      ],
      "metadata": {
        "id": "UlO-wavTA7Ch"
      }
    },
    {
      "cell_type": "code",
      "source": [
        "avengers = ['hawkeye', 'iron man', 'thor', 'quicksilver']\n",
        "names = ['barton', 'stark', 'odinson', 'maximoff']\n",
        "for z1, z2 in zip(avengers, names):\n",
        "  print(z1, z2)"
      ],
      "metadata": {
        "colab": {
          "base_uri": "https://localhost:8080/"
        },
        "id": "eeO0YW9pBACB",
        "outputId": "5ff9c0b1-9dce-4baf-9079-771ed0d37326"
      },
      "execution_count": null,
      "outputs": [
        {
          "output_type": "stream",
          "name": "stdout",
          "text": [
            "hawkeye barton\n",
            "iron man stark\n",
            "thor odinson\n",
            "quicksilver maximoff\n"
          ]
        }
      ]
    },
    {
      "cell_type": "markdown",
      "source": [
        "### Print `zip` with `*`"
      ],
      "metadata": {
        "id": "zyeuA8VqBLGc"
      }
    },
    {
      "cell_type": "code",
      "source": [
        "avengers = ['hawkeye', 'iron man', 'thor', 'quicksilver']\n",
        "names = ['barton', 'stark', 'odinson', 'maximoff']\n",
        "z = zip(avengers, names)\n",
        "print(*z)"
      ],
      "metadata": {
        "colab": {
          "base_uri": "https://localhost:8080/"
        },
        "id": "nPqu0bbcBO-V",
        "outputId": "ac73b4a7-5792-40ff-b8dc-8783f068359a"
      },
      "execution_count": null,
      "outputs": [
        {
          "output_type": "stream",
          "name": "stdout",
          "text": [
            "('hawkeye', 'barton') ('iron man', 'stark') ('thor', 'odinson') ('quicksilver', 'maximoff')\n"
          ]
        }
      ]
    },
    {
      "cell_type": "markdown",
      "source": [
        "### Excercise 1: Using enumerate"
      ],
      "metadata": {
        "id": "VPcPnl2IC8tM"
      }
    },
    {
      "cell_type": "markdown",
      "source": [
        "You're really getting the hang of using iterators, great job!\n",
        "\n",
        "You've just gained several new ideas on iterators from the last video and one of them is the `enumerate()` function. Recall that `enumerate()` returns an `enumerate` object that produces a sequence of tuples, and each of the tuples is an *index-value* pair.\n",
        "\n",
        "In this exercise, you are given a list of strings `mutants` and you will practice using `enumerate()` on it by printing out a list of tuples and unpacking the tuples using a `for` loop."
      ],
      "metadata": {
        "id": "W1mutqmqDDzM"
      }
    },
    {
      "cell_type": "markdown",
      "source": [
        "**Instructions**\n",
        "* Create a list of tuples from `mutants` and assign the result to `mutant_list`. Make sure you generate the tuples using `enumerate()` and turn the result from it into a list using `list()`.\n",
        "* Complete the first `for` loop by unpacking the tuples generated by calling `enumerate()` on `mutants`. Use `index1` for the index and `value1` for the value when unpacking the tuple.\n",
        "* Complete the second `for` loop similarly as with the first, but this time change the starting index to start from `1` by passing it in as an argument to the `start` parameter of `enumerate()`. Use `index2` for the index and `value2` for the value when unpacking the tuple."
      ],
      "metadata": {
        "id": "qrgP_AB_DWX0"
      }
    },
    {
      "cell_type": "code",
      "source": [
        "# Create a list of strings: mutants\n",
        "mutants = ['charles xavier',\n",
        "            'bobby drake',\n",
        "            'kurt wagner',\n",
        "            'max eisenhardt',\n",
        "            'kitty pryde']\n",
        "\n",
        "# Create a list of tuples: mutant_list\n",
        "mutant_list = list(enumerate(mutants))\n",
        "\n",
        "# Print the list of tuples\n",
        "print(mutant_list)\n",
        "\n",
        "# Unpack and print the tuple pairs\n",
        "for index1, value1 in enumerate(mutants):\n",
        "    print(index1, value1)\n",
        "\n",
        "# Change the start index\n",
        "for index2, value2 in enumerate(mutants, start = 1):\n",
        "    print(index2, value2)"
      ],
      "metadata": {
        "colab": {
          "base_uri": "https://localhost:8080/"
        },
        "id": "gwtBPyR_Ehp2",
        "outputId": "b424457b-6a30-4fd5-d23a-d1cd2b5f78d5"
      },
      "execution_count": null,
      "outputs": [
        {
          "output_type": "stream",
          "name": "stdout",
          "text": [
            "[(0, 'charles xavier'), (1, 'bobby drake'), (2, 'kurt wagner'), (3, 'max eisenhardt'), (4, 'kitty pryde')]\n",
            "0 charles xavier\n",
            "1 bobby drake\n",
            "2 kurt wagner\n",
            "3 max eisenhardt\n",
            "4 kitty pryde\n",
            "1 charles xavier\n",
            "2 bobby drake\n",
            "3 kurt wagner\n",
            "4 max eisenhardt\n",
            "5 kitty pryde\n"
          ]
        }
      ]
    },
    {
      "cell_type": "markdown",
      "source": [
        "### Excercise 2: Using zip"
      ],
      "metadata": {
        "id": "LR8AMk9yEn8E"
      }
    },
    {
      "cell_type": "markdown",
      "source": [
        "Another interesting function that you've learned is `zip()`, which takes any number of iterables and returns a `zip` object that is an iterator of tuples. If you wanted to print the values of a `zip` object, you can convert it into a list and then print it. Printing just a `zip` object will not return the values unless you unpack it first. In this exercise, you will explore this for yourself.\n",
        "\n",
        "Three lists of strings are pre-loaded: `mutants`, `aliases`, and `powers`. First, you will use `list()` and `zip()` on these lists to generate a list of tuples. Then, you will create a zip object using `zip()`. Finally, you will unpack this zip object in a `for` loop to print the values in each tuple. Observe the different output generated by printing the list of tuples, then the `zip` object, and finally, the tuple values in the `for` loop."
      ],
      "metadata": {
        "id": "h-wzofVgEsW7"
      }
    },
    {
      "cell_type": "markdown",
      "source": [
        "**Instructions**\n",
        "* Using `zip()` with `list()`, create a *list* of *tuples* from the three lists `mutants`, `aliases`, and `powers` (in that order) and assign the result to `mutant_data`.\n",
        "* Using `zip()`, create a *zip object* called `mutant_zip` from the three lists `mutants`, `aliases`, and `powers`.\n",
        "* Complete the `for` loop by unpacking the `zip` object you created and printing the tuple values. Use `value1`, `value2`, `value3` for the values from each of `mutants`, `aliases`, and `powers`, in that order."
      ],
      "metadata": {
        "id": "DO38lMxkFoW-"
      }
    },
    {
      "cell_type": "code",
      "source": [
        "mutants = ['charles xavier',  'bobby drake',  'kurt wagner',  'max eisenhardt',  'kitty pryde']\n",
        "aliases = ['prof x', 'iceman', 'nightcrawler', 'magneto', 'shadowcat']\n",
        "powers = ['telepathy', 'thermokinesis', 'teleportation', 'magnetokinesis', 'intangibility']"
      ],
      "metadata": {
        "id": "K4vNHGpCGOjK"
      },
      "execution_count": null,
      "outputs": []
    },
    {
      "cell_type": "code",
      "source": [
        "# Create a list of tuples: mutant_data\n",
        "mutant_data = list(zip(mutants, aliases, powers))\n",
        "\n",
        "# Print the list of tuples\n",
        "print(mutant_data)\n",
        "\n",
        "# Create a zip object using the three lists: mutant_zip\n",
        "mutant_zip = zip(mutants, aliases, powers)\n",
        "\n",
        "# Print the zip object\n",
        "print(mutant_zip)\n",
        "\n",
        "# Unpack the zip object and print the tuple values\n",
        "for value1, value2, value3 in mutant_zip:\n",
        "    print(value1, value2, value3)"
      ],
      "metadata": {
        "colab": {
          "base_uri": "https://localhost:8080/"
        },
        "id": "BN8s0p4jG32c",
        "outputId": "561ed975-0f12-4cc6-ac88-fe5f7e741e51"
      },
      "execution_count": null,
      "outputs": [
        {
          "output_type": "stream",
          "name": "stdout",
          "text": [
            "[('charles xavier', 'prof x', 'telepathy'), ('bobby drake', 'iceman', 'thermokinesis'), ('kurt wagner', 'nightcrawler', 'teleportation'), ('max eisenhardt', 'magneto', 'magnetokinesis'), ('kitty pryde', 'shadowcat', 'intangibility')]\n",
            "<zip object at 0x7bffe35c1700>\n",
            "charles xavier prof x telepathy\n",
            "bobby drake iceman thermokinesis\n",
            "kurt wagner nightcrawler teleportation\n",
            "max eisenhardt magneto magnetokinesis\n",
            "kitty pryde shadowcat intangibility\n"
          ]
        }
      ]
    },
    {
      "cell_type": "markdown",
      "source": [
        "### Excercise 3: Using `*` and `zip` to `'unzip'`"
      ],
      "metadata": {
        "id": "nlBCkXVQHz38"
      }
    },
    {
      "cell_type": "markdown",
      "source": [
        "You know how to use `zip()` as well as how to print out values from a `zip` object. Excellent!\n",
        "\n",
        "Let's play around with `zip()` a little more. There is no unzip function for doing the reverse of what `zip()` does. We can, however, reverse what has been zipped together by using `zip()` with a little help from `*`! `*` unpacks an iterable such as a list or a tuple into *positional arguments* in a function call.\n",
        "\n",
        "In this exercise, you will use `*` in a call to `zip()` to unpack the tuples produced by `zip()`.\n",
        "\n",
        "Two tuples of strings, `mutants` and `powers` have been pre-loaded."
      ],
      "metadata": {
        "id": "lbVcyylQH8_y"
      }
    },
    {
      "cell_type": "markdown",
      "source": [
        "**Instructions**\n",
        "* Create a `zip` object by using `zip()` on `mutants` and `powers`, in that order. Assign the result to `z1`.\n",
        "* Print the tuples in `z1` by unpacking them into positional arguments using the `*` operator in a `print()` call.\n",
        "* Because the previous `print()` call would have exhausted the elements in `z1`, recreate the zip object you defined earlier and assign the result again to `z1`.\n",
        "* 'Unzip' the tuples in `z1` by unpacking them into positional arguments using the `*` operator in a `zip()` call. Assign the results to `result1` and `result2`, in that order.\n",
        "* The last `print()` statements prints the output of comparing `result1` to `mutants` and `result2` to `powers`. Click `Submit Answer` to see if the unpacked `result1` and `result2` are equivalent to `mutants` and `powers`, respectively."
      ],
      "metadata": {
        "id": "qf68fRa1IsdT"
      }
    },
    {
      "cell_type": "code",
      "source": [
        "mutants = ('charles xavier', 'bobby drake', 'kurt wagner', 'max eisenhardt','kitty pryde')\n",
        "powers = ('telepathy', 'thermokinesis', 'teleportation', 'magnetokinesis', 'intangibility')"
      ],
      "metadata": {
        "id": "gg187WF2JToz"
      },
      "execution_count": null,
      "outputs": []
    },
    {
      "cell_type": "code",
      "source": [
        "# Create a zip object from mutants and powers: z1\n",
        "z1 = zip(mutants, powers)\n",
        "\n",
        "# Print the tuples in z1 by unpacking with *\n",
        "print(*z1)\n",
        "\n",
        "# Re-create a zip object from mutants and powers: z1\n",
        "z1 = zip(mutants, powers)\n",
        "\n",
        "# 'Unzip' the tuples in z1 by unpacking with * and zip(): result1, result2\n",
        "result1, result2 = zip(*z1)\n",
        "\n",
        "# Check if unpacked tuples are equivalent to original tuples\n",
        "print(result1 == mutants)\n",
        "print(result2 == powers)"
      ],
      "metadata": {
        "colab": {
          "base_uri": "https://localhost:8080/"
        },
        "id": "xIMod4EANiYr",
        "outputId": "d3a56a5b-df26-4b2a-b503-839856a5e97f"
      },
      "execution_count": null,
      "outputs": [
        {
          "output_type": "stream",
          "name": "stdout",
          "text": [
            "('charles xavier', 'telepathy') ('bobby drake', 'thermokinesis') ('kurt wagner', 'teleportation') ('max eisenhardt', 'magnetokinesis') ('kitty pryde', 'intangibility')\n",
            "True\n",
            "True\n"
          ]
        }
      ]
    },
    {
      "cell_type": "markdown",
      "source": [
        "## Lesson 2: Using iterators to load large files into memory"
      ],
      "metadata": {
        "id": "Q9kE_ggVsqRJ"
      }
    },
    {
      "cell_type": "markdown",
      "source": [
        "### Loading data in chunks\n",
        "* There can be too much data to hold in memory\n",
        "* Solution: load data in chunks!\n",
        "* Pandas function: `read_csv()`\n",
        "  * Specify the chunk: `chunk_size`"
      ],
      "metadata": {
        "id": "lbTsRogOtqyU"
      }
    },
    {
      "cell_type": "markdown",
      "source": [
        "### Iterating over data"
      ],
      "metadata": {
        "id": "CnYtCtpYuYBq"
      }
    },
    {
      "cell_type": "code",
      "source": [
        "import pandas as pd\n",
        "result = []\n",
        "for chunk in pd.read_csv('data.csv', chunksize=1000):\n",
        "  result.append(sum(chunk['x']))\n",
        "total = sum(result)\n",
        "print(total)"
      ],
      "metadata": {
        "id": "0RTG0v_luaAM"
      },
      "execution_count": null,
      "outputs": []
    },
    {
      "cell_type": "code",
      "source": [
        "import pandas as pd\n",
        "total = 0\n",
        "for chunk in pd.read_csv('data.csv', chunksize=1000):\n",
        "  total += sum(chunk['x'])\n",
        "print(total)"
      ],
      "metadata": {
        "id": "px8a5gizu6vq"
      },
      "execution_count": null,
      "outputs": []
    },
    {
      "cell_type": "markdown",
      "source": [
        "### Excercise 1: Processing large amounts of Twitter data"
      ],
      "metadata": {
        "id": "8YDehvaQKFpl"
      }
    },
    {
      "cell_type": "markdown",
      "source": [
        "Sometimes, the data we have to process reaches a size that is too much for a computer's memory to handle. This is a common problem faced by data scientists. A solution to this is to process an entire data source chunk by chunk, instead of a single go all at once.\n",
        "\n",
        "In this exercise, you will do just that. You will process a large csv file of Twitter data in the same way that you processed `'tweets.csv'` in Bringing it all together exercises of the prequel course, but this time, working on it in chunks of 10 entries at a time.\n",
        "\n",
        "If you are interested in learning how to access Twitter data so you can work with it on your own system, refer to Part 2 of the DataCamp course on Importing Data in Python.\n",
        "\n",
        "The pandas package has been imported as pd and the file `'tweets.csv'` is in your current directory for your use.\n",
        "\n",
        "*Be aware that this is real data from Twitter and as such there is always a risk that it may contain profanity or other offensive content (in this exercise, and any following exercises that also use real Twitter data).*"
      ],
      "metadata": {
        "id": "Bugrya4wKLQv"
      }
    },
    {
      "cell_type": "markdown",
      "source": [
        "**Instructions**\n",
        "* Initialize an empty dictionary `counts_dict` for storing the results of processing the Twitter data.\n",
        "* Iterate over the `'tweets.csv'` file by using a `for` loop. Use the loop variable `chunk` and iterate over the call to `pd.read_csv()` with a `chunksize` of 10.\n",
        "* In the inner loop, iterate over the column `'lang'` in `chunk` by using a `for` loop. Use the loop variable `entry`."
      ],
      "metadata": {
        "id": "6BuautvHKZvZ"
      }
    },
    {
      "cell_type": "code",
      "source": [
        "import pandas as pd\n",
        "\n",
        "# Initialize an empty dictionary: counts_dict\n",
        "counts_dict = dict()\n",
        "\n",
        "# Iterate over the file chunk by chunk\n",
        "for chunk in pd.read_csv(\"/content/tweets.csv\", chunksize = 10):\n",
        "\n",
        "    # Iterate over the column in DataFrame\n",
        "    for entry in chunk['lang']:\n",
        "        if entry in counts_dict.keys():\n",
        "            counts_dict[entry] += 1\n",
        "        else:\n",
        "            counts_dict[entry] = 1\n",
        "\n",
        "# Print the populated dictionary\n",
        "print(counts_dict)"
      ],
      "metadata": {
        "colab": {
          "base_uri": "https://localhost:8080/"
        },
        "id": "J447T7tPLR9l",
        "outputId": "f49cb5a1-7aab-4bea-8c57-05eded7d3e4c"
      },
      "execution_count": null,
      "outputs": [
        {
          "output_type": "stream",
          "name": "stdout",
          "text": [
            "{'en': 97, 'et': 1, 'und': 2}\n"
          ]
        }
      ]
    },
    {
      "cell_type": "markdown",
      "source": [
        "### Excercise 2: Extracting information for large amounts of Twitter data"
      ],
      "metadata": {
        "id": "3YiXBmMwL-wP"
      }
    },
    {
      "cell_type": "markdown",
      "source": [
        "Great job chunking out that file in the previous exercise. You now know how to deal with situations where you need to process a very large file and that's a very useful skill to have!\n",
        "\n",
        "It's good to know how to process a file in smaller, more manageable chunks, but it can become very tedious having to write and rewrite the same code for the same task each time. In this exercise, you will be making your code more reusable by putting your work in the last exercise in a *function definition*.\n",
        "\n",
        "The pandas package has been imported as pd and the file `'tweets.csv'` is in your current directory for your use."
      ],
      "metadata": {
        "id": "XEcXeymWMELI"
      }
    },
    {
      "cell_type": "markdown",
      "source": [
        "**Instructions**\n",
        "* Define the function `count_entries()`, which has 3 parameters. The first parameter is `csv_file` for the filename, the second is `c_size` for the chunk size, and the last is `colname` for the column name.\n",
        "* Iterate over the file in `csv_file` file by using a for loop. Use the loop variable `chunk` and iterate over the call to `pd.read_csv()`, passing `c_size` to `chunksize`.\n",
        "* In the inner loop, iterate over the column given by `colname` in chunk by using a `for` loop. Use the loop variable `entry`.\n",
        "* Call the `count_entries()` function by passing to it the filename `'tweets.csv'`, the size of chunks 10, and the name of the column to count, `'lang'`. Assign the result of the call to the variable `result_counts`."
      ],
      "metadata": {
        "id": "6vDu37ZTMTZF"
      }
    },
    {
      "cell_type": "code",
      "source": [
        "# Define count_entries()\n",
        "def count_entries(csv_file, c_size, colname):\n",
        "    \"\"\"Return a dictionary with counts of\n",
        "    occurrences as value for each key.\"\"\"\n",
        "\n",
        "    # Initialize an empty dictionary: counts_dict\n",
        "    counts_dict = {}\n",
        "\n",
        "    # Iterate over the file chunk by chunk\n",
        "    for chunk in pd.read_csv(csv_file, chunksize = c_size):\n",
        "\n",
        "        # Iterate over the column in DataFrame\n",
        "        for entry in chunk[colname]:\n",
        "            if entry in counts_dict.keys():\n",
        "                counts_dict[entry] += 1\n",
        "            else:\n",
        "                counts_dict[entry] = 1\n",
        "\n",
        "    # Return counts_dict\n",
        "    return counts_dict\n",
        "\n",
        "# Call count_entries(): result_counts\n",
        "result_counts = count_entries(\"/content/tweets.csv\", 10, 'lang')\n",
        "\n",
        "# Print result_counts\n",
        "print(result_counts)\n"
      ],
      "metadata": {
        "colab": {
          "base_uri": "https://localhost:8080/"
        },
        "id": "AWvsF0A2M0d3",
        "outputId": "9feaab51-0cbc-492d-e198-192e7652cc0f"
      },
      "execution_count": null,
      "outputs": [
        {
          "output_type": "stream",
          "name": "stdout",
          "text": [
            "{'en': 97, 'et': 1, 'und': 2}\n"
          ]
        }
      ]
    },
    {
      "cell_type": "markdown",
      "source": [
        "# Chapter 2: List comprehensions and generators\n",
        "\n",
        "In this chapter, you'll build on your knowledge of iterators and be introduced to list comprehensions, which allow you to create complicated lists—and lists of lists—in one line of code! List comprehensions can dramatically simplify your code and make it more efficient, and will become a vital part of your Python toolbox. You'll then learn about generators, which are extremely helpful when working with large sequences of data that you may not want to store in memory, but instead generate on the fly."
      ],
      "metadata": {
        "id": "qf7I44UuwfhJ"
      }
    },
    {
      "cell_type": "markdown",
      "source": [
        "## Lesson 1: List comprehensions"
      ],
      "metadata": {
        "id": "_geki7vzPpYI"
      }
    },
    {
      "cell_type": "markdown",
      "source": [
        "### Populate a list with a for loop"
      ],
      "metadata": {
        "id": "HP9ZIUwyPsRQ"
      }
    },
    {
      "cell_type": "code",
      "source": [
        "nums = [12, 8, 21, 3, 16]\n",
        "new_nums = []\n",
        "for num in nums:\n",
        "  new_nums.append(num + 1)\n",
        "print(new_nums)"
      ],
      "metadata": {
        "colab": {
          "base_uri": "https://localhost:8080/"
        },
        "id": "bdp68UgIPwh3",
        "outputId": "7296b267-ae0f-4eb5-f74c-6bc7a54c6eb7"
      },
      "execution_count": null,
      "outputs": [
        {
          "output_type": "stream",
          "name": "stdout",
          "text": [
            "[13, 9, 22, 4, 17]\n"
          ]
        }
      ]
    },
    {
      "cell_type": "markdown",
      "source": [
        "### A list comprehension"
      ],
      "metadata": {
        "id": "A2BDZ2AUP48G"
      }
    },
    {
      "cell_type": "code",
      "source": [
        "nums = [12, 8, 21, 3, 16]\n",
        "new_nums = [num + 1 for num in nums]\n",
        "print(new_nums)"
      ],
      "metadata": {
        "colab": {
          "base_uri": "https://localhost:8080/"
        },
        "id": "loFP-sGnP7fY",
        "outputId": "59de2136-8b74-44a4-942e-09097a651569"
      },
      "execution_count": null,
      "outputs": [
        {
          "output_type": "stream",
          "name": "stdout",
          "text": [
            "[13, 9, 22, 4, 17]\n"
          ]
        }
      ]
    },
    {
      "cell_type": "markdown",
      "source": [
        "### For loop and list comprehension syntax"
      ],
      "metadata": {
        "id": "Wv60ltyQQBVw"
      }
    },
    {
      "cell_type": "code",
      "source": [
        "new_nums = [num + 1 for num in nums]"
      ],
      "metadata": {
        "id": "NY0MiyzcQCXH"
      },
      "execution_count": null,
      "outputs": []
    },
    {
      "cell_type": "code",
      "source": [
        "new_nums = []\n",
        "for num in nums:\n",
        "  new_nums.append(num + 1)\n",
        "print(new_nums)"
      ],
      "metadata": {
        "colab": {
          "base_uri": "https://localhost:8080/"
        },
        "id": "KbthCbqNQGaC",
        "outputId": "97c29551-c28d-4446-d54e-0236b875c0d1"
      },
      "execution_count": null,
      "outputs": [
        {
          "output_type": "stream",
          "name": "stdout",
          "text": [
            "[13, 9, 22, 4, 17]\n"
          ]
        }
      ]
    },
    {
      "cell_type": "markdown",
      "source": [
        "### List comprehension with `range()`"
      ],
      "metadata": {
        "id": "AqIJF4MfQQHj"
      }
    },
    {
      "cell_type": "code",
      "source": [
        "result = [num for num in range(11)]\n",
        "print(result)"
      ],
      "metadata": {
        "colab": {
          "base_uri": "https://localhost:8080/"
        },
        "id": "7xeqvkIrQUiq",
        "outputId": "6343cb0d-bdbb-4868-ae03-fb128a9c2ad3"
      },
      "execution_count": null,
      "outputs": [
        {
          "output_type": "stream",
          "name": "stdout",
          "text": [
            "[0, 1, 2, 3, 4, 5, 6, 7, 8, 9, 10]\n"
          ]
        }
      ]
    },
    {
      "cell_type": "markdown",
      "source": [
        "### List comprehensions\n",
        "* Collapse for loops for building lists into a single line\n",
        "* Components\n",
        "  * Iterable\n",
        "  * Iterator variable (represent members of iterable)\n",
        "  * Output expression"
      ],
      "metadata": {
        "id": "sOBYbC9wQYfl"
      }
    },
    {
      "cell_type": "markdown",
      "source": [
        "### Nested loops (1)"
      ],
      "metadata": {
        "id": "2oPCTys4QlvD"
      }
    },
    {
      "cell_type": "code",
      "source": [
        "pairs_1 = []\n",
        "for num1 in range(0, 2):\n",
        "  for num2 in range(6, 8):\n",
        "    pairs_1.append((num1, num2))\n",
        "print(pairs_1)"
      ],
      "metadata": {
        "colab": {
          "base_uri": "https://localhost:8080/"
        },
        "id": "UpdQ4isoQmwi",
        "outputId": "766481ff-e5b1-488c-fa25-4ff4f2f19ef2"
      },
      "execution_count": null,
      "outputs": [
        {
          "output_type": "stream",
          "name": "stdout",
          "text": [
            "[(0, 6), (0, 7), (1, 6), (1, 7)]\n"
          ]
        }
      ]
    },
    {
      "cell_type": "markdown",
      "source": [
        "* How to do this with a list comprehension?"
      ],
      "metadata": {
        "id": "tbYppWYMRBwF"
      }
    },
    {
      "cell_type": "markdown",
      "source": [
        "### Nested loops (2)"
      ],
      "metadata": {
        "id": "L_iqe-nsRF_Z"
      }
    },
    {
      "cell_type": "code",
      "source": [
        "pairs_2 = [(num1, num2) for num1 in range(0, 2) for num2 in range(6, 8)]\n",
        "print(pairs_2)"
      ],
      "metadata": {
        "colab": {
          "base_uri": "https://localhost:8080/"
        },
        "id": "VA1I0RjjRDBJ",
        "outputId": "dbacbe6e-4b24-42f6-b92b-b289bfe6c010"
      },
      "execution_count": null,
      "outputs": [
        {
          "output_type": "stream",
          "name": "stdout",
          "text": [
            "[(0, 6), (0, 7), (1, 6), (1, 7)]\n"
          ]
        }
      ]
    },
    {
      "cell_type": "markdown",
      "source": [
        "* Tradeoff: readability"
      ],
      "metadata": {
        "id": "gRKCjhlVRMXT"
      }
    },
    {
      "cell_type": "markdown",
      "source": [
        "### Excercise 1: Writing list comprehensions\n"
      ],
      "metadata": {
        "id": "4A50TkkYS6xR"
      }
    },
    {
      "cell_type": "markdown",
      "source": [
        "You now have all the knowledge necessary to begin writing list comprehensions! Your job in this exercise is to write a list comprehension that produces a list of the squares of the numbers ranging from 0 to 9."
      ],
      "metadata": {
        "id": "DKbuvzGkTAuD"
      }
    },
    {
      "cell_type": "markdown",
      "source": [
        "**Instructions**\n",
        "* Using the range of numbers from `0` to `9` as your iterable and `i` as your iterator variable, write a list comprehension that produces a list of numbers consisting of the squared values of `i`."
      ],
      "metadata": {
        "id": "qZnnJl76TDYQ"
      }
    },
    {
      "cell_type": "code",
      "source": [
        "# Create list comprehension: squares\n",
        "squares = [i**2 for i in range(10)]"
      ],
      "metadata": {
        "id": "tp3augK5TSGD"
      },
      "execution_count": null,
      "outputs": []
    },
    {
      "cell_type": "markdown",
      "source": [
        "### Excercise 2: Nested list comprehensions"
      ],
      "metadata": {
        "id": "eJwzXF49TiS2"
      }
    },
    {
      "cell_type": "markdown",
      "source": [
        "Great! At this point, you have a good grasp of the basic syntax of list comprehensions. Let's push your code-writing skills a little further. In this exercise, you will be writing a list comprehension *within* another list comprehension, or nested list comprehensions. It sounds a little tricky, but you can do it!\n",
        "\n",
        "Let's step aside for a while from strings. One of the ways in which lists can be used are in representing multi-dimension objects such as **matrices**. Matrices can be represented as a list of lists in Python. For example a 5 x 5 matrix with values `0` to `4` in each row can be written as:\n",
        "\n",
        "```\n",
        "matrix = [[0, 1, 2, 3, 4],\n",
        "          [0, 1, 2, 3, 4],\n",
        "          [0, 1, 2, 3, 4],\n",
        "          [0, 1, 2, 3, 4],\n",
        "          [0, 1, 2, 3, 4]]\n",
        "```\n",
        "Your task is to recreate this matrix by using nested listed comprehensions. Recall that you can create one of the rows of the matrix with a single list comprehension. To create the list of lists, you simply have to supply the list comprehension as the **output expression** of the overall list comprehension:\n",
        "\n",
        "`[`[output expression] `for` iterator variable `in` iterable`]`\n",
        "\n",
        "Note that here, the **output expression** is itself a list comprehension."
      ],
      "metadata": {
        "id": "RqhsOFCwTmjE"
      }
    },
    {
      "cell_type": "markdown",
      "source": [
        "** Instructions**\n",
        "* In the inner list comprehension - that is, the output expression of the nested list comprehension - create a list of values from `0` to `4` using `range()`. Use col as the iterator variable.\n",
        "* In the iterable part of your nested list comprehension, use `range()` to count 5 rows - that is, create a list of values from `0` to `4`. Use `row` as the iterator variable; note that you won't be needing this variable to create values in the list of lists."
      ],
      "metadata": {
        "id": "OBwm6nQBUJnw"
      }
    },
    {
      "cell_type": "code",
      "source": [
        "# Create a 5 x 5 matrix using a list of lists: matrix\n",
        "matrix = [[col for col in range(5)]  for row in range(5)]\n",
        "\n",
        "# Print the matrix\n",
        "for row in matrix:\n",
        "    print(row)"
      ],
      "metadata": {
        "colab": {
          "base_uri": "https://localhost:8080/"
        },
        "id": "GAMHJTbkV3cE",
        "outputId": "1e75d0f3-7a06-45ce-f967-b13ee9e627a6"
      },
      "execution_count": null,
      "outputs": [
        {
          "output_type": "stream",
          "name": "stdout",
          "text": [
            "[0, 1, 2, 3, 4]\n",
            "[0, 1, 2, 3, 4]\n",
            "[0, 1, 2, 3, 4]\n",
            "[0, 1, 2, 3, 4]\n",
            "[0, 1, 2, 3, 4]\n"
          ]
        }
      ]
    },
    {
      "cell_type": "markdown",
      "source": [
        "## Lesson 2: Advanced comprehensions"
      ],
      "metadata": {
        "id": "Gh7WVwx6Wltp"
      }
    },
    {
      "cell_type": "markdown",
      "source": [
        "### Conditionals in comprehensions"
      ],
      "metadata": {
        "id": "kZkgG_A5aYa0"
      }
    },
    {
      "cell_type": "markdown",
      "source": [
        "* Conditionals on the iterable\n"
      ],
      "metadata": {
        "id": "0H6eGTqoaZov"
      }
    },
    {
      "cell_type": "code",
      "source": [
        "[num ** 2 for num in range(10) if num % 2 == 0]"
      ],
      "metadata": {
        "colab": {
          "base_uri": "https://localhost:8080/"
        },
        "id": "EHbxplS2ag2S",
        "outputId": "cef8fa7d-c150-48f2-d7ed-93949100fb64"
      },
      "execution_count": null,
      "outputs": [
        {
          "output_type": "execute_result",
          "data": {
            "text/plain": [
              "[0, 4, 16, 36, 64]"
            ]
          },
          "metadata": {},
          "execution_count": 16
        }
      ]
    },
    {
      "cell_type": "markdown",
      "source": [
        "* Python documentation on the `%` operator: The `%` (modulo)\n",
        "operator yields the remainder from the division of the ,rst\n",
        "argument by the second."
      ],
      "metadata": {
        "id": "otHoZ7Ljakg6"
      }
    },
    {
      "cell_type": "code",
      "source": [
        "5%2"
      ],
      "metadata": {
        "colab": {
          "base_uri": "https://localhost:8080/"
        },
        "id": "OeW09fwsaovj",
        "outputId": "308a83ea-fee4-4506-a9ff-b5e6ef7e2833"
      },
      "execution_count": null,
      "outputs": [
        {
          "output_type": "execute_result",
          "data": {
            "text/plain": [
              "1"
            ]
          },
          "metadata": {},
          "execution_count": 17
        }
      ]
    },
    {
      "cell_type": "code",
      "source": [
        "6%2"
      ],
      "metadata": {
        "colab": {
          "base_uri": "https://localhost:8080/"
        },
        "id": "G20hWU94aqzc",
        "outputId": "018d19f1-a9da-4cd8-8f76-99bde44fd743"
      },
      "execution_count": null,
      "outputs": [
        {
          "output_type": "execute_result",
          "data": {
            "text/plain": [
              "0"
            ]
          },
          "metadata": {},
          "execution_count": 18
        }
      ]
    },
    {
      "cell_type": "markdown",
      "source": [
        "* Conditionals on the output expression"
      ],
      "metadata": {
        "id": "wMS-2Fu4a0Va"
      }
    },
    {
      "cell_type": "code",
      "source": [
        "[num ** 2 if num % 2 == 0 else 0 for num in range(10)]"
      ],
      "metadata": {
        "colab": {
          "base_uri": "https://localhost:8080/"
        },
        "id": "heCyBqmJa1t5",
        "outputId": "c4098fe6-0d7d-4d01-d106-1a707c127e84"
      },
      "execution_count": null,
      "outputs": [
        {
          "output_type": "execute_result",
          "data": {
            "text/plain": [
              "[0, 0, 4, 0, 16, 0, 36, 0, 64, 0]"
            ]
          },
          "metadata": {},
          "execution_count": 19
        }
      ]
    },
    {
      "cell_type": "markdown",
      "source": [
        "### Dict comprehensions"
      ],
      "metadata": {
        "id": "uWONOGvNa7Ei"
      }
    },
    {
      "cell_type": "markdown",
      "source": [
        "* Create dictionaries\n",
        "* Use curly braces `{}` instead of brackets `[]`"
      ],
      "metadata": {
        "id": "va1UL_wLa8kh"
      }
    },
    {
      "cell_type": "code",
      "source": [
        "pos_neg = {num: -num for num in range(9)}\n",
        "print(pos_neg)"
      ],
      "metadata": {
        "colab": {
          "base_uri": "https://localhost:8080/"
        },
        "id": "FfT_Csa-bC32",
        "outputId": "a7549f88-34d1-4be8-b9d4-457c6494c4a6"
      },
      "execution_count": null,
      "outputs": [
        {
          "output_type": "stream",
          "name": "stdout",
          "text": [
            "{0: 0, 1: -1, 2: -2, 3: -3, 4: -4, 5: -5, 6: -6, 7: -7, 8: -8}\n"
          ]
        }
      ]
    },
    {
      "cell_type": "code",
      "source": [
        "print(type(pos_neg))"
      ],
      "metadata": {
        "colab": {
          "base_uri": "https://localhost:8080/"
        },
        "id": "ieMUjaK2bF8D",
        "outputId": "a26dcb88-ad1c-4f88-c063-46670ea83835"
      },
      "execution_count": null,
      "outputs": [
        {
          "output_type": "stream",
          "name": "stdout",
          "text": [
            "<class 'dict'>\n"
          ]
        }
      ]
    },
    {
      "cell_type": "markdown",
      "source": [
        "### Excercise 1: Using conditionals in comprehensions (1)"
      ],
      "metadata": {
        "id": "N7uZMyq0bLWj"
      }
    },
    {
      "cell_type": "markdown",
      "source": [
        "You've been using list comprehensions to build lists of values, sometimes using operations to create these values.\n",
        "\n",
        "An interesting mechanism in list comprehensions is that you can also create lists with values that meet only a certain condition. One way of doing this is by using conditionals on iterator variables. In this exercise, you will do exactly that!\n",
        "\n",
        "Recall from the video that you can apply a conditional statement to test the iterator variable by adding an `if` statement in the optional *predicate expression* part after the `for` statement in the comprehension:\n",
        "\n",
        "`[` *output expression* `for` *iterator variable* `in` *iterable* `if` *predicate expression* `]`.\n",
        "\n",
        "You will use this recipe to write a list comprehension for this exercise. You are given a list of strings `fellowship` and, using a list comprehension, you will create a list that only includes the members of `fellowship` that have 7 characters or more."
      ],
      "metadata": {
        "id": "FpdX7katbNpp"
      }
    },
    {
      "cell_type": "markdown",
      "source": [
        "**Instructions**\n",
        "* Use `member` as the iterator variable in the list comprehension. For the conditional, use `len()` to evaluate the iterator variable. Note that you only want strings with 7 characters or more."
      ],
      "metadata": {
        "id": "c9YmL9Ysb0KK"
      }
    },
    {
      "cell_type": "code",
      "source": [
        "# Create a list of strings: fellowship\n",
        "fellowship = ['frodo', 'samwise', 'merry', 'aragorn', 'legolas', 'boromir', 'gimli']\n",
        "\n",
        "# Create list comprehension: new_fellowship\n",
        "new_fellowship = [member for member in fellowship if len(member)>6]\n",
        "\n",
        "# Print the new list\n",
        "print(new_fellowship)"
      ],
      "metadata": {
        "colab": {
          "base_uri": "https://localhost:8080/"
        },
        "id": "JD33ZQRZcJSB",
        "outputId": "02247292-bd70-419d-e710-344723f291a7"
      },
      "execution_count": null,
      "outputs": [
        {
          "output_type": "stream",
          "name": "stdout",
          "text": [
            "['samwise', 'aragorn', 'legolas', 'boromir']\n"
          ]
        }
      ]
    },
    {
      "cell_type": "markdown",
      "source": [
        "### Excercise 2: Using conditionals in comprehensions (2)"
      ],
      "metadata": {
        "id": "3kbhT0__cgND"
      }
    },
    {
      "cell_type": "markdown",
      "source": [
        "In the previous exercise, you used an `if` conditional statement in the *predicate expression* part of a list comprehension to evaluate an iterator variable. In this exercise, you will use an `if-else` statement on the *output expression* of the list.\n",
        "\n",
        "You will work on the same list, `fellowship` and, using a list comprehension and an `if-else` conditional statement in the output expression, create a list that keeps members of `fellowship` with 7 or more characters and replaces others with an empty string. Use `member` as the iterator variable in the list comprehension."
      ],
      "metadata": {
        "id": "8pIyreOUck31"
      }
    },
    {
      "cell_type": "markdown",
      "source": [
        "**Instructions**\n",
        "* In the output expression, keep the string as-is if the number of characters is `>= 7`, **else** replace it with an empty string - that is, `''` or `\"\"`."
      ],
      "metadata": {
        "id": "iiMqsxF-dBjM"
      }
    },
    {
      "cell_type": "code",
      "source": [
        "# Create a list of strings: fellowship\n",
        "fellowship = ['frodo', 'samwise', 'merry', 'aragorn', 'legolas', 'boromir', 'gimli']\n",
        "\n",
        "# Create list comprehension: new_fellowship\n",
        "new_fellowship = [member if len(member)>6 else \"\" for member in fellowship]\n",
        "\n",
        "# Print the new list\n",
        "print(new_fellowship)"
      ],
      "metadata": {
        "colab": {
          "base_uri": "https://localhost:8080/"
        },
        "id": "kWBpzy5YdSIM",
        "outputId": "285d6ea2-12fa-48d4-faa6-43cfc2fa45a0"
      },
      "execution_count": null,
      "outputs": [
        {
          "output_type": "stream",
          "name": "stdout",
          "text": [
            "['', 'samwise', '', 'aragorn', 'legolas', 'boromir', '']\n"
          ]
        }
      ]
    },
    {
      "cell_type": "markdown",
      "source": [
        "### Excercise 3: Dict comprehensions"
      ],
      "metadata": {
        "id": "0_40Zu1rd25w"
      }
    },
    {
      "cell_type": "markdown",
      "source": [
        "Comprehensions aren't relegated merely to the world of lists. There are many other objects you can build using comprehensions, such as dictionaries, pervasive objects in Data Science. You will create a dictionary using the comprehension syntax for this exercise. In this case, the comprehension is called a **dict comprehension**.\n",
        "\n",
        "Recall that the main difference between a *list comprehension* and a *dict comprehension* is the use of curly braces `{}` instead of `[]`. Additionally, members of the dictionary are created using a colon :, as in `<key> : <value>`.\n",
        "\n",
        "You are given a list of strings `fellowship` and, using a **dict comprehension**, create a dictionary with the members of the list as the keys and the length of each string as the corresponding values."
      ],
      "metadata": {
        "id": "92ywNaZ8d8jh"
      }
    },
    {
      "cell_type": "markdown",
      "source": [
        "**Instructions**\n",
        "Create a dict comprehension where the key is a string in `fellowship` and the value is the length of the string. Remember to use the syntax `<key> : <value>` in the output expression part of the comprehension to create the members of the dictionary. Use `member` as the iterator variable."
      ],
      "metadata": {
        "id": "8s1vEaSIefP5"
      }
    },
    {
      "cell_type": "code",
      "source": [
        "# Create a list of strings: fellowship\n",
        "fellowship = ['frodo', 'samwise', 'merry', 'aragorn', 'legolas', 'boromir', 'gimli']\n",
        "\n",
        "# Create dict comprehension: new_fellowship\n",
        "new_fellowship = {member : len(member) for member in fellowship}\n",
        "\n",
        "# Print the new dictionary\n",
        "print(new_fellowship)"
      ],
      "metadata": {
        "colab": {
          "base_uri": "https://localhost:8080/"
        },
        "id": "JBW9Yaawe5kT",
        "outputId": "1a223e35-e3e1-40c0-e828-cdc2eb30d66f"
      },
      "execution_count": null,
      "outputs": [
        {
          "output_type": "stream",
          "name": "stdout",
          "text": [
            "{'frodo': 5, 'samwise': 7, 'merry': 5, 'aragorn': 7, 'legolas': 7, 'boromir': 7, 'gimli': 5}\n"
          ]
        }
      ]
    },
    {
      "cell_type": "markdown",
      "source": [
        "## Lesson 2: Introduction to generator expressions"
      ],
      "metadata": {
        "id": "-n0Obuy5fnhJ"
      }
    },
    {
      "cell_type": "markdown",
      "source": [
        "### Generator expressions"
      ],
      "metadata": {
        "id": "ER1n5lRZLDvE"
      }
    },
    {
      "cell_type": "markdown",
      "source": [
        "* Recall list comprehension"
      ],
      "metadata": {
        "id": "T0KA8a5WLFYu"
      }
    },
    {
      "cell_type": "code",
      "source": [
        "[2 * num for num in range(10)]"
      ],
      "metadata": {
        "colab": {
          "base_uri": "https://localhost:8080/"
        },
        "id": "-ETXifjILIUe",
        "outputId": "485723aa-a1ac-4d49-a55a-c51dcae2e3c7"
      },
      "execution_count": null,
      "outputs": [
        {
          "output_type": "execute_result",
          "data": {
            "text/plain": [
              "[0, 2, 4, 6, 8, 10, 12, 14, 16, 18]"
            ]
          },
          "metadata": {},
          "execution_count": 1
        }
      ]
    },
    {
      "cell_type": "markdown",
      "source": [
        "* Use `( )` instead of `[ ]`"
      ],
      "metadata": {
        "id": "kGFLes2tLOtO"
      }
    },
    {
      "cell_type": "code",
      "source": [
        "(2 * num for num in range(10))"
      ],
      "metadata": {
        "colab": {
          "base_uri": "https://localhost:8080/"
        },
        "id": "IH52iBfiLTHi",
        "outputId": "20d330a4-3db0-4045-f743-b37df02e64b2"
      },
      "execution_count": null,
      "outputs": [
        {
          "output_type": "execute_result",
          "data": {
            "text/plain": [
              "<generator object <genexpr> at 0x790d76dd7780>"
            ]
          },
          "metadata": {},
          "execution_count": 2
        }
      ]
    },
    {
      "cell_type": "markdown",
      "source": [
        "### List comprehensions vs. generators\n"
      ],
      "metadata": {
        "id": "S9yI00BhLXk-"
      }
    },
    {
      "cell_type": "markdown",
      "source": [
        "* List comprehension - returns a list\n",
        "* Generators - returns a generator object\n",
        "* Both can be iterated over"
      ],
      "metadata": {
        "id": "RKboRUfILa_w"
      }
    },
    {
      "cell_type": "markdown",
      "source": [
        "### Printing values from generators (1)"
      ],
      "metadata": {
        "id": "e9PZfc0ELk1X"
      }
    },
    {
      "cell_type": "code",
      "source": [
        "result = (num for num in range(6))\n",
        "for num in result:\n",
        "  print(num)"
      ],
      "metadata": {
        "colab": {
          "base_uri": "https://localhost:8080/"
        },
        "id": "OFxiIHmDLv_5",
        "outputId": "9902b378-b018-48d5-863c-4fcbcf849058"
      },
      "execution_count": null,
      "outputs": [
        {
          "output_type": "stream",
          "name": "stdout",
          "text": [
            "0\n",
            "1\n",
            "2\n",
            "3\n",
            "4\n",
            "5\n"
          ]
        }
      ]
    },
    {
      "cell_type": "code",
      "source": [
        "result = (num for num in range(6))\n",
        "print(list(result))"
      ],
      "metadata": {
        "colab": {
          "base_uri": "https://localhost:8080/"
        },
        "id": "GJYlBCGZLz_d",
        "outputId": "6348da54-214b-4ffe-c0eb-2e6e9b76fb88"
      },
      "execution_count": null,
      "outputs": [
        {
          "output_type": "stream",
          "name": "stdout",
          "text": [
            "[0, 1, 2, 3, 4, 5]\n"
          ]
        }
      ]
    },
    {
      "cell_type": "markdown",
      "source": [
        "### Printing values from generators (2)"
      ],
      "metadata": {
        "id": "07jgI2kGL3tv"
      }
    },
    {
      "cell_type": "code",
      "source": [
        "result = (num for num in range(6))"
      ],
      "metadata": {
        "id": "_TtSrAKGL5yW"
      },
      "execution_count": null,
      "outputs": []
    },
    {
      "cell_type": "markdown",
      "source": [
        "* Lazy evaluation"
      ],
      "metadata": {
        "id": "IpbAItSCL9K4"
      }
    },
    {
      "cell_type": "code",
      "source": [
        "print(next(result))"
      ],
      "metadata": {
        "colab": {
          "base_uri": "https://localhost:8080/"
        },
        "id": "jMaGG75nL-WG",
        "outputId": "6de29ff6-2f35-48e5-bb6a-d8c6efa9ec04"
      },
      "execution_count": null,
      "outputs": [
        {
          "output_type": "stream",
          "name": "stdout",
          "text": [
            "0\n"
          ]
        }
      ]
    },
    {
      "cell_type": "code",
      "source": [
        "print(next(result))"
      ],
      "metadata": {
        "colab": {
          "base_uri": "https://localhost:8080/"
        },
        "id": "rAkneTYVMCC-",
        "outputId": "fa8636e1-c116-4d20-81a2-67b7203c5d8b"
      },
      "execution_count": null,
      "outputs": [
        {
          "output_type": "stream",
          "name": "stdout",
          "text": [
            "1\n"
          ]
        }
      ]
    },
    {
      "cell_type": "code",
      "source": [
        "print(next(result))"
      ],
      "metadata": {
        "colab": {
          "base_uri": "https://localhost:8080/"
        },
        "id": "WYYldn3RMEXf",
        "outputId": "ce89915c-9c55-4e25-8300-5068c8d6b75b"
      },
      "execution_count": null,
      "outputs": [
        {
          "output_type": "stream",
          "name": "stdout",
          "text": [
            "2\n"
          ]
        }
      ]
    },
    {
      "cell_type": "code",
      "source": [
        "print(next(result))"
      ],
      "metadata": {
        "colab": {
          "base_uri": "https://localhost:8080/"
        },
        "id": "Pe1aqX-WMFRA",
        "outputId": "ba19f17a-7c56-4492-d285-55733bebfaf0"
      },
      "execution_count": null,
      "outputs": [
        {
          "output_type": "stream",
          "name": "stdout",
          "text": [
            "3\n"
          ]
        }
      ]
    },
    {
      "cell_type": "code",
      "source": [
        "print(next(result))"
      ],
      "metadata": {
        "colab": {
          "base_uri": "https://localhost:8080/"
        },
        "id": "8bZ5XAwGMGQP",
        "outputId": "b527b20e-3b70-4ad6-9643-8b2c6f05657f"
      },
      "execution_count": null,
      "outputs": [
        {
          "output_type": "stream",
          "name": "stdout",
          "text": [
            "4\n"
          ]
        }
      ]
    },
    {
      "cell_type": "code",
      "source": [
        "print(next(result))"
      ],
      "metadata": {
        "colab": {
          "base_uri": "https://localhost:8080/"
        },
        "id": "ApEIEPUzMHeX",
        "outputId": "6f8f6c33-8c33-4e65-bbfc-2f13654797d4"
      },
      "execution_count": null,
      "outputs": [
        {
          "output_type": "stream",
          "name": "stdout",
          "text": [
            "5\n"
          ]
        }
      ]
    },
    {
      "cell_type": "markdown",
      "source": [
        "### Generators vs list comprehensions"
      ],
      "metadata": {
        "id": "jxDX_lDQMT4I"
      }
    },
    {
      "cell_type": "markdown",
      "source": [
        "### Conditionals in generator expressions"
      ],
      "metadata": {
        "id": "eh--zPFzMZx2"
      }
    },
    {
      "cell_type": "code",
      "source": [
        "even_nums = (num for num in range(10) if num % 2 == 0)\n",
        "print(list(even_nums))"
      ],
      "metadata": {
        "colab": {
          "base_uri": "https://localhost:8080/"
        },
        "id": "KmmA63GVMfzG",
        "outputId": "7877d6e2-35e6-408c-ffc9-63d0549b96bc"
      },
      "execution_count": null,
      "outputs": [
        {
          "output_type": "stream",
          "name": "stdout",
          "text": [
            "[0, 2, 4, 6, 8]\n"
          ]
        }
      ]
    },
    {
      "cell_type": "markdown",
      "source": [
        "### Generator functions"
      ],
      "metadata": {
        "id": "8OMaa3iGMjHd"
      }
    },
    {
      "cell_type": "markdown",
      "source": [
        "* Produces generator objects when called\n",
        "* De,ned like a regular function - `def`\n",
        "* Yields a sequence of values instead of returning a single value\n",
        "* Generates a value with `yield` keyword"
      ],
      "metadata": {
        "id": "rEGCMHMKMkjZ"
      }
    },
    {
      "cell_type": "markdown",
      "source": [
        "### Build a generator function"
      ],
      "metadata": {
        "id": "-1eJcUUHM323"
      }
    },
    {
      "cell_type": "code",
      "source": [
        "def num_sequence(n):\n",
        "  \"\"\"Generate values from 0 to n.\"\"\"\n",
        "  i = 0\n",
        "  while i < n:\n",
        "    yield i\n",
        "    i += 1"
      ],
      "metadata": {
        "id": "bjMTuh9OM5O_"
      },
      "execution_count": null,
      "outputs": []
    },
    {
      "cell_type": "markdown",
      "source": [
        "### Use a generator function"
      ],
      "metadata": {
        "id": "Tr27Wpw8NEYX"
      }
    },
    {
      "cell_type": "code",
      "source": [
        "result = num_sequence(5)\n",
        "print(type(result))"
      ],
      "metadata": {
        "colab": {
          "base_uri": "https://localhost:8080/"
        },
        "id": "7Ykzi40bNFev",
        "outputId": "08fb30f7-6d65-4e39-c233-8eef97439be7"
      },
      "execution_count": null,
      "outputs": [
        {
          "output_type": "stream",
          "name": "stdout",
          "text": [
            "<class 'generator'>\n"
          ]
        }
      ]
    },
    {
      "cell_type": "code",
      "source": [
        "for item in result:\n",
        "  print(item)"
      ],
      "metadata": {
        "colab": {
          "base_uri": "https://localhost:8080/"
        },
        "id": "KfPgO2qfNKPw",
        "outputId": "7a24267d-b02a-4927-d055-f1579d1a1694"
      },
      "execution_count": null,
      "outputs": [
        {
          "output_type": "stream",
          "name": "stdout",
          "text": [
            "0\n",
            "1\n",
            "2\n",
            "3\n",
            "4\n"
          ]
        }
      ]
    },
    {
      "cell_type": "markdown",
      "source": [
        "### Exercise 1: Write your own generator expressions"
      ],
      "metadata": {
        "id": "TRCH5YeEOOto"
      }
    },
    {
      "cell_type": "markdown",
      "source": [
        "You are familiar with what generators and generator expressions are, as well as its difference from list comprehensions. In this exercise, you will practice building generator expressions on your own.\n",
        "\n",
        "Recall that generator expressions basically have the same syntax as list comprehensions, except that it uses parentheses `()` instead of brackets `[]`; this should make things feel familiar! Furthermore, if you have ever iterated over a dictionary with `.items()`, or used the `range()` function, for example, you have already encountered and used generators before, without knowing it! When you use these functions, Python creates generators for you behind the scenes.\n",
        "\n",
        "Now, you will start simple by creating a generator object that produces numeric values."
      ],
      "metadata": {
        "id": "GnXibXdmOUTR"
      }
    },
    {
      "cell_type": "markdown",
      "source": [
        "**Instructions**\n",
        "* Create a generator object that will produce values from `0` to `30`. Assign the result to `result` and use `num` as the iterator variable in the generator expression.\n",
        "* Print the first 5 values by using `next()` appropriately in `print()`.\n",
        "* Print the rest of the values by using a `for` loop to iterate over the generator object."
      ],
      "metadata": {
        "id": "Ux3ff7WAOgMI"
      }
    },
    {
      "cell_type": "code",
      "source": [
        "# Create generator object: result\n",
        "result = (num for num in range(31))\n",
        "\n",
        "# Print the first 5 values\n",
        "print(next(result))\n",
        "print(next(result))\n",
        "print(next(result))\n",
        "print(next(result))\n",
        "print(next(result))\n",
        "\n",
        "# Print the rest of the values\n",
        "for value in result:\n",
        "    print(value)"
      ],
      "metadata": {
        "colab": {
          "base_uri": "https://localhost:8080/"
        },
        "id": "-Uk0oXxeO0o7",
        "outputId": "69330100-b9ca-4d81-bd7c-0770eb1631b5"
      },
      "execution_count": null,
      "outputs": [
        {
          "output_type": "stream",
          "name": "stdout",
          "text": [
            "0\n",
            "1\n",
            "2\n",
            "3\n",
            "4\n",
            "5\n",
            "6\n",
            "7\n",
            "8\n",
            "9\n",
            "10\n",
            "11\n",
            "12\n",
            "13\n",
            "14\n",
            "15\n",
            "16\n",
            "17\n",
            "18\n",
            "19\n",
            "20\n",
            "21\n",
            "22\n",
            "23\n",
            "24\n",
            "25\n",
            "26\n",
            "27\n",
            "28\n",
            "29\n",
            "30\n"
          ]
        }
      ]
    },
    {
      "cell_type": "markdown",
      "source": [
        "### Excercise 2: Changing the output in generator expressions"
      ],
      "metadata": {
        "id": "XBel5XCJPRv3"
      }
    },
    {
      "cell_type": "markdown",
      "source": [
        "Great! At this point, you already know how to write a basic generator expression. In this exercise, you will push this idea a little further by adding to the output expression of a generator expression. Because generator expressions and list comprehensions are so alike in syntax, this should be a familiar task for you!\n",
        "\n",
        "You are given a list of strings `lannister` and, using a generator expression, create a generator object that you will iterate over to print its values."
      ],
      "metadata": {
        "id": "uBhPk8mqPUWP"
      }
    },
    {
      "cell_type": "markdown",
      "source": [
        "**Instructions**\n",
        "* Write a generator expression that will generate the **lengths** of each string in `lannister`. Use `person` as the iterator variable. Assign the result to `lengths`.\n",
        "* Supply the correct iterable in the `for` loop for printing the values in the generator object."
      ],
      "metadata": {
        "id": "kNCoW1JjPaFg"
      }
    },
    {
      "cell_type": "code",
      "source": [
        "# Create a list of strings: lannister\n",
        "lannister = ['cersei', 'jaime', 'tywin', 'tyrion', 'joffrey']\n",
        "\n",
        "# Create a generator object: lengths\n",
        "lengths = (len(person) for person in lannister)\n",
        "\n",
        "# Iterate over and print the values in lengths\n",
        "for value in lengths:\n",
        "    print(value)"
      ],
      "metadata": {
        "colab": {
          "base_uri": "https://localhost:8080/"
        },
        "id": "BNhrvCOvPpRY",
        "outputId": "be2ff8d8-25c7-4b58-86e5-ae2f0b6035dd"
      },
      "execution_count": null,
      "outputs": [
        {
          "output_type": "stream",
          "name": "stdout",
          "text": [
            "6\n",
            "5\n",
            "5\n",
            "6\n",
            "7\n"
          ]
        }
      ]
    },
    {
      "cell_type": "markdown",
      "source": [
        "### Excercise 3: Build a generator"
      ],
      "metadata": {
        "id": "J_igvb_mQHpW"
      }
    },
    {
      "cell_type": "markdown",
      "source": [
        "In previous exercises, you've dealt mainly with writing generator expressions, which uses comprehension syntax. Being able to use comprehension syntax for generator expressions made your work so much easier!\n",
        "\n",
        "Now, recall from the video that not only are there generator expressions, there are *generator functions* as well. **Generator functions** are functions that, like generator expressions, yield a series of values, instead of returning a single value. A generator function is defined as you do a regular function, but whenever it generates a value, it uses the keyword `yield` instead of `return`.\n",
        "\n",
        "In this exercise, you will create a generator function with a similar mechanism as the generator expression you defined in the previous exercise:\n",
        "\n",
        "\n",
        "```\n",
        "lengths = (len(person) for person in lannister)\n",
        "```\n",
        "\n"
      ],
      "metadata": {
        "id": "ogBsMusKQLdx"
      }
    },
    {
      "cell_type": "markdown",
      "source": [
        "**Instructions**\n",
        "* Complete the function header for the function `get_lengths()` that has a single parameter, `input_list`.\n",
        "* In the for loop in the function definition, `yield` the *length* of the strings in `input_list`.\n",
        "* Complete the iterable part of the for loop for printing the values generated by the `get_lengths()` generator function. Supply the call to `get_lengths()`, passing in the list `lannister`."
      ],
      "metadata": {
        "id": "HcfRfXzvQgj4"
      }
    },
    {
      "cell_type": "code",
      "source": [
        "# Create a list of strings\n",
        "lannister = ['cersei', 'jaime', 'tywin', 'tyrion', 'joffrey']\n",
        "\n",
        "# Define generator function get_lengths\n",
        "def get_lengths(input_list):\n",
        "    \"\"\"Generator function that yields the\n",
        "    length of the strings in input_list.\"\"\"\n",
        "\n",
        "    # Yield the length of a string\n",
        "    for person in input_list:\n",
        "        yield len(person)\n",
        "\n",
        "# Print the values generated by get_lengths()\n",
        "for value in get_lengths(lannister):\n",
        "    print(value)"
      ],
      "metadata": {
        "colab": {
          "base_uri": "https://localhost:8080/"
        },
        "id": "SSokAcTkQ0Xg",
        "outputId": "b4fd8f32-5438-4794-92ec-f689ffdd2567"
      },
      "execution_count": null,
      "outputs": [
        {
          "output_type": "stream",
          "name": "stdout",
          "text": [
            "6\n",
            "5\n",
            "5\n",
            "6\n",
            "7\n"
          ]
        }
      ]
    },
    {
      "cell_type": "markdown",
      "source": [
        "## Lesson 3: Wrapping up comprehensions and generators."
      ],
      "metadata": {
        "id": "NGRZ7XbJSNQQ"
      }
    },
    {
      "cell_type": "markdown",
      "source": [
        "### Re-cap: list comprehensions"
      ],
      "metadata": {
        "id": "cN7Y7VFUSUC4"
      }
    },
    {
      "cell_type": "markdown",
      "source": [
        "* Basic\n",
        "\n",
        "```\n",
        "[output expression for iterator variable in iterable]\n",
        "```\n",
        "* Advanced\n",
        "\n",
        "\n",
        "```\n",
        "[output expression +\n",
        "conditional on output for iterator variable in iterable +\n",
        "conditional on iterable]\n",
        "```\n",
        "\n",
        "\n",
        "\n"
      ],
      "metadata": {
        "id": "FnYGdHGpSXUA"
      }
    },
    {
      "cell_type": "markdown",
      "source": [
        "### Excercise 1: List comprehensions for time-stamped data"
      ],
      "metadata": {
        "id": "LK678rNSSpPE"
      }
    },
    {
      "cell_type": "markdown",
      "source": [
        "You will now make use of what you've learned from this chapter to solve a simple data extraction problem. You will also be introduced to a data structure, the pandas Series, in this exercise. We won't elaborate on it much here, but what you should know is that it is a data structure that you will be working with a lot of times when analyzing data from pandas DataFrames. You can think of DataFrame columns as single-dimension arrays called Series.\n",
        "\n",
        "In this exercise, you will be using a list comprehension to extract the time from time-stamped Twitter data. The `pandas` package has been imported as `pd` and the file `'tweets.csv'` has been imported as the `df` DataFrame for your use."
      ],
      "metadata": {
        "id": "W3yJiKw5SuE1"
      }
    },
    {
      "cell_type": "markdown",
      "source": [
        "**Instructions**\n",
        "* Extract the column `'created_at'` from df and assign the result to `tweet_time`. Fun fact: the extracted column in `tweet_time` here is a Series data structure!\n",
        "* Create a list comprehension that extracts the time from each row in `tweet_time`. Each row is a string that represents a timestamp, and you will access the *12th to 19th characters* in the string to extract the time. Use `entry` as the iterator variable and assign the result to `tweet_clock_time`. Remember that Python uses 0-based indexing!\n",
        "\n"
      ],
      "metadata": {
        "id": "T8SQOjBKS66B"
      }
    },
    {
      "cell_type": "code",
      "source": [
        "import pandas as pd\n",
        "df = pd.read_csv(\"/content/tweets.csv\")\n",
        "\n",
        "# Extract the created_at column from df: tweet_time\n",
        "tweet_time = df['created_at']\n",
        "\n",
        "# Extract the clock time: tweet_clock_time\n",
        "tweet_clock_time = [entry[11:19] for entry in tweet_time]\n",
        "\n",
        "# Print the extracted times\n",
        "print(tweet_clock_time)\n"
      ],
      "metadata": {
        "colab": {
          "base_uri": "https://localhost:8080/"
        },
        "id": "F4ymAAV4TZMh",
        "outputId": "cf585874-35dc-46db-8291-c953d60f2462"
      },
      "execution_count": null,
      "outputs": [
        {
          "output_type": "stream",
          "name": "stdout",
          "text": [
            "['23:40:17', '23:40:17', '23:40:17', '23:40:17', '23:40:17', '23:40:17', '23:40:18', '23:40:17', '23:40:18', '23:40:18', '23:40:18', '23:40:17', '23:40:18', '23:40:18', '23:40:17', '23:40:18', '23:40:18', '23:40:17', '23:40:18', '23:40:17', '23:40:18', '23:40:18', '23:40:18', '23:40:18', '23:40:17', '23:40:18', '23:40:18', '23:40:17', '23:40:18', '23:40:18', '23:40:18', '23:40:18', '23:40:18', '23:40:18', '23:40:18', '23:40:18', '23:40:18', '23:40:18', '23:40:18', '23:40:18', '23:40:18', '23:40:18', '23:40:18', '23:40:18', '23:40:18', '23:40:18', '23:40:18', '23:40:18', '23:40:18', '23:40:18', '23:40:18', '23:40:18', '23:40:18', '23:40:18', '23:40:18', '23:40:18', '23:40:18', '23:40:18', '23:40:18', '23:40:18', '23:40:19', '23:40:18', '23:40:18', '23:40:18', '23:40:19', '23:40:19', '23:40:19', '23:40:18', '23:40:19', '23:40:19', '23:40:19', '23:40:18', '23:40:19', '23:40:19', '23:40:19', '23:40:18', '23:40:19', '23:40:19', '23:40:19', '23:40:19', '23:40:19', '23:40:19', '23:40:19', '23:40:19', '23:40:19', '23:40:19', '23:40:19', '23:40:19', '23:40:19', '23:40:19', '23:40:19', '23:40:19', '23:40:19', '23:40:19', '23:40:19', '23:40:19', '23:40:19', '23:40:19', '23:40:19', '23:40:19']\n"
          ]
        }
      ]
    },
    {
      "cell_type": "markdown",
      "source": [
        "### Excercise 2: Conditional list comprehensions for time-stamped data"
      ],
      "metadata": {
        "id": "wuTxPharUyfO"
      }
    },
    {
      "cell_type": "markdown",
      "source": [
        "Great, you've successfully extracted the data of interest, the time, from a pandas DataFrame! Let's tweak your work further by adding a conditional that further specifies which entries to select.\n",
        "\n",
        "In this exercise, you will be using a list comprehension to extract the time from time-stamped Twitter data. You will add a conditional expression to the list comprehension so that you only select the times in which `entry[17:19]` is equal to `'19'`. The pandas package has been imported as pd and the file `'tweets.csv'` has been imported as the df DataFrame for your use."
      ],
      "metadata": {
        "id": "uTHVDfQdU2j4"
      }
    },
    {
      "cell_type": "markdown",
      "source": [
        "**Instructions**\n",
        "* Extract the column `'created_at'` from `df` and assign the result to `tweet_time`.\n",
        "* Create a list comprehension that extracts the time from each row in `tweet_time`. Each row is a string that represents a timestamp, and you will access the *12th to 19th characters* in the string to extract the time. Use `entry` as the iterator variable and assign the result to `tweet_clock_time`. Additionally, add a conditional expression that checks whether `entry[17:19]` is equal to `'19'`."
      ],
      "metadata": {
        "id": "UTZ4VetWVCnn"
      }
    },
    {
      "cell_type": "code",
      "source": [
        "# Extract the created_at column from df: tweet_time\n",
        "tweet_time = df['created_at']\n",
        "\n",
        "# Extract the clock time: tweet_clock_time\n",
        "tweet_clock_time = [entry[11:19] for entry in tweet_time if entry[17:19] == '19']\n",
        "\n",
        "# Print the extracted times\n",
        "print(tweet_clock_time)"
      ],
      "metadata": {
        "colab": {
          "base_uri": "https://localhost:8080/"
        },
        "id": "S43Xesi-VpHw",
        "outputId": "9e478365-fa1e-4519-e067-cc6a647c85b9"
      },
      "execution_count": null,
      "outputs": [
        {
          "output_type": "stream",
          "name": "stdout",
          "text": [
            "['23:40:19', '23:40:19', '23:40:19', '23:40:19', '23:40:19', '23:40:19', '23:40:19', '23:40:19', '23:40:19', '23:40:19', '23:40:19', '23:40:19', '23:40:19', '23:40:19', '23:40:19', '23:40:19', '23:40:19', '23:40:19', '23:40:19', '23:40:19', '23:40:19', '23:40:19', '23:40:19', '23:40:19', '23:40:19', '23:40:19', '23:40:19', '23:40:19', '23:40:19', '23:40:19', '23:40:19', '23:40:19', '23:40:19', '23:40:19']\n"
          ]
        }
      ]
    },
    {
      "cell_type": "markdown",
      "source": [
        "# Chapter 3: Bringing it all together!\n",
        "\n",
        "This chapter will allow you to apply your newly acquired skills toward wrangling and extracting meaningful information from a real-world dataset—the World Bank's World Development Indicators. You'll have the chance to write your own functions and list comprehensions as you work with iterators and generators to solidify your Python chops.\n"
      ],
      "metadata": {
        "id": "dxOwE5W7wnei"
      }
    },
    {
      "cell_type": "markdown",
      "source": [
        "### World bank data"
      ],
      "metadata": {
        "id": "ubsWjJi1qAzK"
      }
    },
    {
      "cell_type": "markdown",
      "source": [
        "* Data on world economies for over half a century\n",
        "* Indicators\n",
        "  * Population\n",
        "  * Electricity consumption\n",
        "  * CO2 emissions\n",
        "  * Literacy rates\n",
        "  * Unemployment\n",
        "  * Mortality rates"
      ],
      "metadata": {
        "id": "e-RlFcjhqCgb"
      }
    },
    {
      "cell_type": "markdown",
      "source": [
        "### Using zip()"
      ],
      "metadata": {
        "id": "yS0zwN1_qSSu"
      }
    },
    {
      "cell_type": "code",
      "source": [
        "avengers = ['hawkeye', 'iron man', 'thor', 'quicksilver']\n",
        "names = ['barton', 'stark', 'odinson', 'maximoff']\n",
        "z = zip(avengers, names)\n",
        "print(type(z))"
      ],
      "metadata": {
        "colab": {
          "base_uri": "https://localhost:8080/"
        },
        "id": "C3v7HFWJqThg",
        "outputId": "048d4f2a-6841-4586-bd33-57075013a2f7"
      },
      "execution_count": null,
      "outputs": [
        {
          "output_type": "stream",
          "name": "stdout",
          "text": [
            "<class 'zip'>\n"
          ]
        }
      ]
    },
    {
      "cell_type": "code",
      "source": [
        "print(list(z))"
      ],
      "metadata": {
        "colab": {
          "base_uri": "https://localhost:8080/"
        },
        "id": "Cq08SgXjqYL-",
        "outputId": "6f630e15-e8b5-46af-8785-17d38289f216"
      },
      "execution_count": null,
      "outputs": [
        {
          "output_type": "stream",
          "name": "stdout",
          "text": [
            "[('hawkeye', 'barton'), ('iron man', 'stark'), ('thor', 'odinson'), ('quicksilver', 'maximoff')]\n"
          ]
        }
      ]
    },
    {
      "cell_type": "markdown",
      "source": [
        "### Defining a function"
      ],
      "metadata": {
        "id": "3huimKfyqcdu"
      }
    },
    {
      "cell_type": "code",
      "execution_count": null,
      "metadata": {
        "id": "PE3G6tzFW5Qn"
      },
      "outputs": [],
      "source": [
        "def raise_both(value1, value2):\n",
        "  \"\"\"Raise value1 to the power of value2\n",
        "  and vice versa.\"\"\"\n",
        "  new_value1 = value1 ** value2\n",
        "  new_value2 = value2 ** value1\n",
        "  new_tuple = (new_value1, new_value2)\n",
        "  return new_tuple"
      ]
    },
    {
      "cell_type": "markdown",
      "source": [
        "### Re-cap: list comprehensions"
      ],
      "metadata": {
        "id": "GargjF4LqmT_"
      }
    },
    {
      "cell_type": "markdown",
      "source": [
        "* Basic\n",
        "```\n",
        "[output expression for iterator variable in iterable]\n",
        "```\n",
        "* Advanced\n",
        "\n",
        "\n",
        "\n",
        "```\n",
        "[output expression +\n",
        "conditional on output for iterator variable in iterable +\n",
        "conditional on iterable]\n",
        "```\n",
        "\n",
        "\n",
        "\n",
        "\n",
        "\n"
      ],
      "metadata": {
        "id": "EvzA7kITqrnA"
      }
    },
    {
      "cell_type": "markdown",
      "source": [
        "### Excercise 1: Zipping dictionaries"
      ],
      "metadata": {
        "id": "oEM66-YArCIH"
      }
    },
    {
      "cell_type": "markdown",
      "source": [
        "For this exercise, you'll use what you've learned about the `zip()` function and combine two lists into a dictionary.\n",
        "\n",
        "These lists are actually extracted from a bigger dataset file of world development indicators from the World Bank. For pedagogical purposes, we have pre-processed this dataset into the lists that you'll be working with.\n",
        "\n",
        "The first list `feature_names` contains header names of the dataset and the second list `row_vals` contains actual values of a row from the dataset, corresponding to each of the header names."
      ],
      "metadata": {
        "id": "6LqQXHVYrPcT"
      }
    },
    {
      "cell_type": "markdown",
      "source": [
        "**Instructions**\n",
        "* Create a zip object by calling `zip()` and passing to it `feature_names` and `row_vals`. Assign the result to zipped_lists.\n",
        "* Create a dictionary from the `zipped_lists` zip object by calling `dict()` with `zipped_lists`. Assign the resulting dictionary to `rs_dict`."
      ],
      "metadata": {
        "id": "M-F6IOR_rtPN"
      }
    },
    {
      "cell_type": "code",
      "source": [
        "feature_names = ['CountryName', 'CountryCode', 'IndicatorName', 'IndicatorCode', 'Year', 'Value']\n",
        "row_vals = ['Arab World',\n",
        "            'ARB',\n",
        "            'Adolescent fertility rate (births per 1,000 women ages 15-19)',\n",
        "            'SP.ADO.TFRT',\n",
        "            '1960',\n",
        "            '133.56090740552298']"
      ],
      "metadata": {
        "id": "uIBKWDJ-sEPn"
      },
      "execution_count": null,
      "outputs": []
    },
    {
      "cell_type": "code",
      "source": [
        "# Zip lists: zipped_lists\n",
        "zipped_lists = zip(feature_names, row_vals)\n",
        "\n",
        "# Create a dictionary: rs_dict\n",
        "rs_dict = dict(zipped_lists)\n",
        "\n",
        "# Print the dictionary\n",
        "print(rs_dict)"
      ],
      "metadata": {
        "colab": {
          "base_uri": "https://localhost:8080/"
        },
        "id": "QXRPJlJVspie",
        "outputId": "44249fac-9276-45cd-9a82-4db76ed50da3"
      },
      "execution_count": null,
      "outputs": [
        {
          "output_type": "stream",
          "name": "stdout",
          "text": [
            "{'CountryName': 'Arab World', 'CountryCode': 'ARB', 'IndicatorName': 'Adolescent fertility rate (births per 1,000 women ages 15-19)', 'IndicatorCode': 'SP.ADO.TFRT', 'Year': '1960', 'Value': '133.56090740552298'}\n"
          ]
        }
      ]
    },
    {
      "cell_type": "markdown",
      "source": [
        "### Excercise 2: Writing a function to help you"
      ],
      "metadata": {
        "id": "ukosS4ifsvt3"
      }
    },
    {
      "cell_type": "markdown",
      "source": [
        "Suppose you needed to repeat the same process done in the previous exercise to many, many rows of data. Rewriting your code again and again could become very tedious, repetitive, and unmaintainable.\n",
        "\n",
        "In this exercise, you will create a function to house the code you wrote earlier to make things easier and much more concise. Why? This way, you only need to call the function and supply the appropriate lists to create your dictionaries! Again, the lists `feature_names` and `row_vals` are preloaded and these contain the header names of the dataset and actual values of a row from the dataset, respectively."
      ],
      "metadata": {
        "id": "fFZ16xALsx3A"
      }
    },
    {
      "cell_type": "markdown",
      "source": [
        "**Instructions**\n",
        "* Define the function `lists2dict()` with two parameters: first is `list1` and second is `list2`.\n",
        "* Return the resulting dictionary `rs_dict` in `lists2dict()`.\n",
        "* Call the `lists2dict()` function with the arguments `feature_names` and `row_vals`. Assign the result of the function call to `rs_fxn`."
      ],
      "metadata": {
        "id": "DuOc5_W_tEuy"
      }
    },
    {
      "cell_type": "code",
      "source": [
        "# Define lists2dict()\n",
        "def lists2dict(list1, list2):\n",
        "    \"\"\"Return a dictionary where list1 provides\n",
        "    the keys and list2 provides the values.\"\"\"\n",
        "\n",
        "    # Zip lists: zipped_lists\n",
        "    zipped_lists = zip(list1, list2)\n",
        "\n",
        "    # Create a dictionary: rs_dict\n",
        "    rs_dict = dict(zipped_lists)\n",
        "\n",
        "    # Return the dictionary\n",
        "    return rs_dict\n",
        "\n",
        "# Call lists2dict: rs_fxn\n",
        "rs_fxn = lists2dict(feature_names, row_vals)\n",
        "\n",
        "# Print rs_fxn\n",
        "print(rs_fxn)"
      ],
      "metadata": {
        "colab": {
          "base_uri": "https://localhost:8080/"
        },
        "id": "4TOJx6UNtYb3",
        "outputId": "d1adea5a-9882-40bd-be8c-85ba33f917f3"
      },
      "execution_count": null,
      "outputs": [
        {
          "output_type": "stream",
          "name": "stdout",
          "text": [
            "{'CountryName': 'Arab World', 'CountryCode': 'ARB', 'IndicatorName': 'Adolescent fertility rate (births per 1,000 women ages 15-19)', 'IndicatorCode': 'SP.ADO.TFRT', 'Year': '1960', 'Value': '133.56090740552298'}\n"
          ]
        }
      ]
    },
    {
      "cell_type": "markdown",
      "source": [
        "### Exercise 3: Using a list comprehension"
      ],
      "metadata": {
        "id": "bRrHz52Wtw04"
      }
    },
    {
      "cell_type": "markdown",
      "source": [
        "This time, you're going to use the `lists2dict()` function you defined in the last exercise to turn a bunch of lists into a list of dictionaries with the help of a list comprehension.\n",
        "\n",
        "The `lists2dict()` function has already been preloaded, together with a couple of lists, `feature_names` and `row_lists`. `feature_names` contains the header names of the World Bank dataset and `row_lists` is a list of lists, where each sublist is a list of actual values of a row from the dataset.\n",
        "\n",
        "Your goal is to use a list comprehension to generate a list of dicts, where the *keys* are the header names and the `values` are the row entries."
      ],
      "metadata": {
        "id": "zxSzV0LTt1RQ"
      }
    },
    {
      "cell_type": "markdown",
      "source": [
        "**Instructions**\n",
        "* Inspect the contents of `row_lists` by printing the first two lists in `row_lists`.\n",
        "* Create a list comprehension that generates a dictionary using lists2dict() for each sublist in `row_lists`. The keys are from the `feature_names` list and the values are the row entries in `row_lists`. Use `sublist` as your iterator variable and assign the resulting list of dictionaries to `list_of_dicts`.\n",
        "* Look at the first two dictionaries in `list_of_dicts` by printing them out."
      ],
      "metadata": {
        "id": "idUudTXCuI8u"
      }
    },
    {
      "cell_type": "code",
      "source": [
        "row_lists = [['Arab World',\n",
        "  'ARB',\n",
        "  'Adolescent fertility rate (births per 1,000 women ages 15-19)',\n",
        "  'SP.ADO.TFRT',\n",
        "  '1960',\n",
        "  '133.56090740552298'],\n",
        " ['Arab World',\n",
        "  'ARB',\n",
        "  'Age dependency ratio (% of working-age population)',\n",
        "  'SP.POP.DPND',\n",
        "  '1960',\n",
        "  '87.7976011532547'],\n",
        " ['Arab World',\n",
        "  'ARB',\n",
        "  'Age dependency ratio, old (% of working-age population)',\n",
        "  'SP.POP.DPND.OL',\n",
        "  '1960',\n",
        "  '6.634579191565161'],\n",
        " ['Arab World',\n",
        "  'ARB',\n",
        "  'Age dependency ratio, young (% of working-age population)',\n",
        "  'SP.POP.DPND.YG',\n",
        "  '1960',\n",
        "  '81.02332950839141'],\n",
        " ['Arab World',\n",
        "  'ARB',\n",
        "  'Arms exports (SIPRI trend indicator values)',\n",
        "  'MS.MIL.XPRT.KD',\n",
        "  '1960',\n",
        "  '3000000.0'],\n",
        " ['Arab World',\n",
        "  'ARB',\n",
        "  'Arms imports (SIPRI trend indicator values)',\n",
        "  'MS.MIL.MPRT.KD',\n",
        "  '1960',\n",
        "  '538000000.0'],\n",
        " ['Arab World',\n",
        "  'ARB',\n",
        "  'Birth rate, crude (per 1,000 people)',\n",
        "  'SP.DYN.CBRT.IN',\n",
        "  '1960',\n",
        "  '47.697888095096395'],\n",
        " ['Arab World',\n",
        "  'ARB',\n",
        "  'CO2 emissions (kt)',\n",
        "  'EN.ATM.CO2E.KT',\n",
        "  '1960',\n",
        "  '59563.9892169935'],\n",
        " ['Arab World',\n",
        "  'ARB',\n",
        "  'CO2 emissions (metric tons per capita)',\n",
        "  'EN.ATM.CO2E.PC',\n",
        "  '1960',\n",
        "  '0.6439635478877049'],\n",
        " ['Arab World',\n",
        "  'ARB',\n",
        "  'CO2 emissions from gaseous fuel consumption (% of total)',\n",
        "  'EN.ATM.CO2E.GF.ZS',\n",
        "  '1960',\n",
        "  '5.041291753975099'],\n",
        " ['Arab World',\n",
        "  'ARB',\n",
        "  'CO2 emissions from liquid fuel consumption (% of total)',\n",
        "  'EN.ATM.CO2E.LF.ZS',\n",
        "  '1960',\n",
        "  '84.8514729446567'],\n",
        " ['Arab World',\n",
        "  'ARB',\n",
        "  'CO2 emissions from liquid fuel consumption (kt)',\n",
        "  'EN.ATM.CO2E.LF.KT',\n",
        "  '1960',\n",
        "  '49541.707291032304'],\n",
        " ['Arab World',\n",
        "  'ARB',\n",
        "  'CO2 emissions from solid fuel consumption (% of total)',\n",
        "  'EN.ATM.CO2E.SF.ZS',\n",
        "  '1960',\n",
        "  '4.72698138789597'],\n",
        " ['Arab World',\n",
        "  'ARB',\n",
        "  'Death rate, crude (per 1,000 people)',\n",
        "  'SP.DYN.CDRT.IN',\n",
        "  '1960',\n",
        "  '19.7544519237187'],\n",
        " ['Arab World',\n",
        "  'ARB',\n",
        "  'Fertility rate, total (births per woman)',\n",
        "  'SP.DYN.TFRT.IN',\n",
        "  '1960',\n",
        "  '6.92402738655897'],\n",
        " ['Arab World',\n",
        "  'ARB',\n",
        "  'Fixed telephone subscriptions',\n",
        "  'IT.MLT.MAIN',\n",
        "  '1960',\n",
        "  '406833.0'],\n",
        " ['Arab World',\n",
        "  'ARB',\n",
        "  'Fixed telephone subscriptions (per 100 people)',\n",
        "  'IT.MLT.MAIN.P2',\n",
        "  '1960',\n",
        "  '0.6167005703199'],\n",
        " ['Arab World',\n",
        "  'ARB',\n",
        "  'Hospital beds (per 1,000 people)',\n",
        "  'SH.MED.BEDS.ZS',\n",
        "  '1960',\n",
        "  '1.9296220724398703'],\n",
        " ['Arab World',\n",
        "  'ARB',\n",
        "  'International migrant stock (% of population)',\n",
        "  'SM.POP.TOTL.ZS',\n",
        "  '1960',\n",
        "  '2.9906371279862403'],\n",
        " ['Arab World',\n",
        "  'ARB',\n",
        "  'International migrant stock, total',\n",
        "  'SM.POP.TOTL',\n",
        "  '1960',\n",
        "  '3324685.0']]"
      ],
      "metadata": {
        "id": "GwdLz41TuaGh"
      },
      "execution_count": null,
      "outputs": []
    },
    {
      "cell_type": "code",
      "source": [
        "# Print the first two lists in row_lists\n",
        "print(row_lists[0])\n",
        "print(row_lists[1])\n",
        "\n",
        "# Turn list of lists into list of dicts: list_of_dicts\n",
        "list_of_dicts = [lists2dict(feature_names,sublist) for sublist in row_lists]\n",
        "\n",
        "# Print the first two dictionaries in list_of_dicts\n",
        "print(list_of_dicts[0])\n",
        "print(list_of_dicts[1])"
      ],
      "metadata": {
        "colab": {
          "base_uri": "https://localhost:8080/"
        },
        "id": "pU3uZPYAv1ng",
        "outputId": "50cda92a-9282-4807-a64a-4883bb3888d8"
      },
      "execution_count": null,
      "outputs": [
        {
          "output_type": "stream",
          "name": "stdout",
          "text": [
            "['Arab World', 'ARB', 'Adolescent fertility rate (births per 1,000 women ages 15-19)', 'SP.ADO.TFRT', '1960', '133.56090740552298']\n",
            "['Arab World', 'ARB', 'Age dependency ratio (% of working-age population)', 'SP.POP.DPND', '1960', '87.7976011532547']\n",
            "{'CountryName': 'Arab World', 'CountryCode': 'ARB', 'IndicatorName': 'Adolescent fertility rate (births per 1,000 women ages 15-19)', 'IndicatorCode': 'SP.ADO.TFRT', 'Year': '1960', 'Value': '133.56090740552298'}\n",
            "{'CountryName': 'Arab World', 'CountryCode': 'ARB', 'IndicatorName': 'Age dependency ratio (% of working-age population)', 'IndicatorCode': 'SP.POP.DPND', 'Year': '1960', 'Value': '87.7976011532547'}\n"
          ]
        }
      ]
    },
    {
      "cell_type": "markdown",
      "source": [
        "### Excercise 4: Turning this all into a DataFrame"
      ],
      "metadata": {
        "id": "IeKPtzjiv-xQ"
      }
    },
    {
      "cell_type": "markdown",
      "source": [
        "You've zipped lists together, created a function to house your code, and even used the function in a list comprehension to generate a list of dictionaries. That was a lot of work and you did a great job!\n",
        "\n",
        "You will now use all of these to convert the list of dictionaries into a pandas DataFrame. You will see how convenient it is to generate a DataFrame from dictionaries with the `DataFrame()` function from the pandas package.\n",
        "\n",
        "The `lists2dict()` function, `feature_names` list, and `row_lists` list have been preloaded for this exercise.\n",
        "\n",
        "Go for it!"
      ],
      "metadata": {
        "id": "Y_wzG9hBwJAA"
      }
    },
    {
      "cell_type": "markdown",
      "source": [
        "**Instructions**\n",
        "* To use the `DataFrame()` function you need, first import the pandas package with the alias `pd`.\n",
        "* Create a DataFrame from the list of dictionaries in `list_of_dicts` by calling `pd.DataFrame()`. Assign the resulting DataFrame to `df`.\n",
        "* Inspect the contents of `df` printing the head of the DataFrame. Head of the DataFrame `df` can be accessed by calling `df.head()`."
      ],
      "metadata": {
        "id": "yW83agZqwR0o"
      }
    },
    {
      "cell_type": "code",
      "source": [
        "# Import the pandas package\n",
        "import pandas as pd\n",
        "\n",
        "# Turn list of lists into list of dicts: list_of_dicts\n",
        "list_of_dicts = [lists2dict(feature_names, sublist) for sublist in row_lists]\n",
        "\n",
        "# Turn list of dicts into a DataFrame: df\n",
        "df = pd.DataFrame(list_of_dicts)\n",
        "\n",
        "# Print the head of the DataFrame\n",
        "print(df.head())\n"
      ],
      "metadata": {
        "colab": {
          "base_uri": "https://localhost:8080/"
        },
        "id": "rzRL_ugiw5Ih",
        "outputId": "27f84292-10e7-434a-9cf6-9c9a1adff314"
      },
      "execution_count": null,
      "outputs": [
        {
          "output_type": "stream",
          "name": "stdout",
          "text": [
            "  CountryName CountryCode                                      IndicatorName  \\\n",
            "0  Arab World         ARB  Adolescent fertility rate (births per 1,000 wo...   \n",
            "1  Arab World         ARB  Age dependency ratio (% of working-age populat...   \n",
            "2  Arab World         ARB  Age dependency ratio, old (% of working-age po...   \n",
            "3  Arab World         ARB  Age dependency ratio, young (% of working-age ...   \n",
            "4  Arab World         ARB        Arms exports (SIPRI trend indicator values)   \n",
            "\n",
            "    IndicatorCode  Year               Value  \n",
            "0     SP.ADO.TFRT  1960  133.56090740552298  \n",
            "1     SP.POP.DPND  1960    87.7976011532547  \n",
            "2  SP.POP.DPND.OL  1960   6.634579191565161  \n",
            "3  SP.POP.DPND.YG  1960   81.02332950839141  \n",
            "4  MS.MIL.XPRT.KD  1960           3000000.0  \n"
          ]
        }
      ]
    },
    {
      "cell_type": "markdown",
      "source": [
        "## Lesson 2: Using Python generators for streaming data"
      ],
      "metadata": {
        "id": "A9LxkOWAxa8p"
      }
    },
    {
      "cell_type": "markdown",
      "source": [
        "### Generators for the large data limit"
      ],
      "metadata": {
        "id": "5EwJjdM2xlHW"
      }
    },
    {
      "cell_type": "markdown",
      "source": [
        "* Use a generator to load a ,le line by line\n",
        "* Works on streaming data!\n",
        "* Read and process the file until all lines are exhausted"
      ],
      "metadata": {
        "id": "2ucT_khDxmsX"
      }
    },
    {
      "cell_type": "markdown",
      "source": [
        "### Build a generator function"
      ],
      "metadata": {
        "id": "CK2RShx5xyAq"
      }
    },
    {
      "cell_type": "code",
      "source": [
        "def num_sequence(n):\n",
        "  \"\"\"Generate values from 0 to n.\"\"\"\n",
        "  i = 0\n",
        "  while i < n:\n",
        "    yield i\n",
        "    i += 1"
      ],
      "metadata": {
        "id": "Ye_xjlSPxzP3"
      },
      "execution_count": null,
      "outputs": []
    },
    {
      "cell_type": "markdown",
      "source": [
        "### Excercise 1: Processing data in chunks (1)"
      ],
      "metadata": {
        "id": "DN9FXRZqMqht"
      }
    },
    {
      "cell_type": "markdown",
      "source": [
        "Sometimes, data sources can be so large in size that storing the entire dataset in memory becomes too resource-intensive. In this exercise, you will process the first 1000 rows of a file line by line, to create a dictionary of the counts of how many times each country appears in a column in the dataset.\n",
        "\n",
        "The csv file `'world_dev_ind.csv'` is in your current directory for your use. To begin, you need to open a connection to this file using what is known as a context manager. For example, the command `with open('datacamp.csv')` as `datacamp` binds the csv file `'datacamp.csv'` as `datacamp` in the context manager. Here, the `with` statement is the context manager, and its purpose is to ensure that resources are efficiently allocated when opening a connection to a file.\n",
        "\n",
        "If you'd like to learn more about context managers, refer to the DataCamp course on Importing Data in Python."
      ],
      "metadata": {
        "id": "GKKV_XiHMxHN"
      }
    },
    {
      "cell_type": "markdown",
      "source": [
        "**Instructions**\n",
        "* Use `open()` to bind the csv file `'world_dev_ind.csv'` as `file` in the context manager.\n",
        "* Complete the `for` loop so that it iterates 1000 times to perform the loop body and process only the first 1000 rows of data of the file."
      ],
      "metadata": {
        "id": "b-UxQFm2NQbl"
      }
    },
    {
      "cell_type": "code",
      "source": [
        "# Open a connection to the file\n",
        "with open('/content/world_ind_pop_data.csv') as file:\n",
        "\n",
        "    # Skip the column names\n",
        "    file.readline()\n",
        "\n",
        "    # Initialize an empty dictionary: counts_dict\n",
        "    counts_dict = {}\n",
        "\n",
        "    # Process only the first 1000 rows\n",
        "    for j in range(0, 1000):\n",
        "\n",
        "        # Split the current line into a list: line\n",
        "        line = file.readline().split(',')\n",
        "\n",
        "        # Get the value for the first column: first_col\n",
        "        first_col = line[0]\n",
        "\n",
        "        # If the column value is in the dict, increment its value\n",
        "        if first_col in counts_dict.keys():\n",
        "            counts_dict[first_col] += 1\n",
        "\n",
        "        # Else, add to the dict and set value to 1\n",
        "        else:\n",
        "            counts_dict[first_col] = 1\n",
        "\n",
        "# Print the resulting dictionary\n",
        "print(counts_dict)"
      ],
      "metadata": {
        "colab": {
          "base_uri": "https://localhost:8080/"
        },
        "id": "tIifWHoFOspG",
        "outputId": "71ddd056-f621-438e-d640-3e293f89f1cb"
      },
      "execution_count": null,
      "outputs": [
        {
          "output_type": "stream",
          "name": "stdout",
          "text": [
            "{'Arab World': 5, 'Caribbean small states': 5, 'Central Europe and the Baltics': 5, 'East Asia & Pacific (all income levels)': 5, 'East Asia & Pacific (developing only)': 5, 'Euro area': 5, 'Europe & Central Asia (all income levels)': 5, 'Europe & Central Asia (developing only)': 5, 'European Union': 5, 'Fragile and conflict affected situations': 5, 'Heavily indebted poor countries (HIPC)': 5, 'High income': 5, 'High income: nonOECD': 5, 'High income: OECD': 5, 'Latin America & Caribbean (all income levels)': 5, 'Latin America & Caribbean (developing only)': 5, 'Least developed countries: UN classification': 5, 'Low & middle income': 5, 'Low income': 5, 'Lower middle income': 5, 'Middle East & North Africa (all income levels)': 5, 'Middle East & North Africa (developing only)': 5, 'Middle income': 5, 'North America': 5, 'OECD members': 5, 'Other small states': 5, 'Pacific island small states': 5, 'Small states': 5, 'South Asia': 5, 'Sub-Saharan Africa (all income levels)': 5, 'Sub-Saharan Africa (developing only)': 5, 'Upper middle income': 5, 'World': 4, 'Afghanistan': 4, 'Albania': 4, 'Algeria': 4, 'American Samoa': 4, 'Andorra': 4, 'Angola': 4, 'Antigua and Barbuda': 4, 'Argentina': 4, 'Armenia': 4, 'Aruba': 4, 'Australia': 4, 'Austria': 4, 'Azerbaijan': 4, '\"Bahamas': 4, 'Bahrain': 4, 'Bangladesh': 4, 'Barbados': 4, 'Belarus': 4, 'Belgium': 4, 'Belize': 4, 'Benin': 4, 'Bermuda': 4, 'Bhutan': 4, 'Bolivia': 4, 'Bosnia and Herzegovina': 4, 'Botswana': 4, 'Brazil': 4, 'Brunei Darussalam': 4, 'Bulgaria': 4, 'Burkina Faso': 4, 'Burundi': 4, 'Cabo Verde': 4, 'Cambodia': 4, 'Cameroon': 4, 'Canada': 4, 'Cayman Islands': 4, 'Central African Republic': 4, 'Chad': 4, 'Channel Islands': 4, 'Chile': 4, 'China': 4, 'Colombia': 4, 'Comoros': 4, '\"Congo': 8, 'Costa Rica': 4, \"Cote d'Ivoire\": 4, 'Croatia': 4, 'Cuba': 4, 'Curacao': 4, 'Cyprus': 4, 'Czech Republic': 4, 'Denmark': 4, 'Djibouti': 4, 'Dominica': 4, 'Dominican Republic': 4, 'Ecuador': 4, '\"Egypt': 4, 'El Salvador': 4, 'Equatorial Guinea': 4, 'Eritrea': 4, 'Estonia': 4, 'Ethiopia': 4, 'Faeroe Islands': 4, 'Fiji': 4, 'Finland': 4, 'France': 4, 'French Polynesia': 4, 'Gabon': 4, '\"Gambia': 4, 'Georgia': 4, 'Germany': 4, 'Ghana': 4, 'Greece': 4, 'Greenland': 4, 'Grenada': 4, 'Guam': 4, 'Guatemala': 4, 'Guinea': 4, 'Guinea-Bissau': 4, 'Guyana': 4, 'Haiti': 4, 'Honduras': 4, '\"Hong Kong SAR': 4, 'Hungary': 4, 'Iceland': 4, 'India': 4, 'Indonesia': 4, '\"Iran': 4, 'Iraq': 4, 'Ireland': 4, 'Isle of Man': 4, 'Israel': 4, 'Italy': 4, 'Jamaica': 4, 'Japan': 4, 'Jordan': 4, 'Kazakhstan': 4, 'Kenya': 4, 'Kiribati': 4, '\"Korea': 8, 'Kuwait': 4, 'Kyrgyz Republic': 4, 'Lao PDR': 4, 'Latvia': 4, 'Lebanon': 4, 'Lesotho': 4, 'Liberia': 4, 'Libya': 4, 'Liechtenstein': 4, 'Lithuania': 4, 'Luxembourg': 4, '\"Macao SAR': 4, '\"Macedonia': 4, 'Madagascar': 4, 'Malawi': 4, 'Malaysia': 4, 'Maldives': 4, 'Mali': 4, 'Malta': 4, 'Marshall Islands': 4, 'Mauritania': 4, 'Mauritius': 4, 'Mexico': 4, '\"Micronesia': 4, 'Moldova': 4, 'Monaco': 4, 'Mongolia': 4, 'Montenegro': 4, 'Morocco': 4, 'Mozambique': 4, 'Myanmar': 4, 'Namibia': 4, 'Nepal': 4, 'Netherlands': 4, 'New Caledonia': 4, 'New Zealand': 4, 'Nicaragua': 4, 'Niger': 4, 'Nigeria': 4, 'Northern Mariana Islands': 4, 'Norway': 4, 'Oman': 4, 'Pakistan': 4, 'Palau': 4, 'Panama': 4, 'Papua New Guinea': 4, 'Paraguay': 4, 'Peru': 4, 'Philippines': 4, 'Poland': 4, 'Portugal': 4, 'Puerto Rico': 4, 'Qatar': 4, 'Romania': 4, 'Russian Federation': 4, 'Rwanda': 4, 'Samoa': 4, 'San Marino': 4, 'Sao Tome and Principe': 4, 'Saudi Arabia': 4, 'Senegal': 4, 'Seychelles': 4, 'Sierra Leone': 4, 'Singapore': 4, 'Slovak Republic': 4, 'Slovenia': 4, 'Solomon Islands': 4, 'Somalia': 4, 'South Africa': 4, 'South Sudan': 4, 'Spain': 4, 'Sri Lanka': 4, 'St. Kitts and Nevis': 4, 'St. Lucia': 4, 'St. Vincent and the Grenadines': 4, 'Sudan': 4, 'Suriname': 4, 'Swaziland': 4, 'Sweden': 4, 'Switzerland': 4, 'Syrian Arab Republic': 4, 'Tajikistan': 4, 'Tanzania': 4, 'Thailand': 4, 'Timor-Leste': 4, 'Togo': 4, 'Tonga': 4, 'Trinidad and Tobago': 4, 'Tunisia': 4, 'Turkey': 4, 'Turkmenistan': 4, 'Turks and Caicos Islands': 4, 'Tuvalu': 4, 'Uganda': 4, 'Ukraine': 4, 'United Arab Emirates': 4, 'United Kingdom': 4, 'United States': 4, 'Uruguay': 4, 'Uzbekistan': 4, 'Vanuatu': 4, '\"Venezuela': 4, 'Vietnam': 4, 'Virgin Islands (U.S.)': 4, '\"Yemen': 4, 'Zambia': 4, 'Zimbabwe': 4}\n"
          ]
        }
      ]
    },
    {
      "cell_type": "markdown",
      "source": [
        "### Excercise 2: Writing a generator to load data in chunks (2)"
      ],
      "metadata": {
        "id": "vbmTwg3yPSSX"
      }
    },
    {
      "cell_type": "markdown",
      "source": [
        "In the previous exercise, you processed a file line by line for a given number of lines. What if, however, you want to do this for the entire file?\n",
        "\n",
        "In this case, it would be useful to use **generators**. Generators allow users to ***lazily evaluate*** data. This concept of `lazy evaluation` is useful when you have to deal with very large datasets because it lets you generate values in an efficient manner by `yielding` only chunks of data at a time instead of the whole thing at once.\n",
        "\n",
        "In this exercise, you will define a generator function `read_large_file()` that produces a generator object which yields a single line from a file each time `next()` is called on it. The csv file `'world_dev_ind.csv'` is in your current directory for your use.\n",
        "\n",
        "Note that when you open a connection to a file, the resulting file object is already a generator! So out in the wild, you won't have to explicitly create generator objects in cases such as this. However, for pedagogical reasons, we are having you practice how to do this here with the `read_large_file()` function. Go for it!"
      ],
      "metadata": {
        "id": "qEr7-2sRPWP9"
      }
    },
    {
      "cell_type": "markdown",
      "source": [
        "**Instructions**\n",
        "* In the function `read_large_file()`, read a line from `file_object` by using the method `readline()`. Assign the result to data.\n",
        "* In the function `read_large_file()`, yield the line read from the file data.\n",
        "* In the context manager, create a generator object `gen_file` by calling your generator function `read_large_file()` and passing file to it.\n",
        "* Print the first three lines produced by the generator object `gen_file` using `next()`."
      ],
      "metadata": {
        "id": "4L5KGlU3QjKW"
      }
    },
    {
      "cell_type": "code",
      "source": [
        "# Define read_large_file()\n",
        "def read_large_file(file_object):\n",
        "    \"\"\"A generator function to read a large file lazily.\"\"\"\n",
        "\n",
        "    # Loop indefinitely until the end of the file\n",
        "    while True:\n",
        "\n",
        "        # Read a line from the file: data\n",
        "        data = file_object.readline()\n",
        "\n",
        "        # Break if this is the end of the file\n",
        "        if not data:\n",
        "            break\n",
        "\n",
        "        # Yield the line of data\n",
        "        yield data\n",
        "\n",
        "\n",
        "# Open a connection to the file\n",
        "with open('/content/world_ind_pop_data.csv') as file:\n",
        "\n",
        "    # Create a generator object for the file: gen_file\n",
        "    gen_file = read_large_file(file)\n",
        "\n",
        "    # Print the first three lines of the file\n",
        "    print(next(gen_file))\n",
        "    print(next(gen_file))\n",
        "    print(next(gen_file))"
      ],
      "metadata": {
        "colab": {
          "base_uri": "https://localhost:8080/"
        },
        "id": "6Dlm8ZpGQ8C3",
        "outputId": "aca4cbea-ea8b-4544-f0f6-87297d02519a"
      },
      "execution_count": null,
      "outputs": [
        {
          "output_type": "stream",
          "name": "stdout",
          "text": [
            "CountryName,CountryCode,Year,Total Population,Urban population (% of total)\n",
            "\n",
            "Arab World,ARB,1960,92495902.0,31.285384211605397\n",
            "\n",
            "Caribbean small states,CSS,1960,4190810.0,31.5974898513652\n",
            "\n"
          ]
        }
      ]
    },
    {
      "cell_type": "markdown",
      "source": [
        "### Excercise 3: Writing a generator to load data in chunks (3)"
      ],
      "metadata": {
        "id": "7Z03lIoqR8cQ"
      }
    },
    {
      "cell_type": "markdown",
      "source": [
        "Great! You've just created a generator function that you can use to help you process large files.\n",
        "\n",
        "Now let's use your generator function to process the World Bank dataset like you did previously. You will process the file line by line, to create a dictionary of the counts of how many times each country appears in a column in the dataset. For this exercise, however, you won't process just 1000 rows of data, you'll process the entire dataset!\n",
        "\n",
        "The generator function `read_large_file()` and the csv file `'world_dev_ind.csv'` are preloaded and ready for your use. Go for it!"
      ],
      "metadata": {
        "id": "1V5gfJH0R_RN"
      }
    },
    {
      "cell_type": "markdown",
      "source": [
        "**Instructions**\n",
        "* Bind the file `'world_dev_ind.csv'` to file in the context manager with `open()`.\n",
        "* Complete the `for` loop so that it iterates over the generator from the call to `read_large_file()` to process all the rows of the file."
      ],
      "metadata": {
        "id": "q94s4ZKsSGSw"
      }
    },
    {
      "cell_type": "code",
      "source": [
        "# Initialize an empty dictionary: counts_dict\n",
        "counts_dict = {}\n",
        "\n",
        "# Open a connection to the file\n",
        "with open('/content/world_ind_pop_data.csv') as file:\n",
        "\n",
        "    # Iterate over the generator from read_large_file()\n",
        "    for line in read_large_file(file):\n",
        "\n",
        "        row = line.split(',')\n",
        "        first_col = row[0]\n",
        "\n",
        "        if first_col in counts_dict.keys():\n",
        "            counts_dict[first_col] += 1\n",
        "        else:\n",
        "            counts_dict[first_col] = 1\n",
        "\n",
        "# Print\n",
        "print(counts_dict)"
      ],
      "metadata": {
        "colab": {
          "base_uri": "https://localhost:8080/"
        },
        "id": "x2zb57SqSvwg",
        "outputId": "ae9bde7d-8e9a-4cd3-a617-98fdadb908f3"
      },
      "execution_count": null,
      "outputs": [
        {
          "output_type": "stream",
          "name": "stdout",
          "text": [
            "{'CountryName': 1, 'Arab World': 55, 'Caribbean small states': 55, 'Central Europe and the Baltics': 55, 'East Asia & Pacific (all income levels)': 55, 'East Asia & Pacific (developing only)': 55, 'Euro area': 55, 'Europe & Central Asia (all income levels)': 55, 'Europe & Central Asia (developing only)': 55, 'European Union': 55, 'Fragile and conflict affected situations': 55, 'Heavily indebted poor countries (HIPC)': 55, 'High income': 55, 'High income: nonOECD': 55, 'High income: OECD': 55, 'Latin America & Caribbean (all income levels)': 55, 'Latin America & Caribbean (developing only)': 55, 'Least developed countries: UN classification': 55, 'Low & middle income': 55, 'Low income': 55, 'Lower middle income': 55, 'Middle East & North Africa (all income levels)': 55, 'Middle East & North Africa (developing only)': 55, 'Middle income': 55, 'North America': 55, 'OECD members': 55, 'Other small states': 55, 'Pacific island small states': 55, 'Small states': 55, 'South Asia': 55, 'Sub-Saharan Africa (all income levels)': 55, 'Sub-Saharan Africa (developing only)': 55, 'Upper middle income': 55, 'World': 55, 'Afghanistan': 55, 'Albania': 55, 'Algeria': 55, 'American Samoa': 55, 'Andorra': 55, 'Angola': 55, 'Antigua and Barbuda': 55, 'Argentina': 55, 'Armenia': 55, 'Aruba': 55, 'Australia': 55, 'Austria': 55, 'Azerbaijan': 55, '\"Bahamas': 55, 'Bahrain': 55, 'Bangladesh': 55, 'Barbados': 55, 'Belarus': 55, 'Belgium': 55, 'Belize': 55, 'Benin': 55, 'Bermuda': 55, 'Bhutan': 55, 'Bolivia': 55, 'Bosnia and Herzegovina': 55, 'Botswana': 55, 'Brazil': 55, 'Brunei Darussalam': 55, 'Bulgaria': 55, 'Burkina Faso': 55, 'Burundi': 55, 'Cabo Verde': 55, 'Cambodia': 55, 'Cameroon': 55, 'Canada': 55, 'Cayman Islands': 55, 'Central African Republic': 55, 'Chad': 55, 'Channel Islands': 55, 'Chile': 55, 'China': 55, 'Colombia': 55, 'Comoros': 55, '\"Congo': 110, 'Costa Rica': 55, \"Cote d'Ivoire\": 55, 'Croatia': 55, 'Cuba': 55, 'Curacao': 55, 'Cyprus': 55, 'Czech Republic': 55, 'Denmark': 55, 'Djibouti': 55, 'Dominica': 55, 'Dominican Republic': 55, 'Ecuador': 55, '\"Egypt': 55, 'El Salvador': 55, 'Equatorial Guinea': 55, 'Eritrea': 55, 'Estonia': 55, 'Ethiopia': 55, 'Faeroe Islands': 55, 'Fiji': 55, 'Finland': 55, 'France': 55, 'French Polynesia': 55, 'Gabon': 55, '\"Gambia': 55, 'Georgia': 55, 'Germany': 55, 'Ghana': 55, 'Greece': 55, 'Greenland': 55, 'Grenada': 55, 'Guam': 55, 'Guatemala': 55, 'Guinea': 55, 'Guinea-Bissau': 55, 'Guyana': 55, 'Haiti': 55, 'Honduras': 55, '\"Hong Kong SAR': 55, 'Hungary': 55, 'Iceland': 55, 'India': 55, 'Indonesia': 55, '\"Iran': 55, 'Iraq': 55, 'Ireland': 55, 'Isle of Man': 55, 'Israel': 55, 'Italy': 55, 'Jamaica': 55, 'Japan': 55, 'Jordan': 55, 'Kazakhstan': 55, 'Kenya': 55, 'Kiribati': 55, '\"Korea': 110, 'Kuwait': 52, 'Kyrgyz Republic': 55, 'Lao PDR': 55, 'Latvia': 55, 'Lebanon': 55, 'Lesotho': 55, 'Liberia': 55, 'Libya': 55, 'Liechtenstein': 55, 'Lithuania': 55, 'Luxembourg': 55, '\"Macao SAR': 55, '\"Macedonia': 55, 'Madagascar': 55, 'Malawi': 55, 'Malaysia': 55, 'Maldives': 55, 'Mali': 55, 'Malta': 55, 'Marshall Islands': 55, 'Mauritania': 55, 'Mauritius': 55, 'Mexico': 55, '\"Micronesia': 55, 'Moldova': 55, 'Monaco': 55, 'Mongolia': 55, 'Montenegro': 55, 'Morocco': 55, 'Mozambique': 55, 'Myanmar': 55, 'Namibia': 55, 'Nepal': 55, 'Netherlands': 55, 'New Caledonia': 55, 'New Zealand': 55, 'Nicaragua': 55, 'Niger': 55, 'Nigeria': 55, 'Northern Mariana Islands': 55, 'Norway': 55, 'Oman': 55, 'Pakistan': 55, 'Palau': 55, 'Panama': 55, 'Papua New Guinea': 55, 'Paraguay': 55, 'Peru': 55, 'Philippines': 55, 'Poland': 55, 'Portugal': 55, 'Puerto Rico': 55, 'Qatar': 55, 'Romania': 55, 'Russian Federation': 55, 'Rwanda': 55, 'Samoa': 55, 'San Marino': 55, 'Sao Tome and Principe': 55, 'Saudi Arabia': 55, 'Senegal': 55, 'Seychelles': 55, 'Sierra Leone': 55, 'Singapore': 55, 'Slovak Republic': 55, 'Slovenia': 55, 'Solomon Islands': 55, 'Somalia': 55, 'South Africa': 55, 'South Sudan': 55, 'Spain': 55, 'Sri Lanka': 55, 'St. Kitts and Nevis': 55, 'St. Lucia': 55, 'St. Vincent and the Grenadines': 55, 'Sudan': 55, 'Suriname': 55, 'Swaziland': 55, 'Sweden': 55, 'Switzerland': 55, 'Syrian Arab Republic': 55, 'Tajikistan': 55, 'Tanzania': 55, 'Thailand': 55, 'Timor-Leste': 55, 'Togo': 55, 'Tonga': 55, 'Trinidad and Tobago': 55, 'Tunisia': 55, 'Turkey': 55, 'Turkmenistan': 55, 'Turks and Caicos Islands': 55, 'Tuvalu': 55, 'Uganda': 55, 'Ukraine': 55, 'United Arab Emirates': 55, 'United Kingdom': 55, 'United States': 55, 'Uruguay': 55, 'Uzbekistan': 55, 'Vanuatu': 55, '\"Venezuela': 55, 'Vietnam': 55, 'Virgin Islands (U.S.)': 55, '\"Yemen': 55, 'Zambia': 55, 'Zimbabwe': 55, 'Serbia': 25, 'West Bank and Gaza': 25, 'Sint Maarten (Dutch part)': 17}\n"
          ]
        }
      ]
    },
    {
      "cell_type": "markdown",
      "source": [
        "## Lesson 3: Using pandas'read_csv iterator for streaming data"
      ],
      "metadata": {
        "id": "it6DgRAwTHUv"
      }
    },
    {
      "cell_type": "markdown",
      "source": [
        "### Reading files in chunks"
      ],
      "metadata": {
        "id": "bwPkNcMrTQEe"
      }
    },
    {
      "cell_type": "markdown",
      "source": [
        "* Up next:\n",
        "  * `read_csv()` function and chunk_size argument\n",
        "  * Look at specific indicators in specific countries\n",
        "  * Write a function to generalize tasks"
      ],
      "metadata": {
        "id": "_-LvOKuqTRHl"
      }
    },
    {
      "cell_type": "markdown",
      "source": [
        "### Excercise 1: Writing an iterator to load data in chunks (1)"
      ],
      "metadata": {
        "id": "xTgRKsHCTpvf"
      }
    },
    {
      "cell_type": "markdown",
      "source": [
        "Another way to read data too large to store in memory in chunks is to read the file in as DataFrames of a certain length, say, 100. For example, with the pandas package (imported as `pd`), you can do `pd.read_csv(filename, chunksize=100)`. This creates an iterable **reader object**, which means that you can use `next()` on it.\n",
        "\n",
        "In this exercise, you will read a file in small DataFrame chunks with `read_csv()`. You're going to use the World Bank Indicators data `'ind_pop.csv'`, available in your current directory, to look at the urban population indicator for numerous countries and years."
      ],
      "metadata": {
        "id": "KBH1GTg9Tvjo"
      }
    },
    {
      "cell_type": "markdown",
      "source": [
        "**Instructions**\n",
        "* Use `pd.read_csv()` to read in `'ind_pop.csv'` in chunks of size `10`. Assign the result to `df_reader`.\n",
        "* Print the first two chunks from `df_reader`."
      ],
      "metadata": {
        "id": "GNukxNWNUMpa"
      }
    },
    {
      "cell_type": "code",
      "source": [
        "# Import the pandas package\n",
        "import pandas as pd\n",
        "\n",
        "# Initialize reader object: df_reader\n",
        "df_reader = pd.read_csv('/content/world_ind_pop_data.csv', chunksize = 10)\n",
        "\n",
        "# Print two chunks\n",
        "print(next(df_reader))\n",
        "print(next(df_reader))"
      ],
      "metadata": {
        "colab": {
          "base_uri": "https://localhost:8080/"
        },
        "id": "vfDnc9MTU1nZ",
        "outputId": "d55cebf2-9a41-4cce-a3ef-ac3ef0c3da8d"
      },
      "execution_count": null,
      "outputs": [
        {
          "output_type": "stream",
          "name": "stdout",
          "text": [
            "                                 CountryName CountryCode  Year  \\\n",
            "0                                 Arab World         ARB  1960   \n",
            "1                     Caribbean small states         CSS  1960   \n",
            "2             Central Europe and the Baltics         CEB  1960   \n",
            "3    East Asia & Pacific (all income levels)         EAS  1960   \n",
            "4      East Asia & Pacific (developing only)         EAP  1960   \n",
            "5                                  Euro area         EMU  1960   \n",
            "6  Europe & Central Asia (all income levels)         ECS  1960   \n",
            "7    Europe & Central Asia (developing only)         ECA  1960   \n",
            "8                             European Union         EUU  1960   \n",
            "9   Fragile and conflict affected situations         FCS  1960   \n",
            "\n",
            "   Total Population  Urban population (% of total)  \n",
            "0      9.249590e+07                      31.285384  \n",
            "1      4.190810e+06                      31.597490  \n",
            "2      9.140158e+07                      44.507921  \n",
            "3      1.042475e+09                      22.471132  \n",
            "4      8.964930e+08                      16.917679  \n",
            "5      2.653965e+08                      62.096947  \n",
            "6      6.674890e+08                      55.378977  \n",
            "7      1.553174e+08                      38.066129  \n",
            "8      4.094985e+08                      61.212898  \n",
            "9      1.203546e+08                      17.891972  \n",
            "                                      CountryName CountryCode  Year  \\\n",
            "10         Heavily indebted poor countries (HIPC)         HPC  1960   \n",
            "11                                    High income         HIC  1960   \n",
            "12                           High income: nonOECD         NOC  1960   \n",
            "13                              High income: OECD         OEC  1960   \n",
            "14  Latin America & Caribbean (all income levels)         LCN  1960   \n",
            "15    Latin America & Caribbean (developing only)         LAC  1960   \n",
            "16   Least developed countries: UN classification         LDC  1960   \n",
            "17                            Low & middle income         LMY  1960   \n",
            "18                                     Low income         LIC  1960   \n",
            "19                            Lower middle income         LMC  1960   \n",
            "\n",
            "    Total Population  Urban population (% of total)  \n",
            "10      1.624912e+08                      12.236046  \n",
            "11      9.075975e+08                      62.680332  \n",
            "12      1.866767e+08                      56.107863  \n",
            "13      7.209208e+08                      64.285435  \n",
            "14      2.205642e+08                      49.284688  \n",
            "15      1.776822e+08                      44.863308  \n",
            "16      2.410728e+08                       9.616261  \n",
            "17      2.127373e+09                      21.272894  \n",
            "18      1.571884e+08                      11.498396  \n",
            "19      9.429116e+08                      19.810513  \n"
          ]
        }
      ]
    },
    {
      "cell_type": "markdown",
      "source": [
        "### Excercise 2: Writing an iterator to load data in chunks (2)"
      ],
      "metadata": {
        "id": "PkGv5myoVFVo"
      }
    },
    {
      "cell_type": "markdown",
      "source": [
        "n the previous exercise, you used `read_csv()` to read in DataFrame chunks from a large dataset. In this exercise, you will read in a file using a bigger DataFrame chunk size and then process the data from the first chunk.\n",
        "\n",
        "To process the data, you will create another DataFrame composed of only the rows from a specific country. You will then zip together two of the columns from the new DataFrame, `'Total Population'` and `'Urban population (% of total)'`. Finally, you will create a list of tuples from the zip object, where each tuple is composed of a value from each of the two columns mentioned.\n",
        "\n",
        "You're going to use the data from `'ind_pop_data.csv'`, available in your current directory. `pandas` has been imported as `pd`."
      ],
      "metadata": {
        "id": "ySAjLLpYVJvv"
      }
    },
    {
      "cell_type": "markdown",
      "source": [
        "**Instructions**\n",
        "Use `pd.read_csv()` to read in the file in `'ind_pop_data.csv'` in chunks of size `1000`. Assign the result to `urb_pop_reader`.\n",
        "Get the first DataFrame chunk from the iterable `urb_pop_reader` and assign this to `df_urb_pop`.\n",
        "Select only the rows of `df_urb_pop` that have a `'CountryCode'` of `'CEB'`. To do this, compare whether `df_urb_pop['CountryCode']` is equal to `'CEB'` within the square brackets in `df_urb_pop[____]`.\n",
        "Using `zip()`, zip together the `'Total Population'` and `'Urban population (% of total)'` columns of `df_pop_ceb`. Assign the resulting zip object to pops."
      ],
      "metadata": {
        "id": "HA30979mVsK2"
      }
    },
    {
      "cell_type": "code",
      "source": [
        "# Initialize reader object: urb_pop_reader\n",
        "urb_pop_reader = pd.read_csv('/content/world_ind_pop_data.csv', chunksize = 1000)\n",
        "\n",
        "# Get the first DataFrame chunk: df_urb_pop\n",
        "df_urb_pop = next(urb_pop_reader)\n",
        "\n",
        "# Check out the head of the DataFrame\n",
        "print(df_urb_pop.head())\n",
        "\n",
        "# Check out specific country: df_pop_ceb\n",
        "df_pop_ceb = df_urb_pop[df_urb_pop['CountryCode']=='CEB']\n",
        "\n",
        "# Zip DataFrame columns of interest: pops\n",
        "pops = zip(df_pop_ceb['Total Population'], df_pop_ceb['Urban population (% of total)'])\n",
        "\n",
        "# Turn zip object into list: pops_list\n",
        "pops_list = list(pops)\n",
        "\n",
        "# Print pops_list\n",
        "print(pops_list)"
      ],
      "metadata": {
        "colab": {
          "base_uri": "https://localhost:8080/"
        },
        "id": "KcBayc5WWaw6",
        "outputId": "dd7ea6f0-57f8-456b-ab76-a01503e17214"
      },
      "execution_count": null,
      "outputs": [
        {
          "output_type": "stream",
          "name": "stdout",
          "text": [
            "                               CountryName CountryCode  Year  \\\n",
            "0                               Arab World         ARB  1960   \n",
            "1                   Caribbean small states         CSS  1960   \n",
            "2           Central Europe and the Baltics         CEB  1960   \n",
            "3  East Asia & Pacific (all income levels)         EAS  1960   \n",
            "4    East Asia & Pacific (developing only)         EAP  1960   \n",
            "\n",
            "   Total Population  Urban population (% of total)  \n",
            "0      9.249590e+07                      31.285384  \n",
            "1      4.190810e+06                      31.597490  \n",
            "2      9.140158e+07                      44.507921  \n",
            "3      1.042475e+09                      22.471132  \n",
            "4      8.964930e+08                      16.917679  \n",
            "[(91401583.0, 44.5079211390026), (92237118.0, 45.206665319194), (93014890.0, 45.866564696018), (93845749.0, 46.5340927663649), (94722599.0, 47.2087429803526)]\n"
          ]
        }
      ]
    },
    {
      "cell_type": "markdown",
      "source": [
        "### Excercise 3: Writing an iterator to load data in chunks (3)\n"
      ],
      "metadata": {
        "id": "ZL_4mzogXuIZ"
      }
    },
    {
      "cell_type": "markdown",
      "source": [
        "You're getting used to reading and processing data in chunks by now. Let's push your skills a little further by adding a column to a DataFrame.\n",
        "\n",
        "Starting from the code of the previous exercise, you will be using a *list comprehension* to create the values for a new column `'Total Urban Population'` from the list of tuples that you generated earlier. Recall from the previous exercise that the first and second elements of each tuple consist of, respectively, values from the columns `'Total Population'` and `'Urban population (% of total)'`. The values in this new column 'Total Urban Population', therefore, are the product of the first and second element in each tuple. Furthermore, because the 2nd element is a percentage, you need to divide the entire result by `100`, or alternatively, multiply it by `0.01`.\n",
        "\n",
        "You will also plot the data from this new column to create a visualization of the urban population data.\n",
        "\n",
        "The packages `pandas` and `matplotlib.pyplot` have been imported as `pd` and `plt` respectively for your use."
      ],
      "metadata": {
        "id": "6FvhdI0XX9wA"
      }
    },
    {
      "cell_type": "markdown",
      "source": [
        "**Instructions**\n",
        "* Write a list comprehension to generate a list of values from `pops_list` for the new column `'Total Urban Population'`. The output expression should be the product of the first and second element in each tuple in `pops_list`. Because the 2nd element is a percentage, you also need to either multiply the result by `0.01` or divide it by `100`. In addition, note that the column `'Total Urban Population'` should only be able to take on integer values. To ensure this, make sure you cast the output expression to an integer with `int()`.\n",
        "* Create a scatter plot where the x-axis are values from the `'Year'` column and the y-axis are values from the `'Total Urban Population'` column."
      ],
      "metadata": {
        "id": "TM_9r4XgYhEK"
      }
    },
    {
      "cell_type": "code",
      "source": [
        "import matplotlib.pyplot as plt"
      ],
      "metadata": {
        "id": "83ShCBn2b5ph"
      },
      "execution_count": null,
      "outputs": []
    },
    {
      "cell_type": "code",
      "source": [
        "# Code from previous exercise\n",
        "urb_pop_reader = pd.read_csv('/content/world_ind_pop_data.csv', chunksize=1000)\n",
        "df_urb_pop = next(urb_pop_reader)\n",
        "df_pop_ceb = df_urb_pop[df_urb_pop['CountryCode'] == 'CEB']\n",
        "pops = zip(df_pop_ceb['Total Population'],\n",
        "           df_pop_ceb['Urban population (% of total)'])\n",
        "pops_list = list(pops)\n",
        "\n",
        "# Use list comprehension to create new DataFrame column 'Total Urban Population'\n",
        "df_pop_ceb['Total Urban Population'] = [int(tup[0]*tup[1]*0.01) for tup in pops_list]\n",
        "\n",
        "# Plot urban population data\n",
        "df_pop_ceb.plot(kind='scatter', x='Year', y='Total Urban Population')\n",
        "plt.show()"
      ],
      "metadata": {
        "colab": {
          "base_uri": "https://localhost:8080/",
          "height": 569
        },
        "id": "DRs9JbpOb4hT",
        "outputId": "a034f87d-4f08-447e-ef2c-cf35aa034213"
      },
      "execution_count": null,
      "outputs": [
        {
          "output_type": "stream",
          "name": "stderr",
          "text": [
            "<ipython-input-8-0579d53d9f2a>:10: SettingWithCopyWarning: \n",
            "A value is trying to be set on a copy of a slice from a DataFrame.\n",
            "Try using .loc[row_indexer,col_indexer] = value instead\n",
            "\n",
            "See the caveats in the documentation: https://pandas.pydata.org/pandas-docs/stable/user_guide/indexing.html#returning-a-view-versus-a-copy\n",
            "  df_pop_ceb['Total Urban Population'] = [int(tup[0]*tup[1]*0.01) for tup in pops_list]\n"
          ]
        },
        {
          "output_type": "display_data",
          "data": {
            "text/plain": [
              "<Figure size 640x480 with 1 Axes>"
            ],
            "image/png": "[encoded data removed]"
          },
          "metadata": {}
        }
      ]
    },
    {
      "cell_type": "markdown",
      "source": [
        "### Excercise 4: Writing an iterator to load data in chunks (4)"
      ],
      "metadata": {
        "id": "D7kgoXcBcUkk"
      }
    },
    {
      "cell_type": "markdown",
      "source": [
        "In the previous exercises, you've only processed the data from the first DataFrame chunk. This time, you will aggregate the results over all the DataFrame chunks in the dataset. This basically means you will be processing the entire dataset now. This is neat because you're going to be able to process the entire large dataset by just working on smaller pieces of it!\n",
        "\n",
        "You're going to use the data from `'ind_pop_data.csv'`, available in your current directory. The packages `pandas` and `matplotlib.pyplot` have been imported as `pd` and `plt` respectively for your use."
      ],
      "metadata": {
        "id": "P6OsrqfHcYNj"
      }
    },
    {
      "cell_type": "markdown",
      "source": [
        "**Instructions**\n",
        "* Initialize an empty DataFrame data using `pd.DataFrame()`.\n",
        "* In the `for` loop, iterate over `urb_pop_reader` to be able to process all the DataFrame chunks in the dataset.\n",
        "* Concatenate `data` and `df_pop_ceb` by passing a list of the DataFrames to `pd.concat()`."
      ],
      "metadata": {
        "id": "eG6zgvATdjUq"
      }
    },
    {
      "cell_type": "code",
      "source": [
        "# Initialize reader object: urb_pop_reader\n",
        "urb_pop_reader = pd.read_csv('/content/world_ind_pop_data.csv', chunksize=1000)\n",
        "\n",
        "# Initialize empty DataFrame: data\n",
        "data = pd.DataFrame()\n",
        "\n",
        "# Iterate over each DataFrame chunk\n",
        "for df_urb_pop in urb_pop_reader:\n",
        "\n",
        "    # Check out specific country: df_pop_ceb\n",
        "    df_pop_ceb = df_urb_pop[df_urb_pop['CountryCode'] == 'CEB']\n",
        "\n",
        "    # Zip DataFrame columns of interest: pops\n",
        "    pops = zip(df_pop_ceb['Total Population'],\n",
        "                df_pop_ceb['Urban population (% of total)'])\n",
        "\n",
        "    # Turn zip object into list: pops_list\n",
        "    pops_list = list(pops)\n",
        "\n",
        "    # Use list comprehension to create new DataFrame column 'Total Urban Population'\n",
        "    df_pop_ceb['Total Urban Population'] = [int(tup[0] * tup[1] * 0.01) for tup in pops_list]\n",
        "\n",
        "    # Concatenate DataFrame chunk to the end of data: data\n",
        "    data = pd.concat([data, df_pop_ceb])\n",
        "\n",
        "# Plot urban population data\n",
        "data.plot(kind='scatter', x='Year', y='Total Urban Population')\n",
        "plt.show()"
      ],
      "metadata": {
        "colab": {
          "base_uri": "https://localhost:8080/",
          "height": 1000
        },
        "id": "t2AGEfUEeeZK",
        "outputId": "38155cb0-26be-4001-94d8-83f7a0879d1b"
      },
      "execution_count": null,
      "outputs": [
        {
          "output_type": "stream",
          "name": "stderr",
          "text": [
            "<ipython-input-9-e3ebb930f37d>:21: SettingWithCopyWarning: \n",
            "A value is trying to be set on a copy of a slice from a DataFrame.\n",
            "Try using .loc[row_indexer,col_indexer] = value instead\n",
            "\n",
            "See the caveats in the documentation: https://pandas.pydata.org/pandas-docs/stable/user_guide/indexing.html#returning-a-view-versus-a-copy\n",
            "  df_pop_ceb['Total Urban Population'] = [int(tup[0] * tup[1] * 0.01) for tup in pops_list]\n",
            "<ipython-input-9-e3ebb930f37d>:21: SettingWithCopyWarning: \n",
            "A value is trying to be set on a copy of a slice from a DataFrame.\n",
            "Try using .loc[row_indexer,col_indexer] = value instead\n",
            "\n",
            "See the caveats in the documentation: https://pandas.pydata.org/pandas-docs/stable/user_guide/indexing.html#returning-a-view-versus-a-copy\n",
            "  df_pop_ceb['Total Urban Population'] = [int(tup[0] * tup[1] * 0.01) for tup in pops_list]\n",
            "<ipython-input-9-e3ebb930f37d>:21: SettingWithCopyWarning: \n",
            "A value is trying to be set on a copy of a slice from a DataFrame.\n",
            "Try using .loc[row_indexer,col_indexer] = value instead\n",
            "\n",
            "See the caveats in the documentation: https://pandas.pydata.org/pandas-docs/stable/user_guide/indexing.html#returning-a-view-versus-a-copy\n",
            "  df_pop_ceb['Total Urban Population'] = [int(tup[0] * tup[1] * 0.01) for tup in pops_list]\n",
            "<ipython-input-9-e3ebb930f37d>:21: SettingWithCopyWarning: \n",
            "A value is trying to be set on a copy of a slice from a DataFrame.\n",
            "Try using .loc[row_indexer,col_indexer] = value instead\n",
            "\n",
            "See the caveats in the documentation: https://pandas.pydata.org/pandas-docs/stable/user_guide/indexing.html#returning-a-view-versus-a-copy\n",
            "  df_pop_ceb['Total Urban Population'] = [int(tup[0] * tup[1] * 0.01) for tup in pops_list]\n",
            "<ipython-input-9-e3ebb930f37d>:21: SettingWithCopyWarning: \n",
            "A value is trying to be set on a copy of a slice from a DataFrame.\n",
            "Try using .loc[row_indexer,col_indexer] = value instead\n",
            "\n",
            "See the caveats in the documentation: https://pandas.pydata.org/pandas-docs/stable/user_guide/indexing.html#returning-a-view-versus-a-copy\n",
            "  df_pop_ceb['Total Urban Population'] = [int(tup[0] * tup[1] * 0.01) for tup in pops_list]\n",
            "<ipython-input-9-e3ebb930f37d>:21: SettingWithCopyWarning: \n",
            "A value is trying to be set on a copy of a slice from a DataFrame.\n",
            "Try using .loc[row_indexer,col_indexer] = value instead\n",
            "\n",
            "See the caveats in the documentation: https://pandas.pydata.org/pandas-docs/stable/user_guide/indexing.html#returning-a-view-versus-a-copy\n",
            "  df_pop_ceb['Total Urban Population'] = [int(tup[0] * tup[1] * 0.01) for tup in pops_list]\n",
            "<ipython-input-9-e3ebb930f37d>:21: SettingWithCopyWarning: \n",
            "A value is trying to be set on a copy of a slice from a DataFrame.\n",
            "Try using .loc[row_indexer,col_indexer] = value instead\n",
            "\n",
            "See the caveats in the documentation: https://pandas.pydata.org/pandas-docs/stable/user_guide/indexing.html#returning-a-view-versus-a-copy\n",
            "  df_pop_ceb['Total Urban Population'] = [int(tup[0] * tup[1] * 0.01) for tup in pops_list]\n",
            "<ipython-input-9-e3ebb930f37d>:21: SettingWithCopyWarning: \n",
            "A value is trying to be set on a copy of a slice from a DataFrame.\n",
            "Try using .loc[row_indexer,col_indexer] = value instead\n",
            "\n",
            "See the caveats in the documentation: https://pandas.pydata.org/pandas-docs/stable/user_guide/indexing.html#returning-a-view-versus-a-copy\n",
            "  df_pop_ceb['Total Urban Population'] = [int(tup[0] * tup[1] * 0.01) for tup in pops_list]\n",
            "<ipython-input-9-e3ebb930f37d>:21: SettingWithCopyWarning: \n",
            "A value is trying to be set on a copy of a slice from a DataFrame.\n",
            "Try using .loc[row_indexer,col_indexer] = value instead\n",
            "\n",
            "See the caveats in the documentation: https://pandas.pydata.org/pandas-docs/stable/user_guide/indexing.html#returning-a-view-versus-a-copy\n",
            "  df_pop_ceb['Total Urban Population'] = [int(tup[0] * tup[1] * 0.01) for tup in pops_list]\n",
            "<ipython-input-9-e3ebb930f37d>:21: SettingWithCopyWarning: \n",
            "A value is trying to be set on a copy of a slice from a DataFrame.\n",
            "Try using .loc[row_indexer,col_indexer] = value instead\n",
            "\n",
            "See the caveats in the documentation: https://pandas.pydata.org/pandas-docs/stable/user_guide/indexing.html#returning-a-view-versus-a-copy\n",
            "  df_pop_ceb['Total Urban Population'] = [int(tup[0] * tup[1] * 0.01) for tup in pops_list]\n",
            "<ipython-input-9-e3ebb930f37d>:21: SettingWithCopyWarning: \n",
            "A value is trying to be set on a copy of a slice from a DataFrame.\n",
            "Try using .loc[row_indexer,col_indexer] = value instead\n",
            "\n",
            "See the caveats in the documentation: https://pandas.pydata.org/pandas-docs/stable/user_guide/indexing.html#returning-a-view-versus-a-copy\n",
            "  df_pop_ceb['Total Urban Population'] = [int(tup[0] * tup[1] * 0.01) for tup in pops_list]\n",
            "<ipython-input-9-e3ebb930f37d>:21: SettingWithCopyWarning: \n",
            "A value is trying to be set on a copy of a slice from a DataFrame.\n",
            "Try using .loc[row_indexer,col_indexer] = value instead\n",
            "\n",
            "See the caveats in the documentation: https://pandas.pydata.org/pandas-docs/stable/user_guide/indexing.html#returning-a-view-versus-a-copy\n",
            "  df_pop_ceb['Total Urban Population'] = [int(tup[0] * tup[1] * 0.01) for tup in pops_list]\n",
            "<ipython-input-9-e3ebb930f37d>:21: SettingWithCopyWarning: \n",
            "A value is trying to be set on a copy of a slice from a DataFrame.\n",
            "Try using .loc[row_indexer,col_indexer] = value instead\n",
            "\n",
            "See the caveats in the documentation: https://pandas.pydata.org/pandas-docs/stable/user_guide/indexing.html#returning-a-view-versus-a-copy\n",
            "  df_pop_ceb['Total Urban Population'] = [int(tup[0] * tup[1] * 0.01) for tup in pops_list]\n",
            "<ipython-input-9-e3ebb930f37d>:21: SettingWithCopyWarning: \n",
            "A value is trying to be set on a copy of a slice from a DataFrame.\n",
            "Try using .loc[row_indexer,col_indexer] = value instead\n",
            "\n",
            "See the caveats in the documentation: https://pandas.pydata.org/pandas-docs/stable/user_guide/indexing.html#returning-a-view-versus-a-copy\n",
            "  df_pop_ceb['Total Urban Population'] = [int(tup[0] * tup[1] * 0.01) for tup in pops_list]\n"
          ]
        },
        {
          "output_type": "display_data",
          "data": {
            "text/plain": [
              "<Figure size 640x480 with 1 Axes>"
            ],
            "image/png": "[encoded data removed]"
          },
          "metadata": {}
        }
      ]
    },
    {
      "cell_type": "markdown",
      "source": [
        "### Excercise 5: Writing an iterator to load data in chunks (5)"
      ],
      "metadata": {
        "id": "etb0oeRxe31k"
      }
    },
    {
      "cell_type": "markdown",
      "source": [
        "This is the last leg. You've learned a lot about processing a large dataset in chunks. In this last exercise, you will put all the code for processing the data into a single function so that you can reuse the code without having to rewrite the same things all over again.\n",
        "\n",
        "You're going to define the function `plot_pop()` which takes two arguments: the filename of the file to be processed, and the country code of the rows you want to process in the dataset.\n",
        "\n",
        "Because all of the previous code you've written in the previous exercises will be housed in `plot_pop()`, calling the function already does the following:\n",
        "\n",
        "Loading of the file chunk by chunk,\n",
        "Creating the new column of urban population values, and\n",
        "Plotting the urban population data.\n",
        "That's a lot of work, but the function now makes it convenient to repeat the same process for whatever file and country code you want to process and visualize!\n",
        "\n",
        "You're going to use the data from `'ind_pop_data.csv'`, available in your current directory. The packages `pandas` and `matplotlib.pyplot` has been imported as `pd` and `plt` respectively for your use.\n",
        "\n",
        "After you are done, take a moment to look at the plots and reflect on the new skills you have acquired. The journey doesn't end here! If you have enjoyed working with this data, you can continue exploring it using the pre-processed version available on Kaggle."
      ],
      "metadata": {
        "id": "2QKU1xhwe6dC"
      }
    },
    {
      "cell_type": "markdown",
      "source": [
        "**Instructions**\n",
        "* Define the function `plot_pop()` that has two arguments: first is `filename` for the file to process and second is `country_code` for the country to be processed in the dataset.\n",
        "* Call `plot_pop()` to process the data for country code `'CEB'` in the file `'ind_pop_data.csv'`.\n",
        "* Call `plot_pop()` to process the data for country code `'ARB'` in the file `'ind_pop_data.csv'`."
      ],
      "metadata": {
        "id": "WsKQnaJIfll1"
      }
    },
    {
      "cell_type": "code",
      "source": [
        "# Define plot_pop()\n",
        "def plot_pop(filename, country_code):\n",
        "\n",
        "    # Initialize reader object: urb_pop_reader\n",
        "    urb_pop_reader = pd.read_csv(filename, chunksize=1000)\n",
        "\n",
        "    # Initialize empty DataFrame: data\n",
        "    data = pd.DataFrame()\n",
        "\n",
        "    # Iterate over each DataFrame chunk\n",
        "    for df_urb_pop in urb_pop_reader:\n",
        "        # Check out specific country: df_pop_ceb\n",
        "        df_pop_ceb = df_urb_pop[df_urb_pop['CountryCode'] == country_code]\n",
        "\n",
        "        # Zip DataFrame columns of interest: pops\n",
        "        pops = zip(df_pop_ceb['Total Population'],\n",
        "                    df_pop_ceb['Urban population (% of total)'])\n",
        "\n",
        "        # Turn zip object into list: pops_list\n",
        "        pops_list = list(pops)\n",
        "\n",
        "        # Use list comprehension to create new DataFrame column 'Total Urban Population'\n",
        "        df_pop_ceb['Total Urban Population'] = [int(tup[0] * tup[1] * 0.01) for tup in pops_list]\n",
        "\n",
        "        # Concatenate DataFrame chunk to the end of data: data\n",
        "        data = pd.concat([data, df_pop_ceb])\n",
        "\n",
        "    # Plot urban population data\n",
        "    data.plot(kind='scatter', x='Year', y='Total Urban Population')\n",
        "    plt.show()\n",
        "\n",
        "# Set the filename: fn\n",
        "fn = '/content/world_ind_pop_data.csv'\n",
        "\n",
        "# Call plot_pop for country code 'CEB'\n",
        "plot_pop(fn, 'CEB')\n",
        "\n",
        "# Call plot_pop for country code 'ARB'\n",
        "plot_pop(fn, 'ARB')\n"
      ],
      "metadata": {
        "colab": {
          "base_uri": "https://localhost:8080/",
          "height": 1000
        },
        "id": "NxVqxWFngYph",
        "outputId": "39a630b1-d39f-4b6b-987e-eee52ed64ea6"
      },
      "execution_count": null,
      "outputs": [
        {
          "output_type": "stream",
          "name": "stderr",
          "text": [
            "<ipython-input-10-dd25c85f2a07>:23: SettingWithCopyWarning: \n",
            "A value is trying to be set on a copy of a slice from a DataFrame.\n",
            "Try using .loc[row_indexer,col_indexer] = value instead\n",
            "\n",
            "See the caveats in the documentation: https://pandas.pydata.org/pandas-docs/stable/user_guide/indexing.html#returning-a-view-versus-a-copy\n",
            "  df_pop_ceb['Total Urban Population'] = [int(tup[0] * tup[1] * 0.01) for tup in pops_list]\n",
            "<ipython-input-10-dd25c85f2a07>:23: SettingWithCopyWarning: \n",
            "A value is trying to be set on a copy of a slice from a DataFrame.\n",
            "Try using .loc[row_indexer,col_indexer] = value instead\n",
            "\n",
            "See the caveats in the documentation: https://pandas.pydata.org/pandas-docs/stable/user_guide/indexing.html#returning-a-view-versus-a-copy\n",
            "  df_pop_ceb['Total Urban Population'] = [int(tup[0] * tup[1] * 0.01) for tup in pops_list]\n",
            "<ipython-input-10-dd25c85f2a07>:23: SettingWithCopyWarning: \n",
            "A value is trying to be set on a copy of a slice from a DataFrame.\n",
            "Try using .loc[row_indexer,col_indexer] = value instead\n",
            "\n",
            "See the caveats in the documentation: https://pandas.pydata.org/pandas-docs/stable/user_guide/indexing.html#returning-a-view-versus-a-copy\n",
            "  df_pop_ceb['Total Urban Population'] = [int(tup[0] * tup[1] * 0.01) for tup in pops_list]\n",
            "<ipython-input-10-dd25c85f2a07>:23: SettingWithCopyWarning: \n",
            "A value is trying to be set on a copy of a slice from a DataFrame.\n",
            "Try using .loc[row_indexer,col_indexer] = value instead\n",
            "\n",
            "See the caveats in the documentation: https://pandas.pydata.org/pandas-docs/stable/user_guide/indexing.html#returning-a-view-versus-a-copy\n",
            "  df_pop_ceb['Total Urban Population'] = [int(tup[0] * tup[1] * 0.01) for tup in pops_list]\n",
            "<ipython-input-10-dd25c85f2a07>:23: SettingWithCopyWarning: \n",
            "A value is trying to be set on a copy of a slice from a DataFrame.\n",
            "Try using .loc[row_indexer,col_indexer] = value instead\n",
            "\n",
            "See the caveats in the documentation: https://pandas.pydata.org/pandas-docs/stable/user_guide/indexing.html#returning-a-view-versus-a-copy\n",
            "  df_pop_ceb['Total Urban Population'] = [int(tup[0] * tup[1] * 0.01) for tup in pops_list]\n",
            "<ipython-input-10-dd25c85f2a07>:23: SettingWithCopyWarning: \n",
            "A value is trying to be set on a copy of a slice from a DataFrame.\n",
            "Try using .loc[row_indexer,col_indexer] = value instead\n",
            "\n",
            "See the caveats in the documentation: https://pandas.pydata.org/pandas-docs/stable/user_guide/indexing.html#returning-a-view-versus-a-copy\n",
            "  df_pop_ceb['Total Urban Population'] = [int(tup[0] * tup[1] * 0.01) for tup in pops_list]\n",
            "<ipython-input-10-dd25c85f2a07>:23: SettingWithCopyWarning: \n",
            "A value is trying to be set on a copy of a slice from a DataFrame.\n",
            "Try using .loc[row_indexer,col_indexer] = value instead\n",
            "\n",
            "See the caveats in the documentation: https://pandas.pydata.org/pandas-docs/stable/user_guide/indexing.html#returning-a-view-versus-a-copy\n",
            "  df_pop_ceb['Total Urban Population'] = [int(tup[0] * tup[1] * 0.01) for tup in pops_list]\n",
            "<ipython-input-10-dd25c85f2a07>:23: SettingWithCopyWarning: \n",
            "A value is trying to be set on a copy of a slice from a DataFrame.\n",
            "Try using .loc[row_indexer,col_indexer] = value instead\n",
            "\n",
            "See the caveats in the documentation: https://pandas.pydata.org/pandas-docs/stable/user_guide/indexing.html#returning-a-view-versus-a-copy\n",
            "  df_pop_ceb['Total Urban Population'] = [int(tup[0] * tup[1] * 0.01) for tup in pops_list]\n",
            "<ipython-input-10-dd25c85f2a07>:23: SettingWithCopyWarning: \n",
            "A value is trying to be set on a copy of a slice from a DataFrame.\n",
            "Try using .loc[row_indexer,col_indexer] = value instead\n",
            "\n",
            "See the caveats in the documentation: https://pandas.pydata.org/pandas-docs/stable/user_guide/indexing.html#returning-a-view-versus-a-copy\n",
            "  df_pop_ceb['Total Urban Population'] = [int(tup[0] * tup[1] * 0.01) for tup in pops_list]\n",
            "<ipython-input-10-dd25c85f2a07>:23: SettingWithCopyWarning: \n",
            "A value is trying to be set on a copy of a slice from a DataFrame.\n",
            "Try using .loc[row_indexer,col_indexer] = value instead\n",
            "\n",
            "See the caveats in the documentation: https://pandas.pydata.org/pandas-docs/stable/user_guide/indexing.html#returning-a-view-versus-a-copy\n",
            "  df_pop_ceb['Total Urban Population'] = [int(tup[0] * tup[1] * 0.01) for tup in pops_list]\n",
            "<ipython-input-10-dd25c85f2a07>:23: SettingWithCopyWarning: \n",
            "A value is trying to be set on a copy of a slice from a DataFrame.\n",
            "Try using .loc[row_indexer,col_indexer] = value instead\n",
            "\n",
            "See the caveats in the documentation: https://pandas.pydata.org/pandas-docs/stable/user_guide/indexing.html#returning-a-view-versus-a-copy\n",
            "  df_pop_ceb['Total Urban Population'] = [int(tup[0] * tup[1] * 0.01) for tup in pops_list]\n",
            "<ipython-input-10-dd25c85f2a07>:23: SettingWithCopyWarning: \n",
            "A value is trying to be set on a copy of a slice from a DataFrame.\n",
            "Try using .loc[row_indexer,col_indexer] = value instead\n",
            "\n",
            "See the caveats in the documentation: https://pandas.pydata.org/pandas-docs/stable/user_guide/indexing.html#returning-a-view-versus-a-copy\n",
            "  df_pop_ceb['Total Urban Population'] = [int(tup[0] * tup[1] * 0.01) for tup in pops_list]\n",
            "<ipython-input-10-dd25c85f2a07>:23: SettingWithCopyWarning: \n",
            "A value is trying to be set on a copy of a slice from a DataFrame.\n",
            "Try using .loc[row_indexer,col_indexer] = value instead\n",
            "\n",
            "See the caveats in the documentation: https://pandas.pydata.org/pandas-docs/stable/user_guide/indexing.html#returning-a-view-versus-a-copy\n",
            "  df_pop_ceb['Total Urban Population'] = [int(tup[0] * tup[1] * 0.01) for tup in pops_list]\n",
            "<ipython-input-10-dd25c85f2a07>:23: SettingWithCopyWarning: \n",
            "A value is trying to be set on a copy of a slice from a DataFrame.\n",
            "Try using .loc[row_indexer,col_indexer] = value instead\n",
            "\n",
            "See the caveats in the documentation: https://pandas.pydata.org/pandas-docs/stable/user_guide/indexing.html#returning-a-view-versus-a-copy\n",
            "  df_pop_ceb['Total Urban Population'] = [int(tup[0] * tup[1] * 0.01) for tup in pops_list]\n"
          ]
        },
        {
          "output_type": "display_data",
          "data": {
            "text/plain": [
              "<Figure size 640x480 with 1 Axes>"
            ],
            "image/png": "[encoded data removed]"
          },
          "metadata": {}
        },
        {
          "output_type": "stream",
          "name": "stderr",
          "text": [
            "<ipython-input-10-dd25c85f2a07>:23: SettingWithCopyWarning: \n",
            "A value is trying to be set on a copy of a slice from a DataFrame.\n",
            "Try using .loc[row_indexer,col_indexer] = value instead\n",
            "\n",
            "See the caveats in the documentation: https://pandas.pydata.org/pandas-docs/stable/user_guide/indexing.html#returning-a-view-versus-a-copy\n",
            "  df_pop_ceb['Total Urban Population'] = [int(tup[0] * tup[1] * 0.01) for tup in pops_list]\n",
            "<ipython-input-10-dd25c85f2a07>:23: SettingWithCopyWarning: \n",
            "A value is trying to be set on a copy of a slice from a DataFrame.\n",
            "Try using .loc[row_indexer,col_indexer] = value instead\n",
            "\n",
            "See the caveats in the documentation: https://pandas.pydata.org/pandas-docs/stable/user_guide/indexing.html#returning-a-view-versus-a-copy\n",
            "  df_pop_ceb['Total Urban Population'] = [int(tup[0] * tup[1] * 0.01) for tup in pops_list]\n",
            "<ipython-input-10-dd25c85f2a07>:23: SettingWithCopyWarning: \n",
            "A value is trying to be set on a copy of a slice from a DataFrame.\n",
            "Try using .loc[row_indexer,col_indexer] = value instead\n",
            "\n",
            "See the caveats in the documentation: https://pandas.pydata.org/pandas-docs/stable/user_guide/indexing.html#returning-a-view-versus-a-copy\n",
            "  df_pop_ceb['Total Urban Population'] = [int(tup[0] * tup[1] * 0.01) for tup in pops_list]\n",
            "<ipython-input-10-dd25c85f2a07>:23: SettingWithCopyWarning: \n",
            "A value is trying to be set on a copy of a slice from a DataFrame.\n",
            "Try using .loc[row_indexer,col_indexer] = value instead\n",
            "\n",
            "See the caveats in the documentation: https://pandas.pydata.org/pandas-docs/stable/user_guide/indexing.html#returning-a-view-versus-a-copy\n",
            "  df_pop_ceb['Total Urban Population'] = [int(tup[0] * tup[1] * 0.01) for tup in pops_list]\n",
            "<ipython-input-10-dd25c85f2a07>:23: SettingWithCopyWarning: \n",
            "A value is trying to be set on a copy of a slice from a DataFrame.\n",
            "Try using .loc[row_indexer,col_indexer] = value instead\n",
            "\n",
            "See the caveats in the documentation: https://pandas.pydata.org/pandas-docs/stable/user_guide/indexing.html#returning-a-view-versus-a-copy\n",
            "  df_pop_ceb['Total Urban Population'] = [int(tup[0] * tup[1] * 0.01) for tup in pops_list]\n",
            "<ipython-input-10-dd25c85f2a07>:23: SettingWithCopyWarning: \n",
            "A value is trying to be set on a copy of a slice from a DataFrame.\n",
            "Try using .loc[row_indexer,col_indexer] = value instead\n",
            "\n",
            "See the caveats in the documentation: https://pandas.pydata.org/pandas-docs/stable/user_guide/indexing.html#returning-a-view-versus-a-copy\n",
            "  df_pop_ceb['Total Urban Population'] = [int(tup[0] * tup[1] * 0.01) for tup in pops_list]\n",
            "<ipython-input-10-dd25c85f2a07>:23: SettingWithCopyWarning: \n",
            "A value is trying to be set on a copy of a slice from a DataFrame.\n",
            "Try using .loc[row_indexer,col_indexer] = value instead\n",
            "\n",
            "See the caveats in the documentation: https://pandas.pydata.org/pandas-docs/stable/user_guide/indexing.html#returning-a-view-versus-a-copy\n",
            "  df_pop_ceb['Total Urban Population'] = [int(tup[0] * tup[1] * 0.01) for tup in pops_list]\n",
            "<ipython-input-10-dd25c85f2a07>:23: SettingWithCopyWarning: \n",
            "A value is trying to be set on a copy of a slice from a DataFrame.\n",
            "Try using .loc[row_indexer,col_indexer] = value instead\n",
            "\n",
            "See the caveats in the documentation: https://pandas.pydata.org/pandas-docs/stable/user_guide/indexing.html#returning-a-view-versus-a-copy\n",
            "  df_pop_ceb['Total Urban Population'] = [int(tup[0] * tup[1] * 0.01) for tup in pops_list]\n",
            "<ipython-input-10-dd25c85f2a07>:23: SettingWithCopyWarning: \n",
            "A value is trying to be set on a copy of a slice from a DataFrame.\n",
            "Try using .loc[row_indexer,col_indexer] = value instead\n",
            "\n",
            "See the caveats in the documentation: https://pandas.pydata.org/pandas-docs/stable/user_guide/indexing.html#returning-a-view-versus-a-copy\n",
            "  df_pop_ceb['Total Urban Population'] = [int(tup[0] * tup[1] * 0.01) for tup in pops_list]\n",
            "<ipython-input-10-dd25c85f2a07>:23: SettingWithCopyWarning: \n",
            "A value is trying to be set on a copy of a slice from a DataFrame.\n",
            "Try using .loc[row_indexer,col_indexer] = value instead\n",
            "\n",
            "See the caveats in the documentation: https://pandas.pydata.org/pandas-docs/stable/user_guide/indexing.html#returning-a-view-versus-a-copy\n",
            "  df_pop_ceb['Total Urban Population'] = [int(tup[0] * tup[1] * 0.01) for tup in pops_list]\n",
            "<ipython-input-10-dd25c85f2a07>:23: SettingWithCopyWarning: \n",
            "A value is trying to be set on a copy of a slice from a DataFrame.\n",
            "Try using .loc[row_indexer,col_indexer] = value instead\n",
            "\n",
            "See the caveats in the documentation: https://pandas.pydata.org/pandas-docs/stable/user_guide/indexing.html#returning-a-view-versus-a-copy\n",
            "  df_pop_ceb['Total Urban Population'] = [int(tup[0] * tup[1] * 0.01) for tup in pops_list]\n",
            "<ipython-input-10-dd25c85f2a07>:23: SettingWithCopyWarning: \n",
            "A value is trying to be set on a copy of a slice from a DataFrame.\n",
            "Try using .loc[row_indexer,col_indexer] = value instead\n",
            "\n",
            "See the caveats in the documentation: https://pandas.pydata.org/pandas-docs/stable/user_guide/indexing.html#returning-a-view-versus-a-copy\n",
            "  df_pop_ceb['Total Urban Population'] = [int(tup[0] * tup[1] * 0.01) for tup in pops_list]\n",
            "<ipython-input-10-dd25c85f2a07>:23: SettingWithCopyWarning: \n",
            "A value is trying to be set on a copy of a slice from a DataFrame.\n",
            "Try using .loc[row_indexer,col_indexer] = value instead\n",
            "\n",
            "See the caveats in the documentation: https://pandas.pydata.org/pandas-docs/stable/user_guide/indexing.html#returning-a-view-versus-a-copy\n",
            "  df_pop_ceb['Total Urban Population'] = [int(tup[0] * tup[1] * 0.01) for tup in pops_list]\n",
            "<ipython-input-10-dd25c85f2a07>:23: SettingWithCopyWarning: \n",
            "A value is trying to be set on a copy of a slice from a DataFrame.\n",
            "Try using .loc[row_indexer,col_indexer] = value instead\n",
            "\n",
            "See the caveats in the documentation: https://pandas.pydata.org/pandas-docs/stable/user_guide/indexing.html#returning-a-view-versus-a-copy\n",
            "  df_pop_ceb['Total Urban Population'] = [int(tup[0] * tup[1] * 0.01) for tup in pops_list]\n"
          ]
        },
        {
          "output_type": "display_data",
          "data": {
            "text/plain": [
              "<Figure size 640x480 with 1 Axes>"
            ],
            "image/png": "[encoded data removed]"
          },
          "metadata": {}
        }
      ]
    }
  ]
}