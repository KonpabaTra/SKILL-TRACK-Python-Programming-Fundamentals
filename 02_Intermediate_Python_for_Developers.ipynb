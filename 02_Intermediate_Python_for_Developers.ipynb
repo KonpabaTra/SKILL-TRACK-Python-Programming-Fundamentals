{
  "nbformat": 4,
  "nbformat_minor": 0,
  "metadata": {
    "colab": {
      "provenance": [],
      "authorship_tag": "ABX9TyNF+unbMvR9HoZvaXR+skW9"
    },
    "kernelspec": {
      "name": "python3",
      "display_name": "Python 3"
    },
    "language_info": {
      "name": "python"
    }
  },
  "cells": [
    {
      "cell_type": "markdown",
      "source": [
        "**Description**\n",
        "\n",
        "Are you ready to elevate your Python skills to the next level? This course will delve deeper into Python's rich ecosystem, focusing on essential aspects such as built-in functions, modules, and packages. You'll learn how to harness the power of Python's built-in functions effectively, enabling you to streamline your code.\n",
        "\n",
        "\n",
        "The course will introduce you to the power of Python's modules, empowering you to develop quicker by reusing existing code rather than writing your own from scratch every time! You'll see how people have extended modules to create their own open-source software, known as packages, discovering how to download, import, and work with packages in your programs.\n",
        "\n",
        "\n",
        "You'll progress to mastering the art of writing custom functions in Python. You'll learn best practices for defining functions, including comprehensive knowledge of how to write user-friendly docstrings to ensure clarity and maintainability. You'll dive into advanced concepts such as default arguments, enabling you to create versatile functions with predefined values. The course will equip you with the knowledge and skills to handle arbitrary positional and keyword arguments effectively, enhancing the flexibility and usability of your functions. By understanding how to work with these arguments, you'll be able to create more robust and adaptable solutions to various programming challenges.\n",
        "\n",
        "\n",
        "Wrap up the course with debugging and error handling. You'll learn to interpret error messages, including tracebacks from incorrectly using functions from packages. You'll use keywords and techniques to adapt your custom functions, effectively handling errors and providing bespoke feedback messages to developers who misuse your code!\n",
        "\n"
      ],
      "metadata": {
        "id": "LE7hJVuoI9eF"
      }
    },
    {
      "cell_type": "markdown",
      "source": [
        "# CHAPTER 1: The Python Ecosystem"
      ],
      "metadata": {
        "id": "KEUAHwpjJfyd"
      }
    },
    {
      "cell_type": "markdown",
      "source": [
        "Discover Python's rich ecosystem of built-in functions and modules, plus how to download and work with packages."
      ],
      "metadata": {
        "id": "E8fQDmrxJ54l"
      }
    },
    {
      "cell_type": "markdown",
      "source": [
        "## Lesson 1: Built-in functions"
      ],
      "metadata": {
        "id": "DCIIj9P7Kzzt"
      }
    },
    {
      "cell_type": "markdown",
      "source": [
        "### Functions we know"
      ],
      "metadata": {
        "id": "vrrzTEArLPkt"
      }
    },
    {
      "cell_type": "code",
      "source": [
        "# Printing\n",
        "print(\"Display this as an output\")"
      ],
      "metadata": {
        "colab": {
          "base_uri": "https://localhost:8080/"
        },
        "id": "kBcer-O-LRht",
        "outputId": "9d6fc9e5-8228-406c-cec6-f6f7bff1521e"
      },
      "execution_count": null,
      "outputs": [
        {
          "output_type": "stream",
          "name": "stdout",
          "text": [
            "Display this as an output\n"
          ]
        }
      ]
    },
    {
      "cell_type": "code",
      "source": [
        "# Checking data types\n",
        "type(print)"
      ],
      "metadata": {
        "id": "pZjvVQibLX9d"
      },
      "execution_count": null,
      "outputs": []
    },
    {
      "cell_type": "code",
      "source": [
        "# Looping through a range of numbers\n",
        "for num in range(1, 5):\n",
        "  print(num)"
      ],
      "metadata": {
        "id": "_iC5r4U_La7V"
      },
      "execution_count": null,
      "outputs": []
    },
    {
      "cell_type": "markdown",
      "source": [
        "### `max()` and `min()`"
      ],
      "metadata": {
        "id": "4TPTCZ-OLf3N"
      }
    },
    {
      "cell_type": "code",
      "source": [
        "sales = [125.97, 84.32, 99.78, 154.21, 78.50, 83.67, 111.13]\n",
        "# Find the largest sale\n",
        "max(sales)"
      ],
      "metadata": {
        "colab": {
          "base_uri": "https://localhost:8080/"
        },
        "id": "5c-H-J-sLmdH",
        "outputId": "cb5ae452-ecf2-438f-c1e1-c441593f66b7"
      },
      "execution_count": null,
      "outputs": [
        {
          "output_type": "execute_result",
          "data": {
            "text/plain": [
              "154.21"
            ]
          },
          "metadata": {},
          "execution_count": 2
        }
      ]
    },
    {
      "cell_type": "code",
      "source": [
        "# Find the smallest sale\n",
        "min(sales)"
      ],
      "metadata": {
        "colab": {
          "base_uri": "https://localhost:8080/"
        },
        "id": "1t8bsx0pLnm-",
        "outputId": "1fb1d7f1-c6ad-4b60-cd94-527530b999a8"
      },
      "execution_count": null,
      "outputs": [
        {
          "output_type": "execute_result",
          "data": {
            "text/plain": [
              "78.5"
            ]
          },
          "metadata": {},
          "execution_count": 3
        }
      ]
    },
    {
      "cell_type": "markdown",
      "source": [
        "### `sum()` and `round()`"
      ],
      "metadata": {
        "id": "AAvVnENQLszn"
      }
    },
    {
      "cell_type": "code",
      "source": [
        "sum(sales)"
      ],
      "metadata": {
        "colab": {
          "base_uri": "https://localhost:8080/"
        },
        "id": "onVXTCivLy92",
        "outputId": "e9b5e97e-5223-4914-bb24-295231769070"
      },
      "execution_count": null,
      "outputs": [
        {
          "output_type": "execute_result",
          "data": {
            "text/plain": [
              "737.5799999999999"
            ]
          },
          "metadata": {},
          "execution_count": 4
        }
      ]
    },
    {
      "cell_type": "code",
      "source": [
        "# Store total sales\n",
        "total_sales = sum(sales)\n",
        "\n",
        "# Round to two decimal places\n",
        "round(total_sales, 2)"
      ],
      "metadata": {
        "colab": {
          "base_uri": "https://localhost:8080/"
        },
        "id": "Cfs_Tq1FL3ne",
        "outputId": "e0a1b4ec-40a5-41f8-953b-e9c311d98511"
      },
      "execution_count": null,
      "outputs": [
        {
          "output_type": "execute_result",
          "data": {
            "text/plain": [
              "737.58"
            ]
          },
          "metadata": {},
          "execution_count": 5
        }
      ]
    },
    {
      "cell_type": "markdown",
      "source": [
        "### Nested functions"
      ],
      "metadata": {
        "id": "mtnGs7N2MLB2"
      }
    },
    {
      "cell_type": "markdown",
      "source": [
        "*   Call a function then call another function"
      ],
      "metadata": {
        "id": "NP4IIgOhMRQ_"
      }
    },
    {
      "cell_type": "code",
      "source": [
        "# Store total sales\n",
        "total_sales = sum(sales)\n",
        "\n",
        "# Round to two decimal places\n",
        "round(total_sales, 2)"
      ],
      "metadata": {
        "colab": {
          "base_uri": "https://localhost:8080/"
        },
        "id": "5Mh3yTlxMMAR",
        "outputId": "c6083d27-fe6a-41cd-fd67-a6c797ba0024"
      },
      "execution_count": null,
      "outputs": [
        {
          "output_type": "execute_result",
          "data": {
            "text/plain": [
              "737.58"
            ]
          },
          "metadata": {},
          "execution_count": 6
        }
      ]
    },
    {
      "cell_type": "markdown",
      "source": [
        "*   Call a function within a function"
      ],
      "metadata": {
        "id": "Pyc3RU7XMXoc"
      }
    },
    {
      "cell_type": "code",
      "source": [
        "# Store total sales\n",
        "total_sales = round(sum(sales), 2)\n",
        "\n",
        "# Round to two decimal places\n",
        "print(total_sales)"
      ],
      "metadata": {
        "colab": {
          "base_uri": "https://localhost:8080/"
        },
        "id": "OYEm_QhTMafv",
        "outputId": "adb5f2fd-0b68-41c2-ab45-90650d93490b"
      },
      "execution_count": null,
      "outputs": [
        {
          "output_type": "stream",
          "name": "stdout",
          "text": [
            "737.58\n"
          ]
        }
      ]
    },
    {
      "cell_type": "markdown",
      "source": [
        "### `len()`\n"
      ],
      "metadata": {
        "id": "-PCthINMMsqs"
      }
    },
    {
      "cell_type": "markdown",
      "source": [
        "*   Counts the number of elements"
      ],
      "metadata": {
        "id": "3tEEY8v-MyxG"
      }
    },
    {
      "cell_type": "code",
      "source": [
        "# Count the number of sales\n",
        "len(sales)"
      ],
      "metadata": {
        "colab": {
          "base_uri": "https://localhost:8080/"
        },
        "id": "6eKoxwO5M0Uf",
        "outputId": "ca896d72-c946-4184-a098-56ba38a4fe05"
      },
      "execution_count": null,
      "outputs": [
        {
          "output_type": "execute_result",
          "data": {
            "text/plain": [
              "7"
            ]
          },
          "metadata": {},
          "execution_count": 8
        }
      ]
    },
    {
      "cell_type": "code",
      "source": [
        "# Calculate average sales\n",
        "sum(sales) / len(sales)"
      ],
      "metadata": {
        "colab": {
          "base_uri": "https://localhost:8080/"
        },
        "id": "Y6qfRUiFM9_t",
        "outputId": "7fc67aa5-b359-43c9-8a1f-c0da38a276b4"
      },
      "execution_count": null,
      "outputs": [
        {
          "output_type": "execute_result",
          "data": {
            "text/plain": [
              "105.36857142857141"
            ]
          },
          "metadata": {},
          "execution_count": 9
        }
      ]
    },
    {
      "cell_type": "code",
      "source": [
        "# Length of a string\n",
        "len(\"Introduction to Programming for Developers\")"
      ],
      "metadata": {
        "colab": {
          "base_uri": "https://localhost:8080/"
        },
        "id": "Qp6AUuF8NF_d",
        "outputId": "8750159b-2029-4b1a-d401-281dda3b43a9"
      },
      "execution_count": null,
      "outputs": [
        {
          "output_type": "execute_result",
          "data": {
            "text/plain": [
              "42"
            ]
          },
          "metadata": {},
          "execution_count": 10
        }
      ]
    },
    {
      "cell_type": "code",
      "source": [
        "# Length of dictionary\n",
        "len({\"a\": 1, \"b\": 2, \"c\": 3})"
      ],
      "metadata": {
        "colab": {
          "base_uri": "https://localhost:8080/"
        },
        "id": "rw2POEXeNT0v",
        "outputId": "e81ec045-f2ca-4de8-831d-5e32876f1bd7"
      },
      "execution_count": null,
      "outputs": [
        {
          "output_type": "execute_result",
          "data": {
            "text/plain": [
              "3"
            ]
          },
          "metadata": {},
          "execution_count": 11
        }
      ]
    },
    {
      "cell_type": "markdown",
      "source": [
        "*   Also works with sets and tuples\n",
        "*   **Does not work** with floats, integers, or booleans"
      ],
      "metadata": {
        "id": "-omJ7wuSNV3X"
      }
    },
    {
      "cell_type": "markdown",
      "source": [
        "### `sorted()`"
      ],
      "metadata": {
        "id": "W5DBAmBuNkal"
      }
    },
    {
      "cell_type": "code",
      "source": [
        "# Sort the sales list in ascending order\n",
        "sorted(sales)"
      ],
      "metadata": {
        "colab": {
          "base_uri": "https://localhost:8080/"
        },
        "id": "N1rQMoWLNsVf",
        "outputId": "b70f4f63-d0f4-415d-b8ba-435543dae2c3"
      },
      "execution_count": null,
      "outputs": [
        {
          "output_type": "execute_result",
          "data": {
            "text/plain": [
              "[78.5, 83.67, 84.32, 99.78, 111.13, 125.97, 154.21]"
            ]
          },
          "metadata": {},
          "execution_count": 12
        }
      ]
    },
    {
      "cell_type": "code",
      "source": [
        "# Sort a string alphabetically\n",
        "sorted(\"George\")"
      ],
      "metadata": {
        "colab": {
          "base_uri": "https://localhost:8080/"
        },
        "id": "vlovkwWrNymc",
        "outputId": "40f4b976-e2fc-4a91-a3d4-56836c539619"
      },
      "execution_count": null,
      "outputs": [
        {
          "output_type": "execute_result",
          "data": {
            "text/plain": [
              "['G', 'e', 'e', 'g', 'o', 'r']"
            ]
          },
          "metadata": {},
          "execution_count": 13
        }
      ]
    },
    {
      "cell_type": "markdown",
      "source": [
        "### `help()`"
      ],
      "metadata": {
        "id": "FgqItkm0OCnN"
      }
    },
    {
      "cell_type": "code",
      "source": [
        "# Get information about the sorted() function\n",
        "help(sorted)"
      ],
      "metadata": {
        "colab": {
          "base_uri": "https://localhost:8080/"
        },
        "id": "Ma0ZWQtrOGmx",
        "outputId": "f553d9f3-e002-44c7-a802-388dc3941f6f"
      },
      "execution_count": null,
      "outputs": [
        {
          "output_type": "stream",
          "name": "stdout",
          "text": [
            "Help on built-in function sorted in module builtins:\n",
            "\n",
            "sorted(iterable, /, *, key=None, reverse=False)\n",
            "    Return a new list containing all items from the iterable in ascending order.\n",
            "    \n",
            "    A custom key function can be supplied to customize the sort order, and the\n",
            "    reverse flag can be set to request the result in descending order.\n",
            "\n"
          ]
        }
      ]
    },
    {
      "cell_type": "markdown",
      "source": [
        "*   Works with `int` , `str` , `{}` , `[]` , `list` , etc."
      ],
      "metadata": {
        "id": "2fOpVRI6ORvN"
      }
    },
    {
      "cell_type": "markdown",
      "source": [
        "### Benefits of functions"
      ],
      "metadata": {
        "id": "9AKKDwBxOeuV"
      }
    },
    {
      "cell_type": "markdown",
      "source": [
        "*   Perform complex tasks with less code"
      ],
      "metadata": {
        "id": "Z8ujPHROOi-O"
      }
    },
    {
      "cell_type": "code",
      "source": [
        "# Find total sales\n",
        "sum(sales)"
      ],
      "metadata": {
        "colab": {
          "base_uri": "https://localhost:8080/"
        },
        "id": "SsfszfBNOkPu",
        "outputId": "f66788d1-4a75-40a5-de1d-480cf0a080e8"
      },
      "execution_count": null,
      "outputs": [
        {
          "output_type": "execute_result",
          "data": {
            "text/plain": [
              "737.5799999999999"
            ]
          },
          "metadata": {},
          "execution_count": 15
        }
      ]
    },
    {
      "cell_type": "code",
      "source": [
        "# Find total sales\n",
        "# Create a variable to increment\n",
        "sales_count = 0\n",
        "# Loop through sales\n",
        "for sale in sales:\n",
        "# Increment sales_count by each sale\n",
        "  sales_count += sale\n",
        "  print(sales_count)"
      ],
      "metadata": {
        "colab": {
          "base_uri": "https://localhost:8080/"
        },
        "id": "2i_y1F8gOsNX",
        "outputId": "bf71bf0d-e561-4b37-f029-d71a68d6406e"
      },
      "execution_count": null,
      "outputs": [
        {
          "output_type": "stream",
          "name": "stdout",
          "text": [
            "125.97\n",
            "210.29\n",
            "310.07\n",
            "464.28\n",
            "542.78\n",
            "626.4499999999999\n",
            "737.5799999999999\n"
          ]
        }
      ]
    },
    {
      "cell_type": "markdown",
      "source": [
        "* `sum()` is reusable, shorter, cleaner, and\n",
        "less prone to errors!"
      ],
      "metadata": {
        "id": "KYr-rf4AO11F"
      }
    },
    {
      "cell_type": "markdown",
      "source": [
        "### Excercise 1: Get some assistance"
      ],
      "metadata": {
        "id": "oivcWwAyO_Ns"
      }
    },
    {
      "cell_type": "markdown",
      "source": [
        "Not only does Python offer a range of built-in functions, but this even includes a way to find out more about data types, structures, and other functions.\n",
        "\n",
        "Time to try it out!"
      ],
      "metadata": {
        "id": "83K3gNrWPXQ2"
      }
    },
    {
      "cell_type": "markdown",
      "source": [
        "**Instructions**\n",
        "*   Call the `help()` function on `len`.\n",
        "*   Use `help()` on the `int` data type.\n",
        "*   Find out more about the list data structure, printing the results."
      ],
      "metadata": {
        "id": "5g0t_yHXPa1P"
      }
    },
    {
      "cell_type": "code",
      "source": [
        "# Find out more about len()\n",
        "print(help(len))"
      ],
      "metadata": {
        "colab": {
          "base_uri": "https://localhost:8080/"
        },
        "id": "qtf3CLoxP8K9",
        "outputId": "4f34d691-e9e6-4af7-d7f0-8d31d3c468c8"
      },
      "execution_count": null,
      "outputs": [
        {
          "output_type": "stream",
          "name": "stdout",
          "text": [
            "Help on built-in function len in module builtins:\n",
            "\n",
            "len(obj, /)\n",
            "    Return the number of items in a container.\n",
            "\n",
            "None\n"
          ]
        }
      ]
    },
    {
      "cell_type": "code",
      "source": [
        "# Find out more about int\n",
        "print(help(int))"
      ],
      "metadata": {
        "collapsed": true,
        "colab": {
          "base_uri": "https://localhost:8080/"
        },
        "id": "R4WRjd4yQKK-",
        "outputId": "d2360668-5b96-48a1-de4d-8ec19c6feec2"
      },
      "execution_count": null,
      "outputs": [
        {
          "output_type": "stream",
          "name": "stdout",
          "text": [
            "Help on class int in module builtins:\n",
            "\n",
            "class int(object)\n",
            " |  int([x]) -> integer\n",
            " |  int(x, base=10) -> integer\n",
            " |  \n",
            " |  Convert a number or string to an integer, or return 0 if no arguments\n",
            " |  are given.  If x is a number, return x.__int__().  For floating point\n",
            " |  numbers, this truncates towards zero.\n",
            " |  \n",
            " |  If x is not a number or if base is given, then x must be a string,\n",
            " |  bytes, or bytearray instance representing an integer literal in the\n",
            " |  given base.  The literal can be preceded by '+' or '-' and be surrounded\n",
            " |  by whitespace.  The base defaults to 10.  Valid bases are 0 and 2-36.\n",
            " |  Base 0 means to interpret the base from the string as an integer literal.\n",
            " |  >>> int('0b100', base=0)\n",
            " |  4\n",
            " |  \n",
            " |  Built-in subclasses:\n",
            " |      bool\n",
            " |  \n",
            " |  Methods defined here:\n",
            " |  \n",
            " |  __abs__(self, /)\n",
            " |      abs(self)\n",
            " |  \n",
            " |  __add__(self, value, /)\n",
            " |      Return self+value.\n",
            " |  \n",
            " |  __and__(self, value, /)\n",
            " |      Return self&value.\n",
            " |  \n",
            " |  __bool__(self, /)\n",
            " |      True if self else False\n",
            " |  \n",
            " |  __ceil__(...)\n",
            " |      Ceiling of an Integral returns itself.\n",
            " |  \n",
            " |  __divmod__(self, value, /)\n",
            " |      Return divmod(self, value).\n",
            " |  \n",
            " |  __eq__(self, value, /)\n",
            " |      Return self==value.\n",
            " |  \n",
            " |  __float__(self, /)\n",
            " |      float(self)\n",
            " |  \n",
            " |  __floor__(...)\n",
            " |      Flooring an Integral returns itself.\n",
            " |  \n",
            " |  __floordiv__(self, value, /)\n",
            " |      Return self//value.\n",
            " |  \n",
            " |  __format__(self, format_spec, /)\n",
            " |      Default object formatter.\n",
            " |  \n",
            " |  __ge__(self, value, /)\n",
            " |      Return self>=value.\n",
            " |  \n",
            " |  __getattribute__(self, name, /)\n",
            " |      Return getattr(self, name).\n",
            " |  \n",
            " |  __getnewargs__(self, /)\n",
            " |  \n",
            " |  __gt__(self, value, /)\n",
            " |      Return self>value.\n",
            " |  \n",
            " |  __hash__(self, /)\n",
            " |      Return hash(self).\n",
            " |  \n",
            " |  __index__(self, /)\n",
            " |      Return self converted to an integer, if self is suitable for use as an index into a list.\n",
            " |  \n",
            " |  __int__(self, /)\n",
            " |      int(self)\n",
            " |  \n",
            " |  __invert__(self, /)\n",
            " |      ~self\n",
            " |  \n",
            " |  __le__(self, value, /)\n",
            " |      Return self<=value.\n",
            " |  \n",
            " |  __lshift__(self, value, /)\n",
            " |      Return self<<value.\n",
            " |  \n",
            " |  __lt__(self, value, /)\n",
            " |      Return self<value.\n",
            " |  \n",
            " |  __mod__(self, value, /)\n",
            " |      Return self%value.\n",
            " |  \n",
            " |  __mul__(self, value, /)\n",
            " |      Return self*value.\n",
            " |  \n",
            " |  __ne__(self, value, /)\n",
            " |      Return self!=value.\n",
            " |  \n",
            " |  __neg__(self, /)\n",
            " |      -self\n",
            " |  \n",
            " |  __or__(self, value, /)\n",
            " |      Return self|value.\n",
            " |  \n",
            " |  __pos__(self, /)\n",
            " |      +self\n",
            " |  \n",
            " |  __pow__(self, value, mod=None, /)\n",
            " |      Return pow(self, value, mod).\n",
            " |  \n",
            " |  __radd__(self, value, /)\n",
            " |      Return value+self.\n",
            " |  \n",
            " |  __rand__(self, value, /)\n",
            " |      Return value&self.\n",
            " |  \n",
            " |  __rdivmod__(self, value, /)\n",
            " |      Return divmod(value, self).\n",
            " |  \n",
            " |  __repr__(self, /)\n",
            " |      Return repr(self).\n",
            " |  \n",
            " |  __rfloordiv__(self, value, /)\n",
            " |      Return value//self.\n",
            " |  \n",
            " |  __rlshift__(self, value, /)\n",
            " |      Return value<<self.\n",
            " |  \n",
            " |  __rmod__(self, value, /)\n",
            " |      Return value%self.\n",
            " |  \n",
            " |  __rmul__(self, value, /)\n",
            " |      Return value*self.\n",
            " |  \n",
            " |  __ror__(self, value, /)\n",
            " |      Return value|self.\n",
            " |  \n",
            " |  __round__(...)\n",
            " |      Rounding an Integral returns itself.\n",
            " |      \n",
            " |      Rounding with an ndigits argument also returns an integer.\n",
            " |  \n",
            " |  __rpow__(self, value, mod=None, /)\n",
            " |      Return pow(value, self, mod).\n",
            " |  \n",
            " |  __rrshift__(self, value, /)\n",
            " |      Return value>>self.\n",
            " |  \n",
            " |  __rshift__(self, value, /)\n",
            " |      Return self>>value.\n",
            " |  \n",
            " |  __rsub__(self, value, /)\n",
            " |      Return value-self.\n",
            " |  \n",
            " |  __rtruediv__(self, value, /)\n",
            " |      Return value/self.\n",
            " |  \n",
            " |  __rxor__(self, value, /)\n",
            " |      Return value^self.\n",
            " |  \n",
            " |  __sizeof__(self, /)\n",
            " |      Returns size in memory, in bytes.\n",
            " |  \n",
            " |  __sub__(self, value, /)\n",
            " |      Return self-value.\n",
            " |  \n",
            " |  __truediv__(self, value, /)\n",
            " |      Return self/value.\n",
            " |  \n",
            " |  __trunc__(...)\n",
            " |      Truncating an Integral returns itself.\n",
            " |  \n",
            " |  __xor__(self, value, /)\n",
            " |      Return self^value.\n",
            " |  \n",
            " |  as_integer_ratio(self, /)\n",
            " |      Return integer ratio.\n",
            " |      \n",
            " |      Return a pair of integers, whose ratio is exactly equal to the original int\n",
            " |      and with a positive denominator.\n",
            " |      \n",
            " |      >>> (10).as_integer_ratio()\n",
            " |      (10, 1)\n",
            " |      >>> (-10).as_integer_ratio()\n",
            " |      (-10, 1)\n",
            " |      >>> (0).as_integer_ratio()\n",
            " |      (0, 1)\n",
            " |  \n",
            " |  bit_count(self, /)\n",
            " |      Number of ones in the binary representation of the absolute value of self.\n",
            " |      \n",
            " |      Also known as the population count.\n",
            " |      \n",
            " |      >>> bin(13)\n",
            " |      '0b1101'\n",
            " |      >>> (13).bit_count()\n",
            " |      3\n",
            " |  \n",
            " |  bit_length(self, /)\n",
            " |      Number of bits necessary to represent self in binary.\n",
            " |      \n",
            " |      >>> bin(37)\n",
            " |      '0b100101'\n",
            " |      >>> (37).bit_length()\n",
            " |      6\n",
            " |  \n",
            " |  conjugate(...)\n",
            " |      Returns self, the complex conjugate of any int.\n",
            " |  \n",
            " |  to_bytes(self, /, length=1, byteorder='big', *, signed=False)\n",
            " |      Return an array of bytes representing an integer.\n",
            " |      \n",
            " |      length\n",
            " |        Length of bytes object to use.  An OverflowError is raised if the\n",
            " |        integer is not representable with the given number of bytes.  Default\n",
            " |        is length 1.\n",
            " |      byteorder\n",
            " |        The byte order used to represent the integer.  If byteorder is 'big',\n",
            " |        the most significant byte is at the beginning of the byte array.  If\n",
            " |        byteorder is 'little', the most significant byte is at the end of the\n",
            " |        byte array.  To request the native byte order of the host system, use\n",
            " |        `sys.byteorder' as the byte order value.  Default is to use 'big'.\n",
            " |      signed\n",
            " |        Determines whether two's complement is used to represent the integer.\n",
            " |        If signed is False and a negative integer is given, an OverflowError\n",
            " |        is raised.\n",
            " |  \n",
            " |  ----------------------------------------------------------------------\n",
            " |  Class methods defined here:\n",
            " |  \n",
            " |  from_bytes(bytes, byteorder='big', *, signed=False)\n",
            " |      Return the integer represented by the given array of bytes.\n",
            " |      \n",
            " |      bytes\n",
            " |        Holds the array of bytes to convert.  The argument must either\n",
            " |        support the buffer protocol or be an iterable object producing bytes.\n",
            " |        Bytes and bytearray are examples of built-in objects that support the\n",
            " |        buffer protocol.\n",
            " |      byteorder\n",
            " |        The byte order used to represent the integer.  If byteorder is 'big',\n",
            " |        the most significant byte is at the beginning of the byte array.  If\n",
            " |        byteorder is 'little', the most significant byte is at the end of the\n",
            " |        byte array.  To request the native byte order of the host system, use\n",
            " |        `sys.byteorder' as the byte order value.  Default is to use 'big'.\n",
            " |      signed\n",
            " |        Indicates whether two's complement is used to represent the integer.\n",
            " |  \n",
            " |  ----------------------------------------------------------------------\n",
            " |  Static methods defined here:\n",
            " |  \n",
            " |  __new__(*args, **kwargs)\n",
            " |      Create and return a new object.  See help(type) for accurate signature.\n",
            " |  \n",
            " |  ----------------------------------------------------------------------\n",
            " |  Data descriptors defined here:\n",
            " |  \n",
            " |  denominator\n",
            " |      the denominator of a rational number in lowest terms\n",
            " |  \n",
            " |  imag\n",
            " |      the imaginary part of a complex number\n",
            " |  \n",
            " |  numerator\n",
            " |      the numerator of a rational number in lowest terms\n",
            " |  \n",
            " |  real\n",
            " |      the real part of a complex number\n",
            "\n",
            "None\n"
          ]
        }
      ]
    },
    {
      "cell_type": "code",
      "source": [
        "# Find out more about lists\n",
        "print(help(list))"
      ],
      "metadata": {
        "colab": {
          "base_uri": "https://localhost:8080/"
        },
        "collapsed": true,
        "id": "tw4I2arvQXEA",
        "outputId": "93eae845-6c7f-495e-9e3d-763364e092e0"
      },
      "execution_count": null,
      "outputs": [
        {
          "output_type": "stream",
          "name": "stdout",
          "text": [
            "Help on class list in module builtins:\n",
            "\n",
            "class list(object)\n",
            " |  list(iterable=(), /)\n",
            " |  \n",
            " |  Built-in mutable sequence.\n",
            " |  \n",
            " |  If no argument is given, the constructor creates a new empty list.\n",
            " |  The argument must be an iterable if specified.\n",
            " |  \n",
            " |  Methods defined here:\n",
            " |  \n",
            " |  __add__(self, value, /)\n",
            " |      Return self+value.\n",
            " |  \n",
            " |  __contains__(self, key, /)\n",
            " |      Return key in self.\n",
            " |  \n",
            " |  __delitem__(self, key, /)\n",
            " |      Delete self[key].\n",
            " |  \n",
            " |  __eq__(self, value, /)\n",
            " |      Return self==value.\n",
            " |  \n",
            " |  __ge__(self, value, /)\n",
            " |      Return self>=value.\n",
            " |  \n",
            " |  __getattribute__(self, name, /)\n",
            " |      Return getattr(self, name).\n",
            " |  \n",
            " |  __getitem__(...)\n",
            " |      x.__getitem__(y) <==> x[y]\n",
            " |  \n",
            " |  __gt__(self, value, /)\n",
            " |      Return self>value.\n",
            " |  \n",
            " |  __iadd__(self, value, /)\n",
            " |      Implement self+=value.\n",
            " |  \n",
            " |  __imul__(self, value, /)\n",
            " |      Implement self*=value.\n",
            " |  \n",
            " |  __init__(self, /, *args, **kwargs)\n",
            " |      Initialize self.  See help(type(self)) for accurate signature.\n",
            " |  \n",
            " |  __iter__(self, /)\n",
            " |      Implement iter(self).\n",
            " |  \n",
            " |  __le__(self, value, /)\n",
            " |      Return self<=value.\n",
            " |  \n",
            " |  __len__(self, /)\n",
            " |      Return len(self).\n",
            " |  \n",
            " |  __lt__(self, value, /)\n",
            " |      Return self<value.\n",
            " |  \n",
            " |  __mul__(self, value, /)\n",
            " |      Return self*value.\n",
            " |  \n",
            " |  __ne__(self, value, /)\n",
            " |      Return self!=value.\n",
            " |  \n",
            " |  __repr__(self, /)\n",
            " |      Return repr(self).\n",
            " |  \n",
            " |  __reversed__(self, /)\n",
            " |      Return a reverse iterator over the list.\n",
            " |  \n",
            " |  __rmul__(self, value, /)\n",
            " |      Return value*self.\n",
            " |  \n",
            " |  __setitem__(self, key, value, /)\n",
            " |      Set self[key] to value.\n",
            " |  \n",
            " |  __sizeof__(self, /)\n",
            " |      Return the size of the list in memory, in bytes.\n",
            " |  \n",
            " |  append(self, object, /)\n",
            " |      Append object to the end of the list.\n",
            " |  \n",
            " |  clear(self, /)\n",
            " |      Remove all items from list.\n",
            " |  \n",
            " |  copy(self, /)\n",
            " |      Return a shallow copy of the list.\n",
            " |  \n",
            " |  count(self, value, /)\n",
            " |      Return number of occurrences of value.\n",
            " |  \n",
            " |  extend(self, iterable, /)\n",
            " |      Extend list by appending elements from the iterable.\n",
            " |  \n",
            " |  index(self, value, start=0, stop=9223372036854775807, /)\n",
            " |      Return first index of value.\n",
            " |      \n",
            " |      Raises ValueError if the value is not present.\n",
            " |  \n",
            " |  insert(self, index, object, /)\n",
            " |      Insert object before index.\n",
            " |  \n",
            " |  pop(self, index=-1, /)\n",
            " |      Remove and return item at index (default last).\n",
            " |      \n",
            " |      Raises IndexError if list is empty or index is out of range.\n",
            " |  \n",
            " |  remove(self, value, /)\n",
            " |      Remove first occurrence of value.\n",
            " |      \n",
            " |      Raises ValueError if the value is not present.\n",
            " |  \n",
            " |  reverse(self, /)\n",
            " |      Reverse *IN PLACE*.\n",
            " |  \n",
            " |  sort(self, /, *, key=None, reverse=False)\n",
            " |      Sort the list in ascending order and return None.\n",
            " |      \n",
            " |      The sort is in-place (i.e. the list itself is modified) and stable (i.e. the\n",
            " |      order of two equal elements is maintained).\n",
            " |      \n",
            " |      If a key function is given, apply it once to each list item and sort them,\n",
            " |      ascending or descending, according to their function values.\n",
            " |      \n",
            " |      The reverse flag can be set to sort in descending order.\n",
            " |  \n",
            " |  ----------------------------------------------------------------------\n",
            " |  Class methods defined here:\n",
            " |  \n",
            " |  __class_getitem__(...)\n",
            " |      See PEP 585\n",
            " |  \n",
            " |  ----------------------------------------------------------------------\n",
            " |  Static methods defined here:\n",
            " |  \n",
            " |  __new__(*args, **kwargs)\n",
            " |      Create and return a new object.  See help(type) for accurate signature.\n",
            " |  \n",
            " |  ----------------------------------------------------------------------\n",
            " |  Data and other attributes defined here:\n",
            " |  \n",
            " |  __hash__ = None\n",
            "\n",
            "None\n"
          ]
        }
      ]
    },
    {
      "cell_type": "markdown",
      "source": [
        "### Excercise 2: Counting the elements"
      ],
      "metadata": {
        "id": "vw1_cIXbQiyI"
      }
    },
    {
      "cell_type": "markdown",
      "source": [
        "In the video, you saw some of Python's most helpful built-in functions.\n",
        "\n",
        "One of them can be used to count the number of elements in a variable. You'll see three variables in the following steps:\n",
        "\n",
        "*   `course_ratings` - a dictionary variable containing course names as keys and average ratings as values.\n",
        "*   `course_completions` - a list variable containing the daily number of completions for an individual course.\n",
        "*   `most_popular_course` - a string variable containing the name of a course.\n",
        "\n",
        "You'll practice applying this function to the three variables!"
      ],
      "metadata": {
        "id": "qB1C3IXOQlh5"
      }
    },
    {
      "cell_type": "code",
      "source": [
        "course_ratings = {\"LLM Concepts\": 4.7,\n",
        "                  \"Introduction to Data Pipelines\": 4.75,\n",
        "                  \"AI Ethics\": 4.62,\n",
        "                  \"Introduction to dbt\": 4.81}"
      ],
      "metadata": {
        "id": "RvSuiQrKSBBe"
      },
      "execution_count": null,
      "outputs": []
    },
    {
      "cell_type": "code",
      "source": [
        "course_completions = [97, 83, 121, 205, 56, 174, 92, 117, 164]"
      ],
      "metadata": {
        "id": "5Y03bOJxSVPM"
      },
      "execution_count": null,
      "outputs": []
    },
    {
      "cell_type": "code",
      "source": [
        "most_popular_course = \"Introduction to dbt\""
      ],
      "metadata": {
        "id": "QYb2gOwjSsve"
      },
      "execution_count": null,
      "outputs": []
    },
    {
      "cell_type": "markdown",
      "source": [
        "**Instructions**\n",
        "*   Use a function to count the number of key-value pairs in `course_ratings`, storing as a variable called `num_courses`, then print the variable.\n",
        "*   Use a function to count the number of courses in `course_completions`, storing as `num_courses`, and print this variable.\n",
        "*   Use a function to count the number of characters in `most_popular_course`, storing as `title_length`, and print the variable."
      ],
      "metadata": {
        "id": "Kr6kkR64Q2RA"
      }
    },
    {
      "cell_type": "code",
      "source": [
        "# Print the number of key-value pairs\n",
        "num_courses = len(course_ratings)\n",
        "print(num_courses)"
      ],
      "metadata": {
        "colab": {
          "base_uri": "https://localhost:8080/"
        },
        "id": "-HfEMCMJSCSl",
        "outputId": "af662f15-18fd-46cf-a2f1-6860e6e38216"
      },
      "execution_count": null,
      "outputs": [
        {
          "output_type": "stream",
          "name": "stdout",
          "text": [
            "4\n"
          ]
        }
      ]
    },
    {
      "cell_type": "code",
      "source": [
        "# Find the number of courses\n",
        "num_courses = len(course_completions)\n",
        "print(num_courses)"
      ],
      "metadata": {
        "colab": {
          "base_uri": "https://localhost:8080/"
        },
        "id": "Xdm0VIEwSnlE",
        "outputId": "3bf5acc2-df2a-4f76-863d-e269d7d193a9"
      },
      "execution_count": null,
      "outputs": [
        {
          "output_type": "stream",
          "name": "stdout",
          "text": [
            "9\n"
          ]
        }
      ]
    },
    {
      "cell_type": "code",
      "source": [
        "# How many characters are in most_popular_course?\n",
        "title_length = len(most_popular_course)\n",
        "print(title_length)"
      ],
      "metadata": {
        "colab": {
          "base_uri": "https://localhost:8080/"
        },
        "id": "a-CMcsS2S50W",
        "outputId": "31a7dbc3-d555-48b4-e359-31d2ffc9327c"
      },
      "execution_count": null,
      "outputs": [
        {
          "output_type": "stream",
          "name": "stdout",
          "text": [
            "19\n"
          ]
        }
      ]
    },
    {
      "cell_type": "markdown",
      "source": [
        "### Excercise 3: Performing calculations"
      ],
      "metadata": {
        "id": "Jg0ZDn34S_2W"
      }
    },
    {
      "cell_type": "markdown",
      "source": [
        "Python's built-in functions make it easy to perform calculations on multiple values without having to write several lines of code.\n",
        "\n",
        "Working with a list called `course_completions` containing integer values representing the number of completions for a range of different courses, you'll analyze this data to draw insights!"
      ],
      "metadata": {
        "id": "kaTwZEGvTn2W"
      }
    },
    {
      "cell_type": "markdown",
      "source": [
        "*   Add up and print the total number of `course_completions`.\n",
        "*   Print the largest value in `course_completions`.\n",
        "*   Add up the values in `course_completions` and then divide this by the number of elements to get the average.\n",
        "*   Round the average number of course completions to one decimal place."
      ],
      "metadata": {
        "id": "ZBi07XLzTwcd"
      }
    },
    {
      "cell_type": "code",
      "source": [
        "# Print the total number of course completions\n",
        "print(sum(course_completions))"
      ],
      "metadata": {
        "colab": {
          "base_uri": "https://localhost:8080/"
        },
        "id": "RKFejdflUbpw",
        "outputId": "f95760c1-bc78-44b9-c2d1-5bec388bcf5d"
      },
      "execution_count": null,
      "outputs": [
        {
          "output_type": "stream",
          "name": "stdout",
          "text": [
            "1109\n"
          ]
        }
      ]
    },
    {
      "cell_type": "code",
      "source": [
        "# Print the largest number of completions\n",
        "print(max(course_completions))"
      ],
      "metadata": {
        "colab": {
          "base_uri": "https://localhost:8080/"
        },
        "id": "s2cZ_VS6UcoV",
        "outputId": "5f870639-a588-41da-d03c-3ea53582e004"
      },
      "execution_count": null,
      "outputs": [
        {
          "output_type": "stream",
          "name": "stdout",
          "text": [
            "205\n"
          ]
        }
      ]
    },
    {
      "cell_type": "code",
      "source": [
        "# Print the average number of completions\n",
        "print(sum(course_completions) / len(course_completions))"
      ],
      "metadata": {
        "colab": {
          "base_uri": "https://localhost:8080/"
        },
        "id": "aAVV1PfuUhLI",
        "outputId": "44581595-2483-4903-caca-dbbca66ae157"
      },
      "execution_count": null,
      "outputs": [
        {
          "output_type": "stream",
          "name": "stdout",
          "text": [
            "123.22222222222223\n"
          ]
        }
      ]
    },
    {
      "cell_type": "code",
      "source": [
        "# Print the average number of completions, rounded to one decimal places\n",
        "print(round(sum(course_completions) / len(course_completions), 1))"
      ],
      "metadata": {
        "colab": {
          "base_uri": "https://localhost:8080/"
        },
        "id": "CZooNgTjUnSg",
        "outputId": "42f04642-75f5-4f72-fee9-74fafe143205"
      },
      "execution_count": null,
      "outputs": [
        {
          "output_type": "stream",
          "name": "stdout",
          "text": [
            "123.2\n"
          ]
        }
      ]
    },
    {
      "cell_type": "markdown",
      "source": [
        "## Lesson 2: Modules"
      ],
      "metadata": {
        "id": "OY2pZ4OrUz1e"
      }
    },
    {
      "cell_type": "markdown",
      "source": [
        "### Importing a module"
      ],
      "metadata": {
        "id": "-TUj7iMkBekr"
      }
    },
    {
      "cell_type": "markdown",
      "source": [
        "\n",
        "\n",
        "```\n",
        "# General syntax\n",
        "import <module_name>\n",
        "```\n",
        "\n"
      ],
      "metadata": {
        "id": "QM_gGokBBki6"
      }
    },
    {
      "cell_type": "code",
      "source": [
        "# Import the os module\n",
        "import os"
      ],
      "metadata": {
        "id": "v90T21khBra6"
      },
      "execution_count": null,
      "outputs": []
    },
    {
      "cell_type": "code",
      "source": [
        "# Check the type\n",
        "type(os)"
      ],
      "metadata": {
        "colab": {
          "base_uri": "https://localhost:8080/"
        },
        "id": "Xkpln1owBw9D",
        "outputId": "5e677364-6930-440d-e759-b2826c243270"
      },
      "execution_count": null,
      "outputs": [
        {
          "output_type": "execute_result",
          "data": {
            "text/plain": [
              "module"
            ]
          },
          "metadata": {},
          "execution_count": 5
        }
      ]
    },
    {
      "cell_type": "markdown",
      "source": [
        "### Finding a module's functions"
      ],
      "metadata": {
        "id": "VPbkRQhGB2x6"
      }
    },
    {
      "cell_type": "markdown",
      "source": [
        "*   Look at the documentation"
      ],
      "metadata": {
        "id": "fh1mMiPRB6-x"
      }
    },
    {
      "cell_type": "code",
      "source": [
        "# Call help()\n",
        "# Warning - will return a very large output!\n",
        "help(os)"
      ],
      "metadata": {
        "colab": {
          "base_uri": "https://localhost:8080/"
        },
        "collapsed": true,
        "id": "VJw_sZPqB9xB",
        "outputId": "953023d0-d062-47e8-e785-b4621dd2f816"
      },
      "execution_count": null,
      "outputs": [
        {
          "output_type": "stream",
          "name": "stdout",
          "text": [
            "Help on module os:\n",
            "\n",
            "NAME\n",
            "    os - OS routines for NT or Posix depending on what system we're on.\n",
            "\n",
            "MODULE REFERENCE\n",
            "    https://docs.python.org/3.11/library/os.html\n",
            "    \n",
            "    The following documentation is automatically generated from the Python\n",
            "    source files.  It may be incomplete, incorrect or include features that\n",
            "    are considered implementation detail and may vary between Python\n",
            "    implementations.  When in doubt, consult the module reference at the\n",
            "    location listed above.\n",
            "\n",
            "DESCRIPTION\n",
            "    This exports:\n",
            "      - all functions from posix or nt, e.g. unlink, stat, etc.\n",
            "      - os.path is either posixpath or ntpath\n",
            "      - os.name is either 'posix' or 'nt'\n",
            "      - os.curdir is a string representing the current directory (always '.')\n",
            "      - os.pardir is a string representing the parent directory (always '..')\n",
            "      - os.sep is the (or a most common) pathname separator ('/' or '\\\\')\n",
            "      - os.extsep is the extension separator (always '.')\n",
            "      - os.altsep is the alternate pathname separator (None or '/')\n",
            "      - os.pathsep is the component separator used in $PATH etc\n",
            "      - os.linesep is the line separator in text files ('\\r' or '\\n' or '\\r\\n')\n",
            "      - os.defpath is the default search path for executables\n",
            "      - os.devnull is the file path of the null device ('/dev/null', etc.)\n",
            "    \n",
            "    Programs that import and use 'os' stand a better chance of being\n",
            "    portable between different platforms.  Of course, they must then\n",
            "    only use functions that are defined by all platforms (e.g., unlink\n",
            "    and opendir), and leave all pathname manipulation to os.path\n",
            "    (e.g., split and join).\n",
            "\n",
            "CLASSES\n",
            "    builtins.Exception(builtins.BaseException)\n",
            "        builtins.OSError\n",
            "    builtins.object\n",
            "        posix.DirEntry\n",
            "    builtins.tuple(builtins.object)\n",
            "        stat_result\n",
            "        statvfs_result\n",
            "        terminal_size\n",
            "        posix.sched_param\n",
            "        posix.times_result\n",
            "        posix.uname_result\n",
            "        posix.waitid_result\n",
            "    \n",
            "    class DirEntry(builtins.object)\n",
            "     |  Methods defined here:\n",
            "     |  \n",
            "     |  __fspath__(self, /)\n",
            "     |      Returns the path for the entry.\n",
            "     |  \n",
            "     |  __repr__(self, /)\n",
            "     |      Return repr(self).\n",
            "     |  \n",
            "     |  inode(self, /)\n",
            "     |      Return inode of the entry; cached per entry.\n",
            "     |  \n",
            "     |  is_dir(self, /, *, follow_symlinks=True)\n",
            "     |      Return True if the entry is a directory; cached per entry.\n",
            "     |  \n",
            "     |  is_file(self, /, *, follow_symlinks=True)\n",
            "     |      Return True if the entry is a file; cached per entry.\n",
            "     |  \n",
            "     |  is_symlink(self, /)\n",
            "     |      Return True if the entry is a symbolic link; cached per entry.\n",
            "     |  \n",
            "     |  stat(self, /, *, follow_symlinks=True)\n",
            "     |      Return stat_result object for the entry; cached per entry.\n",
            "     |  \n",
            "     |  ----------------------------------------------------------------------\n",
            "     |  Class methods defined here:\n",
            "     |  \n",
            "     |  __class_getitem__(...)\n",
            "     |      See PEP 585\n",
            "     |  \n",
            "     |  ----------------------------------------------------------------------\n",
            "     |  Data descriptors defined here:\n",
            "     |  \n",
            "     |  name\n",
            "     |      the entry's base filename, relative to scandir() \"path\" argument\n",
            "     |  \n",
            "     |  path\n",
            "     |      the entry's full path name; equivalent to os.path.join(scandir_path, entry.name)\n",
            "    \n",
            "    error = class OSError(Exception)\n",
            "     |  Base class for I/O related errors.\n",
            "     |  \n",
            "     |  Method resolution order:\n",
            "     |      OSError\n",
            "     |      Exception\n",
            "     |      BaseException\n",
            "     |      object\n",
            "     |  \n",
            "     |  Built-in subclasses:\n",
            "     |      BlockingIOError\n",
            "     |      ChildProcessError\n",
            "     |      ConnectionError\n",
            "     |      FileExistsError\n",
            "     |      ... and 7 other subclasses\n",
            "     |  \n",
            "     |  Methods defined here:\n",
            "     |  \n",
            "     |  __init__(self, /, *args, **kwargs)\n",
            "     |      Initialize self.  See help(type(self)) for accurate signature.\n",
            "     |  \n",
            "     |  __reduce__(...)\n",
            "     |      Helper for pickle.\n",
            "     |  \n",
            "     |  __str__(self, /)\n",
            "     |      Return str(self).\n",
            "     |  \n",
            "     |  ----------------------------------------------------------------------\n",
            "     |  Static methods defined here:\n",
            "     |  \n",
            "     |  __new__(*args, **kwargs)\n",
            "     |      Create and return a new object.  See help(type) for accurate signature.\n",
            "     |  \n",
            "     |  ----------------------------------------------------------------------\n",
            "     |  Data descriptors defined here:\n",
            "     |  \n",
            "     |  characters_written\n",
            "     |  \n",
            "     |  errno\n",
            "     |      POSIX exception code\n",
            "     |  \n",
            "     |  filename\n",
            "     |      exception filename\n",
            "     |  \n",
            "     |  filename2\n",
            "     |      second exception filename\n",
            "     |  \n",
            "     |  strerror\n",
            "     |      exception strerror\n",
            "     |  \n",
            "     |  ----------------------------------------------------------------------\n",
            "     |  Methods inherited from BaseException:\n",
            "     |  \n",
            "     |  __delattr__(self, name, /)\n",
            "     |      Implement delattr(self, name).\n",
            "     |  \n",
            "     |  __getattribute__(self, name, /)\n",
            "     |      Return getattr(self, name).\n",
            "     |  \n",
            "     |  __repr__(self, /)\n",
            "     |      Return repr(self).\n",
            "     |  \n",
            "     |  __setattr__(self, name, value, /)\n",
            "     |      Implement setattr(self, name, value).\n",
            "     |  \n",
            "     |  __setstate__(...)\n",
            "     |  \n",
            "     |  add_note(...)\n",
            "     |      Exception.add_note(note) --\n",
            "     |      add a note to the exception\n",
            "     |  \n",
            "     |  with_traceback(...)\n",
            "     |      Exception.with_traceback(tb) --\n",
            "     |      set self.__traceback__ to tb and return self.\n",
            "     |  \n",
            "     |  ----------------------------------------------------------------------\n",
            "     |  Data descriptors inherited from BaseException:\n",
            "     |  \n",
            "     |  __cause__\n",
            "     |      exception cause\n",
            "     |  \n",
            "     |  __context__\n",
            "     |      exception context\n",
            "     |  \n",
            "     |  __dict__\n",
            "     |  \n",
            "     |  __suppress_context__\n",
            "     |  \n",
            "     |  __traceback__\n",
            "     |  \n",
            "     |  args\n",
            "    \n",
            "    class sched_param(builtins.tuple)\n",
            "     |  sched_param(sched_priority)\n",
            "     |  \n",
            "     |  Currently has only one field: sched_priority\n",
            "     |  \n",
            "     |  sched_priority\n",
            "     |    A scheduling parameter.\n",
            "     |  \n",
            "     |  Method resolution order:\n",
            "     |      sched_param\n",
            "     |      builtins.tuple\n",
            "     |      builtins.object\n",
            "     |  \n",
            "     |  Methods defined here:\n",
            "     |  \n",
            "     |  __reduce__(...)\n",
            "     |      Helper for pickle.\n",
            "     |  \n",
            "     |  __repr__(self, /)\n",
            "     |      Return repr(self).\n",
            "     |  \n",
            "     |  ----------------------------------------------------------------------\n",
            "     |  Static methods defined here:\n",
            "     |  \n",
            "     |  __new__(*args, **kwargs)\n",
            "     |      Create and return a new object.  See help(type) for accurate signature.\n",
            "     |  \n",
            "     |  ----------------------------------------------------------------------\n",
            "     |  Data descriptors defined here:\n",
            "     |  \n",
            "     |  sched_priority\n",
            "     |      the scheduling priority\n",
            "     |  \n",
            "     |  ----------------------------------------------------------------------\n",
            "     |  Data and other attributes defined here:\n",
            "     |  \n",
            "     |  __match_args__ = ('sched_priority',)\n",
            "     |  \n",
            "     |  n_fields = 1\n",
            "     |  \n",
            "     |  n_sequence_fields = 1\n",
            "     |  \n",
            "     |  n_unnamed_fields = 0\n",
            "     |  \n",
            "     |  ----------------------------------------------------------------------\n",
            "     |  Methods inherited from builtins.tuple:\n",
            "     |  \n",
            "     |  __add__(self, value, /)\n",
            "     |      Return self+value.\n",
            "     |  \n",
            "     |  __contains__(self, key, /)\n",
            "     |      Return key in self.\n",
            "     |  \n",
            "     |  __eq__(self, value, /)\n",
            "     |      Return self==value.\n",
            "     |  \n",
            "     |  __ge__(self, value, /)\n",
            "     |      Return self>=value.\n",
            "     |  \n",
            "     |  __getattribute__(self, name, /)\n",
            "     |      Return getattr(self, name).\n",
            "     |  \n",
            "     |  __getitem__(self, key, /)\n",
            "     |      Return self[key].\n",
            "     |  \n",
            "     |  __getnewargs__(self, /)\n",
            "     |  \n",
            "     |  __gt__(self, value, /)\n",
            "     |      Return self>value.\n",
            "     |  \n",
            "     |  __hash__(self, /)\n",
            "     |      Return hash(self).\n",
            "     |  \n",
            "     |  __iter__(self, /)\n",
            "     |      Implement iter(self).\n",
            "     |  \n",
            "     |  __le__(self, value, /)\n",
            "     |      Return self<=value.\n",
            "     |  \n",
            "     |  __len__(self, /)\n",
            "     |      Return len(self).\n",
            "     |  \n",
            "     |  __lt__(self, value, /)\n",
            "     |      Return self<value.\n",
            "     |  \n",
            "     |  __mul__(self, value, /)\n",
            "     |      Return self*value.\n",
            "     |  \n",
            "     |  __ne__(self, value, /)\n",
            "     |      Return self!=value.\n",
            "     |  \n",
            "     |  __rmul__(self, value, /)\n",
            "     |      Return value*self.\n",
            "     |  \n",
            "     |  count(self, value, /)\n",
            "     |      Return number of occurrences of value.\n",
            "     |  \n",
            "     |  index(self, value, start=0, stop=9223372036854775807, /)\n",
            "     |      Return first index of value.\n",
            "     |      \n",
            "     |      Raises ValueError if the value is not present.\n",
            "     |  \n",
            "     |  ----------------------------------------------------------------------\n",
            "     |  Class methods inherited from builtins.tuple:\n",
            "     |  \n",
            "     |  __class_getitem__(...)\n",
            "     |      See PEP 585\n",
            "    \n",
            "    class stat_result(builtins.tuple)\n",
            "     |  stat_result(iterable=(), /)\n",
            "     |  \n",
            "     |  stat_result: Result from stat, fstat, or lstat.\n",
            "     |  \n",
            "     |  This object may be accessed either as a tuple of\n",
            "     |    (mode, ino, dev, nlink, uid, gid, size, atime, mtime, ctime)\n",
            "     |  or via the attributes st_mode, st_ino, st_dev, st_nlink, st_uid, and so on.\n",
            "     |  \n",
            "     |  Posix/windows: If your platform supports st_blksize, st_blocks, st_rdev,\n",
            "     |  or st_flags, they are available as attributes only.\n",
            "     |  \n",
            "     |  See os.stat for more information.\n",
            "     |  \n",
            "     |  Method resolution order:\n",
            "     |      stat_result\n",
            "     |      builtins.tuple\n",
            "     |      builtins.object\n",
            "     |  \n",
            "     |  Methods defined here:\n",
            "     |  \n",
            "     |  __reduce__(...)\n",
            "     |      Helper for pickle.\n",
            "     |  \n",
            "     |  __repr__(self, /)\n",
            "     |      Return repr(self).\n",
            "     |  \n",
            "     |  ----------------------------------------------------------------------\n",
            "     |  Static methods defined here:\n",
            "     |  \n",
            "     |  __new__(*args, **kwargs)\n",
            "     |      Create and return a new object.  See help(type) for accurate signature.\n",
            "     |  \n",
            "     |  ----------------------------------------------------------------------\n",
            "     |  Data descriptors defined here:\n",
            "     |  \n",
            "     |  st_atime\n",
            "     |      time of last access\n",
            "     |  \n",
            "     |  st_atime_ns\n",
            "     |      time of last access in nanoseconds\n",
            "     |  \n",
            "     |  st_blksize\n",
            "     |      blocksize for filesystem I/O\n",
            "     |  \n",
            "     |  st_blocks\n",
            "     |      number of blocks allocated\n",
            "     |  \n",
            "     |  st_ctime\n",
            "     |      time of last change\n",
            "     |  \n",
            "     |  st_ctime_ns\n",
            "     |      time of last change in nanoseconds\n",
            "     |  \n",
            "     |  st_dev\n",
            "     |      device\n",
            "     |  \n",
            "     |  st_gid\n",
            "     |      group ID of owner\n",
            "     |  \n",
            "     |  st_ino\n",
            "     |      inode\n",
            "     |  \n",
            "     |  st_mode\n",
            "     |      protection bits\n",
            "     |  \n",
            "     |  st_mtime\n",
            "     |      time of last modification\n",
            "     |  \n",
            "     |  st_mtime_ns\n",
            "     |      time of last modification in nanoseconds\n",
            "     |  \n",
            "     |  st_nlink\n",
            "     |      number of hard links\n",
            "     |  \n",
            "     |  st_rdev\n",
            "     |      device type (if inode device)\n",
            "     |  \n",
            "     |  st_size\n",
            "     |      total size, in bytes\n",
            "     |  \n",
            "     |  st_uid\n",
            "     |      user ID of owner\n",
            "     |  \n",
            "     |  ----------------------------------------------------------------------\n",
            "     |  Data and other attributes defined here:\n",
            "     |  \n",
            "     |  __match_args__ = ('st_mode', 'st_ino', 'st_dev', 'st_nlink', 'st_uid',...\n",
            "     |  \n",
            "     |  n_fields = 19\n",
            "     |  \n",
            "     |  n_sequence_fields = 10\n",
            "     |  \n",
            "     |  n_unnamed_fields = 3\n",
            "     |  \n",
            "     |  ----------------------------------------------------------------------\n",
            "     |  Methods inherited from builtins.tuple:\n",
            "     |  \n",
            "     |  __add__(self, value, /)\n",
            "     |      Return self+value.\n",
            "     |  \n",
            "     |  __contains__(self, key, /)\n",
            "     |      Return key in self.\n",
            "     |  \n",
            "     |  __eq__(self, value, /)\n",
            "     |      Return self==value.\n",
            "     |  \n",
            "     |  __ge__(self, value, /)\n",
            "     |      Return self>=value.\n",
            "     |  \n",
            "     |  __getattribute__(self, name, /)\n",
            "     |      Return getattr(self, name).\n",
            "     |  \n",
            "     |  __getitem__(self, key, /)\n",
            "     |      Return self[key].\n",
            "     |  \n",
            "     |  __getnewargs__(self, /)\n",
            "     |  \n",
            "     |  __gt__(self, value, /)\n",
            "     |      Return self>value.\n",
            "     |  \n",
            "     |  __hash__(self, /)\n",
            "     |      Return hash(self).\n",
            "     |  \n",
            "     |  __iter__(self, /)\n",
            "     |      Implement iter(self).\n",
            "     |  \n",
            "     |  __le__(self, value, /)\n",
            "     |      Return self<=value.\n",
            "     |  \n",
            "     |  __len__(self, /)\n",
            "     |      Return len(self).\n",
            "     |  \n",
            "     |  __lt__(self, value, /)\n",
            "     |      Return self<value.\n",
            "     |  \n",
            "     |  __mul__(self, value, /)\n",
            "     |      Return self*value.\n",
            "     |  \n",
            "     |  __ne__(self, value, /)\n",
            "     |      Return self!=value.\n",
            "     |  \n",
            "     |  __rmul__(self, value, /)\n",
            "     |      Return value*self.\n",
            "     |  \n",
            "     |  count(self, value, /)\n",
            "     |      Return number of occurrences of value.\n",
            "     |  \n",
            "     |  index(self, value, start=0, stop=9223372036854775807, /)\n",
            "     |      Return first index of value.\n",
            "     |      \n",
            "     |      Raises ValueError if the value is not present.\n",
            "     |  \n",
            "     |  ----------------------------------------------------------------------\n",
            "     |  Class methods inherited from builtins.tuple:\n",
            "     |  \n",
            "     |  __class_getitem__(...)\n",
            "     |      See PEP 585\n",
            "    \n",
            "    class statvfs_result(builtins.tuple)\n",
            "     |  statvfs_result(iterable=(), /)\n",
            "     |  \n",
            "     |  statvfs_result: Result from statvfs or fstatvfs.\n",
            "     |  \n",
            "     |  This object may be accessed either as a tuple of\n",
            "     |    (bsize, frsize, blocks, bfree, bavail, files, ffree, favail, flag, namemax),\n",
            "     |  or via the attributes f_bsize, f_frsize, f_blocks, f_bfree, and so on.\n",
            "     |  \n",
            "     |  See os.statvfs for more information.\n",
            "     |  \n",
            "     |  Method resolution order:\n",
            "     |      statvfs_result\n",
            "     |      builtins.tuple\n",
            "     |      builtins.object\n",
            "     |  \n",
            "     |  Methods defined here:\n",
            "     |  \n",
            "     |  __reduce__(...)\n",
            "     |      Helper for pickle.\n",
            "     |  \n",
            "     |  __repr__(self, /)\n",
            "     |      Return repr(self).\n",
            "     |  \n",
            "     |  ----------------------------------------------------------------------\n",
            "     |  Static methods defined here:\n",
            "     |  \n",
            "     |  __new__(*args, **kwargs)\n",
            "     |      Create and return a new object.  See help(type) for accurate signature.\n",
            "     |  \n",
            "     |  ----------------------------------------------------------------------\n",
            "     |  Data descriptors defined here:\n",
            "     |  \n",
            "     |  f_bavail\n",
            "     |  \n",
            "     |  f_bfree\n",
            "     |  \n",
            "     |  f_blocks\n",
            "     |  \n",
            "     |  f_bsize\n",
            "     |  \n",
            "     |  f_favail\n",
            "     |  \n",
            "     |  f_ffree\n",
            "     |  \n",
            "     |  f_files\n",
            "     |  \n",
            "     |  f_flag\n",
            "     |  \n",
            "     |  f_frsize\n",
            "     |  \n",
            "     |  f_fsid\n",
            "     |  \n",
            "     |  f_namemax\n",
            "     |  \n",
            "     |  ----------------------------------------------------------------------\n",
            "     |  Data and other attributes defined here:\n",
            "     |  \n",
            "     |  __match_args__ = ('f_bsize', 'f_frsize', 'f_blocks', 'f_bfree', 'f_bav...\n",
            "     |  \n",
            "     |  n_fields = 11\n",
            "     |  \n",
            "     |  n_sequence_fields = 10\n",
            "     |  \n",
            "     |  n_unnamed_fields = 0\n",
            "     |  \n",
            "     |  ----------------------------------------------------------------------\n",
            "     |  Methods inherited from builtins.tuple:\n",
            "     |  \n",
            "     |  __add__(self, value, /)\n",
            "     |      Return self+value.\n",
            "     |  \n",
            "     |  __contains__(self, key, /)\n",
            "     |      Return key in self.\n",
            "     |  \n",
            "     |  __eq__(self, value, /)\n",
            "     |      Return self==value.\n",
            "     |  \n",
            "     |  __ge__(self, value, /)\n",
            "     |      Return self>=value.\n",
            "     |  \n",
            "     |  __getattribute__(self, name, /)\n",
            "     |      Return getattr(self, name).\n",
            "     |  \n",
            "     |  __getitem__(self, key, /)\n",
            "     |      Return self[key].\n",
            "     |  \n",
            "     |  __getnewargs__(self, /)\n",
            "     |  \n",
            "     |  __gt__(self, value, /)\n",
            "     |      Return self>value.\n",
            "     |  \n",
            "     |  __hash__(self, /)\n",
            "     |      Return hash(self).\n",
            "     |  \n",
            "     |  __iter__(self, /)\n",
            "     |      Implement iter(self).\n",
            "     |  \n",
            "     |  __le__(self, value, /)\n",
            "     |      Return self<=value.\n",
            "     |  \n",
            "     |  __len__(self, /)\n",
            "     |      Return len(self).\n",
            "     |  \n",
            "     |  __lt__(self, value, /)\n",
            "     |      Return self<value.\n",
            "     |  \n",
            "     |  __mul__(self, value, /)\n",
            "     |      Return self*value.\n",
            "     |  \n",
            "     |  __ne__(self, value, /)\n",
            "     |      Return self!=value.\n",
            "     |  \n",
            "     |  __rmul__(self, value, /)\n",
            "     |      Return value*self.\n",
            "     |  \n",
            "     |  count(self, value, /)\n",
            "     |      Return number of occurrences of value.\n",
            "     |  \n",
            "     |  index(self, value, start=0, stop=9223372036854775807, /)\n",
            "     |      Return first index of value.\n",
            "     |      \n",
            "     |      Raises ValueError if the value is not present.\n",
            "     |  \n",
            "     |  ----------------------------------------------------------------------\n",
            "     |  Class methods inherited from builtins.tuple:\n",
            "     |  \n",
            "     |  __class_getitem__(...)\n",
            "     |      See PEP 585\n",
            "    \n",
            "    class terminal_size(builtins.tuple)\n",
            "     |  terminal_size(iterable=(), /)\n",
            "     |  \n",
            "     |  A tuple of (columns, lines) for holding terminal window size\n",
            "     |  \n",
            "     |  Method resolution order:\n",
            "     |      terminal_size\n",
            "     |      builtins.tuple\n",
            "     |      builtins.object\n",
            "     |  \n",
            "     |  Methods defined here:\n",
            "     |  \n",
            "     |  __reduce__(...)\n",
            "     |      Helper for pickle.\n",
            "     |  \n",
            "     |  __repr__(self, /)\n",
            "     |      Return repr(self).\n",
            "     |  \n",
            "     |  ----------------------------------------------------------------------\n",
            "     |  Static methods defined here:\n",
            "     |  \n",
            "     |  __new__(*args, **kwargs)\n",
            "     |      Create and return a new object.  See help(type) for accurate signature.\n",
            "     |  \n",
            "     |  ----------------------------------------------------------------------\n",
            "     |  Data descriptors defined here:\n",
            "     |  \n",
            "     |  columns\n",
            "     |      width of the terminal window in characters\n",
            "     |  \n",
            "     |  lines\n",
            "     |      height of the terminal window in characters\n",
            "     |  \n",
            "     |  ----------------------------------------------------------------------\n",
            "     |  Data and other attributes defined here:\n",
            "     |  \n",
            "     |  __match_args__ = ('columns', 'lines')\n",
            "     |  \n",
            "     |  n_fields = 2\n",
            "     |  \n",
            "     |  n_sequence_fields = 2\n",
            "     |  \n",
            "     |  n_unnamed_fields = 0\n",
            "     |  \n",
            "     |  ----------------------------------------------------------------------\n",
            "     |  Methods inherited from builtins.tuple:\n",
            "     |  \n",
            "     |  __add__(self, value, /)\n",
            "     |      Return self+value.\n",
            "     |  \n",
            "     |  __contains__(self, key, /)\n",
            "     |      Return key in self.\n",
            "     |  \n",
            "     |  __eq__(self, value, /)\n",
            "     |      Return self==value.\n",
            "     |  \n",
            "     |  __ge__(self, value, /)\n",
            "     |      Return self>=value.\n",
            "     |  \n",
            "     |  __getattribute__(self, name, /)\n",
            "     |      Return getattr(self, name).\n",
            "     |  \n",
            "     |  __getitem__(self, key, /)\n",
            "     |      Return self[key].\n",
            "     |  \n",
            "     |  __getnewargs__(self, /)\n",
            "     |  \n",
            "     |  __gt__(self, value, /)\n",
            "     |      Return self>value.\n",
            "     |  \n",
            "     |  __hash__(self, /)\n",
            "     |      Return hash(self).\n",
            "     |  \n",
            "     |  __iter__(self, /)\n",
            "     |      Implement iter(self).\n",
            "     |  \n",
            "     |  __le__(self, value, /)\n",
            "     |      Return self<=value.\n",
            "     |  \n",
            "     |  __len__(self, /)\n",
            "     |      Return len(self).\n",
            "     |  \n",
            "     |  __lt__(self, value, /)\n",
            "     |      Return self<value.\n",
            "     |  \n",
            "     |  __mul__(self, value, /)\n",
            "     |      Return self*value.\n",
            "     |  \n",
            "     |  __ne__(self, value, /)\n",
            "     |      Return self!=value.\n",
            "     |  \n",
            "     |  __rmul__(self, value, /)\n",
            "     |      Return value*self.\n",
            "     |  \n",
            "     |  count(self, value, /)\n",
            "     |      Return number of occurrences of value.\n",
            "     |  \n",
            "     |  index(self, value, start=0, stop=9223372036854775807, /)\n",
            "     |      Return first index of value.\n",
            "     |      \n",
            "     |      Raises ValueError if the value is not present.\n",
            "     |  \n",
            "     |  ----------------------------------------------------------------------\n",
            "     |  Class methods inherited from builtins.tuple:\n",
            "     |  \n",
            "     |  __class_getitem__(...)\n",
            "     |      See PEP 585\n",
            "    \n",
            "    class times_result(builtins.tuple)\n",
            "     |  times_result(iterable=(), /)\n",
            "     |  \n",
            "     |  times_result: Result from os.times().\n",
            "     |  \n",
            "     |  This object may be accessed either as a tuple of\n",
            "     |    (user, system, children_user, children_system, elapsed),\n",
            "     |  or via the attributes user, system, children_user, children_system,\n",
            "     |  and elapsed.\n",
            "     |  \n",
            "     |  See os.times for more information.\n",
            "     |  \n",
            "     |  Method resolution order:\n",
            "     |      times_result\n",
            "     |      builtins.tuple\n",
            "     |      builtins.object\n",
            "     |  \n",
            "     |  Methods defined here:\n",
            "     |  \n",
            "     |  __reduce__(...)\n",
            "     |      Helper for pickle.\n",
            "     |  \n",
            "     |  __repr__(self, /)\n",
            "     |      Return repr(self).\n",
            "     |  \n",
            "     |  ----------------------------------------------------------------------\n",
            "     |  Static methods defined here:\n",
            "     |  \n",
            "     |  __new__(*args, **kwargs)\n",
            "     |      Create and return a new object.  See help(type) for accurate signature.\n",
            "     |  \n",
            "     |  ----------------------------------------------------------------------\n",
            "     |  Data descriptors defined here:\n",
            "     |  \n",
            "     |  children_system\n",
            "     |      system time of children\n",
            "     |  \n",
            "     |  children_user\n",
            "     |      user time of children\n",
            "     |  \n",
            "     |  elapsed\n",
            "     |      elapsed time since an arbitrary point in the past\n",
            "     |  \n",
            "     |  system\n",
            "     |      system time\n",
            "     |  \n",
            "     |  user\n",
            "     |      user time\n",
            "     |  \n",
            "     |  ----------------------------------------------------------------------\n",
            "     |  Data and other attributes defined here:\n",
            "     |  \n",
            "     |  __match_args__ = ('user', 'system', 'children_user', 'children_system'...\n",
            "     |  \n",
            "     |  n_fields = 5\n",
            "     |  \n",
            "     |  n_sequence_fields = 5\n",
            "     |  \n",
            "     |  n_unnamed_fields = 0\n",
            "     |  \n",
            "     |  ----------------------------------------------------------------------\n",
            "     |  Methods inherited from builtins.tuple:\n",
            "     |  \n",
            "     |  __add__(self, value, /)\n",
            "     |      Return self+value.\n",
            "     |  \n",
            "     |  __contains__(self, key, /)\n",
            "     |      Return key in self.\n",
            "     |  \n",
            "     |  __eq__(self, value, /)\n",
            "     |      Return self==value.\n",
            "     |  \n",
            "     |  __ge__(self, value, /)\n",
            "     |      Return self>=value.\n",
            "     |  \n",
            "     |  __getattribute__(self, name, /)\n",
            "     |      Return getattr(self, name).\n",
            "     |  \n",
            "     |  __getitem__(self, key, /)\n",
            "     |      Return self[key].\n",
            "     |  \n",
            "     |  __getnewargs__(self, /)\n",
            "     |  \n",
            "     |  __gt__(self, value, /)\n",
            "     |      Return self>value.\n",
            "     |  \n",
            "     |  __hash__(self, /)\n",
            "     |      Return hash(self).\n",
            "     |  \n",
            "     |  __iter__(self, /)\n",
            "     |      Implement iter(self).\n",
            "     |  \n",
            "     |  __le__(self, value, /)\n",
            "     |      Return self<=value.\n",
            "     |  \n",
            "     |  __len__(self, /)\n",
            "     |      Return len(self).\n",
            "     |  \n",
            "     |  __lt__(self, value, /)\n",
            "     |      Return self<value.\n",
            "     |  \n",
            "     |  __mul__(self, value, /)\n",
            "     |      Return self*value.\n",
            "     |  \n",
            "     |  __ne__(self, value, /)\n",
            "     |      Return self!=value.\n",
            "     |  \n",
            "     |  __rmul__(self, value, /)\n",
            "     |      Return value*self.\n",
            "     |  \n",
            "     |  count(self, value, /)\n",
            "     |      Return number of occurrences of value.\n",
            "     |  \n",
            "     |  index(self, value, start=0, stop=9223372036854775807, /)\n",
            "     |      Return first index of value.\n",
            "     |      \n",
            "     |      Raises ValueError if the value is not present.\n",
            "     |  \n",
            "     |  ----------------------------------------------------------------------\n",
            "     |  Class methods inherited from builtins.tuple:\n",
            "     |  \n",
            "     |  __class_getitem__(...)\n",
            "     |      See PEP 585\n",
            "    \n",
            "    class uname_result(builtins.tuple)\n",
            "     |  uname_result(iterable=(), /)\n",
            "     |  \n",
            "     |  uname_result: Result from os.uname().\n",
            "     |  \n",
            "     |  This object may be accessed either as a tuple of\n",
            "     |    (sysname, nodename, release, version, machine),\n",
            "     |  or via the attributes sysname, nodename, release, version, and machine.\n",
            "     |  \n",
            "     |  See os.uname for more information.\n",
            "     |  \n",
            "     |  Method resolution order:\n",
            "     |      uname_result\n",
            "     |      builtins.tuple\n",
            "     |      builtins.object\n",
            "     |  \n",
            "     |  Methods defined here:\n",
            "     |  \n",
            "     |  __reduce__(...)\n",
            "     |      Helper for pickle.\n",
            "     |  \n",
            "     |  __repr__(self, /)\n",
            "     |      Return repr(self).\n",
            "     |  \n",
            "     |  ----------------------------------------------------------------------\n",
            "     |  Static methods defined here:\n",
            "     |  \n",
            "     |  __new__(*args, **kwargs)\n",
            "     |      Create and return a new object.  See help(type) for accurate signature.\n",
            "     |  \n",
            "     |  ----------------------------------------------------------------------\n",
            "     |  Data descriptors defined here:\n",
            "     |  \n",
            "     |  machine\n",
            "     |      hardware identifier\n",
            "     |  \n",
            "     |  nodename\n",
            "     |      name of machine on network (implementation-defined)\n",
            "     |  \n",
            "     |  release\n",
            "     |      operating system release\n",
            "     |  \n",
            "     |  sysname\n",
            "     |      operating system name\n",
            "     |  \n",
            "     |  version\n",
            "     |      operating system version\n",
            "     |  \n",
            "     |  ----------------------------------------------------------------------\n",
            "     |  Data and other attributes defined here:\n",
            "     |  \n",
            "     |  __match_args__ = ('sysname', 'nodename', 'release', 'version', 'machin...\n",
            "     |  \n",
            "     |  n_fields = 5\n",
            "     |  \n",
            "     |  n_sequence_fields = 5\n",
            "     |  \n",
            "     |  n_unnamed_fields = 0\n",
            "     |  \n",
            "     |  ----------------------------------------------------------------------\n",
            "     |  Methods inherited from builtins.tuple:\n",
            "     |  \n",
            "     |  __add__(self, value, /)\n",
            "     |      Return self+value.\n",
            "     |  \n",
            "     |  __contains__(self, key, /)\n",
            "     |      Return key in self.\n",
            "     |  \n",
            "     |  __eq__(self, value, /)\n",
            "     |      Return self==value.\n",
            "     |  \n",
            "     |  __ge__(self, value, /)\n",
            "     |      Return self>=value.\n",
            "     |  \n",
            "     |  __getattribute__(self, name, /)\n",
            "     |      Return getattr(self, name).\n",
            "     |  \n",
            "     |  __getitem__(self, key, /)\n",
            "     |      Return self[key].\n",
            "     |  \n",
            "     |  __getnewargs__(self, /)\n",
            "     |  \n",
            "     |  __gt__(self, value, /)\n",
            "     |      Return self>value.\n",
            "     |  \n",
            "     |  __hash__(self, /)\n",
            "     |      Return hash(self).\n",
            "     |  \n",
            "     |  __iter__(self, /)\n",
            "     |      Implement iter(self).\n",
            "     |  \n",
            "     |  __le__(self, value, /)\n",
            "     |      Return self<=value.\n",
            "     |  \n",
            "     |  __len__(self, /)\n",
            "     |      Return len(self).\n",
            "     |  \n",
            "     |  __lt__(self, value, /)\n",
            "     |      Return self<value.\n",
            "     |  \n",
            "     |  __mul__(self, value, /)\n",
            "     |      Return self*value.\n",
            "     |  \n",
            "     |  __ne__(self, value, /)\n",
            "     |      Return self!=value.\n",
            "     |  \n",
            "     |  __rmul__(self, value, /)\n",
            "     |      Return value*self.\n",
            "     |  \n",
            "     |  count(self, value, /)\n",
            "     |      Return number of occurrences of value.\n",
            "     |  \n",
            "     |  index(self, value, start=0, stop=9223372036854775807, /)\n",
            "     |      Return first index of value.\n",
            "     |      \n",
            "     |      Raises ValueError if the value is not present.\n",
            "     |  \n",
            "     |  ----------------------------------------------------------------------\n",
            "     |  Class methods inherited from builtins.tuple:\n",
            "     |  \n",
            "     |  __class_getitem__(...)\n",
            "     |      See PEP 585\n",
            "    \n",
            "    class waitid_result(builtins.tuple)\n",
            "     |  waitid_result(iterable=(), /)\n",
            "     |  \n",
            "     |  waitid_result: Result from waitid.\n",
            "     |  \n",
            "     |  This object may be accessed either as a tuple of\n",
            "     |    (si_pid, si_uid, si_signo, si_status, si_code),\n",
            "     |  or via the attributes si_pid, si_uid, and so on.\n",
            "     |  \n",
            "     |  See os.waitid for more information.\n",
            "     |  \n",
            "     |  Method resolution order:\n",
            "     |      waitid_result\n",
            "     |      builtins.tuple\n",
            "     |      builtins.object\n",
            "     |  \n",
            "     |  Methods defined here:\n",
            "     |  \n",
            "     |  __reduce__(...)\n",
            "     |      Helper for pickle.\n",
            "     |  \n",
            "     |  __repr__(self, /)\n",
            "     |      Return repr(self).\n",
            "     |  \n",
            "     |  ----------------------------------------------------------------------\n",
            "     |  Static methods defined here:\n",
            "     |  \n",
            "     |  __new__(*args, **kwargs)\n",
            "     |      Create and return a new object.  See help(type) for accurate signature.\n",
            "     |  \n",
            "     |  ----------------------------------------------------------------------\n",
            "     |  Data descriptors defined here:\n",
            "     |  \n",
            "     |  si_code\n",
            "     |  \n",
            "     |  si_pid\n",
            "     |  \n",
            "     |  si_signo\n",
            "     |  \n",
            "     |  si_status\n",
            "     |  \n",
            "     |  si_uid\n",
            "     |  \n",
            "     |  ----------------------------------------------------------------------\n",
            "     |  Data and other attributes defined here:\n",
            "     |  \n",
            "     |  __match_args__ = ('si_pid', 'si_uid', 'si_signo', 'si_status', 'si_cod...\n",
            "     |  \n",
            "     |  n_fields = 5\n",
            "     |  \n",
            "     |  n_sequence_fields = 5\n",
            "     |  \n",
            "     |  n_unnamed_fields = 0\n",
            "     |  \n",
            "     |  ----------------------------------------------------------------------\n",
            "     |  Methods inherited from builtins.tuple:\n",
            "     |  \n",
            "     |  __add__(self, value, /)\n",
            "     |      Return self+value.\n",
            "     |  \n",
            "     |  __contains__(self, key, /)\n",
            "     |      Return key in self.\n",
            "     |  \n",
            "     |  __eq__(self, value, /)\n",
            "     |      Return self==value.\n",
            "     |  \n",
            "     |  __ge__(self, value, /)\n",
            "     |      Return self>=value.\n",
            "     |  \n",
            "     |  __getattribute__(self, name, /)\n",
            "     |      Return getattr(self, name).\n",
            "     |  \n",
            "     |  __getitem__(self, key, /)\n",
            "     |      Return self[key].\n",
            "     |  \n",
            "     |  __getnewargs__(self, /)\n",
            "     |  \n",
            "     |  __gt__(self, value, /)\n",
            "     |      Return self>value.\n",
            "     |  \n",
            "     |  __hash__(self, /)\n",
            "     |      Return hash(self).\n",
            "     |  \n",
            "     |  __iter__(self, /)\n",
            "     |      Implement iter(self).\n",
            "     |  \n",
            "     |  __le__(self, value, /)\n",
            "     |      Return self<=value.\n",
            "     |  \n",
            "     |  __len__(self, /)\n",
            "     |      Return len(self).\n",
            "     |  \n",
            "     |  __lt__(self, value, /)\n",
            "     |      Return self<value.\n",
            "     |  \n",
            "     |  __mul__(self, value, /)\n",
            "     |      Return self*value.\n",
            "     |  \n",
            "     |  __ne__(self, value, /)\n",
            "     |      Return self!=value.\n",
            "     |  \n",
            "     |  __rmul__(self, value, /)\n",
            "     |      Return value*self.\n",
            "     |  \n",
            "     |  count(self, value, /)\n",
            "     |      Return number of occurrences of value.\n",
            "     |  \n",
            "     |  index(self, value, start=0, stop=9223372036854775807, /)\n",
            "     |      Return first index of value.\n",
            "     |      \n",
            "     |      Raises ValueError if the value is not present.\n",
            "     |  \n",
            "     |  ----------------------------------------------------------------------\n",
            "     |  Class methods inherited from builtins.tuple:\n",
            "     |  \n",
            "     |  __class_getitem__(...)\n",
            "     |      See PEP 585\n",
            "\n",
            "FUNCTIONS\n",
            "    WCOREDUMP(status, /)\n",
            "        Return True if the process returning status was dumped to a core file.\n",
            "    \n",
            "    WEXITSTATUS(status)\n",
            "        Return the process return code from status.\n",
            "    \n",
            "    WIFCONTINUED(status)\n",
            "        Return True if a particular process was continued from a job control stop.\n",
            "        \n",
            "        Return True if the process returning status was continued from a\n",
            "        job control stop.\n",
            "    \n",
            "    WIFEXITED(status)\n",
            "        Return True if the process returning status exited via the exit() system call.\n",
            "    \n",
            "    WIFSIGNALED(status)\n",
            "        Return True if the process returning status was terminated by a signal.\n",
            "    \n",
            "    WIFSTOPPED(status)\n",
            "        Return True if the process returning status was stopped.\n",
            "    \n",
            "    WSTOPSIG(status)\n",
            "        Return the signal that stopped the process that provided the status value.\n",
            "    \n",
            "    WTERMSIG(status)\n",
            "        Return the signal that terminated the process that provided the status value.\n",
            "    \n",
            "    _exit(status)\n",
            "        Exit to the system with specified status, without normal exit processing.\n",
            "    \n",
            "    abort()\n",
            "        Abort the interpreter immediately.\n",
            "        \n",
            "        This function 'dumps core' or otherwise fails in the hardest way possible\n",
            "        on the hosting operating system.  This function never returns.\n",
            "    \n",
            "    access(path, mode, *, dir_fd=None, effective_ids=False, follow_symlinks=True)\n",
            "        Use the real uid/gid to test for access to a path.\n",
            "        \n",
            "          path\n",
            "            Path to be tested; can be string, bytes, or a path-like object.\n",
            "          mode\n",
            "            Operating-system mode bitfield.  Can be F_OK to test existence,\n",
            "            or the inclusive-OR of R_OK, W_OK, and X_OK.\n",
            "          dir_fd\n",
            "            If not None, it should be a file descriptor open to a directory,\n",
            "            and path should be relative; path will then be relative to that\n",
            "            directory.\n",
            "          effective_ids\n",
            "            If True, access will use the effective uid/gid instead of\n",
            "            the real uid/gid.\n",
            "          follow_symlinks\n",
            "            If False, and the last element of the path is a symbolic link,\n",
            "            access will examine the symbolic link itself instead of the file\n",
            "            the link points to.\n",
            "        \n",
            "        dir_fd, effective_ids, and follow_symlinks may not be implemented\n",
            "          on your platform.  If they are unavailable, using them will raise a\n",
            "          NotImplementedError.\n",
            "        \n",
            "        Note that most operations will use the effective uid/gid, therefore this\n",
            "          routine can be used in a suid/sgid environment to test if the invoking user\n",
            "          has the specified access to the path.\n",
            "    \n",
            "    chdir(path)\n",
            "        Change the current working directory to the specified path.\n",
            "        \n",
            "        path may always be specified as a string.\n",
            "        On some platforms, path may also be specified as an open file descriptor.\n",
            "          If this functionality is unavailable, using it raises an exception.\n",
            "    \n",
            "    chmod(path, mode, *, dir_fd=None, follow_symlinks=True)\n",
            "        Change the access permissions of a file.\n",
            "        \n",
            "          path\n",
            "            Path to be modified.  May always be specified as a str, bytes, or a path-like object.\n",
            "            On some platforms, path may also be specified as an open file descriptor.\n",
            "            If this functionality is unavailable, using it raises an exception.\n",
            "          mode\n",
            "            Operating-system mode bitfield.\n",
            "          dir_fd\n",
            "            If not None, it should be a file descriptor open to a directory,\n",
            "            and path should be relative; path will then be relative to that\n",
            "            directory.\n",
            "          follow_symlinks\n",
            "            If False, and the last element of the path is a symbolic link,\n",
            "            chmod will modify the symbolic link itself instead of the file\n",
            "            the link points to.\n",
            "        \n",
            "        It is an error to use dir_fd or follow_symlinks when specifying path as\n",
            "          an open file descriptor.\n",
            "        dir_fd and follow_symlinks may not be implemented on your platform.\n",
            "          If they are unavailable, using them will raise a NotImplementedError.\n",
            "    \n",
            "    chown(path, uid, gid, *, dir_fd=None, follow_symlinks=True)\n",
            "        Change the owner and group id of path to the numeric uid and gid.\\\n",
            "        \n",
            "          path\n",
            "            Path to be examined; can be string, bytes, a path-like object, or open-file-descriptor int.\n",
            "          dir_fd\n",
            "            If not None, it should be a file descriptor open to a directory,\n",
            "            and path should be relative; path will then be relative to that\n",
            "            directory.\n",
            "          follow_symlinks\n",
            "            If False, and the last element of the path is a symbolic link,\n",
            "            stat will examine the symbolic link itself instead of the file\n",
            "            the link points to.\n",
            "        \n",
            "        path may always be specified as a string.\n",
            "        On some platforms, path may also be specified as an open file descriptor.\n",
            "          If this functionality is unavailable, using it raises an exception.\n",
            "        If dir_fd is not None, it should be a file descriptor open to a directory,\n",
            "          and path should be relative; path will then be relative to that directory.\n",
            "        If follow_symlinks is False, and the last element of the path is a symbolic\n",
            "          link, chown will modify the symbolic link itself instead of the file the\n",
            "          link points to.\n",
            "        It is an error to use dir_fd or follow_symlinks when specifying path as\n",
            "          an open file descriptor.\n",
            "        dir_fd and follow_symlinks may not be implemented on your platform.\n",
            "          If they are unavailable, using them will raise a NotImplementedError.\n",
            "    \n",
            "    chroot(path)\n",
            "        Change root directory to path.\n",
            "    \n",
            "    close(fd)\n",
            "        Close a file descriptor.\n",
            "    \n",
            "    closerange(fd_low, fd_high, /)\n",
            "        Closes all file descriptors in [fd_low, fd_high), ignoring errors.\n",
            "    \n",
            "    confstr(name, /)\n",
            "        Return a string-valued system configuration variable.\n",
            "    \n",
            "    copy_file_range(src, dst, count, offset_src=None, offset_dst=None)\n",
            "        Copy count bytes from one file descriptor to another.\n",
            "        \n",
            "          src\n",
            "            Source file descriptor.\n",
            "          dst\n",
            "            Destination file descriptor.\n",
            "          count\n",
            "            Number of bytes to copy.\n",
            "          offset_src\n",
            "            Starting offset in src.\n",
            "          offset_dst\n",
            "            Starting offset in dst.\n",
            "        \n",
            "        If offset_src is None, then src is read from the current position;\n",
            "        respectively for offset_dst.\n",
            "    \n",
            "    cpu_count()\n",
            "        Return the number of CPUs in the system; return None if indeterminable.\n",
            "        \n",
            "        This number is not equivalent to the number of CPUs the current process can\n",
            "        use.  The number of usable CPUs can be obtained with\n",
            "        ``len(os.sched_getaffinity(0))``\n",
            "    \n",
            "    ctermid()\n",
            "        Return the name of the controlling terminal for this process.\n",
            "    \n",
            "    device_encoding(fd)\n",
            "        Return a string describing the encoding of a terminal's file descriptor.\n",
            "        \n",
            "        The file descriptor must be attached to a terminal.\n",
            "        If the device is not a terminal, return None.\n",
            "    \n",
            "    dup(fd, /)\n",
            "        Return a duplicate of a file descriptor.\n",
            "    \n",
            "    dup2(fd, fd2, inheritable=True)\n",
            "        Duplicate file descriptor.\n",
            "    \n",
            "    eventfd(initval, flags=524288)\n",
            "        Creates and returns an event notification file descriptor.\n",
            "    \n",
            "    eventfd_read(fd)\n",
            "        Read eventfd value\n",
            "    \n",
            "    eventfd_write(fd, value)\n",
            "        Write eventfd value.\n",
            "    \n",
            "    execl(file, *args)\n",
            "        execl(file, *args)\n",
            "        \n",
            "        Execute the executable file with argument list args, replacing the\n",
            "        current process.\n",
            "    \n",
            "    execle(file, *args)\n",
            "        execle(file, *args, env)\n",
            "        \n",
            "        Execute the executable file with argument list args and\n",
            "        environment env, replacing the current process.\n",
            "    \n",
            "    execlp(file, *args)\n",
            "        execlp(file, *args)\n",
            "        \n",
            "        Execute the executable file (which is searched for along $PATH)\n",
            "        with argument list args, replacing the current process.\n",
            "    \n",
            "    execlpe(file, *args)\n",
            "        execlpe(file, *args, env)\n",
            "        \n",
            "        Execute the executable file (which is searched for along $PATH)\n",
            "        with argument list args and environment env, replacing the current\n",
            "        process.\n",
            "    \n",
            "    execv(path, argv, /)\n",
            "        Execute an executable path with arguments, replacing current process.\n",
            "        \n",
            "        path\n",
            "          Path of executable file.\n",
            "        argv\n",
            "          Tuple or list of strings.\n",
            "    \n",
            "    execve(path, argv, env)\n",
            "        Execute an executable path with arguments, replacing current process.\n",
            "        \n",
            "        path\n",
            "          Path of executable file.\n",
            "        argv\n",
            "          Tuple or list of strings.\n",
            "        env\n",
            "          Dictionary of strings mapping to strings.\n",
            "    \n",
            "    execvp(file, args)\n",
            "        execvp(file, args)\n",
            "        \n",
            "        Execute the executable file (which is searched for along $PATH)\n",
            "        with argument list args, replacing the current process.\n",
            "        args may be a list or tuple of strings.\n",
            "    \n",
            "    execvpe(file, args, env)\n",
            "        execvpe(file, args, env)\n",
            "        \n",
            "        Execute the executable file (which is searched for along $PATH)\n",
            "        with argument list args and environment env, replacing the\n",
            "        current process.\n",
            "        args may be a list or tuple of strings.\n",
            "    \n",
            "    fchdir(fd)\n",
            "        Change to the directory of the given file descriptor.\n",
            "        \n",
            "        fd must be opened on a directory, not a file.\n",
            "        Equivalent to os.chdir(fd).\n",
            "    \n",
            "    fchmod(fd, mode)\n",
            "        Change the access permissions of the file given by file descriptor fd.\n",
            "        \n",
            "        Equivalent to os.chmod(fd, mode).\n",
            "    \n",
            "    fchown(fd, uid, gid)\n",
            "        Change the owner and group id of the file specified by file descriptor.\n",
            "        \n",
            "        Equivalent to os.chown(fd, uid, gid).\n",
            "    \n",
            "    fdatasync(fd)\n",
            "        Force write of fd to disk without forcing update of metadata.\n",
            "    \n",
            "    fdopen(fd, mode='r', buffering=-1, encoding=None, *args, **kwargs)\n",
            "    \n",
            "    fork()\n",
            "        Fork a child process.\n",
            "        \n",
            "        Return 0 to child process and PID of child to parent process.\n",
            "    \n",
            "    forkpty()\n",
            "        Fork a new process with a new pseudo-terminal as controlling tty.\n",
            "        \n",
            "        Returns a tuple of (pid, master_fd).\n",
            "        Like fork(), return pid of 0 to the child process,\n",
            "        and pid of child to the parent process.\n",
            "        To both, return fd of newly opened pseudo-terminal.\n",
            "    \n",
            "    fpathconf(fd, name, /)\n",
            "        Return the configuration limit name for the file descriptor fd.\n",
            "        \n",
            "        If there is no limit, return -1.\n",
            "    \n",
            "    fsdecode(filename)\n",
            "        Decode filename (an os.PathLike, bytes, or str) from the filesystem\n",
            "        encoding with 'surrogateescape' error handler, return str unchanged. On\n",
            "        Windows, use 'strict' error handler if the file system encoding is\n",
            "        'mbcs' (which is the default encoding).\n",
            "    \n",
            "    fsencode(filename)\n",
            "        Encode filename (an os.PathLike, bytes, or str) to the filesystem\n",
            "        encoding with 'surrogateescape' error handler, return bytes unchanged.\n",
            "        On Windows, use 'strict' error handler if the file system encoding is\n",
            "        'mbcs' (which is the default encoding).\n",
            "    \n",
            "    fspath(path)\n",
            "        Return the file system path representation of the object.\n",
            "        \n",
            "        If the object is str or bytes, then allow it to pass through as-is. If the\n",
            "        object defines __fspath__(), then return the result of that method. All other\n",
            "        types raise a TypeError.\n",
            "    \n",
            "    fstat(fd)\n",
            "        Perform a stat system call on the given file descriptor.\n",
            "        \n",
            "        Like stat(), but for an open file descriptor.\n",
            "        Equivalent to os.stat(fd).\n",
            "    \n",
            "    fstatvfs(fd, /)\n",
            "        Perform an fstatvfs system call on the given fd.\n",
            "        \n",
            "        Equivalent to statvfs(fd).\n",
            "    \n",
            "    fsync(fd)\n",
            "        Force write of fd to disk.\n",
            "    \n",
            "    ftruncate(fd, length, /)\n",
            "        Truncate a file, specified by file descriptor, to a specific length.\n",
            "    \n",
            "    fwalk(top='.', topdown=True, onerror=None, *, follow_symlinks=False, dir_fd=None)\n",
            "        Directory tree generator.\n",
            "        \n",
            "        This behaves exactly like walk(), except that it yields a 4-tuple\n",
            "        \n",
            "            dirpath, dirnames, filenames, dirfd\n",
            "        \n",
            "        `dirpath`, `dirnames` and `filenames` are identical to walk() output,\n",
            "        and `dirfd` is a file descriptor referring to the directory `dirpath`.\n",
            "        \n",
            "        The advantage of fwalk() over walk() is that it's safe against symlink\n",
            "        races (when follow_symlinks is False).\n",
            "        \n",
            "        If dir_fd is not None, it should be a file descriptor open to a directory,\n",
            "          and top should be relative; top will then be relative to that directory.\n",
            "          (dir_fd is always supported for fwalk.)\n",
            "        \n",
            "        Caution:\n",
            "        Since fwalk() yields file descriptors, those are only valid until the\n",
            "        next iteration step, so you should dup() them if you want to keep them\n",
            "        for a longer period.\n",
            "        \n",
            "        Example:\n",
            "        \n",
            "        import os\n",
            "        for root, dirs, files, rootfd in os.fwalk('python/Lib/email'):\n",
            "            print(root, \"consumes\", end=\"\")\n",
            "            print(sum(os.stat(name, dir_fd=rootfd).st_size for name in files),\n",
            "                  end=\"\")\n",
            "            print(\"bytes in\", len(files), \"non-directory files\")\n",
            "            if 'CVS' in dirs:\n",
            "                dirs.remove('CVS')  # don't visit CVS directories\n",
            "    \n",
            "    get_blocking(fd, /)\n",
            "        Get the blocking mode of the file descriptor.\n",
            "        \n",
            "        Return False if the O_NONBLOCK flag is set, True if the flag is cleared.\n",
            "    \n",
            "    get_exec_path(env=None)\n",
            "        Returns the sequence of directories that will be searched for the\n",
            "        named executable (similar to a shell) when launching a process.\n",
            "        \n",
            "        *env* must be an environment variable dict or None.  If *env* is None,\n",
            "        os.environ will be used.\n",
            "    \n",
            "    get_inheritable(fd, /)\n",
            "        Get the close-on-exe flag of the specified file descriptor.\n",
            "    \n",
            "    get_terminal_size(...)\n",
            "        Return the size of the terminal window as (columns, lines).\n",
            "        \n",
            "        The optional argument fd (default standard output) specifies\n",
            "        which file descriptor should be queried.\n",
            "        \n",
            "        If the file descriptor is not connected to a terminal, an OSError\n",
            "        is thrown.\n",
            "        \n",
            "        This function will only be defined if an implementation is\n",
            "        available for this system.\n",
            "        \n",
            "        shutil.get_terminal_size is the high-level function which should\n",
            "        normally be used, os.get_terminal_size is the low-level implementation.\n",
            "    \n",
            "    getcwd()\n",
            "        Return a unicode string representing the current working directory.\n",
            "    \n",
            "    getcwdb()\n",
            "        Return a bytes string representing the current working directory.\n",
            "    \n",
            "    getegid()\n",
            "        Return the current process's effective group id.\n",
            "    \n",
            "    getenv(key, default=None)\n",
            "        Get an environment variable, return None if it doesn't exist.\n",
            "        The optional second argument can specify an alternate default.\n",
            "        key, default and the result are str.\n",
            "    \n",
            "    getenvb(key, default=None)\n",
            "        Get an environment variable, return None if it doesn't exist.\n",
            "        The optional second argument can specify an alternate default.\n",
            "        key, default and the result are bytes.\n",
            "    \n",
            "    geteuid()\n",
            "        Return the current process's effective user id.\n",
            "    \n",
            "    getgid()\n",
            "        Return the current process's group id.\n",
            "    \n",
            "    getgrouplist(user, group, /)\n",
            "        Returns a list of groups to which a user belongs.\n",
            "        \n",
            "        user\n",
            "          username to lookup\n",
            "        group\n",
            "          base group id of the user\n",
            "    \n",
            "    getgroups()\n",
            "        Return list of supplemental group IDs for the process.\n",
            "    \n",
            "    getloadavg()\n",
            "        Return average recent system load information.\n",
            "        \n",
            "        Return the number of processes in the system run queue averaged over\n",
            "        the last 1, 5, and 15 minutes as a tuple of three floats.\n",
            "        Raises OSError if the load average was unobtainable.\n",
            "    \n",
            "    getlogin()\n",
            "        Return the actual login name.\n",
            "    \n",
            "    getpgid(pid)\n",
            "        Call the system call getpgid(), and return the result.\n",
            "    \n",
            "    getpgrp()\n",
            "        Return the current process group id.\n",
            "    \n",
            "    getpid()\n",
            "        Return the current process id.\n",
            "    \n",
            "    getppid()\n",
            "        Return the parent's process id.\n",
            "        \n",
            "        If the parent process has already exited, Windows machines will still\n",
            "        return its id; others systems will return the id of the 'init' process (1).\n",
            "    \n",
            "    getpriority(which, who)\n",
            "        Return program scheduling priority.\n",
            "    \n",
            "    getrandom(size, flags=0)\n",
            "        Obtain a series of random bytes.\n",
            "    \n",
            "    getresgid()\n",
            "        Return a tuple of the current process's real, effective, and saved group ids.\n",
            "    \n",
            "    getresuid()\n",
            "        Return a tuple of the current process's real, effective, and saved user ids.\n",
            "    \n",
            "    getsid(pid, /)\n",
            "        Call the system call getsid(pid) and return the result.\n",
            "    \n",
            "    getuid()\n",
            "        Return the current process's user id.\n",
            "    \n",
            "    getxattr(path, attribute, *, follow_symlinks=True)\n",
            "        Return the value of extended attribute attribute on path.\n",
            "        \n",
            "        path may be either a string, a path-like object, or an open file descriptor.\n",
            "        If follow_symlinks is False, and the last element of the path is a symbolic\n",
            "          link, getxattr will examine the symbolic link itself instead of the file\n",
            "          the link points to.\n",
            "    \n",
            "    initgroups(username, gid, /)\n",
            "        Initialize the group access list.\n",
            "        \n",
            "        Call the system initgroups() to initialize the group access list with all of\n",
            "        the groups of which the specified username is a member, plus the specified\n",
            "        group id.\n",
            "    \n",
            "    isatty(fd, /)\n",
            "        Return True if the fd is connected to a terminal.\n",
            "        \n",
            "        Return True if the file descriptor is an open file descriptor\n",
            "        connected to the slave end of a terminal.\n",
            "    \n",
            "    kill(pid, signal, /)\n",
            "        Kill a process with a signal.\n",
            "    \n",
            "    killpg(pgid, signal, /)\n",
            "        Kill a process group with a signal.\n",
            "    \n",
            "    lchown(path, uid, gid)\n",
            "        Change the owner and group id of path to the numeric uid and gid.\n",
            "        \n",
            "        This function will not follow symbolic links.\n",
            "        Equivalent to os.chown(path, uid, gid, follow_symlinks=False).\n",
            "    \n",
            "    link(src, dst, *, src_dir_fd=None, dst_dir_fd=None, follow_symlinks=True)\n",
            "        Create a hard link to a file.\n",
            "        \n",
            "        If either src_dir_fd or dst_dir_fd is not None, it should be a file\n",
            "          descriptor open to a directory, and the respective path string (src or dst)\n",
            "          should be relative; the path will then be relative to that directory.\n",
            "        If follow_symlinks is False, and the last element of src is a symbolic\n",
            "          link, link will create a link to the symbolic link itself instead of the\n",
            "          file the link points to.\n",
            "        src_dir_fd, dst_dir_fd, and follow_symlinks may not be implemented on your\n",
            "          platform.  If they are unavailable, using them will raise a\n",
            "          NotImplementedError.\n",
            "    \n",
            "    listdir(path=None)\n",
            "        Return a list containing the names of the files in the directory.\n",
            "        \n",
            "        path can be specified as either str, bytes, or a path-like object.  If path is bytes,\n",
            "          the filenames returned will also be bytes; in all other circumstances\n",
            "          the filenames returned will be str.\n",
            "        If path is None, uses the path='.'.\n",
            "        On some platforms, path may also be specified as an open file descriptor;\\\n",
            "          the file descriptor must refer to a directory.\n",
            "          If this functionality is unavailable, using it raises NotImplementedError.\n",
            "        \n",
            "        The list is in arbitrary order.  It does not include the special\n",
            "        entries '.' and '..' even if they are present in the directory.\n",
            "    \n",
            "    listxattr(path=None, *, follow_symlinks=True)\n",
            "        Return a list of extended attributes on path.\n",
            "        \n",
            "        path may be either None, a string, a path-like object, or an open file descriptor.\n",
            "        if path is None, listxattr will examine the current directory.\n",
            "        If follow_symlinks is False, and the last element of the path is a symbolic\n",
            "          link, listxattr will examine the symbolic link itself instead of the file\n",
            "          the link points to.\n",
            "    \n",
            "    lockf(fd, command, length, /)\n",
            "        Apply, test or remove a POSIX lock on an open file descriptor.\n",
            "        \n",
            "        fd\n",
            "          An open file descriptor.\n",
            "        command\n",
            "          One of F_LOCK, F_TLOCK, F_ULOCK or F_TEST.\n",
            "        length\n",
            "          The number of bytes to lock, starting at the current position.\n",
            "    \n",
            "    login_tty(fd, /)\n",
            "        Prepare the tty of which fd is a file descriptor for a new login session.\n",
            "        \n",
            "        Make the calling process a session leader; make the tty the\n",
            "        controlling tty, the stdin, the stdout, and the stderr of the\n",
            "        calling process; close fd.\n",
            "    \n",
            "    lseek(fd, position, whence, /)\n",
            "        Set the position of a file descriptor.  Return the new position.\n",
            "        \n",
            "          fd\n",
            "            An open file descriptor, as returned by os.open().\n",
            "          position\n",
            "            Position, interpreted relative to 'whence'.\n",
            "          whence\n",
            "            The relative position to seek from. Valid values are:\n",
            "            - SEEK_SET: seek from the start of the file.\n",
            "            - SEEK_CUR: seek from the current file position.\n",
            "            - SEEK_END: seek from the end of the file.\n",
            "        \n",
            "        The return value is the number of bytes relative to the beginning of the file.\n",
            "    \n",
            "    lstat(path, *, dir_fd=None)\n",
            "        Perform a stat system call on the given path, without following symbolic links.\n",
            "        \n",
            "        Like stat(), but do not follow symbolic links.\n",
            "        Equivalent to stat(path, follow_symlinks=False).\n",
            "    \n",
            "    major(device, /)\n",
            "        Extracts a device major number from a raw device number.\n",
            "    \n",
            "    makedev(major, minor, /)\n",
            "        Composes a raw device number from the major and minor device numbers.\n",
            "    \n",
            "    makedirs(name, mode=511, exist_ok=False)\n",
            "        makedirs(name [, mode=0o777][, exist_ok=False])\n",
            "        \n",
            "        Super-mkdir; create a leaf directory and all intermediate ones.  Works like\n",
            "        mkdir, except that any intermediate path segment (not just the rightmost)\n",
            "        will be created if it does not exist. If the target directory already\n",
            "        exists, raise an OSError if exist_ok is False. Otherwise no exception is\n",
            "        raised.  This is recursive.\n",
            "    \n",
            "    memfd_create(name, flags=1)\n",
            "    \n",
            "    minor(device, /)\n",
            "        Extracts a device minor number from a raw device number.\n",
            "    \n",
            "    mkdir(path, mode=511, *, dir_fd=None)\n",
            "        Create a directory.\n",
            "        \n",
            "        If dir_fd is not None, it should be a file descriptor open to a directory,\n",
            "          and path should be relative; path will then be relative to that directory.\n",
            "        dir_fd may not be implemented on your platform.\n",
            "          If it is unavailable, using it will raise a NotImplementedError.\n",
            "        \n",
            "        The mode argument is ignored on Windows. Where it is used, the current umask\n",
            "        value is first masked out.\n",
            "    \n",
            "    mkfifo(path, mode=438, *, dir_fd=None)\n",
            "        Create a \"fifo\" (a POSIX named pipe).\n",
            "        \n",
            "        If dir_fd is not None, it should be a file descriptor open to a directory,\n",
            "          and path should be relative; path will then be relative to that directory.\n",
            "        dir_fd may not be implemented on your platform.\n",
            "          If it is unavailable, using it will raise a NotImplementedError.\n",
            "    \n",
            "    mknod(path, mode=384, device=0, *, dir_fd=None)\n",
            "        Create a node in the file system.\n",
            "        \n",
            "        Create a node in the file system (file, device special file or named pipe)\n",
            "        at path.  mode specifies both the permissions to use and the\n",
            "        type of node to be created, being combined (bitwise OR) with one of\n",
            "        S_IFREG, S_IFCHR, S_IFBLK, and S_IFIFO.  If S_IFCHR or S_IFBLK is set on mode,\n",
            "        device defines the newly created device special file (probably using\n",
            "        os.makedev()).  Otherwise device is ignored.\n",
            "        \n",
            "        If dir_fd is not None, it should be a file descriptor open to a directory,\n",
            "          and path should be relative; path will then be relative to that directory.\n",
            "        dir_fd may not be implemented on your platform.\n",
            "          If it is unavailable, using it will raise a NotImplementedError.\n",
            "    \n",
            "    nice(increment, /)\n",
            "        Add increment to the priority of process and return the new priority.\n",
            "    \n",
            "    open(path, flags, mode=511, *, dir_fd=None)\n",
            "        Open a file for low level IO.  Returns a file descriptor (integer).\n",
            "        \n",
            "        If dir_fd is not None, it should be a file descriptor open to a directory,\n",
            "          and path should be relative; path will then be relative to that directory.\n",
            "        dir_fd may not be implemented on your platform.\n",
            "          If it is unavailable, using it will raise a NotImplementedError.\n",
            "    \n",
            "    openpty()\n",
            "        Open a pseudo-terminal.\n",
            "        \n",
            "        Return a tuple of (master_fd, slave_fd) containing open file descriptors\n",
            "        for both the master and slave ends.\n",
            "    \n",
            "    pathconf(path, name)\n",
            "        Return the configuration limit name for the file or directory path.\n",
            "        \n",
            "        If there is no limit, return -1.\n",
            "        On some platforms, path may also be specified as an open file descriptor.\n",
            "          If this functionality is unavailable, using it raises an exception.\n",
            "    \n",
            "    pidfd_open(pid, flags=0)\n",
            "        Return a file descriptor referring to the process *pid*.\n",
            "        \n",
            "        The descriptor can be used to perform process management without races and\n",
            "        signals.\n",
            "    \n",
            "    pipe()\n",
            "        Create a pipe.\n",
            "        \n",
            "        Returns a tuple of two file descriptors:\n",
            "          (read_fd, write_fd)\n",
            "    \n",
            "    pipe2(flags, /)\n",
            "        Create a pipe with flags set atomically.\n",
            "        \n",
            "        Returns a tuple of two file descriptors:\n",
            "          (read_fd, write_fd)\n",
            "        \n",
            "        flags can be constructed by ORing together one or more of these values:\n",
            "        O_NONBLOCK, O_CLOEXEC.\n",
            "    \n",
            "    popen(cmd, mode='r', buffering=-1)\n",
            "    \n",
            "    posix_fadvise(fd, offset, length, advice, /)\n",
            "        Announce an intention to access data in a specific pattern.\n",
            "        \n",
            "        Announce an intention to access data in a specific pattern, thus allowing\n",
            "        the kernel to make optimizations.\n",
            "        The advice applies to the region of the file specified by fd starting at\n",
            "        offset and continuing for length bytes.\n",
            "        advice is one of POSIX_FADV_NORMAL, POSIX_FADV_SEQUENTIAL,\n",
            "        POSIX_FADV_RANDOM, POSIX_FADV_NOREUSE, POSIX_FADV_WILLNEED, or\n",
            "        POSIX_FADV_DONTNEED.\n",
            "    \n",
            "    posix_fallocate(fd, offset, length, /)\n",
            "        Ensure a file has allocated at least a particular number of bytes on disk.\n",
            "        \n",
            "        Ensure that the file specified by fd encompasses a range of bytes\n",
            "        starting at offset bytes from the beginning and continuing for length bytes.\n",
            "    \n",
            "    posix_spawn(...)\n",
            "        Execute the program specified by path in a new process.\n",
            "        \n",
            "        path\n",
            "          Path of executable file.\n",
            "        argv\n",
            "          Tuple or list of strings.\n",
            "        env\n",
            "          Dictionary of strings mapping to strings.\n",
            "        file_actions\n",
            "          A sequence of file action tuples.\n",
            "        setpgroup\n",
            "          The pgroup to use with the POSIX_SPAWN_SETPGROUP flag.\n",
            "        resetids\n",
            "          If the value is `true` the POSIX_SPAWN_RESETIDS will be activated.\n",
            "        setsid\n",
            "          If the value is `true` the POSIX_SPAWN_SETSID or POSIX_SPAWN_SETSID_NP will be activated.\n",
            "        setsigmask\n",
            "          The sigmask to use with the POSIX_SPAWN_SETSIGMASK flag.\n",
            "        setsigdef\n",
            "          The sigmask to use with the POSIX_SPAWN_SETSIGDEF flag.\n",
            "        scheduler\n",
            "          A tuple with the scheduler policy (optional) and parameters.\n",
            "    \n",
            "    posix_spawnp(...)\n",
            "        Execute the program specified by path in a new process.\n",
            "        \n",
            "        path\n",
            "          Path of executable file.\n",
            "        argv\n",
            "          Tuple or list of strings.\n",
            "        env\n",
            "          Dictionary of strings mapping to strings.\n",
            "        file_actions\n",
            "          A sequence of file action tuples.\n",
            "        setpgroup\n",
            "          The pgroup to use with the POSIX_SPAWN_SETPGROUP flag.\n",
            "        resetids\n",
            "          If the value is `True` the POSIX_SPAWN_RESETIDS will be activated.\n",
            "        setsid\n",
            "          If the value is `True` the POSIX_SPAWN_SETSID or POSIX_SPAWN_SETSID_NP will be activated.\n",
            "        setsigmask\n",
            "          The sigmask to use with the POSIX_SPAWN_SETSIGMASK flag.\n",
            "        setsigdef\n",
            "          The sigmask to use with the POSIX_SPAWN_SETSIGDEF flag.\n",
            "        scheduler\n",
            "          A tuple with the scheduler policy (optional) and parameters.\n",
            "    \n",
            "    pread(fd, length, offset, /)\n",
            "        Read a number of bytes from a file descriptor starting at a particular offset.\n",
            "        \n",
            "        Read length bytes from file descriptor fd, starting at offset bytes from\n",
            "        the beginning of the file.  The file offset remains unchanged.\n",
            "    \n",
            "    preadv(fd, buffers, offset, flags=0, /)\n",
            "        Reads from a file descriptor into a number of mutable bytes-like objects.\n",
            "        \n",
            "        Combines the functionality of readv() and pread(). As readv(), it will\n",
            "        transfer data into each buffer until it is full and then move on to the next\n",
            "        buffer in the sequence to hold the rest of the data. Its fourth argument,\n",
            "        specifies the file offset at which the input operation is to be performed. It\n",
            "        will return the total number of bytes read (which can be less than the total\n",
            "        capacity of all the objects).\n",
            "        \n",
            "        The flags argument contains a bitwise OR of zero or more of the following flags:\n",
            "        \n",
            "        - RWF_HIPRI\n",
            "        - RWF_NOWAIT\n",
            "        \n",
            "        Using non-zero flags requires Linux 4.6 or newer.\n",
            "    \n",
            "    putenv(name, value, /)\n",
            "        Change or add an environment variable.\n",
            "    \n",
            "    pwrite(fd, buffer, offset, /)\n",
            "        Write bytes to a file descriptor starting at a particular offset.\n",
            "        \n",
            "        Write buffer to fd, starting at offset bytes from the beginning of\n",
            "        the file.  Returns the number of bytes writte.  Does not change the\n",
            "        current file offset.\n",
            "    \n",
            "    pwritev(fd, buffers, offset, flags=0, /)\n",
            "        Writes the contents of bytes-like objects to a file descriptor at a given offset.\n",
            "        \n",
            "        Combines the functionality of writev() and pwrite(). All buffers must be a sequence\n",
            "        of bytes-like objects. Buffers are processed in array order. Entire contents of first\n",
            "        buffer is written before proceeding to second, and so on. The operating system may\n",
            "        set a limit (sysconf() value SC_IOV_MAX) on the number of buffers that can be used.\n",
            "        This function writes the contents of each object to the file descriptor and returns\n",
            "        the total number of bytes written.\n",
            "        \n",
            "        The flags argument contains a bitwise OR of zero or more of the following flags:\n",
            "        \n",
            "        - RWF_DSYNC\n",
            "        - RWF_SYNC\n",
            "        - RWF_APPEND\n",
            "        \n",
            "        Using non-zero flags requires Linux 4.7 or newer.\n",
            "    \n",
            "    read(fd, length, /)\n",
            "        Read from a file descriptor.  Returns a bytes object.\n",
            "    \n",
            "    readlink(path, *, dir_fd=None)\n",
            "        Return a string representing the path to which the symbolic link points.\n",
            "        \n",
            "        If dir_fd is not None, it should be a file descriptor open to a directory,\n",
            "        and path should be relative; path will then be relative to that directory.\n",
            "        \n",
            "        dir_fd may not be implemented on your platform.  If it is unavailable,\n",
            "        using it will raise a NotImplementedError.\n",
            "    \n",
            "    readv(fd, buffers, /)\n",
            "        Read from a file descriptor fd into an iterable of buffers.\n",
            "        \n",
            "        The buffers should be mutable buffers accepting bytes.\n",
            "        readv will transfer data into each buffer until it is full\n",
            "        and then move on to the next buffer in the sequence to hold\n",
            "        the rest of the data.\n",
            "        \n",
            "        readv returns the total number of bytes read,\n",
            "        which may be less than the total capacity of all the buffers.\n",
            "    \n",
            "    register_at_fork(...)\n",
            "        Register callables to be called when forking a new process.\n",
            "        \n",
            "          before\n",
            "            A callable to be called in the parent before the fork() syscall.\n",
            "          after_in_child\n",
            "            A callable to be called in the child after fork().\n",
            "          after_in_parent\n",
            "            A callable to be called in the parent after fork().\n",
            "        \n",
            "        'before' callbacks are called in reverse order.\n",
            "        'after_in_child' and 'after_in_parent' callbacks are called in order.\n",
            "    \n",
            "    remove(path, *, dir_fd=None)\n",
            "        Remove a file (same as unlink()).\n",
            "        \n",
            "        If dir_fd is not None, it should be a file descriptor open to a directory,\n",
            "          and path should be relative; path will then be relative to that directory.\n",
            "        dir_fd may not be implemented on your platform.\n",
            "          If it is unavailable, using it will raise a NotImplementedError.\n",
            "    \n",
            "    removedirs(name)\n",
            "        removedirs(name)\n",
            "        \n",
            "        Super-rmdir; remove a leaf directory and all empty intermediate\n",
            "        ones.  Works like rmdir except that, if the leaf directory is\n",
            "        successfully removed, directories corresponding to rightmost path\n",
            "        segments will be pruned away until either the whole path is\n",
            "        consumed or an error occurs.  Errors during this latter phase are\n",
            "        ignored -- they generally mean that a directory was not empty.\n",
            "    \n",
            "    removexattr(path, attribute, *, follow_symlinks=True)\n",
            "        Remove extended attribute attribute on path.\n",
            "        \n",
            "        path may be either a string, a path-like object, or an open file descriptor.\n",
            "        If follow_symlinks is False, and the last element of the path is a symbolic\n",
            "          link, removexattr will modify the symbolic link itself instead of the file\n",
            "          the link points to.\n",
            "    \n",
            "    rename(src, dst, *, src_dir_fd=None, dst_dir_fd=None)\n",
            "        Rename a file or directory.\n",
            "        \n",
            "        If either src_dir_fd or dst_dir_fd is not None, it should be a file\n",
            "          descriptor open to a directory, and the respective path string (src or dst)\n",
            "          should be relative; the path will then be relative to that directory.\n",
            "        src_dir_fd and dst_dir_fd, may not be implemented on your platform.\n",
            "          If they are unavailable, using them will raise a NotImplementedError.\n",
            "    \n",
            "    renames(old, new)\n",
            "        renames(old, new)\n",
            "        \n",
            "        Super-rename; create directories as necessary and delete any left\n",
            "        empty.  Works like rename, except creation of any intermediate\n",
            "        directories needed to make the new pathname good is attempted\n",
            "        first.  After the rename, directories corresponding to rightmost\n",
            "        path segments of the old name will be pruned until either the\n",
            "        whole path is consumed or a nonempty directory is found.\n",
            "        \n",
            "        Note: this function can fail with the new directory structure made\n",
            "        if you lack permissions needed to unlink the leaf directory or\n",
            "        file.\n",
            "    \n",
            "    replace(src, dst, *, src_dir_fd=None, dst_dir_fd=None)\n",
            "        Rename a file or directory, overwriting the destination.\n",
            "        \n",
            "        If either src_dir_fd or dst_dir_fd is not None, it should be a file\n",
            "          descriptor open to a directory, and the respective path string (src or dst)\n",
            "          should be relative; the path will then be relative to that directory.\n",
            "        src_dir_fd and dst_dir_fd, may not be implemented on your platform.\n",
            "          If they are unavailable, using them will raise a NotImplementedError.\n",
            "    \n",
            "    rmdir(path, *, dir_fd=None)\n",
            "        Remove a directory.\n",
            "        \n",
            "        If dir_fd is not None, it should be a file descriptor open to a directory,\n",
            "          and path should be relative; path will then be relative to that directory.\n",
            "        dir_fd may not be implemented on your platform.\n",
            "          If it is unavailable, using it will raise a NotImplementedError.\n",
            "    \n",
            "    scandir(path=None)\n",
            "        Return an iterator of DirEntry objects for given path.\n",
            "        \n",
            "        path can be specified as either str, bytes, or a path-like object.  If path\n",
            "        is bytes, the names of yielded DirEntry objects will also be bytes; in\n",
            "        all other circumstances they will be str.\n",
            "        \n",
            "        If path is None, uses the path='.'.\n",
            "    \n",
            "    sched_get_priority_max(policy)\n",
            "        Get the maximum scheduling priority for policy.\n",
            "    \n",
            "    sched_get_priority_min(policy)\n",
            "        Get the minimum scheduling priority for policy.\n",
            "    \n",
            "    sched_getaffinity(pid, /)\n",
            "        Return the affinity of the process identified by pid (or the current process if zero).\n",
            "        \n",
            "        The affinity is returned as a set of CPU identifiers.\n",
            "    \n",
            "    sched_getparam(pid, /)\n",
            "        Returns scheduling parameters for the process identified by pid.\n",
            "        \n",
            "        If pid is 0, returns parameters for the calling process.\n",
            "        Return value is an instance of sched_param.\n",
            "    \n",
            "    sched_getscheduler(pid, /)\n",
            "        Get the scheduling policy for the process identified by pid.\n",
            "        \n",
            "        Passing 0 for pid returns the scheduling policy for the calling process.\n",
            "    \n",
            "    sched_rr_get_interval(pid, /)\n",
            "        Return the round-robin quantum for the process identified by pid, in seconds.\n",
            "        \n",
            "        Value returned is a float.\n",
            "    \n",
            "    sched_setaffinity(pid, mask, /)\n",
            "        Set the CPU affinity of the process identified by pid to mask.\n",
            "        \n",
            "        mask should be an iterable of integers identifying CPUs.\n",
            "    \n",
            "    sched_setparam(pid, param, /)\n",
            "        Set scheduling parameters for the process identified by pid.\n",
            "        \n",
            "        If pid is 0, sets parameters for the calling process.\n",
            "        param should be an instance of sched_param.\n",
            "    \n",
            "    sched_setscheduler(pid, policy, param, /)\n",
            "        Set the scheduling policy for the process identified by pid.\n",
            "        \n",
            "        If pid is 0, the calling process is changed.\n",
            "        param is an instance of sched_param.\n",
            "    \n",
            "    sched_yield()\n",
            "        Voluntarily relinquish the CPU.\n",
            "    \n",
            "    sendfile(out_fd, in_fd, offset, count)\n",
            "        Copy count bytes from file descriptor in_fd to file descriptor out_fd.\n",
            "    \n",
            "    set_blocking(fd, blocking, /)\n",
            "        Set the blocking mode of the specified file descriptor.\n",
            "        \n",
            "        Set the O_NONBLOCK flag if blocking is False,\n",
            "        clear the O_NONBLOCK flag otherwise.\n",
            "    \n",
            "    set_inheritable(fd, inheritable, /)\n",
            "        Set the inheritable flag of the specified file descriptor.\n",
            "    \n",
            "    setegid(egid, /)\n",
            "        Set the current process's effective group id.\n",
            "    \n",
            "    seteuid(euid, /)\n",
            "        Set the current process's effective user id.\n",
            "    \n",
            "    setgid(gid, /)\n",
            "        Set the current process's group id.\n",
            "    \n",
            "    setgroups(groups, /)\n",
            "        Set the groups of the current process to list.\n",
            "    \n",
            "    setpgid(pid, pgrp, /)\n",
            "        Call the system call setpgid(pid, pgrp).\n",
            "    \n",
            "    setpgrp()\n",
            "        Make the current process the leader of its process group.\n",
            "    \n",
            "    setpriority(which, who, priority)\n",
            "        Set program scheduling priority.\n",
            "    \n",
            "    setregid(rgid, egid, /)\n",
            "        Set the current process's real and effective group ids.\n",
            "    \n",
            "    setresgid(rgid, egid, sgid, /)\n",
            "        Set the current process's real, effective, and saved group ids.\n",
            "    \n",
            "    setresuid(ruid, euid, suid, /)\n",
            "        Set the current process's real, effective, and saved user ids.\n",
            "    \n",
            "    setreuid(ruid, euid, /)\n",
            "        Set the current process's real and effective user ids.\n",
            "    \n",
            "    setsid()\n",
            "        Call the system call setsid().\n",
            "    \n",
            "    setuid(uid, /)\n",
            "        Set the current process's user id.\n",
            "    \n",
            "    setxattr(path, attribute, value, flags=0, *, follow_symlinks=True)\n",
            "        Set extended attribute attribute on path to value.\n",
            "        \n",
            "        path may be either a string, a path-like object,  or an open file descriptor.\n",
            "        If follow_symlinks is False, and the last element of the path is a symbolic\n",
            "          link, setxattr will modify the symbolic link itself instead of the file\n",
            "          the link points to.\n",
            "    \n",
            "    spawnl(mode, file, *args)\n",
            "        spawnl(mode, file, *args) -> integer\n",
            "        \n",
            "        Execute file with arguments from args in a subprocess.\n",
            "        If mode == P_NOWAIT return the pid of the process.\n",
            "        If mode == P_WAIT return the process's exit code if it exits normally;\n",
            "        otherwise return -SIG, where SIG is the signal that killed it.\n",
            "    \n",
            "    spawnle(mode, file, *args)\n",
            "        spawnle(mode, file, *args, env) -> integer\n",
            "        \n",
            "        Execute file with arguments from args in a subprocess with the\n",
            "        supplied environment.\n",
            "        If mode == P_NOWAIT return the pid of the process.\n",
            "        If mode == P_WAIT return the process's exit code if it exits normally;\n",
            "        otherwise return -SIG, where SIG is the signal that killed it.\n",
            "    \n",
            "    spawnlp(mode, file, *args)\n",
            "        spawnlp(mode, file, *args) -> integer\n",
            "        \n",
            "        Execute file (which is looked for along $PATH) with arguments from\n",
            "        args in a subprocess with the supplied environment.\n",
            "        If mode == P_NOWAIT return the pid of the process.\n",
            "        If mode == P_WAIT return the process's exit code if it exits normally;\n",
            "        otherwise return -SIG, where SIG is the signal that killed it.\n",
            "    \n",
            "    spawnlpe(mode, file, *args)\n",
            "        spawnlpe(mode, file, *args, env) -> integer\n",
            "        \n",
            "        Execute file (which is looked for along $PATH) with arguments from\n",
            "        args in a subprocess with the supplied environment.\n",
            "        If mode == P_NOWAIT return the pid of the process.\n",
            "        If mode == P_WAIT return the process's exit code if it exits normally;\n",
            "        otherwise return -SIG, where SIG is the signal that killed it.\n",
            "    \n",
            "    spawnv(mode, file, args)\n",
            "        spawnv(mode, file, args) -> integer\n",
            "        \n",
            "        Execute file with arguments from args in a subprocess.\n",
            "        If mode == P_NOWAIT return the pid of the process.\n",
            "        If mode == P_WAIT return the process's exit code if it exits normally;\n",
            "        otherwise return -SIG, where SIG is the signal that killed it.\n",
            "    \n",
            "    spawnve(mode, file, args, env)\n",
            "        spawnve(mode, file, args, env) -> integer\n",
            "        \n",
            "        Execute file with arguments from args in a subprocess with the\n",
            "        specified environment.\n",
            "        If mode == P_NOWAIT return the pid of the process.\n",
            "        If mode == P_WAIT return the process's exit code if it exits normally;\n",
            "        otherwise return -SIG, where SIG is the signal that killed it.\n",
            "    \n",
            "    spawnvp(mode, file, args)\n",
            "        spawnvp(mode, file, args) -> integer\n",
            "        \n",
            "        Execute file (which is looked for along $PATH) with arguments from\n",
            "        args in a subprocess.\n",
            "        If mode == P_NOWAIT return the pid of the process.\n",
            "        If mode == P_WAIT return the process's exit code if it exits normally;\n",
            "        otherwise return -SIG, where SIG is the signal that killed it.\n",
            "    \n",
            "    spawnvpe(mode, file, args, env)\n",
            "        spawnvpe(mode, file, args, env) -> integer\n",
            "        \n",
            "        Execute file (which is looked for along $PATH) with arguments from\n",
            "        args in a subprocess with the supplied environment.\n",
            "        If mode == P_NOWAIT return the pid of the process.\n",
            "        If mode == P_WAIT return the process's exit code if it exits normally;\n",
            "        otherwise return -SIG, where SIG is the signal that killed it.\n",
            "    \n",
            "    splice(src, dst, count, offset_src=None, offset_dst=None, flags=0)\n",
            "        Transfer count bytes from one pipe to a descriptor or vice versa.\n",
            "        \n",
            "          src\n",
            "            Source file descriptor.\n",
            "          dst\n",
            "            Destination file descriptor.\n",
            "          count\n",
            "            Number of bytes to copy.\n",
            "          offset_src\n",
            "            Starting offset in src.\n",
            "          offset_dst\n",
            "            Starting offset in dst.\n",
            "          flags\n",
            "            Flags to modify the semantics of the call.\n",
            "        \n",
            "        If offset_src is None, then src is read from the current position;\n",
            "        respectively for offset_dst. The offset associated to the file\n",
            "        descriptor that refers to a pipe must be None.\n",
            "    \n",
            "    stat(path, *, dir_fd=None, follow_symlinks=True)\n",
            "        Perform a stat system call on the given path.\n",
            "        \n",
            "          path\n",
            "            Path to be examined; can be string, bytes, a path-like object or\n",
            "            open-file-descriptor int.\n",
            "          dir_fd\n",
            "            If not None, it should be a file descriptor open to a directory,\n",
            "            and path should be a relative string; path will then be relative to\n",
            "            that directory.\n",
            "          follow_symlinks\n",
            "            If False, and the last element of the path is a symbolic link,\n",
            "            stat will examine the symbolic link itself instead of the file\n",
            "            the link points to.\n",
            "        \n",
            "        dir_fd and follow_symlinks may not be implemented\n",
            "          on your platform.  If they are unavailable, using them will raise a\n",
            "          NotImplementedError.\n",
            "        \n",
            "        It's an error to use dir_fd or follow_symlinks when specifying path as\n",
            "          an open file descriptor.\n",
            "    \n",
            "    statvfs(path)\n",
            "        Perform a statvfs system call on the given path.\n",
            "        \n",
            "        path may always be specified as a string.\n",
            "        On some platforms, path may also be specified as an open file descriptor.\n",
            "          If this functionality is unavailable, using it raises an exception.\n",
            "    \n",
            "    strerror(code, /)\n",
            "        Translate an error code to a message string.\n",
            "    \n",
            "    symlink(src, dst, target_is_directory=False, *, dir_fd=None)\n",
            "        Create a symbolic link pointing to src named dst.\n",
            "        \n",
            "        target_is_directory is required on Windows if the target is to be\n",
            "          interpreted as a directory.  (On Windows, symlink requires\n",
            "          Windows 6.0 or greater, and raises a NotImplementedError otherwise.)\n",
            "          target_is_directory is ignored on non-Windows platforms.\n",
            "        \n",
            "        If dir_fd is not None, it should be a file descriptor open to a directory,\n",
            "          and path should be relative; path will then be relative to that directory.\n",
            "        dir_fd may not be implemented on your platform.\n",
            "          If it is unavailable, using it will raise a NotImplementedError.\n",
            "    \n",
            "    sync()\n",
            "        Force write of everything to disk.\n",
            "    \n",
            "    sysconf(name, /)\n",
            "        Return an integer-valued system configuration variable.\n",
            "    \n",
            "    system(command)\n",
            "        Execute the command in a subshell.\n",
            "    \n",
            "    tcgetpgrp(fd, /)\n",
            "        Return the process group associated with the terminal specified by fd.\n",
            "    \n",
            "    tcsetpgrp(fd, pgid, /)\n",
            "        Set the process group associated with the terminal specified by fd.\n",
            "    \n",
            "    times()\n",
            "        Return a collection containing process timing information.\n",
            "        \n",
            "        The object returned behaves like a named tuple with these fields:\n",
            "          (utime, stime, cutime, cstime, elapsed_time)\n",
            "        All fields are floating point numbers.\n",
            "    \n",
            "    truncate(path, length)\n",
            "        Truncate a file, specified by path, to a specific length.\n",
            "        \n",
            "        On some platforms, path may also be specified as an open file descriptor.\n",
            "          If this functionality is unavailable, using it raises an exception.\n",
            "    \n",
            "    ttyname(fd, /)\n",
            "        Return the name of the terminal device connected to 'fd'.\n",
            "        \n",
            "        fd\n",
            "          Integer file descriptor handle.\n",
            "    \n",
            "    umask(mask, /)\n",
            "        Set the current numeric umask and return the previous umask.\n",
            "    \n",
            "    uname()\n",
            "        Return an object identifying the current operating system.\n",
            "        \n",
            "        The object behaves like a named tuple with the following fields:\n",
            "          (sysname, nodename, release, version, machine)\n",
            "    \n",
            "    unlink(path, *, dir_fd=None)\n",
            "        Remove a file (same as remove()).\n",
            "        \n",
            "        If dir_fd is not None, it should be a file descriptor open to a directory,\n",
            "          and path should be relative; path will then be relative to that directory.\n",
            "        dir_fd may not be implemented on your platform.\n",
            "          If it is unavailable, using it will raise a NotImplementedError.\n",
            "    \n",
            "    unsetenv(name, /)\n",
            "        Delete an environment variable.\n",
            "    \n",
            "    urandom(size, /)\n",
            "        Return a bytes object containing random bytes suitable for cryptographic use.\n",
            "    \n",
            "    utime(...)\n",
            "        Set the access and modified time of path.\n",
            "        \n",
            "        path may always be specified as a string.\n",
            "        On some platforms, path may also be specified as an open file descriptor.\n",
            "          If this functionality is unavailable, using it raises an exception.\n",
            "        \n",
            "        If times is not None, it must be a tuple (atime, mtime);\n",
            "            atime and mtime should be expressed as float seconds since the epoch.\n",
            "        If ns is specified, it must be a tuple (atime_ns, mtime_ns);\n",
            "            atime_ns and mtime_ns should be expressed as integer nanoseconds\n",
            "            since the epoch.\n",
            "        If times is None and ns is unspecified, utime uses the current time.\n",
            "        Specifying tuples for both times and ns is an error.\n",
            "        \n",
            "        If dir_fd is not None, it should be a file descriptor open to a directory,\n",
            "          and path should be relative; path will then be relative to that directory.\n",
            "        If follow_symlinks is False, and the last element of the path is a symbolic\n",
            "          link, utime will modify the symbolic link itself instead of the file the\n",
            "          link points to.\n",
            "        It is an error to use dir_fd or follow_symlinks when specifying path\n",
            "          as an open file descriptor.\n",
            "        dir_fd and follow_symlinks may not be available on your platform.\n",
            "          If they are unavailable, using them will raise a NotImplementedError.\n",
            "    \n",
            "    wait()\n",
            "        Wait for completion of a child process.\n",
            "        \n",
            "        Returns a tuple of information about the child process:\n",
            "            (pid, status)\n",
            "    \n",
            "    wait3(options)\n",
            "        Wait for completion of a child process.\n",
            "        \n",
            "        Returns a tuple of information about the child process:\n",
            "          (pid, status, rusage)\n",
            "    \n",
            "    wait4(pid, options)\n",
            "        Wait for completion of a specific child process.\n",
            "        \n",
            "        Returns a tuple of information about the child process:\n",
            "          (pid, status, rusage)\n",
            "    \n",
            "    waitid(idtype, id, options, /)\n",
            "        Returns the result of waiting for a process or processes.\n",
            "        \n",
            "          idtype\n",
            "            Must be one of be P_PID, P_PGID or P_ALL.\n",
            "          id\n",
            "            The id to wait on.\n",
            "          options\n",
            "            Constructed from the ORing of one or more of WEXITED, WSTOPPED\n",
            "            or WCONTINUED and additionally may be ORed with WNOHANG or WNOWAIT.\n",
            "        \n",
            "        Returns either waitid_result or None if WNOHANG is specified and there are\n",
            "        no children in a waitable state.\n",
            "    \n",
            "    waitpid(pid, options, /)\n",
            "        Wait for completion of a given child process.\n",
            "        \n",
            "        Returns a tuple of information regarding the child process:\n",
            "            (pid, status)\n",
            "        \n",
            "        The options argument is ignored on Windows.\n",
            "    \n",
            "    waitstatus_to_exitcode(status)\n",
            "        Convert a wait status to an exit code.\n",
            "        \n",
            "        On Unix:\n",
            "        \n",
            "        * If WIFEXITED(status) is true, return WEXITSTATUS(status).\n",
            "        * If WIFSIGNALED(status) is true, return -WTERMSIG(status).\n",
            "        * Otherwise, raise a ValueError.\n",
            "        \n",
            "        On Windows, return status shifted right by 8 bits.\n",
            "        \n",
            "        On Unix, if the process is being traced or if waitpid() was called with\n",
            "        WUNTRACED option, the caller must first check if WIFSTOPPED(status) is true.\n",
            "        This function must not be called if WIFSTOPPED(status) is true.\n",
            "    \n",
            "    walk(top, topdown=True, onerror=None, followlinks=False)\n",
            "        Directory tree generator.\n",
            "        \n",
            "        For each directory in the directory tree rooted at top (including top\n",
            "        itself, but excluding '.' and '..'), yields a 3-tuple\n",
            "        \n",
            "            dirpath, dirnames, filenames\n",
            "        \n",
            "        dirpath is a string, the path to the directory.  dirnames is a list of\n",
            "        the names of the subdirectories in dirpath (including symlinks to directories,\n",
            "        and excluding '.' and '..').\n",
            "        filenames is a list of the names of the non-directory files in dirpath.\n",
            "        Note that the names in the lists are just names, with no path components.\n",
            "        To get a full path (which begins with top) to a file or directory in\n",
            "        dirpath, do os.path.join(dirpath, name).\n",
            "        \n",
            "        If optional arg 'topdown' is true or not specified, the triple for a\n",
            "        directory is generated before the triples for any of its subdirectories\n",
            "        (directories are generated top down).  If topdown is false, the triple\n",
            "        for a directory is generated after the triples for all of its\n",
            "        subdirectories (directories are generated bottom up).\n",
            "        \n",
            "        When topdown is true, the caller can modify the dirnames list in-place\n",
            "        (e.g., via del or slice assignment), and walk will only recurse into the\n",
            "        subdirectories whose names remain in dirnames; this can be used to prune the\n",
            "        search, or to impose a specific order of visiting.  Modifying dirnames when\n",
            "        topdown is false has no effect on the behavior of os.walk(), since the\n",
            "        directories in dirnames have already been generated by the time dirnames\n",
            "        itself is generated. No matter the value of topdown, the list of\n",
            "        subdirectories is retrieved before the tuples for the directory and its\n",
            "        subdirectories are generated.\n",
            "        \n",
            "        By default errors from the os.scandir() call are ignored.  If\n",
            "        optional arg 'onerror' is specified, it should be a function; it\n",
            "        will be called with one argument, an OSError instance.  It can\n",
            "        report the error to continue with the walk, or raise the exception\n",
            "        to abort the walk.  Note that the filename is available as the\n",
            "        filename attribute of the exception object.\n",
            "        \n",
            "        By default, os.walk does not follow symbolic links to subdirectories on\n",
            "        systems that support them.  In order to get this functionality, set the\n",
            "        optional argument 'followlinks' to true.\n",
            "        \n",
            "        Caution:  if you pass a relative pathname for top, don't change the\n",
            "        current working directory between resumptions of walk.  walk never\n",
            "        changes the current directory, and assumes that the client doesn't\n",
            "        either.\n",
            "        \n",
            "        Example:\n",
            "        \n",
            "        import os\n",
            "        from os.path import join, getsize\n",
            "        for root, dirs, files in os.walk('python/Lib/email'):\n",
            "            print(root, \"consumes \")\n",
            "            print(sum(getsize(join(root, name)) for name in files), end=\" \")\n",
            "            print(\"bytes in\", len(files), \"non-directory files\")\n",
            "            if 'CVS' in dirs:\n",
            "                dirs.remove('CVS')  # don't visit CVS directories\n",
            "    \n",
            "    write(fd, data, /)\n",
            "        Write a bytes object to a file descriptor.\n",
            "    \n",
            "    writev(fd, buffers, /)\n",
            "        Iterate over buffers, and write the contents of each to a file descriptor.\n",
            "        \n",
            "        Returns the total number of bytes written.\n",
            "        buffers must be a sequence of bytes-like objects.\n",
            "\n",
            "DATA\n",
            "    CLD_CONTINUED = 6\n",
            "    CLD_DUMPED = 3\n",
            "    CLD_EXITED = 1\n",
            "    CLD_KILLED = 2\n",
            "    CLD_STOPPED = 5\n",
            "    CLD_TRAPPED = 4\n",
            "    EFD_CLOEXEC = 524288\n",
            "    EFD_NONBLOCK = 2048\n",
            "    EFD_SEMAPHORE = 1\n",
            "    EX_CANTCREAT = 73\n",
            "    EX_CONFIG = 78\n",
            "    EX_DATAERR = 65\n",
            "    EX_IOERR = 74\n",
            "    EX_NOHOST = 68\n",
            "    EX_NOINPUT = 66\n",
            "    EX_NOPERM = 77\n",
            "    EX_NOUSER = 67\n",
            "    EX_OK = 0\n",
            "    EX_OSERR = 71\n",
            "    EX_OSFILE = 72\n",
            "    EX_PROTOCOL = 76\n",
            "    EX_SOFTWARE = 70\n",
            "    EX_TEMPFAIL = 75\n",
            "    EX_UNAVAILABLE = 69\n",
            "    EX_USAGE = 64\n",
            "    F_LOCK = 1\n",
            "    F_OK = 0\n",
            "    F_TEST = 3\n",
            "    F_TLOCK = 2\n",
            "    F_ULOCK = 0\n",
            "    GRND_NONBLOCK = 1\n",
            "    GRND_RANDOM = 2\n",
            "    MFD_ALLOW_SEALING = 2\n",
            "    MFD_CLOEXEC = 1\n",
            "    MFD_HUGETLB = 4\n",
            "    MFD_HUGE_16GB = 2281701376\n",
            "    MFD_HUGE_16MB = 1610612736\n",
            "    MFD_HUGE_1GB = 2013265920\n",
            "    MFD_HUGE_1MB = 1342177280\n",
            "    MFD_HUGE_256MB = 1879048192\n",
            "    MFD_HUGE_2GB = 2080374784\n",
            "    MFD_HUGE_2MB = 1409286144\n",
            "    MFD_HUGE_32MB = 1677721600\n",
            "    MFD_HUGE_512KB = 1275068416\n",
            "    MFD_HUGE_512MB = 1946157056\n",
            "    MFD_HUGE_64KB = 1073741824\n",
            "    MFD_HUGE_8MB = 1543503872\n",
            "    MFD_HUGE_MASK = 63\n",
            "    MFD_HUGE_SHIFT = 26\n",
            "    NGROUPS_MAX = 65536\n",
            "    O_ACCMODE = 3\n",
            "    O_APPEND = 1024\n",
            "    O_ASYNC = 8192\n",
            "    O_CLOEXEC = 524288\n",
            "    O_CREAT = 64\n",
            "    O_DIRECT = 16384\n",
            "    O_DIRECTORY = 65536\n",
            "    O_DSYNC = 4096\n",
            "    O_EXCL = 128\n",
            "    O_FSYNC = 1052672\n",
            "    O_LARGEFILE = 0\n",
            "    O_NDELAY = 2048\n",
            "    O_NOATIME = 262144\n",
            "    O_NOCTTY = 256\n",
            "    O_NOFOLLOW = 131072\n",
            "    O_NONBLOCK = 2048\n",
            "    O_PATH = 2097152\n",
            "    O_RDONLY = 0\n",
            "    O_RDWR = 2\n",
            "    O_RSYNC = 1052672\n",
            "    O_SYNC = 1052672\n",
            "    O_TMPFILE = 4259840\n",
            "    O_TRUNC = 512\n",
            "    O_WRONLY = 1\n",
            "    POSIX_FADV_DONTNEED = 4\n",
            "    POSIX_FADV_NOREUSE = 5\n",
            "    POSIX_FADV_NORMAL = 0\n",
            "    POSIX_FADV_RANDOM = 1\n",
            "    POSIX_FADV_SEQUENTIAL = 2\n",
            "    POSIX_FADV_WILLNEED = 3\n",
            "    POSIX_SPAWN_CLOSE = 1\n",
            "    POSIX_SPAWN_DUP2 = 2\n",
            "    POSIX_SPAWN_OPEN = 0\n",
            "    PRIO_PGRP = 1\n",
            "    PRIO_PROCESS = 0\n",
            "    PRIO_USER = 2\n",
            "    P_ALL = 0\n",
            "    P_NOWAIT = 1\n",
            "    P_NOWAITO = 1\n",
            "    P_PGID = 2\n",
            "    P_PID = 1\n",
            "    P_PIDFD = 3\n",
            "    P_WAIT = 0\n",
            "    RTLD_DEEPBIND = 8\n",
            "    RTLD_GLOBAL = 256\n",
            "    RTLD_LAZY = 1\n",
            "    RTLD_LOCAL = 0\n",
            "    RTLD_NODELETE = 4096\n",
            "    RTLD_NOLOAD = 4\n",
            "    RTLD_NOW = 2\n",
            "    RWF_APPEND = 16\n",
            "    RWF_DSYNC = 2\n",
            "    RWF_HIPRI = 1\n",
            "    RWF_NOWAIT = 8\n",
            "    RWF_SYNC = 4\n",
            "    R_OK = 4\n",
            "    SCHED_BATCH = 3\n",
            "    SCHED_FIFO = 1\n",
            "    SCHED_IDLE = 5\n",
            "    SCHED_OTHER = 0\n",
            "    SCHED_RESET_ON_FORK = 1073741824\n",
            "    SCHED_RR = 2\n",
            "    SEEK_CUR = 1\n",
            "    SEEK_DATA = 3\n",
            "    SEEK_END = 2\n",
            "    SEEK_HOLE = 4\n",
            "    SEEK_SET = 0\n",
            "    SPLICE_F_MORE = 4\n",
            "    SPLICE_F_MOVE = 1\n",
            "    SPLICE_F_NONBLOCK = 2\n",
            "    ST_APPEND = 256\n",
            "    ST_MANDLOCK = 64\n",
            "    ST_NOATIME = 1024\n",
            "    ST_NODEV = 4\n",
            "    ST_NODIRATIME = 2048\n",
            "    ST_NOEXEC = 8\n",
            "    ST_NOSUID = 2\n",
            "    ST_RDONLY = 1\n",
            "    ST_RELATIME = 4096\n",
            "    ST_SYNCHRONOUS = 16\n",
            "    ST_WRITE = 128\n",
            "    TMP_MAX = 238328\n",
            "    WCONTINUED = 8\n",
            "    WEXITED = 4\n",
            "    WNOHANG = 1\n",
            "    WNOWAIT = 16777216\n",
            "    WSTOPPED = 2\n",
            "    WUNTRACED = 2\n",
            "    W_OK = 2\n",
            "    XATTR_CREATE = 1\n",
            "    XATTR_REPLACE = 2\n",
            "    XATTR_SIZE_MAX = 65536\n",
            "    X_OK = 1\n",
            "    __all__ = ['altsep', 'curdir', 'pardir', 'sep', 'pathsep', 'linesep', ...\n",
            "    altsep = None\n",
            "    confstr_names = {'CS_GNU_LIBC_VERSION': 2, 'CS_GNU_LIBPTHREAD_VERSION'...\n",
            "    curdir = '.'\n",
            "    defpath = '/bin:/usr/bin'\n",
            "    devnull = '/dev/null'\n",
            "    environ = environ({'SHELL': '/bin/bash', 'NV_LIBCUBLAS_VER...IRECTORYP...\n",
            "    environb = environ({b'SHELL': b'/bin/bash', b'NV_LIBCUBLAS_...CTORYPRE...\n",
            "    extsep = '.'\n",
            "    linesep = '\\n'\n",
            "    name = 'posix'\n",
            "    pardir = '..'\n",
            "    pathconf_names = {'PC_ALLOC_SIZE_MIN': 18, 'PC_ASYNC_IO': 10, 'PC_CHOW...\n",
            "    pathsep = ':'\n",
            "    sep = '/'\n",
            "    supports_bytes_environ = True\n",
            "    sysconf_names = {'SC_2_CHAR_TERM': 95, 'SC_2_C_BIND': 47, 'SC_2_C_DEV'...\n",
            "\n",
            "FILE\n",
            "    /usr/lib/python3.11/os.py\n",
            "\n",
            "\n"
          ]
        }
      ]
    },
    {
      "cell_type": "markdown",
      "source": [
        "### Getting the current working directory"
      ],
      "metadata": {
        "id": "mnRgWa9XCLDI"
      }
    },
    {
      "cell_type": "code",
      "source": [
        "# Using an os function\n",
        "os.getcwd()"
      ],
      "metadata": {
        "colab": {
          "base_uri": "https://localhost:8080/",
          "height": 36
        },
        "id": "0hSs_nT2COYi",
        "outputId": "9a04dfe5-d1b3-4b0d-8b46-468b0a9c0028"
      },
      "execution_count": null,
      "outputs": [
        {
          "output_type": "execute_result",
          "data": {
            "text/plain": [
              "'/content'"
            ],
            "application/vnd.google.colaboratory.intrinsic+json": {
              "type": "string"
            }
          },
          "metadata": {},
          "execution_count": 7
        }
      ]
    },
    {
      "cell_type": "markdown",
      "source": [
        "*   Useful if we need to refer to the directory repeatedly"
      ],
      "metadata": {
        "id": "CVzNL9MICUsb"
      }
    },
    {
      "cell_type": "code",
      "source": [
        "# Assign to a variable\n",
        "work_dir = os.getcwd()"
      ],
      "metadata": {
        "id": "Vgig6M6YCWYY"
      },
      "execution_count": null,
      "outputs": []
    },
    {
      "cell_type": "markdown",
      "source": [
        "### Changing directory"
      ],
      "metadata": {
        "id": "O3kVxKViCbB_"
      }
    },
    {
      "cell_type": "code",
      "source": [
        "# Changing directory\n",
        "os.chdir(\"/home/tradao\")"
      ],
      "metadata": {
        "colab": {
          "base_uri": "https://localhost:8080/",
          "height": 158
        },
        "collapsed": true,
        "id": "S0mKna6nCf0p",
        "outputId": "4147007b-6594-48d2-b937-1fd30172fdc9"
      },
      "execution_count": null,
      "outputs": [
        {
          "output_type": "error",
          "ename": "FileNotFoundError",
          "evalue": "[Errno 2] No such file or directory: '/home/tradao'",
          "traceback": [
            "\u001b[0;31m---------------------------------------------------------------------------\u001b[0m",
            "\u001b[0;31mFileNotFoundError\u001b[0m                         Traceback (most recent call last)",
            "\u001b[0;32m<ipython-input-9-4d0dd0d916bb>\u001b[0m in \u001b[0;36m<cell line: 0>\u001b[0;34m()\u001b[0m\n\u001b[1;32m      1\u001b[0m \u001b[0;31m# Changing directory\u001b[0m\u001b[0;34m\u001b[0m\u001b[0;34m\u001b[0m\u001b[0m\n\u001b[0;32m----> 2\u001b[0;31m \u001b[0mos\u001b[0m\u001b[0;34m.\u001b[0m\u001b[0mchdir\u001b[0m\u001b[0;34m(\u001b[0m\u001b[0;34m\"/home/tradao\"\u001b[0m\u001b[0;34m)\u001b[0m\u001b[0;34m\u001b[0m\u001b[0;34m\u001b[0m\u001b[0m\n\u001b[0m",
            "\u001b[0;31mFileNotFoundError\u001b[0m: [Errno 2] No such file or directory: '/home/tradao'"
          ]
        }
      ]
    },
    {
      "cell_type": "code",
      "source": [
        "# Check the current directory\n",
        "os.getcwd()"
      ],
      "metadata": {
        "colab": {
          "base_uri": "https://localhost:8080/",
          "height": 36
        },
        "id": "asziIgkiCvVo",
        "outputId": "809606f0-8d3e-4e0a-a366-f3894dc20cea"
      },
      "execution_count": null,
      "outputs": [
        {
          "output_type": "execute_result",
          "data": {
            "text/plain": [
              "'/content'"
            ],
            "application/vnd.google.colaboratory.intrinsic+json": {
              "type": "string"
            }
          },
          "metadata": {},
          "execution_count": 10
        }
      ]
    },
    {
      "cell_type": "code",
      "source": [
        "# Confirm work_dir has not changed\n",
        "work_dir"
      ],
      "metadata": {
        "colab": {
          "base_uri": "https://localhost:8080/",
          "height": 36
        },
        "id": "xyAvY0_CCyq5",
        "outputId": "cab15352-a40c-4104-c8ee-3a445536e4a7"
      },
      "execution_count": null,
      "outputs": [
        {
          "output_type": "execute_result",
          "data": {
            "text/plain": [
              "'/content'"
            ],
            "application/vnd.google.colaboratory.intrinsic+json": {
              "type": "string"
            }
          },
          "metadata": {},
          "execution_count": 11
        }
      ]
    },
    {
      "cell_type": "markdown",
      "source": [
        "### Module attributes"
      ],
      "metadata": {
        "id": "36CDBN-aC4kA"
      }
    },
    {
      "cell_type": "markdown",
      "source": [
        "*   Attributes have values\n",
        "*   Functions perform tasks\n",
        "*   Don't use parentheses with attributes"
      ],
      "metadata": {
        "id": "FOV9_L4KC56g"
      }
    },
    {
      "cell_type": "code",
      "source": [
        "# Get the local environment\n",
        "os.environ"
      ],
      "metadata": {
        "collapsed": true,
        "colab": {
          "base_uri": "https://localhost:8080/"
        },
        "id": "Y8nN4aqxDD7a",
        "outputId": "ac32d98b-e1ea-4328-abf2-24ac063fef22"
      },
      "execution_count": null,
      "outputs": [
        {
          "output_type": "execute_result",
          "data": {
            "text/plain": [
              "environ{'SHELL': '/bin/bash',\n",
              "        'NV_LIBCUBLAS_VERSION': '12.5.3.2-1',\n",
              "        'NVIDIA_VISIBLE_DEVICES': 'all',\n",
              "        'COLAB_JUPYTER_TRANSPORT': 'ipc',\n",
              "        'NV_NVML_DEV_VERSION': '12.5.82-1',\n",
              "        'NV_CUDNN_PACKAGE_NAME': 'libcudnn9-cuda-12',\n",
              "        'CGROUP_MEMORY_EVENTS': '/sys/fs/cgroup/memory.events /var/colab/cgroup/jupyter-children/memory.events',\n",
              "        'NV_LIBNCCL_DEV_PACKAGE': 'libnccl-dev=2.22.3-1+cuda12.5',\n",
              "        'NV_LIBNCCL_DEV_PACKAGE_VERSION': '2.22.3-1',\n",
              "        'VM_GCE_METADATA_HOST': '169.254.169.253',\n",
              "        'HOSTNAME': '4776022a9218',\n",
              "        'LANGUAGE': 'en_US',\n",
              "        'TBE_RUNTIME_ADDR': '172.28.0.1:8011',\n",
              "        'COLAB_TPU_1VM': '',\n",
              "        'GCE_METADATA_TIMEOUT': '3',\n",
              "        'NVIDIA_REQUIRE_CUDA': 'cuda>=12.5 brand=unknown,driver>=470,driver<471 brand=grid,driver>=470,driver<471 brand=tesla,driver>=470,driver<471 brand=nvidia,driver>=470,driver<471 brand=quadro,driver>=470,driver<471 brand=quadrortx,driver>=470,driver<471 brand=nvidiartx,driver>=470,driver<471 brand=vapps,driver>=470,driver<471 brand=vpc,driver>=470,driver<471 brand=vcs,driver>=470,driver<471 brand=vws,driver>=470,driver<471 brand=cloudgaming,driver>=470,driver<471 brand=unknown,driver>=535,driver<536 brand=grid,driver>=535,driver<536 brand=tesla,driver>=535,driver<536 brand=nvidia,driver>=535,driver<536 brand=quadro,driver>=535,driver<536 brand=quadrortx,driver>=535,driver<536 brand=nvidiartx,driver>=535,driver<536 brand=vapps,driver>=535,driver<536 brand=vpc,driver>=535,driver<536 brand=vcs,driver>=535,driver<536 brand=vws,driver>=535,driver<536 brand=cloudgaming,driver>=535,driver<536 brand=unknown,driver>=550,driver<551 brand=grid,driver>=550,driver<551 brand=tesla,driver>=550,driver<551 brand=nvidia,driver>=550,driver<551 brand=quadro,driver>=550,driver<551 brand=quadrortx,driver>=550,driver<551 brand=nvidiartx,driver>=550,driver<551 brand=vapps,driver>=550,driver<551 brand=vpc,driver>=550,driver<551 brand=vcs,driver>=550,driver<551 brand=vws,driver>=550,driver<551 brand=cloudgaming,driver>=550,driver<551',\n",
              "        'NV_LIBCUBLAS_DEV_PACKAGE': 'libcublas-dev-12-5=12.5.3.2-1',\n",
              "        'NV_NVTX_VERSION': '12.5.82-1',\n",
              "        'COLAB_JUPYTER_IP': '172.28.0.12',\n",
              "        'NV_CUDA_CUDART_DEV_VERSION': '12.5.82-1',\n",
              "        'NV_LIBCUSPARSE_VERSION': '12.5.1.3-1',\n",
              "        'COLAB_LANGUAGE_SERVER_PROXY_ROOT_URL': 'http://172.28.0.1:8013/',\n",
              "        'NV_LIBNPP_VERSION': '12.3.0.159-1',\n",
              "        'NCCL_VERSION': '2.22.3-1',\n",
              "        'KMP_LISTEN_PORT': '6000',\n",
              "        'TF_FORCE_GPU_ALLOW_GROWTH': 'true',\n",
              "        'ENV': '/root/.bashrc',\n",
              "        'PWD': '/',\n",
              "        'TBE_EPHEM_CREDS_ADDR': '172.28.0.1:8009',\n",
              "        'COLAB_LANGUAGE_SERVER_PROXY_REQUEST_TIMEOUT': '30s',\n",
              "        'TBE_CREDS_ADDR': '172.28.0.1:8008',\n",
              "        'NV_CUDNN_PACKAGE': 'libcudnn9-cuda-12=9.2.1.18-1',\n",
              "        'NVIDIA_DRIVER_CAPABILITIES': 'compute,utility',\n",
              "        'COLAB_JUPYTER_TOKEN': '',\n",
              "        'LAST_FORCED_REBUILD': '20250203',\n",
              "        'NV_NVPROF_DEV_PACKAGE': 'cuda-nvprof-12-5=12.5.82-1',\n",
              "        'NV_LIBNPP_PACKAGE': 'libnpp-12-5=12.3.0.159-1',\n",
              "        'NV_LIBNCCL_DEV_PACKAGE_NAME': 'libnccl-dev',\n",
              "        'TCLLIBPATH': '/usr/share/tcltk/tcllib1.20',\n",
              "        'NV_LIBCUBLAS_DEV_VERSION': '12.5.3.2-1',\n",
              "        'NVIDIA_PRODUCT_NAME': 'CUDA',\n",
              "        'COLAB_KERNEL_MANAGER_PROXY_HOST': '172.28.0.12',\n",
              "        'NV_LIBCUBLAS_DEV_PACKAGE_NAME': 'libcublas-dev-12-5',\n",
              "        'NV_CUDA_CUDART_VERSION': '12.5.82-1',\n",
              "        'UV_PRERELEASE': 'if-necessary-or-explicit',\n",
              "        'COLAB_WARMUP_DEFAULTS': '1',\n",
              "        'HOME': '/root',\n",
              "        'LANG': 'en_US.UTF-8',\n",
              "        'COLUMNS': '100',\n",
              "        'CUDA_VERSION': '12.5.1',\n",
              "        'CLOUDSDK_CONFIG': '/content/.config',\n",
              "        'NV_LIBCUBLAS_PACKAGE': 'libcublas-12-5=12.5.3.2-1',\n",
              "        'NV_CUDA_NSIGHT_COMPUTE_DEV_PACKAGE': 'cuda-nsight-compute-12-5=12.5.1-1',\n",
              "        'UV_SYSTEM_PYTHON': 'true',\n",
              "        'COLAB_RELEASE_TAG': 'release-colab_20250226-060137_RC00',\n",
              "        'KMP_TARGET_PORT': '9000',\n",
              "        'KMP_EXTRA_ARGS': '--logtostderr --listen_host=172.28.0.12 --target_host=172.28.0.12 --tunnel_background_save_url=https://colab.research.google.com/tun/m/cc48301118ce562b961b3c22d803539adc1e0c19/m-s-1aonc1f3fjj3u --tunnel_background_save_delay=10s --tunnel_periodic_background_save_frequency=30m0s --enable_output_coalescing=true --output_coalescing_required=true --enable_kernel_event_logging=true ',\n",
              "        'UV_INSTALL_DIR': '/usr/local/bin',\n",
              "        'NV_LIBNPP_DEV_PACKAGE': 'libnpp-dev-12-5=12.3.0.159-1',\n",
              "        'COLAB_LANGUAGE_SERVER_PROXY_LSP_DIRS': '/datalab/web/pyright/typeshed-fallback/stdlib,/usr/local/lib/python3.10/dist-packages',\n",
              "        'NV_LIBCUBLAS_PACKAGE_NAME': 'libcublas-12-5',\n",
              "        'COLAB_KERNEL_MANAGER_PROXY_PORT': '6000',\n",
              "        'CLOUDSDK_PYTHON': 'python3',\n",
              "        'NV_LIBNPP_DEV_VERSION': '12.3.0.159-1',\n",
              "        'NO_GCE_CHECK': 'False',\n",
              "        'PYTHONPATH': '/env/python',\n",
              "        'NV_LIBCUSPARSE_DEV_VERSION': '12.5.1.3-1',\n",
              "        'LIBRARY_PATH': '/usr/local/cuda/lib64/stubs',\n",
              "        'NV_CUDNN_VERSION': '9.2.1.18-1',\n",
              "        'SHLVL': '0',\n",
              "        'NV_CUDA_LIB_VERSION': '12.5.1-1',\n",
              "        'COLAB_LANGUAGE_SERVER_PROXY': '/usr/colab/bin/language_service',\n",
              "        'NVARCH': 'x86_64',\n",
              "        'NV_CUDNN_PACKAGE_DEV': 'libcudnn9-dev-cuda-12=9.2.1.18-1',\n",
              "        'NV_LIBNCCL_PACKAGE': 'libnccl2=2.22.3-1+cuda12.5',\n",
              "        'LD_LIBRARY_PATH': '/usr/local/nvidia/lib:/usr/local/nvidia/lib64',\n",
              "        'COLAB_GPU': '',\n",
              "        'NV_CUDA_NSIGHT_COMPUTE_VERSION': '12.5.1-1',\n",
              "        'GCS_READ_CACHE_BLOCK_SIZE_MB': '16',\n",
              "        'NV_NVPROF_VERSION': '12.5.82-1',\n",
              "        'LC_ALL': 'en_US.UTF-8',\n",
              "        'COLAB_FILE_HANDLER_ADDR': 'localhost:3453',\n",
              "        'PATH': '/opt/bin:/usr/local/nvidia/bin:/usr/local/cuda/bin:/usr/local/sbin:/usr/local/bin:/usr/sbin:/usr/bin:/sbin:/bin:/tools/node/bin:/tools/google-cloud-sdk/bin',\n",
              "        'NV_LIBNCCL_PACKAGE_NAME': 'libnccl2',\n",
              "        'COLAB_DEBUG_ADAPTER_MUX_PATH': '/usr/local/bin/dap_multiplexer',\n",
              "        'NV_LIBNCCL_PACKAGE_VERSION': '2.22.3-1',\n",
              "        'PYTHONWARNINGS': 'ignore:::pip._internal.cli.base_command',\n",
              "        'DEBIAN_FRONTEND': 'noninteractive',\n",
              "        'COLAB_BACKEND_VERSION': 'next',\n",
              "        'OLDPWD': '/',\n",
              "        '_PYVIZ_COMMS_INSTALLED': '1',\n",
              "        'PYDEVD_USE_FRAME_EVAL': 'NO',\n",
              "        'JPY_PARENT_PID': '95',\n",
              "        'TERM': 'xterm-color',\n",
              "        'CLICOLOR': '1',\n",
              "        'PAGER': 'cat',\n",
              "        'GIT_PAGER': 'cat',\n",
              "        'MPLBACKEND': 'module://matplotlib_inline.backend_inline',\n",
              "        'ENABLE_DIRECTORYPREFETCHER': '1',\n",
              "        'USE_AUTH_EPHEM': '1'}"
            ]
          },
          "metadata": {},
          "execution_count": 12
        }
      ]
    },
    {
      "cell_type": "markdown",
      "source": [
        "### Importing a single function from a module"
      ],
      "metadata": {
        "id": "uRB775M_DNsJ"
      }
    },
    {
      "cell_type": "markdown",
      "source": [
        "* Importing a whole module can require a lot of memory\n",
        "* Can import a specific function from a module"
      ],
      "metadata": {
        "id": "LRS3nuI6DSSo"
      }
    },
    {
      "cell_type": "code",
      "source": [
        "# Import a function from a module\n",
        "from os import chdir"
      ],
      "metadata": {
        "id": "doJCXVeoDoQx"
      },
      "execution_count": null,
      "outputs": []
    },
    {
      "cell_type": "markdown",
      "source": [
        "### Importing multiple functions from a module"
      ],
      "metadata": {
        "id": "ij8z7jAmDyd6"
      }
    },
    {
      "cell_type": "code",
      "source": [
        "# Import multiple functions from a module\n",
        "from os import chdir, getcwd\n",
        "\n",
        "# No need to include os.\n",
        "getcwd()"
      ],
      "metadata": {
        "colab": {
          "base_uri": "https://localhost:8080/",
          "height": 36
        },
        "id": "PxoDgUjKDzvy",
        "outputId": "d80f4658-e456-4476-d11e-239f965495d9"
      },
      "execution_count": null,
      "outputs": [
        {
          "output_type": "execute_result",
          "data": {
            "text/plain": [
              "'/content'"
            ],
            "application/vnd.google.colaboratory.intrinsic+json": {
              "type": "string"
            }
          },
          "metadata": {},
          "execution_count": 14
        }
      ]
    },
    {
      "cell_type": "markdown",
      "source": [
        "### Excercise 1: Working with the string module"
      ],
      "metadata": {
        "id": "BhQCZ13r-2Q3"
      }
    },
    {
      "cell_type": "markdown",
      "source": [
        "In the video, you saw several popular modules including `string`, which is used to gather specific values such as all uppercase characters, or format some text.\n",
        "\n",
        "This can be helpful if you need to check whether text contains specific characters or modify text such as converting to lowercase.\n",
        "\n",
        "In this exercise, you'll import the module and access its `ascii_lowercase` and `punctuation` attributes."
      ],
      "metadata": {
        "id": "luWiRaSw-5-h"
      }
    },
    {
      "cell_type": "markdown",
      "source": [
        "**Instructions**\n",
        "*   Import the `string` module.\n",
        "*   Access the module's `.ascii_lowercase` attribute.\n",
        "*   Access the module's `.punctuation` attribute."
      ],
      "metadata": {
        "id": "pY2KTYpi_Gxa"
      }
    },
    {
      "cell_type": "code",
      "source": [
        "# Import the string module\n",
        "import string\n",
        "\n",
        "# Print all ASCII lowercase characters\n",
        "print(string.ascii_lowercase)\n",
        "\n",
        "# Print all punctuation\n",
        "print(string.punctuation)"
      ],
      "metadata": {
        "colab": {
          "base_uri": "https://localhost:8080/"
        },
        "id": "wZopDskc_WoA",
        "outputId": "4aeee3ef-d48c-4cfd-9b9e-eab9fbe6482c"
      },
      "execution_count": null,
      "outputs": [
        {
          "output_type": "stream",
          "name": "stdout",
          "text": [
            "abcdefghijklmnopqrstuvwxyz\n",
            "!\"#$%&'()*+,-./:;<=>?@[\\]^_`{|}~\n"
          ]
        }
      ]
    },
    {
      "cell_type": "markdown",
      "source": [
        "### Excercise 2: Importing from a module"
      ],
      "metadata": {
        "id": "Dwm6UXJl_z_o"
      }
    },
    {
      "cell_type": "markdown",
      "source": [
        "Another useful module is `datetime`, which allows you to create and work with dates and times, as well as time zones and time periods!\n",
        "\n",
        "The `datetime` module has a function called `date`.\n",
        "\n",
        "In this exercise, you'll practice importing and using the `date` method from the `datetime` module and use it to create a variable."
      ],
      "metadata": {
        "id": "_75edYby_22X"
      }
    },
    {
      "cell_type": "markdown",
      "source": [
        "**Instructions**\n",
        "*   Import the `date` function from the `datetime` module.\n",
        "*   Create a variable called `deadline`, assigning a call of `date()`, passing in the numbers `2024`, `1`, and `19`, in that order, separated by commas.\n",
        "*   Check the data type of `deadline`.\n",
        "*   Print the `deadline` variable."
      ],
      "metadata": {
        "id": "QQ_qfp9QABeM"
      }
    },
    {
      "cell_type": "code",
      "source": [
        "# Import date from the datetime module\n",
        "from datetime import date\n",
        "\n",
        "# Create a variable called deadline\n",
        "deadline = date(2024, 1, 19)\n",
        "\n",
        "# Check the data type\n",
        "print(type(deadline))\n",
        "\n",
        "# Print the deadline\n",
        "print(deadline)"
      ],
      "metadata": {
        "colab": {
          "base_uri": "https://localhost:8080/"
        },
        "id": "-RgOoeCnApEz",
        "outputId": "1854f5e7-a934-4c42-ffdb-6ccd95d3e8d7"
      },
      "execution_count": null,
      "outputs": [
        {
          "output_type": "stream",
          "name": "stdout",
          "text": [
            "<class 'datetime.date'>\n",
            "2024-01-19\n"
          ]
        }
      ]
    },
    {
      "cell_type": "markdown",
      "source": [
        "## Lesson 3: Packages"
      ],
      "metadata": {
        "id": "Ty4nPISRA9wK"
      }
    },
    {
      "cell_type": "markdown",
      "source": [
        "### Importing with an alias"
      ],
      "metadata": {
        "id": "afrT8PF6BDf5"
      }
    },
    {
      "cell_type": "code",
      "source": [
        "# Import pandas\n",
        "import pandas"
      ],
      "metadata": {
        "id": "Xr9r6wLYEG5j"
      },
      "execution_count": null,
      "outputs": []
    },
    {
      "cell_type": "markdown",
      "source": [
        "*   Need to write pandas before every function"
      ],
      "metadata": {
        "id": "-aqgNAbuEJzZ"
      }
    },
    {
      "cell_type": "code",
      "source": [
        "# Import pandas using an alias\n",
        "import pandas as pd"
      ],
      "metadata": {
        "id": "o-Y9KM0qEM5r"
      },
      "execution_count": null,
      "outputs": []
    },
    {
      "cell_type": "markdown",
      "source": [
        "### Creating a DataFrame"
      ],
      "metadata": {
        "id": "6GsDVd8eETa3"
      }
    },
    {
      "cell_type": "code",
      "source": [
        "# Sales dictionary\n",
        "sales = {\"user_id\": [\"KM37\", \"PR19\", \"YU88\"],\n",
        "        \"order_value\": [197.75, 208.21, 134.99]}\n",
        "# Convert to a pandas DataFrame\n",
        "sales_df = pd.DataFrame(sales)\n",
        "sales_df"
      ],
      "metadata": {
        "colab": {
          "base_uri": "https://localhost:8080/",
          "height": 143
        },
        "id": "DyJpcGwzEVCa",
        "outputId": "f94aec79-d5fc-42ce-d754-2f95492ee8e4"
      },
      "execution_count": null,
      "outputs": [
        {
          "output_type": "execute_result",
          "data": {
            "text/plain": [
              "  user_id  order_value\n",
              "0    KM37       197.75\n",
              "1    PR19       208.21\n",
              "2    YU88       134.99"
            ],
            "text/html": [
              "\n",
              "  <div id=\"df-16e93907-1b57-49a1-842d-47569100a953\" class=\"colab-df-container\">\n",
              "    <div>\n",
              "<style scoped>\n",
              "    .dataframe tbody tr th:only-of-type {\n",
              "        vertical-align: middle;\n",
              "    }\n",
              "\n",
              "    .dataframe tbody tr th {\n",
              "        vertical-align: top;\n",
              "    }\n",
              "\n",
              "    .dataframe thead th {\n",
              "        text-align: right;\n",
              "    }\n",
              "</style>\n",
              "<table border=\"1\" class=\"dataframe\">\n",
              "  <thead>\n",
              "    <tr style=\"text-align: right;\">\n",
              "      <th></th>\n",
              "      <th>user_id</th>\n",
              "      <th>order_value</th>\n",
              "    </tr>\n",
              "  </thead>\n",
              "  <tbody>\n",
              "    <tr>\n",
              "      <th>0</th>\n",
              "      <td>KM37</td>\n",
              "      <td>197.75</td>\n",
              "    </tr>\n",
              "    <tr>\n",
              "      <th>1</th>\n",
              "      <td>PR19</td>\n",
              "      <td>208.21</td>\n",
              "    </tr>\n",
              "    <tr>\n",
              "      <th>2</th>\n",
              "      <td>YU88</td>\n",
              "      <td>134.99</td>\n",
              "    </tr>\n",
              "  </tbody>\n",
              "</table>\n",
              "</div>\n",
              "    <div class=\"colab-df-buttons\">\n",
              "\n",
              "  <div class=\"colab-df-container\">\n",
              "    <button class=\"colab-df-convert\" onclick=\"convertToInteractive('df-16e93907-1b57-49a1-842d-47569100a953')\"\n",
              "            title=\"Convert this dataframe to an interactive table.\"\n",
              "            style=\"display:none;\">\n",
              "\n",
              "  <svg xmlns=\"http://www.w3.org/2000/svg\" height=\"24px\" viewBox=\"0 -960 960 960\">\n",
              "    <path d=\"M120-120v-720h720v720H120Zm60-500h600v-160H180v160Zm220 220h160v-160H400v160Zm0 220h160v-160H400v160ZM180-400h160v-160H180v160Zm440 0h160v-160H620v160ZM180-180h160v-160H180v160Zm440 0h160v-160H620v160Z\"/>\n",
              "  </svg>\n",
              "    </button>\n",
              "\n",
              "  <style>\n",
              "    .colab-df-container {\n",
              "      display:flex;\n",
              "      gap: 12px;\n",
              "    }\n",
              "\n",
              "    .colab-df-convert {\n",
              "      background-color: #E8F0FE;\n",
              "      border: none;\n",
              "      border-radius: 50%;\n",
              "      cursor: pointer;\n",
              "      display: none;\n",
              "      fill: #1967D2;\n",
              "      height: 32px;\n",
              "      padding: 0 0 0 0;\n",
              "      width: 32px;\n",
              "    }\n",
              "\n",
              "    .colab-df-convert:hover {\n",
              "      background-color: #E2EBFA;\n",
              "      box-shadow: 0px 1px 2px rgba(60, 64, 67, 0.3), 0px 1px 3px 1px rgba(60, 64, 67, 0.15);\n",
              "      fill: #174EA6;\n",
              "    }\n",
              "\n",
              "    .colab-df-buttons div {\n",
              "      margin-bottom: 4px;\n",
              "    }\n",
              "\n",
              "    [theme=dark] .colab-df-convert {\n",
              "      background-color: #3B4455;\n",
              "      fill: #D2E3FC;\n",
              "    }\n",
              "\n",
              "    [theme=dark] .colab-df-convert:hover {\n",
              "      background-color: #434B5C;\n",
              "      box-shadow: 0px 1px 3px 1px rgba(0, 0, 0, 0.15);\n",
              "      filter: drop-shadow(0px 1px 2px rgba(0, 0, 0, 0.3));\n",
              "      fill: #FFFFFF;\n",
              "    }\n",
              "  </style>\n",
              "\n",
              "    <script>\n",
              "      const buttonEl =\n",
              "        document.querySelector('#df-16e93907-1b57-49a1-842d-47569100a953 button.colab-df-convert');\n",
              "      buttonEl.style.display =\n",
              "        google.colab.kernel.accessAllowed ? 'block' : 'none';\n",
              "\n",
              "      async function convertToInteractive(key) {\n",
              "        const element = document.querySelector('#df-16e93907-1b57-49a1-842d-47569100a953');\n",
              "        const dataTable =\n",
              "          await google.colab.kernel.invokeFunction('convertToInteractive',\n",
              "                                                    [key], {});\n",
              "        if (!dataTable) return;\n",
              "\n",
              "        const docLinkHtml = 'Like what you see? Visit the ' +\n",
              "          '<a target=\"_blank\" href=https://colab.research.google.com/notebooks/data_table.ipynb>data table notebook</a>'\n",
              "          + ' to learn more about interactive tables.';\n",
              "        element.innerHTML = '';\n",
              "        dataTable['output_type'] = 'display_data';\n",
              "        await google.colab.output.renderOutput(dataTable, element);\n",
              "        const docLink = document.createElement('div');\n",
              "        docLink.innerHTML = docLinkHtml;\n",
              "        element.appendChild(docLink);\n",
              "      }\n",
              "    </script>\n",
              "  </div>\n",
              "\n",
              "\n",
              "<div id=\"df-98f88109-d047-4c05-a4e7-ba2a9a594b29\">\n",
              "  <button class=\"colab-df-quickchart\" onclick=\"quickchart('df-98f88109-d047-4c05-a4e7-ba2a9a594b29')\"\n",
              "            title=\"Suggest charts\"\n",
              "            style=\"display:none;\">\n",
              "\n",
              "<svg xmlns=\"http://www.w3.org/2000/svg\" height=\"24px\"viewBox=\"0 0 24 24\"\n",
              "     width=\"24px\">\n",
              "    <g>\n",
              "        <path d=\"M19 3H5c-1.1 0-2 .9-2 2v14c0 1.1.9 2 2 2h14c1.1 0 2-.9 2-2V5c0-1.1-.9-2-2-2zM9 17H7v-7h2v7zm4 0h-2V7h2v10zm4 0h-2v-4h2v4z\"/>\n",
              "    </g>\n",
              "</svg>\n",
              "  </button>\n",
              "\n",
              "<style>\n",
              "  .colab-df-quickchart {\n",
              "      --bg-color: #E8F0FE;\n",
              "      --fill-color: #1967D2;\n",
              "      --hover-bg-color: #E2EBFA;\n",
              "      --hover-fill-color: #174EA6;\n",
              "      --disabled-fill-color: #AAA;\n",
              "      --disabled-bg-color: #DDD;\n",
              "  }\n",
              "\n",
              "  [theme=dark] .colab-df-quickchart {\n",
              "      --bg-color: #3B4455;\n",
              "      --fill-color: #D2E3FC;\n",
              "      --hover-bg-color: #434B5C;\n",
              "      --hover-fill-color: #FFFFFF;\n",
              "      --disabled-bg-color: #3B4455;\n",
              "      --disabled-fill-color: #666;\n",
              "  }\n",
              "\n",
              "  .colab-df-quickchart {\n",
              "    background-color: var(--bg-color);\n",
              "    border: none;\n",
              "    border-radius: 50%;\n",
              "    cursor: pointer;\n",
              "    display: none;\n",
              "    fill: var(--fill-color);\n",
              "    height: 32px;\n",
              "    padding: 0;\n",
              "    width: 32px;\n",
              "  }\n",
              "\n",
              "  .colab-df-quickchart:hover {\n",
              "    background-color: var(--hover-bg-color);\n",
              "    box-shadow: 0 1px 2px rgba(60, 64, 67, 0.3), 0 1px 3px 1px rgba(60, 64, 67, 0.15);\n",
              "    fill: var(--button-hover-fill-color);\n",
              "  }\n",
              "\n",
              "  .colab-df-quickchart-complete:disabled,\n",
              "  .colab-df-quickchart-complete:disabled:hover {\n",
              "    background-color: var(--disabled-bg-color);\n",
              "    fill: var(--disabled-fill-color);\n",
              "    box-shadow: none;\n",
              "  }\n",
              "\n",
              "  .colab-df-spinner {\n",
              "    border: 2px solid var(--fill-color);\n",
              "    border-color: transparent;\n",
              "    border-bottom-color: var(--fill-color);\n",
              "    animation:\n",
              "      spin 1s steps(1) infinite;\n",
              "  }\n",
              "\n",
              "  @keyframes spin {\n",
              "    0% {\n",
              "      border-color: transparent;\n",
              "      border-bottom-color: var(--fill-color);\n",
              "      border-left-color: var(--fill-color);\n",
              "    }\n",
              "    20% {\n",
              "      border-color: transparent;\n",
              "      border-left-color: var(--fill-color);\n",
              "      border-top-color: var(--fill-color);\n",
              "    }\n",
              "    30% {\n",
              "      border-color: transparent;\n",
              "      border-left-color: var(--fill-color);\n",
              "      border-top-color: var(--fill-color);\n",
              "      border-right-color: var(--fill-color);\n",
              "    }\n",
              "    40% {\n",
              "      border-color: transparent;\n",
              "      border-right-color: var(--fill-color);\n",
              "      border-top-color: var(--fill-color);\n",
              "    }\n",
              "    60% {\n",
              "      border-color: transparent;\n",
              "      border-right-color: var(--fill-color);\n",
              "    }\n",
              "    80% {\n",
              "      border-color: transparent;\n",
              "      border-right-color: var(--fill-color);\n",
              "      border-bottom-color: var(--fill-color);\n",
              "    }\n",
              "    90% {\n",
              "      border-color: transparent;\n",
              "      border-bottom-color: var(--fill-color);\n",
              "    }\n",
              "  }\n",
              "</style>\n",
              "\n",
              "  <script>\n",
              "    async function quickchart(key) {\n",
              "      const quickchartButtonEl =\n",
              "        document.querySelector('#' + key + ' button');\n",
              "      quickchartButtonEl.disabled = true;  // To prevent multiple clicks.\n",
              "      quickchartButtonEl.classList.add('colab-df-spinner');\n",
              "      try {\n",
              "        const charts = await google.colab.kernel.invokeFunction(\n",
              "            'suggestCharts', [key], {});\n",
              "      } catch (error) {\n",
              "        console.error('Error during call to suggestCharts:', error);\n",
              "      }\n",
              "      quickchartButtonEl.classList.remove('colab-df-spinner');\n",
              "      quickchartButtonEl.classList.add('colab-df-quickchart-complete');\n",
              "    }\n",
              "    (() => {\n",
              "      let quickchartButtonEl =\n",
              "        document.querySelector('#df-98f88109-d047-4c05-a4e7-ba2a9a594b29 button');\n",
              "      quickchartButtonEl.style.display =\n",
              "        google.colab.kernel.accessAllowed ? 'block' : 'none';\n",
              "    })();\n",
              "  </script>\n",
              "</div>\n",
              "\n",
              "  <div id=\"id_41d53a76-3006-4eb2-9711-2167c1ab5a1e\">\n",
              "    <style>\n",
              "      .colab-df-generate {\n",
              "        background-color: #E8F0FE;\n",
              "        border: none;\n",
              "        border-radius: 50%;\n",
              "        cursor: pointer;\n",
              "        display: none;\n",
              "        fill: #1967D2;\n",
              "        height: 32px;\n",
              "        padding: 0 0 0 0;\n",
              "        width: 32px;\n",
              "      }\n",
              "\n",
              "      .colab-df-generate:hover {\n",
              "        background-color: #E2EBFA;\n",
              "        box-shadow: 0px 1px 2px rgba(60, 64, 67, 0.3), 0px 1px 3px 1px rgba(60, 64, 67, 0.15);\n",
              "        fill: #174EA6;\n",
              "      }\n",
              "\n",
              "      [theme=dark] .colab-df-generate {\n",
              "        background-color: #3B4455;\n",
              "        fill: #D2E3FC;\n",
              "      }\n",
              "\n",
              "      [theme=dark] .colab-df-generate:hover {\n",
              "        background-color: #434B5C;\n",
              "        box-shadow: 0px 1px 3px 1px rgba(0, 0, 0, 0.15);\n",
              "        filter: drop-shadow(0px 1px 2px rgba(0, 0, 0, 0.3));\n",
              "        fill: #FFFFFF;\n",
              "      }\n",
              "    </style>\n",
              "    <button class=\"colab-df-generate\" onclick=\"generateWithVariable('sales_df')\"\n",
              "            title=\"Generate code using this dataframe.\"\n",
              "            style=\"display:none;\">\n",
              "\n",
              "  <svg xmlns=\"http://www.w3.org/2000/svg\" height=\"24px\"viewBox=\"0 0 24 24\"\n",
              "       width=\"24px\">\n",
              "    <path d=\"M7,19H8.4L18.45,9,17,7.55,7,17.6ZM5,21V16.75L18.45,3.32a2,2,0,0,1,2.83,0l1.4,1.43a1.91,1.91,0,0,1,.58,1.4,1.91,1.91,0,0,1-.58,1.4L9.25,21ZM18.45,9,17,7.55Zm-12,3A5.31,5.31,0,0,0,4.9,8.1,5.31,5.31,0,0,0,1,6.5,5.31,5.31,0,0,0,4.9,4.9,5.31,5.31,0,0,0,6.5,1,5.31,5.31,0,0,0,8.1,4.9,5.31,5.31,0,0,0,12,6.5,5.46,5.46,0,0,0,6.5,12Z\"/>\n",
              "  </svg>\n",
              "    </button>\n",
              "    <script>\n",
              "      (() => {\n",
              "      const buttonEl =\n",
              "        document.querySelector('#id_41d53a76-3006-4eb2-9711-2167c1ab5a1e button.colab-df-generate');\n",
              "      buttonEl.style.display =\n",
              "        google.colab.kernel.accessAllowed ? 'block' : 'none';\n",
              "\n",
              "      buttonEl.onclick = () => {\n",
              "        google.colab.notebook.generateWithVariable('sales_df');\n",
              "      }\n",
              "      })();\n",
              "    </script>\n",
              "  </div>\n",
              "\n",
              "    </div>\n",
              "  </div>\n"
            ],
            "application/vnd.google.colaboratory.intrinsic+json": {
              "type": "dataframe",
              "variable_name": "sales_df",
              "summary": "{\n  \"name\": \"sales_df\",\n  \"rows\": 3,\n  \"fields\": [\n    {\n      \"column\": \"user_id\",\n      \"properties\": {\n        \"dtype\": \"string\",\n        \"num_unique_values\": 3,\n        \"samples\": [\n          \"KM37\",\n          \"PR19\",\n          \"YU88\"\n        ],\n        \"semantic_type\": \"\",\n        \"description\": \"\"\n      }\n    },\n    {\n      \"column\": \"order_value\",\n      \"properties\": {\n        \"dtype\": \"number\",\n        \"std\": 39.600920864713906,\n        \"min\": 134.99,\n        \"max\": 208.21,\n        \"num_unique_values\": 3,\n        \"samples\": [\n          197.75,\n          208.21,\n          134.99\n        ],\n        \"semantic_type\": \"\",\n        \"description\": \"\"\n      }\n    }\n  ]\n}"
            }
          },
          "metadata": {},
          "execution_count": 17
        }
      ]
    },
    {
      "cell_type": "markdown",
      "source": [
        "### Reading in a CSV file"
      ],
      "metadata": {
        "id": "jY3MWHDHEjlT"
      }
    },
    {
      "cell_type": "code",
      "source": [
        "# Reading in a CSV file in our current directory\n",
        "sales_df = pd.read_csv(\"sales.csv\")\n",
        "# Checking the data type\n",
        "type(sales_df)"
      ],
      "metadata": {
        "colab": {
          "base_uri": "https://localhost:8080/",
          "height": 339
        },
        "id": "mjmo3CyAEnqS",
        "outputId": "897ac5d5-ae2e-4d8c-af57-c4b94a2a1c7c"
      },
      "execution_count": null,
      "outputs": [
        {
          "output_type": "error",
          "ename": "FileNotFoundError",
          "evalue": "[Errno 2] No such file or directory: 'sales.csv'",
          "traceback": [
            "\u001b[0;31m---------------------------------------------------------------------------\u001b[0m",
            "\u001b[0;31mFileNotFoundError\u001b[0m                         Traceback (most recent call last)",
            "\u001b[0;32m<ipython-input-18-de7abb0fc897>\u001b[0m in \u001b[0;36m<cell line: 0>\u001b[0;34m()\u001b[0m\n\u001b[1;32m      1\u001b[0m \u001b[0;31m# Reading in a CSV file in our current directory\u001b[0m\u001b[0;34m\u001b[0m\u001b[0;34m\u001b[0m\u001b[0m\n\u001b[0;32m----> 2\u001b[0;31m \u001b[0msales_df\u001b[0m \u001b[0;34m=\u001b[0m \u001b[0mpd\u001b[0m\u001b[0;34m.\u001b[0m\u001b[0mread_csv\u001b[0m\u001b[0;34m(\u001b[0m\u001b[0;34m\"sales.csv\"\u001b[0m\u001b[0;34m)\u001b[0m\u001b[0;34m\u001b[0m\u001b[0;34m\u001b[0m\u001b[0m\n\u001b[0m\u001b[1;32m      3\u001b[0m \u001b[0;31m# Checking the data type\u001b[0m\u001b[0;34m\u001b[0m\u001b[0;34m\u001b[0m\u001b[0m\n\u001b[1;32m      4\u001b[0m \u001b[0mtype\u001b[0m\u001b[0;34m(\u001b[0m\u001b[0msales_df\u001b[0m\u001b[0;34m)\u001b[0m\u001b[0;34m\u001b[0m\u001b[0;34m\u001b[0m\u001b[0m\n",
            "\u001b[0;32m/usr/local/lib/python3.11/dist-packages/pandas/io/parsers/readers.py\u001b[0m in \u001b[0;36mread_csv\u001b[0;34m(filepath_or_buffer, sep, delimiter, header, names, index_col, usecols, dtype, engine, converters, true_values, false_values, skipinitialspace, skiprows, skipfooter, nrows, na_values, keep_default_na, na_filter, verbose, skip_blank_lines, parse_dates, infer_datetime_format, keep_date_col, date_parser, date_format, dayfirst, cache_dates, iterator, chunksize, compression, thousands, decimal, lineterminator, quotechar, quoting, doublequote, escapechar, comment, encoding, encoding_errors, dialect, on_bad_lines, delim_whitespace, low_memory, memory_map, float_precision, storage_options, dtype_backend)\u001b[0m\n\u001b[1;32m   1024\u001b[0m     \u001b[0mkwds\u001b[0m\u001b[0;34m.\u001b[0m\u001b[0mupdate\u001b[0m\u001b[0;34m(\u001b[0m\u001b[0mkwds_defaults\u001b[0m\u001b[0;34m)\u001b[0m\u001b[0;34m\u001b[0m\u001b[0;34m\u001b[0m\u001b[0m\n\u001b[1;32m   1025\u001b[0m \u001b[0;34m\u001b[0m\u001b[0m\n\u001b[0;32m-> 1026\u001b[0;31m     \u001b[0;32mreturn\u001b[0m \u001b[0m_read\u001b[0m\u001b[0;34m(\u001b[0m\u001b[0mfilepath_or_buffer\u001b[0m\u001b[0;34m,\u001b[0m \u001b[0mkwds\u001b[0m\u001b[0;34m)\u001b[0m\u001b[0;34m\u001b[0m\u001b[0;34m\u001b[0m\u001b[0m\n\u001b[0m\u001b[1;32m   1027\u001b[0m \u001b[0;34m\u001b[0m\u001b[0m\n\u001b[1;32m   1028\u001b[0m \u001b[0;34m\u001b[0m\u001b[0m\n",
            "\u001b[0;32m/usr/local/lib/python3.11/dist-packages/pandas/io/parsers/readers.py\u001b[0m in \u001b[0;36m_read\u001b[0;34m(filepath_or_buffer, kwds)\u001b[0m\n\u001b[1;32m    618\u001b[0m \u001b[0;34m\u001b[0m\u001b[0m\n\u001b[1;32m    619\u001b[0m     \u001b[0;31m# Create the parser.\u001b[0m\u001b[0;34m\u001b[0m\u001b[0;34m\u001b[0m\u001b[0m\n\u001b[0;32m--> 620\u001b[0;31m     \u001b[0mparser\u001b[0m \u001b[0;34m=\u001b[0m \u001b[0mTextFileReader\u001b[0m\u001b[0;34m(\u001b[0m\u001b[0mfilepath_or_buffer\u001b[0m\u001b[0;34m,\u001b[0m \u001b[0;34m**\u001b[0m\u001b[0mkwds\u001b[0m\u001b[0;34m)\u001b[0m\u001b[0;34m\u001b[0m\u001b[0;34m\u001b[0m\u001b[0m\n\u001b[0m\u001b[1;32m    621\u001b[0m \u001b[0;34m\u001b[0m\u001b[0m\n\u001b[1;32m    622\u001b[0m     \u001b[0;32mif\u001b[0m \u001b[0mchunksize\u001b[0m \u001b[0;32mor\u001b[0m \u001b[0miterator\u001b[0m\u001b[0;34m:\u001b[0m\u001b[0;34m\u001b[0m\u001b[0;34m\u001b[0m\u001b[0m\n",
            "\u001b[0;32m/usr/local/lib/python3.11/dist-packages/pandas/io/parsers/readers.py\u001b[0m in \u001b[0;36m__init__\u001b[0;34m(self, f, engine, **kwds)\u001b[0m\n\u001b[1;32m   1618\u001b[0m \u001b[0;34m\u001b[0m\u001b[0m\n\u001b[1;32m   1619\u001b[0m         \u001b[0mself\u001b[0m\u001b[0;34m.\u001b[0m\u001b[0mhandles\u001b[0m\u001b[0;34m:\u001b[0m \u001b[0mIOHandles\u001b[0m \u001b[0;34m|\u001b[0m \u001b[0;32mNone\u001b[0m \u001b[0;34m=\u001b[0m \u001b[0;32mNone\u001b[0m\u001b[0;34m\u001b[0m\u001b[0;34m\u001b[0m\u001b[0m\n\u001b[0;32m-> 1620\u001b[0;31m         \u001b[0mself\u001b[0m\u001b[0;34m.\u001b[0m\u001b[0m_engine\u001b[0m \u001b[0;34m=\u001b[0m \u001b[0mself\u001b[0m\u001b[0;34m.\u001b[0m\u001b[0m_make_engine\u001b[0m\u001b[0;34m(\u001b[0m\u001b[0mf\u001b[0m\u001b[0;34m,\u001b[0m \u001b[0mself\u001b[0m\u001b[0;34m.\u001b[0m\u001b[0mengine\u001b[0m\u001b[0;34m)\u001b[0m\u001b[0;34m\u001b[0m\u001b[0;34m\u001b[0m\u001b[0m\n\u001b[0m\u001b[1;32m   1621\u001b[0m \u001b[0;34m\u001b[0m\u001b[0m\n\u001b[1;32m   1622\u001b[0m     \u001b[0;32mdef\u001b[0m \u001b[0mclose\u001b[0m\u001b[0;34m(\u001b[0m\u001b[0mself\u001b[0m\u001b[0;34m)\u001b[0m \u001b[0;34m->\u001b[0m \u001b[0;32mNone\u001b[0m\u001b[0;34m:\u001b[0m\u001b[0;34m\u001b[0m\u001b[0;34m\u001b[0m\u001b[0m\n",
            "\u001b[0;32m/usr/local/lib/python3.11/dist-packages/pandas/io/parsers/readers.py\u001b[0m in \u001b[0;36m_make_engine\u001b[0;34m(self, f, engine)\u001b[0m\n\u001b[1;32m   1878\u001b[0m                 \u001b[0;32mif\u001b[0m \u001b[0;34m\"b\"\u001b[0m \u001b[0;32mnot\u001b[0m \u001b[0;32min\u001b[0m \u001b[0mmode\u001b[0m\u001b[0;34m:\u001b[0m\u001b[0;34m\u001b[0m\u001b[0;34m\u001b[0m\u001b[0m\n\u001b[1;32m   1879\u001b[0m                     \u001b[0mmode\u001b[0m \u001b[0;34m+=\u001b[0m \u001b[0;34m\"b\"\u001b[0m\u001b[0;34m\u001b[0m\u001b[0;34m\u001b[0m\u001b[0m\n\u001b[0;32m-> 1880\u001b[0;31m             self.handles = get_handle(\n\u001b[0m\u001b[1;32m   1881\u001b[0m                 \u001b[0mf\u001b[0m\u001b[0;34m,\u001b[0m\u001b[0;34m\u001b[0m\u001b[0;34m\u001b[0m\u001b[0m\n\u001b[1;32m   1882\u001b[0m                 \u001b[0mmode\u001b[0m\u001b[0;34m,\u001b[0m\u001b[0;34m\u001b[0m\u001b[0;34m\u001b[0m\u001b[0m\n",
            "\u001b[0;32m/usr/local/lib/python3.11/dist-packages/pandas/io/common.py\u001b[0m in \u001b[0;36mget_handle\u001b[0;34m(path_or_buf, mode, encoding, compression, memory_map, is_text, errors, storage_options)\u001b[0m\n\u001b[1;32m    871\u001b[0m         \u001b[0;32mif\u001b[0m \u001b[0mioargs\u001b[0m\u001b[0;34m.\u001b[0m\u001b[0mencoding\u001b[0m \u001b[0;32mand\u001b[0m \u001b[0;34m\"b\"\u001b[0m \u001b[0;32mnot\u001b[0m \u001b[0;32min\u001b[0m \u001b[0mioargs\u001b[0m\u001b[0;34m.\u001b[0m\u001b[0mmode\u001b[0m\u001b[0;34m:\u001b[0m\u001b[0;34m\u001b[0m\u001b[0;34m\u001b[0m\u001b[0m\n\u001b[1;32m    872\u001b[0m             \u001b[0;31m# Encoding\u001b[0m\u001b[0;34m\u001b[0m\u001b[0;34m\u001b[0m\u001b[0m\n\u001b[0;32m--> 873\u001b[0;31m             handle = open(\n\u001b[0m\u001b[1;32m    874\u001b[0m                 \u001b[0mhandle\u001b[0m\u001b[0;34m,\u001b[0m\u001b[0;34m\u001b[0m\u001b[0;34m\u001b[0m\u001b[0m\n\u001b[1;32m    875\u001b[0m                 \u001b[0mioargs\u001b[0m\u001b[0;34m.\u001b[0m\u001b[0mmode\u001b[0m\u001b[0;34m,\u001b[0m\u001b[0;34m\u001b[0m\u001b[0;34m\u001b[0m\u001b[0m\n",
            "\u001b[0;31mFileNotFoundError\u001b[0m: [Errno 2] No such file or directory: 'sales.csv'"
          ]
        }
      ]
    },
    {
      "cell_type": "markdown",
      "source": [
        "### Previewing the file\n"
      ],
      "metadata": {
        "id": "_tTr8JrkErtC"
      }
    },
    {
      "cell_type": "code",
      "source": [
        "# DataFrame method to preview the first five rows\n",
        "sales_df.head()"
      ],
      "metadata": {
        "id": "1CURfNgPEv3T"
      },
      "execution_count": null,
      "outputs": []
    },
    {
      "cell_type": "markdown",
      "source": [
        "### Functions versus methods"
      ],
      "metadata": {
        "id": "DHacP0DjE1wk"
      }
    },
    {
      "cell_type": "markdown",
      "source": [
        "*   Function = code to perform a task\n",
        "*   Method = a function that is specific to a data type"
      ],
      "metadata": {
        "id": "jkfHDElXE22q"
      }
    },
    {
      "cell_type": "code",
      "source": [
        "# This is a built-in function\n",
        "sum([1, 2 ,3, 4, 5])"
      ],
      "metadata": {
        "colab": {
          "base_uri": "https://localhost:8080/"
        },
        "id": "Ssnpxer3E-Tw",
        "outputId": "16e1053b-b22b-4a00-e4c8-87c5adb44040"
      },
      "execution_count": null,
      "outputs": [
        {
          "output_type": "execute_result",
          "data": {
            "text/plain": [
              "15"
            ]
          },
          "metadata": {},
          "execution_count": 19
        }
      ]
    },
    {
      "cell_type": "code",
      "source": [
        "# This is a pandas function\n",
        "sales_df = pd.DataFrame(sales)"
      ],
      "metadata": {
        "id": "IgRnOm7qFHWi"
      },
      "execution_count": null,
      "outputs": []
    },
    {
      "cell_type": "markdown",
      "source": [
        "*   `.head()` won't work with other data types: e.g., lists, dictionaries"
      ],
      "metadata": {
        "id": "eLIRuMh3FNuB"
      }
    },
    {
      "cell_type": "code",
      "source": [
        "# This is a method\n",
        "# It is specific to a DataFrame data type\n",
        "sales_df.head()"
      ],
      "metadata": {
        "colab": {
          "base_uri": "https://localhost:8080/",
          "height": 143
        },
        "id": "00SUn4hDFSUo",
        "outputId": "8fe00f53-40aa-47f1-fc64-2bf0eb5fbffd"
      },
      "execution_count": null,
      "outputs": [
        {
          "output_type": "execute_result",
          "data": {
            "text/plain": [
              "  user_id  order_value\n",
              "0    KM37       197.75\n",
              "1    PR19       208.21\n",
              "2    YU88       134.99"
            ],
            "text/html": [
              "\n",
              "  <div id=\"df-f7f5d923-2554-4532-b7d3-b075a7b90179\" class=\"colab-df-container\">\n",
              "    <div>\n",
              "<style scoped>\n",
              "    .dataframe tbody tr th:only-of-type {\n",
              "        vertical-align: middle;\n",
              "    }\n",
              "\n",
              "    .dataframe tbody tr th {\n",
              "        vertical-align: top;\n",
              "    }\n",
              "\n",
              "    .dataframe thead th {\n",
              "        text-align: right;\n",
              "    }\n",
              "</style>\n",
              "<table border=\"1\" class=\"dataframe\">\n",
              "  <thead>\n",
              "    <tr style=\"text-align: right;\">\n",
              "      <th></th>\n",
              "      <th>user_id</th>\n",
              "      <th>order_value</th>\n",
              "    </tr>\n",
              "  </thead>\n",
              "  <tbody>\n",
              "    <tr>\n",
              "      <th>0</th>\n",
              "      <td>KM37</td>\n",
              "      <td>197.75</td>\n",
              "    </tr>\n",
              "    <tr>\n",
              "      <th>1</th>\n",
              "      <td>PR19</td>\n",
              "      <td>208.21</td>\n",
              "    </tr>\n",
              "    <tr>\n",
              "      <th>2</th>\n",
              "      <td>YU88</td>\n",
              "      <td>134.99</td>\n",
              "    </tr>\n",
              "  </tbody>\n",
              "</table>\n",
              "</div>\n",
              "    <div class=\"colab-df-buttons\">\n",
              "\n",
              "  <div class=\"colab-df-container\">\n",
              "    <button class=\"colab-df-convert\" onclick=\"convertToInteractive('df-f7f5d923-2554-4532-b7d3-b075a7b90179')\"\n",
              "            title=\"Convert this dataframe to an interactive table.\"\n",
              "            style=\"display:none;\">\n",
              "\n",
              "  <svg xmlns=\"http://www.w3.org/2000/svg\" height=\"24px\" viewBox=\"0 -960 960 960\">\n",
              "    <path d=\"M120-120v-720h720v720H120Zm60-500h600v-160H180v160Zm220 220h160v-160H400v160Zm0 220h160v-160H400v160ZM180-400h160v-160H180v160Zm440 0h160v-160H620v160ZM180-180h160v-160H180v160Zm440 0h160v-160H620v160Z\"/>\n",
              "  </svg>\n",
              "    </button>\n",
              "\n",
              "  <style>\n",
              "    .colab-df-container {\n",
              "      display:flex;\n",
              "      gap: 12px;\n",
              "    }\n",
              "\n",
              "    .colab-df-convert {\n",
              "      background-color: #E8F0FE;\n",
              "      border: none;\n",
              "      border-radius: 50%;\n",
              "      cursor: pointer;\n",
              "      display: none;\n",
              "      fill: #1967D2;\n",
              "      height: 32px;\n",
              "      padding: 0 0 0 0;\n",
              "      width: 32px;\n",
              "    }\n",
              "\n",
              "    .colab-df-convert:hover {\n",
              "      background-color: #E2EBFA;\n",
              "      box-shadow: 0px 1px 2px rgba(60, 64, 67, 0.3), 0px 1px 3px 1px rgba(60, 64, 67, 0.15);\n",
              "      fill: #174EA6;\n",
              "    }\n",
              "\n",
              "    .colab-df-buttons div {\n",
              "      margin-bottom: 4px;\n",
              "    }\n",
              "\n",
              "    [theme=dark] .colab-df-convert {\n",
              "      background-color: #3B4455;\n",
              "      fill: #D2E3FC;\n",
              "    }\n",
              "\n",
              "    [theme=dark] .colab-df-convert:hover {\n",
              "      background-color: #434B5C;\n",
              "      box-shadow: 0px 1px 3px 1px rgba(0, 0, 0, 0.15);\n",
              "      filter: drop-shadow(0px 1px 2px rgba(0, 0, 0, 0.3));\n",
              "      fill: #FFFFFF;\n",
              "    }\n",
              "  </style>\n",
              "\n",
              "    <script>\n",
              "      const buttonEl =\n",
              "        document.querySelector('#df-f7f5d923-2554-4532-b7d3-b075a7b90179 button.colab-df-convert');\n",
              "      buttonEl.style.display =\n",
              "        google.colab.kernel.accessAllowed ? 'block' : 'none';\n",
              "\n",
              "      async function convertToInteractive(key) {\n",
              "        const element = document.querySelector('#df-f7f5d923-2554-4532-b7d3-b075a7b90179');\n",
              "        const dataTable =\n",
              "          await google.colab.kernel.invokeFunction('convertToInteractive',\n",
              "                                                    [key], {});\n",
              "        if (!dataTable) return;\n",
              "\n",
              "        const docLinkHtml = 'Like what you see? Visit the ' +\n",
              "          '<a target=\"_blank\" href=https://colab.research.google.com/notebooks/data_table.ipynb>data table notebook</a>'\n",
              "          + ' to learn more about interactive tables.';\n",
              "        element.innerHTML = '';\n",
              "        dataTable['output_type'] = 'display_data';\n",
              "        await google.colab.output.renderOutput(dataTable, element);\n",
              "        const docLink = document.createElement('div');\n",
              "        docLink.innerHTML = docLinkHtml;\n",
              "        element.appendChild(docLink);\n",
              "      }\n",
              "    </script>\n",
              "  </div>\n",
              "\n",
              "\n",
              "<div id=\"df-62c802a0-a7c5-4fba-a024-40901b7f903b\">\n",
              "  <button class=\"colab-df-quickchart\" onclick=\"quickchart('df-62c802a0-a7c5-4fba-a024-40901b7f903b')\"\n",
              "            title=\"Suggest charts\"\n",
              "            style=\"display:none;\">\n",
              "\n",
              "<svg xmlns=\"http://www.w3.org/2000/svg\" height=\"24px\"viewBox=\"0 0 24 24\"\n",
              "     width=\"24px\">\n",
              "    <g>\n",
              "        <path d=\"M19 3H5c-1.1 0-2 .9-2 2v14c0 1.1.9 2 2 2h14c1.1 0 2-.9 2-2V5c0-1.1-.9-2-2-2zM9 17H7v-7h2v7zm4 0h-2V7h2v10zm4 0h-2v-4h2v4z\"/>\n",
              "    </g>\n",
              "</svg>\n",
              "  </button>\n",
              "\n",
              "<style>\n",
              "  .colab-df-quickchart {\n",
              "      --bg-color: #E8F0FE;\n",
              "      --fill-color: #1967D2;\n",
              "      --hover-bg-color: #E2EBFA;\n",
              "      --hover-fill-color: #174EA6;\n",
              "      --disabled-fill-color: #AAA;\n",
              "      --disabled-bg-color: #DDD;\n",
              "  }\n",
              "\n",
              "  [theme=dark] .colab-df-quickchart {\n",
              "      --bg-color: #3B4455;\n",
              "      --fill-color: #D2E3FC;\n",
              "      --hover-bg-color: #434B5C;\n",
              "      --hover-fill-color: #FFFFFF;\n",
              "      --disabled-bg-color: #3B4455;\n",
              "      --disabled-fill-color: #666;\n",
              "  }\n",
              "\n",
              "  .colab-df-quickchart {\n",
              "    background-color: var(--bg-color);\n",
              "    border: none;\n",
              "    border-radius: 50%;\n",
              "    cursor: pointer;\n",
              "    display: none;\n",
              "    fill: var(--fill-color);\n",
              "    height: 32px;\n",
              "    padding: 0;\n",
              "    width: 32px;\n",
              "  }\n",
              "\n",
              "  .colab-df-quickchart:hover {\n",
              "    background-color: var(--hover-bg-color);\n",
              "    box-shadow: 0 1px 2px rgba(60, 64, 67, 0.3), 0 1px 3px 1px rgba(60, 64, 67, 0.15);\n",
              "    fill: var(--button-hover-fill-color);\n",
              "  }\n",
              "\n",
              "  .colab-df-quickchart-complete:disabled,\n",
              "  .colab-df-quickchart-complete:disabled:hover {\n",
              "    background-color: var(--disabled-bg-color);\n",
              "    fill: var(--disabled-fill-color);\n",
              "    box-shadow: none;\n",
              "  }\n",
              "\n",
              "  .colab-df-spinner {\n",
              "    border: 2px solid var(--fill-color);\n",
              "    border-color: transparent;\n",
              "    border-bottom-color: var(--fill-color);\n",
              "    animation:\n",
              "      spin 1s steps(1) infinite;\n",
              "  }\n",
              "\n",
              "  @keyframes spin {\n",
              "    0% {\n",
              "      border-color: transparent;\n",
              "      border-bottom-color: var(--fill-color);\n",
              "      border-left-color: var(--fill-color);\n",
              "    }\n",
              "    20% {\n",
              "      border-color: transparent;\n",
              "      border-left-color: var(--fill-color);\n",
              "      border-top-color: var(--fill-color);\n",
              "    }\n",
              "    30% {\n",
              "      border-color: transparent;\n",
              "      border-left-color: var(--fill-color);\n",
              "      border-top-color: var(--fill-color);\n",
              "      border-right-color: var(--fill-color);\n",
              "    }\n",
              "    40% {\n",
              "      border-color: transparent;\n",
              "      border-right-color: var(--fill-color);\n",
              "      border-top-color: var(--fill-color);\n",
              "    }\n",
              "    60% {\n",
              "      border-color: transparent;\n",
              "      border-right-color: var(--fill-color);\n",
              "    }\n",
              "    80% {\n",
              "      border-color: transparent;\n",
              "      border-right-color: var(--fill-color);\n",
              "      border-bottom-color: var(--fill-color);\n",
              "    }\n",
              "    90% {\n",
              "      border-color: transparent;\n",
              "      border-bottom-color: var(--fill-color);\n",
              "    }\n",
              "  }\n",
              "</style>\n",
              "\n",
              "  <script>\n",
              "    async function quickchart(key) {\n",
              "      const quickchartButtonEl =\n",
              "        document.querySelector('#' + key + ' button');\n",
              "      quickchartButtonEl.disabled = true;  // To prevent multiple clicks.\n",
              "      quickchartButtonEl.classList.add('colab-df-spinner');\n",
              "      try {\n",
              "        const charts = await google.colab.kernel.invokeFunction(\n",
              "            'suggestCharts', [key], {});\n",
              "      } catch (error) {\n",
              "        console.error('Error during call to suggestCharts:', error);\n",
              "      }\n",
              "      quickchartButtonEl.classList.remove('colab-df-spinner');\n",
              "      quickchartButtonEl.classList.add('colab-df-quickchart-complete');\n",
              "    }\n",
              "    (() => {\n",
              "      let quickchartButtonEl =\n",
              "        document.querySelector('#df-62c802a0-a7c5-4fba-a024-40901b7f903b button');\n",
              "      quickchartButtonEl.style.display =\n",
              "        google.colab.kernel.accessAllowed ? 'block' : 'none';\n",
              "    })();\n",
              "  </script>\n",
              "</div>\n",
              "\n",
              "    </div>\n",
              "  </div>\n"
            ],
            "application/vnd.google.colaboratory.intrinsic+json": {
              "type": "dataframe",
              "variable_name": "sales_df",
              "summary": "{\n  \"name\": \"sales_df\",\n  \"rows\": 3,\n  \"fields\": [\n    {\n      \"column\": \"user_id\",\n      \"properties\": {\n        \"dtype\": \"string\",\n        \"num_unique_values\": 3,\n        \"samples\": [\n          \"KM37\",\n          \"PR19\",\n          \"YU88\"\n        ],\n        \"semantic_type\": \"\",\n        \"description\": \"\"\n      }\n    },\n    {\n      \"column\": \"order_value\",\n      \"properties\": {\n        \"dtype\": \"number\",\n        \"std\": 39.600920864713906,\n        \"min\": 134.99,\n        \"max\": 208.21,\n        \"num_unique_values\": 3,\n        \"samples\": [\n          197.75,\n          208.21,\n          134.99\n        ],\n        \"semantic_type\": \"\",\n        \"description\": \"\"\n      }\n    }\n  ]\n}"
            }
          },
          "metadata": {},
          "execution_count": 22
        }
      ]
    },
    {
      "cell_type": "markdown",
      "source": [
        "### Excercise 1: Working with pandas"
      ],
      "metadata": {
        "id": "tZCrjHpGF096"
      }
    },
    {
      "cell_type": "markdown",
      "source": [
        "`pandas` is an example of a popular Python package.\n",
        "\n",
        "In this exercise, the `sales` dictionary has been created and made available to you, and your task is to convert it into a pandas DataFrame and preview the first five rows."
      ],
      "metadata": {
        "id": "o-0QjkitF6Lg"
      }
    },
    {
      "cell_type": "code",
      "source": [
        "sales = {'user_id': ['KM37', 'PR19', 'YU88', 'JB18', 'LP65', 'HJ11', 'PR19', 'IJ54'],\n",
        "          'date': ['01/05/2024',\n",
        "            '01/05/2024',\n",
        "            '01/06/2024',\n",
        "            '01/06/2024',\n",
        "            '01/06/2024',\n",
        "            '01/06/2024',\n",
        "            '01/07/2024',\n",
        "            '01/07/2024'],\n",
        "          'order_value': [197.75, 208.21, 134.99, 317.81, 201.3, 157.87, 99.99, 124.5]}"
      ],
      "metadata": {
        "id": "dWK10EaIGEJ7"
      },
      "execution_count": null,
      "outputs": []
    },
    {
      "cell_type": "markdown",
      "source": [
        "**Instructions**\n",
        "*   Import the `pandas` module using an alias of `pd`.\n",
        "*   Create `sales_df` by using a pandas function to convert `sales` into a DataFrame.\n",
        "*   Preview the first five rows of `sales_df`."
      ],
      "metadata": {
        "id": "DMLOrUNhGRNk"
      }
    },
    {
      "cell_type": "code",
      "source": [
        "# Import pandas as pd\n",
        "import pandas as pd\n",
        "\n",
        "# Convert sales to a pandas DataFrame\n",
        "sales_df = pd.DataFrame(sales)\n",
        "\n",
        "# Preview the first five rows\n",
        "print(sales_df.head())"
      ],
      "metadata": {
        "colab": {
          "base_uri": "https://localhost:8080/"
        },
        "id": "oLURdzkQGinq",
        "outputId": "4fe3370e-8082-4f4c-99d0-626956348a20"
      },
      "execution_count": null,
      "outputs": [
        {
          "output_type": "stream",
          "name": "stdout",
          "text": [
            "  user_id        date  order_value\n",
            "0    KM37  01/05/2024       197.75\n",
            "1    PR19  01/05/2024       208.21\n",
            "2    YU88  01/06/2024       134.99\n",
            "3    JB18  01/06/2024       317.81\n",
            "4    LP65  01/06/2024       201.30\n"
          ]
        }
      ]
    },
    {
      "cell_type": "markdown",
      "source": [
        "### Excercise 2: Performing calculations with pandas"
      ],
      "metadata": {
        "id": "fY9iJi8rMOE7"
      }
    },
    {
      "cell_type": "markdown",
      "source": [
        "Now, you've been provided with a CSV file called `sales.csv` containing sales data with three columns: `\"user_id\"`, `\"date\"`, and `\"order_value\"`.\n",
        "\n",
        "Using `pandas`, you'll read in the file and calculate statistics about sales values.\n",
        "\n",
        "Just like how you can subset a dictionary by its key, e.g., `dictionary[\"key_name\"]`, you can use the same syntax in pandas to subset a column! Not only this, the package also provides useful methods to perform calculations on DataFrames or subsets of DataFrames (such as columns)!\n",
        "\n",
        "Examples of this syntax include `df[\"column_name\"].mean()` and `df[\"column_name\"].sum()` to calculate the average and total for a given column, respectively."
      ],
      "metadata": {
        "id": "Gg0qW5WvMVUX"
      }
    },
    {
      "cell_type": "markdown",
      "source": [
        "sales.csv\n",
        "\n",
        "```\n",
        "user_id        date  order_value\n",
        "0    KM37  01/05/2024       197.75\n",
        "1    PR19  01/05/2024       208.21\n",
        "2    YU88  01/06/2024       134.99\n",
        "3    JB18  01/06/2024       317.81\n",
        "4    LP65  01/06/2024       201.30\n",
        "5    HJ11  01/06/2024       157.87\n",
        "6    PR19  01/07/2024        99.99\n",
        "7    IJ54  01/07/2024       124.50\n",
        "```\n",
        "\n"
      ],
      "metadata": {
        "id": "7F2zY3Y5NjUB"
      }
    },
    {
      "cell_type": "markdown",
      "source": [
        "**Instructions**\n",
        "*   Read in `\"sales.csv\"`, saving as a pandas DataFrame called `sales_df`.\n",
        "*   Subset `sales_df` on the `\"order_value\"` column, then call the `.mean(`) method to find the average order value.\n",
        "*   Subset `sales_df` on the `\"order_value\"` column, then call the `.sum()` method to find the total value of all orders."
      ],
      "metadata": {
        "id": "PUH8BzPvMubj"
      }
    },
    {
      "cell_type": "code",
      "source": [
        "# Read in sales.csv\n",
        "sales_df = pd.read_csv(\"sales.csv\")\n",
        "\n",
        "# Print the mean order_value\n",
        "print(sales_df[\"order_value\"].mean())\n",
        "\n",
        "# Print the total value of sales\n",
        "print(sales_df[\"order_value\"].sum())"
      ],
      "metadata": {
        "id": "N5WNftDoN0aa"
      },
      "execution_count": null,
      "outputs": []
    },
    {
      "cell_type": "markdown",
      "source": [
        "# CHAPTER 2: Working with functions"
      ],
      "metadata": {
        "id": "mDy9wbp7JoAD"
      }
    },
    {
      "cell_type": "markdown",
      "source": [
        "Learn the fundamentals of functions, from Python's built-in functions to creating your own from scratch!"
      ],
      "metadata": {
        "id": "uEUlzuchJ801"
      }
    },
    {
      "cell_type": "markdown",
      "source": [
        "## Lesson 1: Defining a custom function"
      ],
      "metadata": {
        "id": "TBlQPn0APKYu"
      }
    },
    {
      "cell_type": "markdown",
      "source": [
        "### Calculating the average"
      ],
      "metadata": {
        "id": "OROXTJ9ZPUUx"
      }
    },
    {
      "cell_type": "code",
      "source": [
        "# Sales variable\n",
        "sales = [125.97, 84.32, 99.78, 154.21, 78.50, 83.67, 111.13]\n",
        "\n",
        "# Calculating average sales\n",
        "average_sales = sum(sales) / len(sales)\n",
        "\n",
        "# Rounding the results\n",
        "rounded_average_sales = round(average_sales, 2)\n",
        "\n",
        "print(rounded_average_sales)"
      ],
      "metadata": {
        "colab": {
          "base_uri": "https://localhost:8080/"
        },
        "id": "Ubr1oeYfPZo4",
        "outputId": "9d7bb5d3-604a-406b-8654-2bda240d704f"
      },
      "execution_count": null,
      "outputs": [
        {
          "output_type": "stream",
          "name": "stdout",
          "text": [
            "105.37\n"
          ]
        }
      ]
    },
    {
      "cell_type": "markdown",
      "source": [
        "### Create a custom function\n",
        "*   Considerations for making a custom\n",
        "function:\n",
        "    *   Number of lines\n",
        "    *   Code complexity\n",
        "    *   Frequency of use\n",
        "    *   Don't Repeat Yourself (DRY)"
      ],
      "metadata": {
        "id": "F_9KV32KPikZ"
      }
    },
    {
      "cell_type": "code",
      "source": [
        "# Create a custom function to calculate the average value\n",
        "def average(values):\n",
        "\n",
        "  # Calculate the average\n",
        "  average_value = sum(values) / len(values)\n",
        "\n",
        "  # Round the results\n",
        "  rounded_average = round(average_value, 2)\n",
        "\n",
        "  # Return rounded_average as an output\n",
        "  return rounded_average"
      ],
      "metadata": {
        "id": "MXLoaNRXP760"
      },
      "execution_count": null,
      "outputs": []
    },
    {
      "cell_type": "markdown",
      "source": [
        "### Returning a calculation"
      ],
      "metadata": {
        "id": "YwPhFWMUQRMI"
      }
    },
    {
      "cell_type": "code",
      "source": [
        "# Create a custom function to calculate the average value\n",
        "def average(values):\n",
        "  # Calculate the average\n",
        "  average_value = sum(values) / len(values)\n",
        "\n",
        "  # Return the rounded results\n",
        "  return round(average_value, 2)"
      ],
      "metadata": {
        "id": "Z7Mk4otsQSLW"
      },
      "execution_count": null,
      "outputs": []
    },
    {
      "cell_type": "markdown",
      "source": [
        "### Using a custom function"
      ],
      "metadata": {
        "id": "iMDB2a_9QbPA"
      }
    },
    {
      "cell_type": "code",
      "source": [
        "sales = [125.97, 84.32, 99.78, 154.21, 78.50, 83.67, 111.13]\n",
        "\n",
        "# Calculating the average\n",
        "average(sales)"
      ],
      "metadata": {
        "colab": {
          "base_uri": "https://localhost:8080/"
        },
        "id": "rEeCj98vQe_1",
        "outputId": "7abd9abf-1471-4ad8-c2db-a3de517c9f32"
      },
      "execution_count": null,
      "outputs": [
        {
          "output_type": "execute_result",
          "data": {
            "text/plain": [
              "105.37"
            ]
          },
          "metadata": {},
          "execution_count": 5
        }
      ]
    },
    {
      "cell_type": "markdown",
      "source": [
        "### Storing a function's output\n"
      ],
      "metadata": {
        "id": "Rvz2oWS2Qnxy"
      }
    },
    {
      "cell_type": "code",
      "source": [
        "# Calculating the average\n",
        "average(sales)"
      ],
      "metadata": {
        "colab": {
          "base_uri": "https://localhost:8080/"
        },
        "id": "8hirjwGDQp24",
        "outputId": "9777d7f2-5995-46db-f940-a66d80541068"
      },
      "execution_count": null,
      "outputs": [
        {
          "output_type": "execute_result",
          "data": {
            "text/plain": [
              "105.37"
            ]
          },
          "metadata": {},
          "execution_count": 6
        }
      ]
    },
    {
      "cell_type": "code",
      "source": [
        "# Storing average_sales\n",
        "average_sales = average(sales)"
      ],
      "metadata": {
        "id": "GJIpxG36Qspd"
      },
      "execution_count": null,
      "outputs": []
    },
    {
      "cell_type": "code",
      "source": [
        "print(average_sales)"
      ],
      "metadata": {
        "colab": {
          "base_uri": "https://localhost:8080/"
        },
        "id": "CkW-p71jQwwC",
        "outputId": "00e31512-917e-442c-ac45-4f63065cc7d8"
      },
      "execution_count": null,
      "outputs": [
        {
          "output_type": "stream",
          "name": "stdout",
          "text": [
            "105.37\n"
          ]
        }
      ]
    },
    {
      "cell_type": "markdown",
      "source": [
        "### Excersice 1: Cleaning text data"
      ],
      "metadata": {
        "id": "Tu6CMj45wb55"
      }
    },
    {
      "cell_type": "markdown",
      "source": [
        "In the video, you saw how to build a custom function that performs a calculation and rounds the results. However, custom functions can be used for any task we expect to repeat! One common example is cleaning text data so that it conforms to specific requirements.\n",
        "\n",
        "In this exercise, you'll create a function that takes string data and:\n",
        "\n",
        "*   Replaces spaces with underscores\n",
        "*   Converts to lowercase\n",
        "*   Returns the formatted string"
      ],
      "metadata": {
        "id": "X38Qy_bwwqeU"
      }
    },
    {
      "cell_type": "markdown",
      "source": [
        "**Instructions**\n",
        "*  Define a function called `clean_string`, which takes an argument called `text`.\n",
        "*  Inside the function, create a variable called `no_spaces`, which contains the `text` with spaces replaced by underscores.\n",
        "*  Inside the function, create a variable called `clean_text`, which converts characters in `no_spaces` to lowercase.\n",
        "*  Finish the function by producing `clean_text` as an output."
      ],
      "metadata": {
        "id": "L6SJtoDhw1VQ"
      }
    },
    {
      "cell_type": "code",
      "source": [
        "# Create the clean_string function\n",
        "def clean_string(text):\n",
        "\n",
        "  # Replace spaces with underscores\n",
        "  no_spaces = text.replace(\" \", \"_\")\n",
        "\n",
        "  # Convert to lowercase\n",
        "  clean_text = no_spaces.lower()\n",
        "\n",
        "  # Return the final text as an output\n",
        "  return clean_text\n",
        "\n",
        "converted_text = clean_string(\"I LoVe dATaCamP!\")\n",
        "print(converted_text)"
      ],
      "metadata": {
        "colab": {
          "base_uri": "https://localhost:8080/"
        },
        "id": "M2WX1m18xigu",
        "outputId": "11c59913-c0c9-4f3a-be4e-9e5f220fa830"
      },
      "execution_count": null,
      "outputs": [
        {
          "output_type": "stream",
          "name": "stdout",
          "text": [
            "i_love_datacamp!\n"
          ]
        }
      ]
    },
    {
      "cell_type": "markdown",
      "source": [
        "### Excercise 2: Building a password checker\n",
        "You've seen how conditional statements can be used to check for equality. Now you have the skills to build a custom function, you'll combine these two techniques to build a function called `password_checker` that compares a user's password to a submission, conditionally printing an output depending on the results."
      ],
      "metadata": {
        "id": "iWKUuo6cxqgC"
      }
    },
    {
      "cell_type": "markdown",
      "source": [
        "**Instructions**\n",
        "*   Define the `password_checker` function, which should accept one argument called `submission`.\n",
        "*   Check if `password` is equal to `submission`.\n",
        "*   Add a keyword enabling the conditional printing of `\"Incorrect password\"` if `password` and `submission` are different.\n",
        "*   Call the function, passing `\"NOT_VERY_SECURE_2023\"`."
      ],
      "metadata": {
        "id": "trLMVLxBxzB7"
      }
    },
    {
      "cell_type": "code",
      "source": [
        "password = \"not_very_secure_2023\"\n",
        "\n",
        "# Define the password_checker function\n",
        "def password_checker(submission):\n",
        "\n",
        "  # Check that the password variable and the submission match\n",
        "  if password == submission:\n",
        "    print(\"Successful login!\")\n",
        "\n",
        "  # Otherwise, print \"Incorrect password\"\n",
        "  else:\n",
        "    print(\"Incorrect password\")\n",
        "\n",
        "# Call the function\n",
        "password_checker(\"NOT_VERY_SECURE_2023\")"
      ],
      "metadata": {
        "colab": {
          "base_uri": "https://localhost:8080/"
        },
        "id": "Zy9NbrViyaiw",
        "outputId": "3c87ff3a-7230-4e20-fac9-7ebe01881658"
      },
      "execution_count": null,
      "outputs": [
        {
          "output_type": "stream",
          "name": "stdout",
          "text": [
            "Incorrect password\n"
          ]
        }
      ]
    },
    {
      "cell_type": "markdown",
      "source": [
        "## Lesson2: Default and keyword arguments"
      ],
      "metadata": {
        "id": "gmCnZ0Ety0y_"
      }
    },
    {
      "cell_type": "markdown",
      "source": [
        "### Average"
      ],
      "metadata": {
        "id": "PP1AMjNsy8rE"
      }
    },
    {
      "cell_type": "code",
      "source": [
        "# Create a custom function\n",
        "def average(values):\n",
        "\n",
        "  # Calculate the average\n",
        "  average_value = sum(values) / len(values)\n",
        "\n",
        "  # Round the results\n",
        "  rounded_average = round(average_value, 2)\n",
        "\n",
        "  # Return rounded_average as an output\n",
        "  return rounded_average"
      ],
      "metadata": {
        "id": "YX_S_e06y_g-"
      },
      "execution_count": null,
      "outputs": []
    },
    {
      "cell_type": "markdown",
      "source": [
        "* values = Argument"
      ],
      "metadata": {
        "id": "A2rPOFZdzC81"
      }
    },
    {
      "cell_type": "markdown",
      "source": [
        "### Arguments"
      ],
      "metadata": {
        "id": "73gpCA-CzJ7z"
      }
    },
    {
      "cell_type": "markdown",
      "source": [
        "* Arguments are values provided to a\n",
        "function or method\n",
        "* Functions and methods have two types of\n",
        "arguments:\n",
        "  * **Positional**\n",
        "  * **Keyword**"
      ],
      "metadata": {
        "id": "c69Zl2aozLIu"
      }
    },
    {
      "cell_type": "markdown",
      "source": [
        "### Positional arguments"
      ],
      "metadata": {
        "id": "p0_rlM-Tzb4Y"
      }
    },
    {
      "cell_type": "markdown",
      "source": [
        "* Provide arguments in order, separated by commas"
      ],
      "metadata": {
        "id": "GcisqGKpzeFp"
      }
    },
    {
      "cell_type": "code",
      "source": [
        "# Round pi to 2 digits\n",
        "round(3.1415926535, 2)"
      ],
      "metadata": {
        "colab": {
          "base_uri": "https://localhost:8080/"
        },
        "id": "QGvP2dCzzh54",
        "outputId": "7173ee65-46e3-4c45-d9bf-f915dd9d6665"
      },
      "execution_count": null,
      "outputs": [
        {
          "output_type": "execute_result",
          "data": {
            "text/plain": [
              "3.14"
            ]
          },
          "metadata": {},
          "execution_count": 3
        }
      ]
    },
    {
      "cell_type": "markdown",
      "source": [
        "### Keyword arguments"
      ],
      "metadata": {
        "id": "b1G4BrU5zoHP"
      }
    },
    {
      "cell_type": "markdown",
      "source": [
        "* Provide arguments by assigning values to keywords\n",
        "* Useful for interpretation and tracking arguments\n",
        "* `keyword = value`"
      ],
      "metadata": {
        "id": "Rd6R3Zikzpff"
      }
    },
    {
      "cell_type": "code",
      "source": [
        "# Round pi to 2 digits\n",
        "round(number=3.1415926535, ndigits=2)"
      ],
      "metadata": {
        "id": "9xxtTyeOz8Lr"
      },
      "execution_count": null,
      "outputs": []
    },
    {
      "cell_type": "markdown",
      "source": [
        "### Identifying keyword arguments"
      ],
      "metadata": {
        "id": "9YyKlhZU0BUn"
      }
    },
    {
      "cell_type": "code",
      "source": [
        "# Get more information about the help function\n",
        "help(round)"
      ],
      "metadata": {
        "colab": {
          "base_uri": "https://localhost:8080/"
        },
        "id": "hyIW0nBX0Fva",
        "outputId": "c780bdfc-d810-4cba-e440-c4be40bcc3e0"
      },
      "execution_count": null,
      "outputs": [
        {
          "output_type": "stream",
          "name": "stdout",
          "text": [
            "Help on built-in function round in module builtins:\n",
            "\n",
            "round(number, ndigits=None)\n",
            "    Round a number to a given precision in decimal digits.\n",
            "    \n",
            "    The return value is an integer if ndigits is omitted or None.  Otherwise\n",
            "    the return value has the same type as the number.  ndigits may be negative.\n",
            "\n"
          ]
        }
      ]
    },
    {
      "cell_type": "markdown",
      "source": [
        "### Default arguments"
      ],
      "metadata": {
        "id": "LMlsOMsH0Rg-"
      }
    },
    {
      "cell_type": "markdown",
      "source": [
        "* `None` = no value / empty\n",
        "* Default argument: way of setting a `default` value for an `argument`\n",
        "* We overwrite `None` to `2`\n",
        "  * Otherwise, the result is an `int`"
      ],
      "metadata": {
        "id": "oRVu-gdd0TFZ"
      }
    },
    {
      "cell_type": "markdown",
      "source": [
        "### Why have default arguments?"
      ],
      "metadata": {
        "id": "ms4b4SSs0sog"
      }
    },
    {
      "cell_type": "markdown",
      "source": [
        "* Helps us think about likely uses for our function\n",
        "  * Commonly used value - set it using a default argument\n",
        "* Potentially reduces code for users (if they stick with default values)\n",
        "* Maintains flexibility"
      ],
      "metadata": {
        "id": "xaidm9Al0tvn"
      }
    },
    {
      "cell_type": "markdown",
      "source": [
        "### Adding an argument"
      ],
      "metadata": {
        "id": "LHHGnMaZ04jW"
      }
    },
    {
      "cell_type": "code",
      "source": [
        "# Create a custom function\n",
        "def average(values):\n",
        "\n",
        "  average_value = sum(values) / len(values)\n",
        "\n",
        "  rounded_average = round(average_value, 2)\n",
        "\n",
        "  return rounded_average"
      ],
      "metadata": {
        "id": "BwMWxQ_H0571"
      },
      "execution_count": null,
      "outputs": []
    },
    {
      "cell_type": "code",
      "source": [
        "# Create a custom function\n",
        "def average(values, rounded=False):\n",
        "\n",
        "  # Round average to two decimal places if rounded is True\n",
        "  if rounded == True:\n",
        "\n",
        "    average_value = sum(values) / len(values)\n",
        "\n",
        "    rounded_average = round(average_value, 2)\n",
        "\n",
        "    return rounded_average\n",
        "\n",
        "  # Otherwise, don't round\n",
        "  else:\n",
        "\n",
        "    average_value = sum(values) / len(values)\n",
        "\n",
        "    return average_value"
      ],
      "metadata": {
        "id": "7qKTPqeL1MxZ"
      },
      "execution_count": null,
      "outputs": []
    },
    {
      "cell_type": "markdown",
      "source": [
        "### Using the modified `average()` function"
      ],
      "metadata": {
        "id": "m6xYtXHI1bMv"
      }
    },
    {
      "cell_type": "code",
      "source": [
        "sales = [125.97, 84.32, 99.78, 154.21, 78.50, 83.67, 111.13]"
      ],
      "metadata": {
        "id": "ft_3kt8A1kAq"
      },
      "execution_count": null,
      "outputs": []
    },
    {
      "cell_type": "code",
      "source": [
        "# Get the average without rounding\n",
        "average(sales, False)"
      ],
      "metadata": {
        "colab": {
          "base_uri": "https://localhost:8080/"
        },
        "id": "mhsXokKs1k_O",
        "outputId": "fdda49f1-9ff6-4348-c8f9-322bd656c841"
      },
      "execution_count": null,
      "outputs": [
        {
          "output_type": "execute_result",
          "data": {
            "text/plain": [
              "105.36857142857141"
            ]
          },
          "metadata": {},
          "execution_count": 8
        }
      ]
    },
    {
      "cell_type": "code",
      "source": [
        "# Get the average without rounding\n",
        "average(sales)"
      ],
      "metadata": {
        "colab": {
          "base_uri": "https://localhost:8080/"
        },
        "id": "Cx63hn1-1q55",
        "outputId": "5614f4dc-f0e3-4151-af68-8ce5973c2abf"
      },
      "execution_count": null,
      "outputs": [
        {
          "output_type": "execute_result",
          "data": {
            "text/plain": [
              "105.36857142857141"
            ]
          },
          "metadata": {},
          "execution_count": 9
        }
      ]
    },
    {
      "cell_type": "code",
      "source": [
        "# Get the rounded average\n",
        "average(values=sales, rounded=True)"
      ],
      "metadata": {
        "colab": {
          "base_uri": "https://localhost:8080/"
        },
        "id": "ZEBO0jk31t8g",
        "outputId": "b21ad680-75a6-4119-a89d-2b536a4cae5f"
      },
      "execution_count": null,
      "outputs": [
        {
          "output_type": "execute_result",
          "data": {
            "text/plain": [
              "105.37"
            ]
          },
          "metadata": {},
          "execution_count": 10
        }
      ]
    },
    {
      "cell_type": "markdown",
      "source": [
        "### Excercise 1: Adding a keyword argument"
      ],
      "metadata": {
        "id": "Q8fmYYgn3ume"
      }
    },
    {
      "cell_type": "markdown",
      "source": [
        "Previously, you developed a custom function to clean text, as shown here:\n",
        "\n",
        "\n",
        "```\n",
        "# Create the clean_string function\n",
        "def clean_string(text):\n",
        "\n",
        "      # Replace spaces with underscores\n",
        "      no_spaces = text.replace(\" \", \"_\")\n",
        "\n",
        "      # Convert to lowercase\n",
        "      clean_text = no_spaces.lower()\n",
        "\n",
        "      # Display the final text as an output\n",
        "      return clean_text\n",
        "```\n",
        "Now, you will modify it to take different default keyword arguments!\n",
        "\n"
      ],
      "metadata": {
        "id": "l0eD2CtZ3yPh"
      }
    },
    {
      "cell_type": "markdown",
      "source": [
        "**Instructions**\n",
        "* Define `clean_text`, which has two arguments: `text`, and `lower`, with the latter having a default value of `True`.\n",
        "* Re-define `clean_text` with arguments of `text` followed by `remove`, with the latter having a default value of `None`."
      ],
      "metadata": {
        "id": "gCuje0MO3-H5"
      }
    },
    {
      "cell_type": "code",
      "source": [
        "# Define clean_text\n",
        "def clean_text(text, lower=True):\n",
        "  if lower == False:\n",
        "    clean_text = text.replace(\" \", \"_\")\n",
        "    return clean_text\n",
        "  else:\n",
        "    clean_text = text.replace(\" \", \"_\")\n",
        "    clean_text = clean_text.lower()\n",
        "    return clean_text"
      ],
      "metadata": {
        "id": "bDeq8m7T4mno"
      },
      "execution_count": null,
      "outputs": []
    },
    {
      "cell_type": "code",
      "source": [
        "# Define clean_text\n",
        "def clean_text(text, remove=None):\n",
        "  if remove != None:\n",
        "    clean_text = text.replace(remove, \"\")\n",
        "    clean_text = clean_text.lower()\n",
        "    return clean_text\n",
        "  else:\n",
        "    clean_text = text.lower()\n",
        "    return clean_text"
      ],
      "metadata": {
        "id": "qsZq2qSJ4ny-"
      },
      "execution_count": null,
      "outputs": []
    },
    {
      "cell_type": "markdown",
      "source": [
        "### Excercise 2: Data structure converter function"
      ],
      "metadata": {
        "id": "-Xp5yQ8l5E_5"
      }
    },
    {
      "cell_type": "markdown",
      "source": [
        "Now you've learned about the types of arguments in functions, you'll put this into practice by building a custom function that converts data into different structures."
      ],
      "metadata": {
        "id": "VazC9v925KUZ"
      }
    },
    {
      "cell_type": "markdown",
      "source": [
        "**Instructions**\n",
        "* Define `convert_data_structure` with two arguments: `data` and `data_type`, where the latter has a default value of `\"list\"`.\n",
        "* Add a condition to check if `data_type` is `\"tuple\"`.\n",
        "* Else if `data_type` is `\"set\"`, convert `data` into a set, saving it as a variable of the same name.\n",
        "* Call the function on the data structure provided, using an appropriate keyword argument value-pair to convert it to a set."
      ],
      "metadata": {
        "id": "QLVpxQpy5Myd"
      }
    },
    {
      "cell_type": "code",
      "source": [
        "# Create the convert_data_structure function\n",
        "def convert_data_structure(data, data_type = \"list\"):\n",
        "\n",
        "  # If data_type is \"tuple\"\n",
        "  if data_type == \"tuple\":\n",
        "    data = tuple(data)\n",
        "\n",
        "  # Else if data_type is set, convert to a set\n",
        "  elif data_type == \"set\":\n",
        "    data = set(data)\n",
        "  else:\n",
        "    data = list(data)\n",
        "  return data\n",
        "\n",
        "# Call the function to convert to a set\n",
        "convert_data_structure({\"a\", 1, \"b\", 2, \"c\", 3}, data_type=\"set\")"
      ],
      "metadata": {
        "colab": {
          "base_uri": "https://localhost:8080/"
        },
        "id": "rkbvVbX65leP",
        "outputId": "d2165b24-93a5-4345-b17c-aba90fc39575"
      },
      "execution_count": null,
      "outputs": [
        {
          "output_type": "execute_result",
          "data": {
            "text/plain": [
              "{1, 2, 3, 'a', 'b', 'c'}"
            ]
          },
          "metadata": {},
          "execution_count": 13
        }
      ]
    },
    {
      "cell_type": "markdown",
      "source": [
        "## Lesson 3: Docstrings"
      ],
      "metadata": {
        "id": "GpZfwgaE3Znt"
      }
    },
    {
      "cell_type": "markdown",
      "source": [
        "### Docstrings"
      ],
      "metadata": {
        "id": "0OqHeiXj3eNr"
      }
    },
    {
      "cell_type": "markdown",
      "source": [
        "* String (block of text) describing a function\n",
        "* Help users understand how to use a function"
      ],
      "metadata": {
        "id": "akVORHdx9Udg"
      }
    },
    {
      "cell_type": "markdown",
      "source": [
        "### Accessing a docstring"
      ],
      "metadata": {
        "id": "-Lr5SflA9cX6"
      }
    },
    {
      "cell_type": "code",
      "source": [
        "# Access information including the docstring\n",
        "help(round)"
      ],
      "metadata": {
        "colab": {
          "base_uri": "https://localhost:8080/"
        },
        "id": "_TKRK3oP9djW",
        "outputId": "f516d409-f062-4a75-a4f7-9569f79101cd"
      },
      "execution_count": null,
      "outputs": [
        {
          "output_type": "stream",
          "name": "stdout",
          "text": [
            "Help on built-in function round in module builtins:\n",
            "\n",
            "round(number, ndigits=None)\n",
            "    Round a number to a given precision in decimal digits.\n",
            "    \n",
            "    The return value is an integer if ndigits is omitted or None.  Otherwise\n",
            "    the return value has the same type as the number.  ndigits may be negative.\n",
            "\n"
          ]
        }
      ]
    },
    {
      "cell_type": "markdown",
      "source": [
        "### Accessing a docstring"
      ],
      "metadata": {
        "id": "kaMtAbjb9i0m"
      }
    },
    {
      "cell_type": "code",
      "source": [
        "# Access only the docstring\n",
        "round.__doc__"
      ],
      "metadata": {
        "colab": {
          "base_uri": "https://localhost:8080/",
          "height": 53
        },
        "id": "SGoe-_909j1m",
        "outputId": "a32fef71-271d-43d4-b909-b9145e31ee0a"
      },
      "execution_count": null,
      "outputs": [
        {
          "output_type": "execute_result",
          "data": {
            "text/plain": [
              "'Round a number to a given precision in decimal digits.\\n\\nThe return value is an integer if ndigits is omitted or None.  Otherwise\\nthe return value has the same type as the number.  ndigits may be negative.'"
            ],
            "application/vnd.google.colaboratory.intrinsic+json": {
              "type": "string"
            }
          },
          "metadata": {},
          "execution_count": 15
        }
      ]
    },
    {
      "cell_type": "markdown",
      "source": [
        "* `.__doc__` : \"dunder-doc\" attribute"
      ],
      "metadata": {
        "id": "98IuUSid9rto"
      }
    },
    {
      "cell_type": "code",
      "source": [
        "help(round)"
      ],
      "metadata": {
        "colab": {
          "base_uri": "https://localhost:8080/"
        },
        "id": "FYdBZMRO953C",
        "outputId": "88de8ece-8a05-4ada-8cb0-aa45e05124a1"
      },
      "execution_count": null,
      "outputs": [
        {
          "output_type": "stream",
          "name": "stdout",
          "text": [
            "Help on built-in function round in module builtins:\n",
            "\n",
            "round(number, ndigits=None)\n",
            "    Round a number to a given precision in decimal digits.\n",
            "    \n",
            "    The return value is an integer if ndigits is omitted or None.  Otherwise\n",
            "    the return value has the same type as the number.  ndigits may be negative.\n",
            "\n"
          ]
        }
      ]
    },
    {
      "cell_type": "markdown",
      "source": [
        "### Creating a docstring"
      ],
      "metadata": {
        "id": "6e18I-tf-BG7"
      }
    },
    {
      "cell_type": "code",
      "source": [
        "def average(values):\n",
        "  # One-line docstring\n",
        "  \"\"\"Find the mean in a sequence of values and round to two decimal places.\"\"\"\n",
        "\n",
        "  average_value = sum(values) / len(values)\n",
        "\n",
        "  rounded_average = round(average_value, 2)\n",
        "\n",
        "  return rounded_average"
      ],
      "metadata": {
        "id": "ZUNvIlWo-CMg"
      },
      "execution_count": null,
      "outputs": []
    },
    {
      "cell_type": "markdown",
      "source": [
        "### Accessing the docstring"
      ],
      "metadata": {
        "id": "FO06XIjO-L_v"
      }
    },
    {
      "cell_type": "code",
      "source": [
        "# Access our docstring\n",
        "average.__doc__"
      ],
      "metadata": {
        "colab": {
          "base_uri": "https://localhost:8080/",
          "height": 36
        },
        "id": "TbtThyfr-M7p",
        "outputId": "a935fd0a-f806-4c3c-e506-a8dbca373bea"
      },
      "execution_count": null,
      "outputs": [
        {
          "output_type": "execute_result",
          "data": {
            "text/plain": [
              "'Find the mean in a sequence of values and round to two decimal places.'"
            ],
            "application/vnd.google.colaboratory.intrinsic+json": {
              "type": "string"
            }
          },
          "metadata": {},
          "execution_count": 19
        }
      ]
    },
    {
      "cell_type": "markdown",
      "source": [
        "### Updating a docstring"
      ],
      "metadata": {
        "id": "OKqslorh-TwP"
      }
    },
    {
      "cell_type": "code",
      "source": [
        "# Update a function's docstring\n",
        "average.__doc__ = \"Calculate the mean of values in a data structure, rounding the results to 2 digits.\""
      ],
      "metadata": {
        "id": "1JzSsQgh-U4B"
      },
      "execution_count": null,
      "outputs": []
    },
    {
      "cell_type": "markdown",
      "source": [
        "### Multi-line docstring"
      ],
      "metadata": {
        "id": "M56puULk-ZgL"
      }
    },
    {
      "cell_type": "code",
      "source": [
        "def average(values):\n",
        "  \"\"\"\n",
        "  Find the mean in a sequence of values and round to two decimal places.\n",
        "\n",
        "  Args:\n",
        "  values (list): A list of numeric values.\n",
        "\n",
        "  Returns:\n",
        "  rounded_average (float): The mean of values, rounded to two decimal places.\n",
        "\n",
        "  \"\"\"\n",
        "  average_value = sum(values) / len(values)\n",
        "  rounded_average = round(average_value, 2)\n",
        "  return rounded_average"
      ],
      "metadata": {
        "id": "2J-wfrnI-bDB"
      },
      "execution_count": null,
      "outputs": []
    },
    {
      "cell_type": "markdown",
      "source": [
        "### Accessing the docstring\n"
      ],
      "metadata": {
        "id": "Zm3tFJBv-srS"
      }
    },
    {
      "cell_type": "code",
      "source": [
        "# Help\n",
        "help(average)"
      ],
      "metadata": {
        "colab": {
          "base_uri": "https://localhost:8080/"
        },
        "id": "pw0Jf42D-vD7",
        "outputId": "ebd56e56-e39e-4c6a-f3cf-83054f76f778"
      },
      "execution_count": null,
      "outputs": [
        {
          "output_type": "stream",
          "name": "stdout",
          "text": [
            "Help on function average in module __main__:\n",
            "\n",
            "average(values)\n",
            "    Find the mean in a sequence of values and round to two decimal places.\n",
            "    \n",
            "    Args:\n",
            "    values (list): A list of numeric values.\n",
            "    \n",
            "    Returns:\n",
            "    rounded_average (float): The mean of values, rounded to two decimal places.\n",
            "\n"
          ]
        }
      ]
    },
    {
      "cell_type": "markdown",
      "source": [
        "### Excercise 1: Single-line docstrings"
      ],
      "metadata": {
        "id": "6ME24rED-77D"
      }
    },
    {
      "cell_type": "markdown",
      "source": [
        "Docstrings are used to explain the purpose of a function. While the function name should be descriptive, this needs to be balanced with the length of the function name, so docstrings allow you to provide more detail.\n",
        "\n",
        "In this exercise, you'll take the previously created `clean_text` function and add a single-line docstring."
      ],
      "metadata": {
        "id": "T-XKKorF-_vA"
      }
    },
    {
      "cell_type": "markdown",
      "source": [
        "**Instructions**\n",
        "* Add a docstring stating `\"\"\"Swap spaces to underscores and convert text to lowercase.\"\"\"`.\n",
        "* Access the function's docstring using the appropriate attribute."
      ],
      "metadata": {
        "id": "XIW_oIP7_E3w"
      }
    },
    {
      "cell_type": "code",
      "source": [
        "def clean_string(text):\n",
        "\n",
        "  # Add a single-line docstring\n",
        "  \"\"\"Swap spaces to underscores and convert text to lowercase.\"\"\"\n",
        "\n",
        "  no_spaces = text.replace(\" \", \"_\")\n",
        "  clean_text = no_spaces.lower()\n",
        "  return clean_text\n",
        "\n",
        "# Access the docstring\n",
        "print(clean_string.__doc__)"
      ],
      "metadata": {
        "colab": {
          "base_uri": "https://localhost:8080/"
        },
        "id": "Dp-McOpD_W9L",
        "outputId": "08001052-e6e0-469d-e957-939ec5609f85"
      },
      "execution_count": null,
      "outputs": [
        {
          "output_type": "stream",
          "name": "stdout",
          "text": [
            "Swap spaces to underscores and convert text to lowercase.\n"
          ]
        }
      ]
    },
    {
      "cell_type": "markdown",
      "source": [
        "### Excercise 2: Multi-line docstrings"
      ],
      "metadata": {
        "id": "TR0vlrMk_i4B"
      }
    },
    {
      "cell_type": "markdown",
      "source": [
        "Sometimes single-line docstrings are sufficient, but if your function is more complex or has several arguments, then it is generally a better choice to include a multi-line docstring.\n",
        "\n",
        "You'll practice this by creating a multi-line docstring for the `convert_data_structure` function you made earlier."
      ],
      "metadata": {
        "id": "jedBv-3T_ll5"
      }
    },
    {
      "cell_type": "markdown",
      "source": [
        "**Instructions**\n",
        "* Add a summary to the docstring: `Convert a data structure to a list, tuple, or set.`.\n",
        "* Add `Args:`, first with `data (list, tuple, or set): A data structure to be converted.`, and second with `data_type (str): String representing the type of structure to convert data to.`\n",
        "* Detail the `Returns:` section: `data (list, tuple, or set): Converted data structure.`."
      ],
      "metadata": {
        "id": "nZvcYZWu_tgC"
      }
    },
    {
      "cell_type": "code",
      "source": [
        "# Create the convert_data_type function\n",
        "def convert_data_structure(data, data_type=\"list\"):\n",
        "  # Add a multi-line docstring\n",
        "  \"\"\"\n",
        "  Convert a data structure to a list, tuple, or set.\n",
        "\n",
        "  Args:\n",
        "  \tdata (list, tuple, or set): A data structure to be converted.\n",
        "    data_type (str): String representing the type of structure to convert data to.\n",
        "\n",
        "  Returns:\n",
        "  \tdata (list, tuple, or set): Converted data structure.\n",
        "  \"\"\"\n",
        "  if data_type == \"tuple\":\n",
        "    data = tuple(data)\n",
        "  elif data_type == \"set\":\n",
        "    data = set(data)\n",
        "  else:\n",
        "    data = list(data)\n",
        "  return data\n",
        "\n",
        "print(help(convert_data_structure))"
      ],
      "metadata": {
        "colab": {
          "base_uri": "https://localhost:8080/"
        },
        "id": "LeAnjR0EAjqv",
        "outputId": "0b072d41-1457-4d3a-ced7-da9eda597dcf"
      },
      "execution_count": null,
      "outputs": [
        {
          "output_type": "stream",
          "name": "stdout",
          "text": [
            "Help on function convert_data_structure in module __main__:\n",
            "\n",
            "convert_data_structure(data, data_type='list')\n",
            "    Convert a data structure to a list, tuple, or set.\n",
            "    \n",
            "    Args:\n",
            "          data (list, tuple, or set): A data structure to be converted.\n",
            "      data_type (str): String representing the type of structure to convert data to.\n",
            "      \n",
            "    Returns:\n",
            "          data (list, tuple, or set): Converted data structure.\n",
            "\n",
            "None\n"
          ]
        }
      ]
    },
    {
      "cell_type": "markdown",
      "source": [
        "## Lesson 4: Arbitrary arguments"
      ],
      "metadata": {
        "id": "Xw0k8hHaAr-k"
      }
    },
    {
      "cell_type": "markdown",
      "source": [
        "### Limitations of defined arguments"
      ],
      "metadata": {
        "id": "QpayJYZ2CyOi"
      }
    },
    {
      "cell_type": "code",
      "source": [
        "def average(values):\n",
        "\n",
        "  # Calculate the average\n",
        "  average_value = sum(values) / len(values)\n",
        "\n",
        "  # Return the rounded results\n",
        "  return round(average_value, 2)\n",
        "\n",
        "# Using six arguments\n",
        "average(15, 29, 4, 13, 11, 8)"
      ],
      "metadata": {
        "colab": {
          "base_uri": "https://localhost:8080/",
          "height": 176
        },
        "id": "0EEEpbkXCzlh",
        "outputId": "7e08271e-091b-47a8-e42d-ac5afb2cc7db"
      },
      "execution_count": null,
      "outputs": [
        {
          "output_type": "error",
          "ename": "TypeError",
          "evalue": "average() takes 1 positional argument but 6 were given",
          "traceback": [
            "\u001b[0;31m---------------------------------------------------------------------------\u001b[0m",
            "\u001b[0;31mTypeError\u001b[0m                                 Traceback (most recent call last)",
            "\u001b[0;32m<ipython-input-25-8160d5399721>\u001b[0m in \u001b[0;36m<cell line: 0>\u001b[0;34m()\u001b[0m\n\u001b[1;32m      8\u001b[0m \u001b[0;34m\u001b[0m\u001b[0m\n\u001b[1;32m      9\u001b[0m \u001b[0;31m# Using six arguments\u001b[0m\u001b[0;34m\u001b[0m\u001b[0;34m\u001b[0m\u001b[0m\n\u001b[0;32m---> 10\u001b[0;31m \u001b[0maverage\u001b[0m\u001b[0;34m(\u001b[0m\u001b[0;36m15\u001b[0m\u001b[0;34m,\u001b[0m \u001b[0;36m29\u001b[0m\u001b[0;34m,\u001b[0m \u001b[0;36m4\u001b[0m\u001b[0;34m,\u001b[0m \u001b[0;36m13\u001b[0m\u001b[0;34m,\u001b[0m \u001b[0;36m11\u001b[0m\u001b[0;34m,\u001b[0m \u001b[0;36m8\u001b[0m\u001b[0;34m)\u001b[0m\u001b[0;34m\u001b[0m\u001b[0;34m\u001b[0m\u001b[0m\n\u001b[0m",
            "\u001b[0;31mTypeError\u001b[0m: average() takes 1 positional argument but 6 were given"
          ]
        }
      ]
    },
    {
      "cell_type": "markdown",
      "source": [
        "### Arbitrary positional arguments"
      ],
      "metadata": {
        "id": "oJ2V4iqjC9nX"
      }
    },
    {
      "cell_type": "markdown",
      "source": [
        "* Docstrings help clarify how to use custom functions\n",
        "* Arbitrary arguments allow functions to accept any number of arguments\n",
        "\n",
        "\n",
        "```\n",
        "# Allow any number of positional, non-keyword arguments\n",
        "def average(*args):\n",
        "  # Function code remains the same\n",
        "```\n",
        "\n",
        "* Conventional naming: `*args`\n",
        "* Allows a variety of uses while producing expected results!"
      ],
      "metadata": {
        "id": "nPQ85FW0DANB"
      }
    },
    {
      "cell_type": "code",
      "source": [
        "def average(*args):\n",
        "\n",
        "  # Calculate the average\n",
        "  average_value = sum(args) / len(args)\n",
        "\n",
        "  # Return the rounded results\n",
        "  return round(average_value, 2)"
      ],
      "metadata": {
        "id": "L5Dyr4owDey5"
      },
      "execution_count": null,
      "outputs": []
    },
    {
      "cell_type": "code",
      "source": [
        "# Calling average with six positional arguments\n",
        "average(15, 29, 4, 13, 11, 8)"
      ],
      "metadata": {
        "colab": {
          "base_uri": "https://localhost:8080/"
        },
        "id": "H38rzC8MD1y_",
        "outputId": "35a83a73-9a29-4bbf-d1a8-e44b50292c05"
      },
      "execution_count": null,
      "outputs": [
        {
          "output_type": "execute_result",
          "data": {
            "text/plain": [
              "13.33"
            ]
          },
          "metadata": {},
          "execution_count": 27
        }
      ]
    },
    {
      "cell_type": "markdown",
      "source": [
        "### Args create a single iterable"
      ],
      "metadata": {
        "id": "qwDFt2LTEFAZ"
      }
    },
    {
      "cell_type": "markdown",
      "source": [
        "*  `*`: Convert arguments to a single iterable (tuple)"
      ],
      "metadata": {
        "id": "TYjTgjBwEH5_"
      }
    },
    {
      "cell_type": "code",
      "source": [
        "# Calculating across multiple lists\n",
        "average(*[15, 29], *[4, 13], *[11, 8])"
      ],
      "metadata": {
        "colab": {
          "base_uri": "https://localhost:8080/"
        },
        "id": "FxdOMC6-EGZ4",
        "outputId": "d5be546d-e8e7-44aa-b8ca-9af4cfe90eea"
      },
      "execution_count": null,
      "outputs": [
        {
          "output_type": "execute_result",
          "data": {
            "text/plain": [
              "13.33"
            ]
          },
          "metadata": {},
          "execution_count": 28
        }
      ]
    },
    {
      "cell_type": "markdown",
      "source": [
        "### Arbitrary keyword arguments"
      ],
      "metadata": {
        "id": "tLgQIgm3EZL4"
      }
    },
    {
      "cell_type": "code",
      "source": [
        "# Use arbitrary keyword arguments\n",
        "def average(**kwargs):\n",
        "\n",
        "  average_value = sum(kwargs.values()) / len(kwargs.values())\n",
        "  rounded_average = round(average_value, 2)\n",
        "  return rounded_average"
      ],
      "metadata": {
        "id": "Vekf03zOEcKO"
      },
      "execution_count": null,
      "outputs": []
    },
    {
      "cell_type": "markdown",
      "source": [
        "* Arbitrary keyword arguments: `**kwargs`\n",
        "* `keyword=value`"
      ],
      "metadata": {
        "id": "1chMXALcEgVK"
      }
    },
    {
      "cell_type": "markdown",
      "source": [
        "### Using arbitrary keyword arguments"
      ],
      "metadata": {
        "id": "6T_sAxLDEs9_"
      }
    },
    {
      "cell_type": "code",
      "source": [
        "# Calling average with six kwargs\n",
        "average(a=15, b=29, c=4, d=13, e=11, f=8)"
      ],
      "metadata": {
        "colab": {
          "base_uri": "https://localhost:8080/"
        },
        "id": "EKs1Ds1-EuAp",
        "outputId": "e4cbe184-66ad-4396-dd46-8248f6768c43"
      },
      "execution_count": null,
      "outputs": [
        {
          "output_type": "execute_result",
          "data": {
            "text/plain": [
              "13.33"
            ]
          },
          "metadata": {},
          "execution_count": 31
        }
      ]
    },
    {
      "cell_type": "code",
      "source": [
        "# Calling average with one kwarg\n",
        "average(**{\"a\":15, \"b\":29, \"c\":4, \"d\":13, \"e\":11, \"f\":8})"
      ],
      "metadata": {
        "colab": {
          "base_uri": "https://localhost:8080/"
        },
        "id": "P_wCMKdjE3Jf",
        "outputId": "aac2f08f-00a4-4460-949a-8fc80b8cdc3e"
      },
      "execution_count": null,
      "outputs": [
        {
          "output_type": "execute_result",
          "data": {
            "text/plain": [
              "13.33"
            ]
          },
          "metadata": {},
          "execution_count": 32
        }
      ]
    },
    {
      "cell_type": "markdown",
      "source": [
        "* Each key-value pair in the dictionary is mapped to a keyword argument and value!"
      ],
      "metadata": {
        "id": "9bW4YG9aE7lZ"
      }
    },
    {
      "cell_type": "markdown",
      "source": [
        "### Kwargs create a single iterable"
      ],
      "metadata": {
        "id": "ikYlQ8dKE_xa"
      }
    },
    {
      "cell_type": "code",
      "source": [
        "# Calling average with three kwargs\n",
        "average(**{\"a\":15, \"b\":29}, **{\"c\":4, \"d\":13}, **{\"e\":11, \"f\":8})"
      ],
      "metadata": {
        "colab": {
          "base_uri": "https://localhost:8080/"
        },
        "id": "T-_bMFiZFBds",
        "outputId": "26728b0a-83a3-4644-8791-9e863d9acb5b"
      },
      "execution_count": null,
      "outputs": [
        {
          "output_type": "execute_result",
          "data": {
            "text/plain": [
              "13.33"
            ]
          },
          "metadata": {},
          "execution_count": 33
        }
      ]
    },
    {
      "cell_type": "markdown",
      "source": [
        "### Excercise 1: Adding arbitrary arguments"
      ],
      "metadata": {
        "id": "TdO5rGnuLSm4"
      }
    },
    {
      "cell_type": "markdown",
      "source": [
        "In the video, you saw that Python allows custom functions to accept any number of positional arguments through the use of \"Arbitrary arguments\". This flexibility enables functions to be used in a variety of ways while still producing the expected results!\n",
        "\n",
        "Using this power, you'll build a function that concatenates (joins together) strings, regardless of how many blocks of text are provided!"
      ],
      "metadata": {
        "id": "nXpAVaGwLWyL"
      }
    },
    {
      "cell_type": "markdown",
      "source": [
        "**Instructions**\n",
        "* Define a function called `concat()` that accepts arbitrary arguments called `args`.\n",
        "* Create a variable called `result` and assign an empty string to it.\n",
        "* Use a `for` loop to iterate over each `arg` in `args`.\n",
        "* Call the function to test that it works correctly."
      ],
      "metadata": {
        "id": "miB_lTARLZeF"
      }
    },
    {
      "cell_type": "code",
      "source": [
        "# Define a function called concat\n",
        "def concat(*args):\n",
        "\n",
        "  # Create an empty string\n",
        "  result = \"\"\n",
        "\n",
        "  # Iterate over the Python args tuple\n",
        "  for arg in args:\n",
        "    result += \" \" + arg\n",
        "  return result\n",
        "\n",
        "# Call the function\n",
        "print(concat(\"Python\", \"is\", \"great!\"))"
      ],
      "metadata": {
        "colab": {
          "base_uri": "https://localhost:8080/"
        },
        "id": "i46UjU3lMTjy",
        "outputId": "479860e2-d5bf-441b-9d37-bbbde42a9d26"
      },
      "execution_count": null,
      "outputs": [
        {
          "output_type": "stream",
          "name": "stdout",
          "text": [
            " Python is great!\n"
          ]
        }
      ]
    },
    {
      "cell_type": "markdown",
      "source": [
        "### Excercise 2: Arbitrary keyword arguments"
      ],
      "metadata": {
        "id": "TsOQ4174MvxR"
      }
    },
    {
      "cell_type": "markdown",
      "source": [
        "Arbitrary positional arguments are one way to add flexibility when creating custom functions, but you can also use arbitrary keyword arguments.\n",
        "\n",
        "Your goal is to take the concat function that you created in the last exercise and modify it to accept arbitrary keyword arguments. Good luck!"
      ],
      "metadata": {
        "id": "RqbvPA9MMzkh"
      }
    },
    {
      "cell_type": "markdown",
      "source": [
        "**Instructions**\n",
        "* Define `concat()` as a function that accepts arbitrary keyword arguments called `kwargs`.\n",
        "* Inside the function, create an empty string.\n",
        "* Inside the function, loop over the keyword argument values, using `kwarg` as the iterator.\n",
        "* Call `concat()` with keyword arguments of start equal to `\"Python\"`, `middle` equal to `\"is\"`, and `end` equal to `\"great!\"`."
      ],
      "metadata": {
        "id": "qc9IbSxWM17w"
      }
    },
    {
      "cell_type": "code",
      "source": [
        "# Define a function called concat\n",
        "def concat(**kwargs):\n",
        "\n",
        "  # Create an empty string\n",
        "  result = \"\"\n",
        "\n",
        "  # Iterate over the Python kwargs\n",
        "  for kwarg in kwargs.values():\n",
        "    result += \" \" + kwarg\n",
        "  return result\n",
        "\n",
        "# Call the function\n",
        "print(concat(start=\"Python\", middle=\"is\", end=\"great!\"))"
      ],
      "metadata": {
        "colab": {
          "base_uri": "https://localhost:8080/"
        },
        "id": "M0BPK82HNMWg",
        "outputId": "714a5fbf-e88b-4388-a1af-09e334167f63"
      },
      "execution_count": null,
      "outputs": [
        {
          "output_type": "stream",
          "name": "stdout",
          "text": [
            " Python is great!\n"
          ]
        }
      ]
    },
    {
      "cell_type": "markdown",
      "source": [
        "# CHAPTER 3: Lambda functions and error-handling"
      ],
      "metadata": {
        "id": "hwgq2wqISKvu"
      }
    },
    {
      "cell_type": "markdown",
      "source": [
        "Build lambda functions on the fly, and discover how to error-proof your code!"
      ],
      "metadata": {
        "id": "LKczZMXbSST-"
      }
    },
    {
      "cell_type": "markdown",
      "source": [
        "## Lesson 1: Lambda functions\n"
      ],
      "metadata": {
        "id": "SooQAsn50-tP"
      }
    },
    {
      "cell_type": "markdown",
      "source": [
        "### Simple functions"
      ],
      "metadata": {
        "id": "I7S5WBmU1Jce"
      }
    },
    {
      "cell_type": "code",
      "source": [
        "def average(values):\n",
        "  average_value = sum(values) / len(values)\n",
        "  return average_value"
      ],
      "metadata": {
        "id": "2zvC6p8v1K13"
      },
      "execution_count": null,
      "outputs": []
    },
    {
      "cell_type": "markdown",
      "source": [
        "### Lambda functions"
      ],
      "metadata": {
        "id": "-Ls14msS1SRn"
      }
    },
    {
      "cell_type": "markdown",
      "source": [
        "* `lambda` keyword\n",
        "  * Represents an anonymous function.\n",
        "  * **Can** store as a variable and call it.\n",
        "\n",
        "\n",
        "  ```\n",
        "    lambda argument(s): expression\n",
        "  ```\n",
        "* Convention is to use `x` for a single argument\n",
        "* The `expression` is the equivalent of the function body\n",
        "* No `return` statement is required\n"
      ],
      "metadata": {
        "id": "Rixyl5XF1b_a"
      }
    },
    {
      "cell_type": "markdown",
      "source": [
        "### Creating a lambda function"
      ],
      "metadata": {
        "id": "gk45ZaF_MXxX"
      }
    },
    {
      "cell_type": "code",
      "source": [
        "# Lambda average function\n",
        "lambda x: sum(x) / len(x)"
      ],
      "metadata": {
        "colab": {
          "base_uri": "https://localhost:8080/"
        },
        "id": "UJuYU_Bu1T2Z",
        "outputId": "78aa9f93-dc2c-4e86-bb7f-79187c1962e7"
      },
      "execution_count": null,
      "outputs": [
        {
          "output_type": "execute_result",
          "data": {
            "text/plain": [
              "<function __main__.<lambda>(x)>"
            ]
          },
          "metadata": {},
          "execution_count": 2
        }
      ]
    },
    {
      "cell_type": "code",
      "source": [
        "# Custom average function\n",
        "def average(x):\n",
        "  return sum(x) / len(x)\n",
        "\n",
        "average"
      ],
      "metadata": {
        "colab": {
          "base_uri": "https://localhost:8080/",
          "height": 103
        },
        "id": "4KSEWHdnMfhO",
        "outputId": "925e0476-18d5-4ccc-f1a3-2193922f3c54"
      },
      "execution_count": null,
      "outputs": [
        {
          "output_type": "execute_result",
          "data": {
            "text/plain": [
              "<function __main__.average(x)>"
            ],
            "text/html": [
              "<div style=\"max-width:800px; border: 1px solid var(--colab-border-color);\"><style>\n",
              "      pre.function-repr-contents {\n",
              "        overflow-x: auto;\n",
              "        padding: 8px 12px;\n",
              "        max-height: 500px;\n",
              "      }\n",
              "\n",
              "      pre.function-repr-contents.function-repr-contents-collapsed {\n",
              "        cursor: pointer;\n",
              "        max-height: 100px;\n",
              "      }\n",
              "    </style>\n",
              "    <pre style=\"white-space: initial; background:\n",
              "         var(--colab-secondary-surface-color); padding: 8px 12px;\n",
              "         border-bottom: 1px solid var(--colab-border-color);\"><b>average</b><br/>def average(x)</pre><pre class=\"function-repr-contents function-repr-contents-collapsed\" style=\"\"><a class=\"filepath\" style=\"display:none\" href=\"#\">/content/&lt;ipython-input-3-b53ac83dbe96&gt;</a>&lt;no docstring&gt;</pre></div>"
            ]
          },
          "metadata": {},
          "execution_count": 3
        }
      ]
    },
    {
      "cell_type": "markdown",
      "source": [
        "### Using lambda functions"
      ],
      "metadata": {
        "id": "k3ROes5EMmL_"
      }
    },
    {
      "cell_type": "code",
      "source": [
        "# Get the average\n",
        "(lambda x: sum(x) / len(x))([3, 6, 9])"
      ],
      "metadata": {
        "colab": {
          "base_uri": "https://localhost:8080/"
        },
        "id": "nDXxOS9VMna_",
        "outputId": "0c32302a-f1c0-41a9-8844-98cecab85d84"
      },
      "execution_count": null,
      "outputs": [
        {
          "output_type": "execute_result",
          "data": {
            "text/plain": [
              "6.0"
            ]
          },
          "metadata": {},
          "execution_count": 4
        }
      ]
    },
    {
      "cell_type": "markdown",
      "source": [
        "### Storing and calling a lambda function"
      ],
      "metadata": {
        "id": "JvlzKAmzMuqX"
      }
    },
    {
      "cell_type": "code",
      "source": [
        "# Store lambda function as a variable\n",
        "average = lambda x: sum(x) / len(x)\n",
        "\n",
        "# Call the average function\n",
        "average([3, 6, 9])"
      ],
      "metadata": {
        "colab": {
          "base_uri": "https://localhost:8080/"
        },
        "id": "9VwugI4WMvxC",
        "outputId": "37cb3165-ca8d-4274-e065-b2bea5ee2c49"
      },
      "execution_count": null,
      "outputs": [
        {
          "output_type": "execute_result",
          "data": {
            "text/plain": [
              "6.0"
            ]
          },
          "metadata": {},
          "execution_count": 5
        }
      ]
    },
    {
      "cell_type": "markdown",
      "source": [
        "### Multiple parameters"
      ],
      "metadata": {
        "id": "sfGb889wM1Xg"
      }
    },
    {
      "cell_type": "code",
      "source": [
        "# Lambda function with two arguments\n",
        "(lambda x, y: x**y)(2, 3)"
      ],
      "metadata": {
        "colab": {
          "base_uri": "https://localhost:8080/"
        },
        "id": "kRSkqxNKM5Gf",
        "outputId": "62948954-b990-44be-8071-23f21e115788"
      },
      "execution_count": null,
      "outputs": [
        {
          "output_type": "execute_result",
          "data": {
            "text/plain": [
              "8"
            ]
          },
          "metadata": {},
          "execution_count": 6
        }
      ]
    },
    {
      "cell_type": "markdown",
      "source": [
        "### Lambda functions with iterables"
      ],
      "metadata": {
        "id": "rOZfYlJjNCQy"
      }
    },
    {
      "cell_type": "markdown",
      "source": [
        "* `map()` applies a function to all elements in an iterable"
      ],
      "metadata": {
        "id": "cgAIhv7vNE7b"
      }
    },
    {
      "cell_type": "code",
      "source": [
        "names = [\"john\", \"sally\", \"leah\"]\n",
        "# Apply a lambda function inside map()\n",
        "capitalize = map(lambda x: x.capitalize(), names)\n",
        "print(capitalize)"
      ],
      "metadata": {
        "colab": {
          "base_uri": "https://localhost:8080/"
        },
        "id": "a7yPfAISNDvQ",
        "outputId": "7d41e113-5634-4d85-8cfc-339ce3c82811"
      },
      "execution_count": null,
      "outputs": [
        {
          "output_type": "stream",
          "name": "stdout",
          "text": [
            "<map object at 0x791a923563e0>\n"
          ]
        }
      ]
    },
    {
      "cell_type": "code",
      "source": [
        "# Convert to a list\n",
        "list(capitalize)"
      ],
      "metadata": {
        "colab": {
          "base_uri": "https://localhost:8080/"
        },
        "id": "7YiPCKeGNPis",
        "outputId": "d6a95a70-a2d6-44b4-a262-84b92eb3be14"
      },
      "execution_count": null,
      "outputs": [
        {
          "output_type": "execute_result",
          "data": {
            "text/plain": [
              "['John', 'Sally', 'Leah']"
            ]
          },
          "metadata": {},
          "execution_count": 8
        }
      ]
    },
    {
      "cell_type": "markdown",
      "source": [
        "### Custom vs. lambda functions"
      ],
      "metadata": {
        "id": "7deKUc0pN5-A"
      }
    },
    {
      "cell_type": "markdown",
      "source": [
        "  ----------Scenario----------------------Function Type\n",
        "\n",
        "* Complex task____________________Custom\n",
        "\n",
        "* Same task several times_________Custom\n",
        "\n",
        "* Simple task_____________________Lambda\n",
        "\n",
        "* Performed once__________________Lambda"
      ],
      "metadata": {
        "id": "4i0mcZ3qN8gy"
      }
    },
    {
      "cell_type": "markdown",
      "source": [
        "###Excercise 1: Adding tax"
      ],
      "metadata": {
        "id": "9VcPO4W1IoaP"
      }
    },
    {
      "cell_type": "markdown",
      "source": [
        "Time to test out your lambda function skills!\n",
        "\n",
        "In this exercise, you'll use a lambda function to add a tax of 20% to the cost of the `sale_price` variable."
      ],
      "metadata": {
        "id": "EL4RJ6tQIuWp"
      }
    },
    {
      "cell_type": "markdown",
      "source": [
        "**Instructions**\n",
        "* Define the `add_tax` lambda function to multiply the argument provided to it, `x`, by `1.2`.\n",
        "* Call `add_tax()` on the `sale_price` variable."
      ],
      "metadata": {
        "id": "eUFKYctMI0Mp"
      }
    },
    {
      "cell_type": "code",
      "source": [
        "sale_price = 29.99\n",
        "\n",
        "# Define a lambda function called add_tax\n",
        "add_tax = lambda x : x*1.2\n",
        "\n",
        "# Call the lambda function\n",
        "print(add_tax(sale_price))"
      ],
      "metadata": {
        "colab": {
          "base_uri": "https://localhost:8080/"
        },
        "id": "KVrJuDwjJMKJ",
        "outputId": "fad6d870-7569-4bbd-f86a-57296485bd49"
      },
      "execution_count": null,
      "outputs": [
        {
          "output_type": "stream",
          "name": "stdout",
          "text": [
            "35.988\n"
          ]
        }
      ]
    },
    {
      "cell_type": "markdown",
      "source": [
        "### Excercise 2: Calling lambda in-line"
      ],
      "metadata": {
        "id": "2WVtUp-3JS7g"
      }
    },
    {
      "cell_type": "markdown",
      "source": [
        "Remember, one of the key benefits of lambda is the ability to use functions in-line.\n",
        "\n",
        "In this exercise, you'll modify the approach of the previous exercise to add tax to the `sales_price` variable in-line without storing a lambda function as a variable first."
      ],
      "metadata": {
        "id": "-29HdUAuJVhI"
      }
    },
    {
      "cell_type": "markdown",
      "source": [
        "**Instructions**\n",
        "* In a single line of code, make a lambda function that multiplies `sale_price` by `1.2` and returns the results."
      ],
      "metadata": {
        "id": "EE4sIhHJJcYZ"
      }
    },
    {
      "cell_type": "code",
      "source": [
        "sale_price = 29.99\n",
        "\n",
        "# Call a lambda function adding 20% to sale_price\n",
        "print((lambda x : x*1.2)(sale_price))"
      ],
      "metadata": {
        "colab": {
          "base_uri": "https://localhost:8080/"
        },
        "id": "9Vplg8IxJiOd",
        "outputId": "f02ca277-eb0d-4e87-82a3-4a0e1a594585"
      },
      "execution_count": null,
      "outputs": [
        {
          "output_type": "stream",
          "name": "stdout",
          "text": [
            "35.988\n"
          ]
        }
      ]
    },
    {
      "cell_type": "markdown",
      "source": [
        "### Excercise 3: Lambda functions with iterables"
      ],
      "metadata": {
        "id": "WtMa4-9RJ7pD"
      }
    },
    {
      "cell_type": "markdown",
      "source": [
        "You've used lambda functions to perform actions on a single value; now it's time to test yourself on working with iterables.\n",
        "\n",
        "You've been provided with a list called `sales_prices` containing sales prices for several items. Your goal is to use a lambda function to add tax (20%) to each value in the list."
      ],
      "metadata": {
        "id": "s25JtjTIJ-Qv"
      }
    },
    {
      "cell_type": "markdown",
      "source": [
        "**Instructions**\n",
        "* Create `add_taxes`, which multiplies each value in `sales_prices` by 20%.\n",
        "* Print a list using `add_taxes` to update values in `sales_prices`."
      ],
      "metadata": {
        "id": "iuCauYDwKFf_"
      }
    },
    {
      "cell_type": "code",
      "source": [
        "sales_prices = [29.99, 9.95, 14.50, 39.75, 60.00]\n",
        "\n",
        "# Create add_taxes to add 20% to each item in sales_prices\n",
        "add_taxes = map(lambda x: x*1.2, sales_prices)\n",
        "\n",
        "# Use add_taxes to return a new list with updated values\n",
        "print(list(add_taxes))"
      ],
      "metadata": {
        "colab": {
          "base_uri": "https://localhost:8080/"
        },
        "id": "-FgRBU8MKnGD",
        "outputId": "32a3aa75-058e-456d-ef1f-28f1df28e9eb"
      },
      "execution_count": null,
      "outputs": [
        {
          "output_type": "stream",
          "name": "stdout",
          "text": [
            "[35.988, 11.94, 17.4, 47.699999999999996, 72.0]\n"
          ]
        }
      ]
    },
    {
      "cell_type": "markdown",
      "source": [
        "## Lesson 2: Introduction to errors"
      ],
      "metadata": {
        "id": "ze2FPNHoK90r"
      }
    },
    {
      "cell_type": "markdown",
      "source": [
        "### What is an error?"
      ],
      "metadata": {
        "id": "G94CCX0HLEKv"
      }
    },
    {
      "cell_type": "markdown",
      "source": [
        "* Code that violates one or more rules\n",
        "* Error = Exception\n",
        "* Cause our code to terminate!"
      ],
      "metadata": {
        "id": "8tQBEFFQLaBS"
      }
    },
    {
      "cell_type": "markdown",
      "source": [
        "### TypeError"
      ],
      "metadata": {
        "id": "Np7wkGJMLj9X"
      }
    },
    {
      "cell_type": "markdown",
      "source": [
        "* Incorrect data type"
      ],
      "metadata": {
        "id": "RWjUCOHZLlCW"
      }
    },
    {
      "cell_type": "code",
      "source": [
        "\"Hello\" + 5"
      ],
      "metadata": {
        "colab": {
          "base_uri": "https://localhost:8080/",
          "height": 141
        },
        "id": "8EUefs9BLnSQ",
        "outputId": "c4d30f4c-41c6-4ffa-a4af-2bab0f8c0cdf"
      },
      "execution_count": null,
      "outputs": [
        {
          "output_type": "error",
          "ename": "TypeError",
          "evalue": "can only concatenate str (not \"int\") to str",
          "traceback": [
            "\u001b[0;31m---------------------------------------------------------------------------\u001b[0m",
            "\u001b[0;31mTypeError\u001b[0m                                 Traceback (most recent call last)",
            "\u001b[0;32m<ipython-input-4-59e14aca3859>\u001b[0m in \u001b[0;36m<cell line: 0>\u001b[0;34m()\u001b[0m\n\u001b[0;32m----> 1\u001b[0;31m \u001b[0;34m\"Hello\"\u001b[0m \u001b[0;34m+\u001b[0m \u001b[0;36m5\u001b[0m\u001b[0;34m\u001b[0m\u001b[0;34m\u001b[0m\u001b[0m\n\u001b[0m",
            "\u001b[0;31mTypeError\u001b[0m: can only concatenate str (not \"int\") to str"
          ]
        }
      ]
    },
    {
      "cell_type": "markdown",
      "source": [
        "### ValueError"
      ],
      "metadata": {
        "id": "sIh8RUw6LvJE"
      }
    },
    {
      "cell_type": "code",
      "source": [
        "float(\"Hello\")"
      ],
      "metadata": {
        "colab": {
          "base_uri": "https://localhost:8080/",
          "height": 141
        },
        "id": "zFBKdk8DLwze",
        "outputId": "1c657154-00d6-4b01-9271-45fc7a2327fe"
      },
      "execution_count": null,
      "outputs": [
        {
          "output_type": "error",
          "ename": "ValueError",
          "evalue": "could not convert string to float: 'Hello'",
          "traceback": [
            "\u001b[0;31m---------------------------------------------------------------------------\u001b[0m",
            "\u001b[0;31mValueError\u001b[0m                                Traceback (most recent call last)",
            "\u001b[0;32m<ipython-input-5-ff6885467a56>\u001b[0m in \u001b[0;36m<cell line: 0>\u001b[0;34m()\u001b[0m\n\u001b[0;32m----> 1\u001b[0;31m \u001b[0mfloat\u001b[0m\u001b[0;34m(\u001b[0m\u001b[0;34m\"Hello\"\u001b[0m\u001b[0;34m)\u001b[0m\u001b[0;34m\u001b[0m\u001b[0;34m\u001b[0m\u001b[0m\n\u001b[0m",
            "\u001b[0;31mValueError\u001b[0m: could not convert string to float: 'Hello'"
          ]
        }
      ]
    },
    {
      "cell_type": "code",
      "source": [
        "float(\"2\")"
      ],
      "metadata": {
        "colab": {
          "base_uri": "https://localhost:8080/"
        },
        "id": "tcjujxh1L1Bt",
        "outputId": "85098c37-e61b-4ace-ff48-249eac743914"
      },
      "execution_count": null,
      "outputs": [
        {
          "output_type": "execute_result",
          "data": {
            "text/plain": [
              "2.0"
            ]
          },
          "metadata": {},
          "execution_count": 6
        }
      ]
    },
    {
      "cell_type": "markdown",
      "source": [
        "* The value is not acceptable in an acceptable range"
      ],
      "metadata": {
        "id": "uLwUlo-VL4ol"
      }
    },
    {
      "cell_type": "markdown",
      "source": [
        "### Excercise 1: Debugging code"
      ],
      "metadata": {
        "id": "yLA29bL7MZQs"
      }
    },
    {
      "cell_type": "markdown",
      "source": [
        "Developers will inevitably produce errors when writing code—this is completely normal! The ability to read error messages and debug or fix your code is a crucial skill when building or maintaining software.\n",
        "\n",
        "In this exercise, you have been provided with code that produces errors and will need to identify the cause so that you can resolve these issues."
      ],
      "metadata": {
        "id": "cdCzOLE3Mc3V"
      }
    },
    {
      "cell_type": "markdown",
      "source": [
        "**Instrucions**\n",
        "* Fix the code provided so that it creates and then prints the `sales` list without any errors."
      ],
      "metadata": {
        "id": "Kbw5GsvEMeUj"
      }
    },
    {
      "cell_type": "code",
      "source": [
        "# Define the sales list\n",
        "sales = [125.97, 84.32, 99.78 154.21, 78.50, 83.67, 111.13]\n",
        "\n",
        "# Print the sales list\n",
        "print(sale)"
      ],
      "metadata": {
        "colab": {
          "base_uri": "https://localhost:8080/",
          "height": 106
        },
        "id": "9ZxZa1QyMsV2",
        "outputId": "79ed18e4-a482-454b-dadd-feabbadac775"
      },
      "execution_count": null,
      "outputs": [
        {
          "output_type": "error",
          "ename": "SyntaxError",
          "evalue": "invalid syntax. Perhaps you forgot a comma? (<ipython-input-7-bed94048a187>, line 2)",
          "traceback": [
            "\u001b[0;36m  File \u001b[0;32m\"<ipython-input-7-bed94048a187>\"\u001b[0;36m, line \u001b[0;32m2\u001b[0m\n\u001b[0;31m    sales = [125.97, 84.32, 99.78 154.21, 78.50, 83.67, 111.13]\u001b[0m\n\u001b[0m                            ^\u001b[0m\n\u001b[0;31mSyntaxError\u001b[0m\u001b[0;31m:\u001b[0m invalid syntax. Perhaps you forgot a comma?\n"
          ]
        }
      ]
    },
    {
      "cell_type": "markdown",
      "source": [
        "## Lesson 3: Error handling"
      ],
      "metadata": {
        "id": "7eMW3vt2N44X"
      }
    },
    {
      "cell_type": "markdown",
      "source": [
        "### Pandas traceback"
      ],
      "metadata": {
        "id": "IgQ-oLgxN9ON"
      }
    },
    {
      "cell_type": "markdown",
      "source": [
        "* `except` , `raise`\n",
        "* Try to anticipate how errors might occur"
      ],
      "metadata": {
        "id": "zkYYYOAUOHJY"
      }
    },
    {
      "cell_type": "markdown",
      "source": [
        "### Design-thinking"
      ],
      "metadata": {
        "id": "2UdTL4CIOM1P"
      }
    },
    {
      "cell_type": "markdown",
      "source": [
        "* How might people use our custom function?\n",
        "* Test these different approaches\n",
        "* Find what errors occur"
      ],
      "metadata": {
        "id": "WfKeN_GGOP_l"
      }
    },
    {
      "cell_type": "markdown",
      "source": [
        "### Error handling in custom functions"
      ],
      "metadata": {
        "id": "9Fl9J6pwOag2"
      }
    },
    {
      "cell_type": "code",
      "source": [
        "def average(values):\n",
        "\n",
        "  # Calculate the average\n",
        "  average_value = sum(values) / len(values)\n",
        "\n",
        "  return average_value"
      ],
      "metadata": {
        "id": "xhh6d8SYObdA"
      },
      "execution_count": null,
      "outputs": []
    },
    {
      "cell_type": "markdown",
      "source": [
        "### Where might they go wrong?"
      ],
      "metadata": {
        "id": "-hVZ_8XkOi0k"
      }
    },
    {
      "cell_type": "markdown",
      "source": [
        "* Provide more than one argument\n",
        "* Use the wrong data type"
      ],
      "metadata": {
        "id": "MxDhgZCjOnDh"
      }
    },
    {
      "cell_type": "code",
      "source": [
        "sales_dict = {\"cust_id\": [\"JL93\", \"MT12\", \"IY64\"], \"order_value\": [43.21, 68.70, 82.19]}\n",
        "average(sales_dict)"
      ],
      "metadata": {
        "colab": {
          "base_uri": "https://localhost:8080/",
          "height": 263
        },
        "id": "860GbM4BOs40",
        "outputId": "7befe717-ee3f-42c2-edfe-4b4d942a2e1f"
      },
      "execution_count": null,
      "outputs": [
        {
          "output_type": "error",
          "ename": "TypeError",
          "evalue": "unsupported operand type(s) for +: 'int' and 'str'",
          "traceback": [
            "\u001b[0;31m---------------------------------------------------------------------------\u001b[0m",
            "\u001b[0;31mTypeError\u001b[0m                                 Traceback (most recent call last)",
            "\u001b[0;32m<ipython-input-9-df1a1015c239>\u001b[0m in \u001b[0;36m<cell line: 0>\u001b[0;34m()\u001b[0m\n\u001b[1;32m      1\u001b[0m \u001b[0msales_dict\u001b[0m \u001b[0;34m=\u001b[0m \u001b[0;34m{\u001b[0m\u001b[0;34m\"cust_id\"\u001b[0m\u001b[0;34m:\u001b[0m \u001b[0;34m[\u001b[0m\u001b[0;34m\"JL93\"\u001b[0m\u001b[0;34m,\u001b[0m \u001b[0;34m\"MT12\"\u001b[0m\u001b[0;34m,\u001b[0m \u001b[0;34m\"IY64\"\u001b[0m\u001b[0;34m]\u001b[0m\u001b[0;34m,\u001b[0m \u001b[0;34m\"order_value\"\u001b[0m\u001b[0;34m:\u001b[0m \u001b[0;34m[\u001b[0m\u001b[0;36m43.21\u001b[0m\u001b[0;34m,\u001b[0m \u001b[0;36m68.70\u001b[0m\u001b[0;34m,\u001b[0m \u001b[0;36m82.19\u001b[0m\u001b[0;34m]\u001b[0m\u001b[0;34m}\u001b[0m\u001b[0;34m\u001b[0m\u001b[0;34m\u001b[0m\u001b[0m\n\u001b[0;32m----> 2\u001b[0;31m \u001b[0maverage\u001b[0m\u001b[0;34m(\u001b[0m\u001b[0msales_dict\u001b[0m\u001b[0;34m)\u001b[0m\u001b[0;34m\u001b[0m\u001b[0;34m\u001b[0m\u001b[0m\n\u001b[0m",
            "\u001b[0;32m<ipython-input-8-9d8e9f8caf36>\u001b[0m in \u001b[0;36maverage\u001b[0;34m(values)\u001b[0m\n\u001b[1;32m      1\u001b[0m \u001b[0;32mdef\u001b[0m \u001b[0maverage\u001b[0m\u001b[0;34m(\u001b[0m\u001b[0mvalues\u001b[0m\u001b[0;34m)\u001b[0m\u001b[0;34m:\u001b[0m\u001b[0;34m\u001b[0m\u001b[0;34m\u001b[0m\u001b[0m\n\u001b[1;32m      2\u001b[0m   \u001b[0;31m# Calculate the average\u001b[0m\u001b[0;34m\u001b[0m\u001b[0;34m\u001b[0m\u001b[0m\n\u001b[0;32m----> 3\u001b[0;31m   \u001b[0maverage_value\u001b[0m \u001b[0;34m=\u001b[0m \u001b[0msum\u001b[0m\u001b[0;34m(\u001b[0m\u001b[0mvalues\u001b[0m\u001b[0;34m)\u001b[0m \u001b[0;34m/\u001b[0m \u001b[0mlen\u001b[0m\u001b[0;34m(\u001b[0m\u001b[0mvalues\u001b[0m\u001b[0;34m)\u001b[0m\u001b[0;34m\u001b[0m\u001b[0;34m\u001b[0m\u001b[0m\n\u001b[0m\u001b[1;32m      4\u001b[0m   \u001b[0;32mreturn\u001b[0m \u001b[0maverage_value\u001b[0m\u001b[0;34m\u001b[0m\u001b[0;34m\u001b[0m\u001b[0m\n",
            "\u001b[0;31mTypeError\u001b[0m: unsupported operand type(s) for +: 'int' and 'str'"
          ]
        }
      ]
    },
    {
      "cell_type": "markdown",
      "source": [
        "### Error-handling techniques"
      ],
      "metadata": {
        "id": "QNv5XlXlO4M5"
      }
    },
    {
      "cell_type": "markdown",
      "source": [
        "* Control flow if , elif , else\n",
        "* Docstrings"
      ],
      "metadata": {
        "id": "NtzB5GTOO7t1"
      }
    },
    {
      "cell_type": "markdown",
      "source": [
        "### try-except"
      ],
      "metadata": {
        "id": "0yNfUoX7PB6-"
      }
    },
    {
      "cell_type": "code",
      "source": [
        "def average(values):\n",
        "  try:\n",
        "\n",
        "    # Code that might cause an error\n",
        "    average_value = sum(values) / len(values)\n",
        "    return average_value\n",
        "\n",
        "  except:\n",
        "\n",
        "    # Code to run if an error occurs\n",
        "    print(\"average() accepts a list or set. Please provide a correct data type.\")\n",
        "\n",
        "average(sales_dict)"
      ],
      "metadata": {
        "colab": {
          "base_uri": "https://localhost:8080/"
        },
        "id": "IisP5vJCPI8K",
        "outputId": "894c927c-56f0-400b-99ed-f59ccc1229da"
      },
      "execution_count": null,
      "outputs": [
        {
          "output_type": "stream",
          "name": "stdout",
          "text": [
            "average() accepts a list or set. Please provide a correct data type.\n"
          ]
        }
      ]
    },
    {
      "cell_type": "markdown",
      "source": [
        "### raise\n"
      ],
      "metadata": {
        "id": "WvWbb3EhPU6r"
      }
    },
    {
      "cell_type": "code",
      "source": [
        "def average(values):\n",
        "  # Check data type\n",
        "  if type(values) in [\"list\", \"set\"]:\n",
        "    # Run if appropriate data type was used\n",
        "    average_value = sum(values) / len(values)\n",
        "    return average_value\n",
        "  else:\n",
        "    # Run if an Exception occurs\n",
        "    raise"
      ],
      "metadata": {
        "id": "Jdn8BiYgPV-W"
      },
      "execution_count": null,
      "outputs": []
    },
    {
      "cell_type": "markdown",
      "source": [
        "### raise TypeError"
      ],
      "metadata": {
        "id": "ERvP7WPJPhSF"
      }
    },
    {
      "cell_type": "code",
      "source": [
        "def average(values):\n",
        "\n",
        "  # Check data type\n",
        "  if type(values) in [\"list\", \"set\"]:\n",
        "    # Run if appropriate data type was used\n",
        "    average_value = sum(values) / len(values)\n",
        "    return average_value\n",
        "  else:\n",
        "    # Run if an Exception occurs\n",
        "    raise TypeError(\"average() accepts a list or set, please provide a correct data type.\")"
      ],
      "metadata": {
        "id": "6wc0IkQHPm1j"
      },
      "execution_count": null,
      "outputs": []
    },
    {
      "cell_type": "markdown",
      "source": [
        "### raise TypeError output"
      ],
      "metadata": {
        "id": "yZ5cfkeGPyGU"
      }
    },
    {
      "cell_type": "code",
      "source": [
        "average(sales_dict)"
      ],
      "metadata": {
        "colab": {
          "base_uri": "https://localhost:8080/",
          "height": 228
        },
        "id": "BiXjNez4PzVc",
        "outputId": "4c9879ed-4144-4c65-e054-13cec5b3da07"
      },
      "execution_count": null,
      "outputs": [
        {
          "output_type": "error",
          "ename": "TypeError",
          "evalue": "average() accepts a list or set, please provide a correct data type.",
          "traceback": [
            "\u001b[0;31m---------------------------------------------------------------------------\u001b[0m",
            "\u001b[0;31mTypeError\u001b[0m                                 Traceback (most recent call last)",
            "\u001b[0;32m<ipython-input-13-169eb4dff5c2>\u001b[0m in \u001b[0;36m<cell line: 0>\u001b[0;34m()\u001b[0m\n\u001b[0;32m----> 1\u001b[0;31m \u001b[0maverage\u001b[0m\u001b[0;34m(\u001b[0m\u001b[0msales_dict\u001b[0m\u001b[0;34m)\u001b[0m\u001b[0;34m\u001b[0m\u001b[0;34m\u001b[0m\u001b[0m\n\u001b[0m",
            "\u001b[0;32m<ipython-input-12-39a8355cc5a7>\u001b[0m in \u001b[0;36maverage\u001b[0;34m(values)\u001b[0m\n\u001b[1;32m      8\u001b[0m   \u001b[0;32melse\u001b[0m\u001b[0;34m:\u001b[0m\u001b[0;34m\u001b[0m\u001b[0;34m\u001b[0m\u001b[0m\n\u001b[1;32m      9\u001b[0m     \u001b[0;31m# Run if an Exception occurs\u001b[0m\u001b[0;34m\u001b[0m\u001b[0;34m\u001b[0m\u001b[0m\n\u001b[0;32m---> 10\u001b[0;31m     \u001b[0;32mraise\u001b[0m \u001b[0mTypeError\u001b[0m\u001b[0;34m(\u001b[0m\u001b[0;34m\"average() accepts a list or set, please provide a correct data type.\"\u001b[0m\u001b[0;34m)\u001b[0m\u001b[0;34m\u001b[0m\u001b[0;34m\u001b[0m\u001b[0m\n\u001b[0m",
            "\u001b[0;31mTypeError\u001b[0m: average() accepts a list or set, please provide a correct data type."
          ]
        }
      ]
    },
    {
      "cell_type": "markdown",
      "source": [
        "### try-except vs. raise"
      ],
      "metadata": {
        "id": "6Jv0m81EP-5z"
      }
    },
    {
      "cell_type": "markdown",
      "source": [
        "`try - except`\n",
        "* Avoid errors being produced\n",
        "* Still execute subsequent code\n",
        "\n",
        "`raise`\n",
        "* Will produce an error\n",
        "* Avoid executing subsequent code"
      ],
      "metadata": {
        "id": "OFMrchrOQCxo"
      }
    },
    {
      "cell_type": "markdown",
      "source": [
        "### Excercise 1: Avoiding errors"
      ],
      "metadata": {
        "id": "q95QNXx_Qc_h"
      }
    },
    {
      "cell_type": "markdown",
      "source": [
        "In the video, you saw a couple of approaches for error handling that can be applied to custom functions.\n",
        "\n",
        "In this exercise, you'll test out one of the approaches that avoids raising an error, printing a helpful message if an error occurs, but not terminating the script."
      ],
      "metadata": {
        "id": "AqYEpQCIQgYq"
      }
    },
    {
      "cell_type": "markdown",
      "source": [
        "**Instructions**\n",
        "* Use a keyword allowing you to attempt to run code that cleans `text`.\n",
        "* Swap a space for a single underscore in the `text` argument.\n",
        "* Use another keyword that prints a helpful message if an error occurs when calling the `snake_case()` function."
      ],
      "metadata": {
        "id": "eAHgW9C5Qikh"
      }
    },
    {
      "cell_type": "code",
      "source": [
        "def snake_case(text):\n",
        "  # Attempt to clean the text\n",
        "  try:\n",
        "    # Swap spaces for underscores\n",
        "    clean_text = text.replace(\" \", \"_\")\n",
        "    clean_text = clean_text.lower()\n",
        "  # Run this code if an error occurs\n",
        "  except:\n",
        "    print(\"The snake_case() function expects a string as an argument, please check the data type provided.\")\n",
        "\n",
        "snake_case(\"User Name 187\")"
      ],
      "metadata": {
        "id": "SZMqY6dkQ9Lr"
      },
      "execution_count": null,
      "outputs": []
    },
    {
      "cell_type": "markdown",
      "source": [
        "### Excercise 2: Returning errors"
      ],
      "metadata": {
        "id": "UoG2IcvbRCI8"
      }
    },
    {
      "cell_type": "markdown",
      "source": [
        "Time to try out the other approach for error handling.\n",
        "\n",
        "Revise the `snake_case()` function to intentionally produce an error if an incorrect data type is used."
      ],
      "metadata": {
        "id": "mFEKUnQZREww"
      }
    },
    {
      "cell_type": "markdown",
      "source": [
        "**Instructions**\n",
        "* Check whether the data type of the `text` argument is a string `str`.\n",
        "* Inside the else block, produce a `TypeError()` to prevent the script running and return a descriptive message."
      ],
      "metadata": {
        "id": "Wpjmnw6kRKGT"
      }
    },
    {
      "cell_type": "code",
      "source": [
        "def snake_case(text):\n",
        "  # Check the data type\n",
        "  if type(text) == str:\n",
        "    clean_text = text.replace(\" \", \"_\")\n",
        "    clean_text = clean_text.lower()\n",
        "  else:\n",
        "    # Return a TypeError error if the wrong data type was used\n",
        "    raise TypeError(\"The snake_case() function expects a string as an argument, please check the data type provided.\")\n",
        "\n",
        "snake_case(\"User Name 187\")"
      ],
      "metadata": {
        "id": "JgH0aq_QR58H"
      },
      "execution_count": null,
      "outputs": []
    }
  ]
}