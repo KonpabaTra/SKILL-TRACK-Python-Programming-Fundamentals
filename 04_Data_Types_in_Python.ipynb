{
  "nbformat": 4,
  "nbformat_minor": 0,
  "metadata": {
    "colab": {
      "provenance": [],
      "collapsed_sections": [
        "2ttQkzH9lc7C",
        "l721vsWXlzbj"
      ],
      "authorship_tag": "ABX9TyNEMjZohGp87FickN/dOvRu",
      "include_colab_link": true
    },
    "kernelspec": {
      "name": "python3",
      "display_name": "Python 3"
    },
    "language_info": {
      "name": "python"
    }
  },
  "cells": [
    {
      "cell_type": "markdown",
      "metadata": {
        "id": "view-in-github",
        "colab_type": "text"
      },
      "source": [
        "<a href=\"https://colab.research.google.com/github/KonpabaTra/SKILL-TRACK-Python-Programming-Fundamentals/blob/main/04_Data_Types_in_Python.ipynb\" target=\"_parent\"><img src=\"https://colab.research.google.com/assets/colab-badge.svg\" alt=\"Open In Colab\"/></a>"
      ]
    },
    {
      "cell_type": "markdown",
      "source": [
        "**Description**\n",
        "\n",
        "Have you got your basic Python programming chops down but are yearning for more? Then this is the course for you. Herein, you'll consolidate and practice your knowledge of lists, dictionaries, tuples, sets, and date times. You'll see their relevance in working with lots of real data and how to leverage several of them in concert to solve multistep problems, including an extended case study using Chicago metropolitan area transit data. You'll also learn how to use many of the objects in the Python Collections module, which will allow you to store and manipulate your data for a variety of purposes. After taking this course, you'll be ready to tackle many data challenges Pythonically."
      ],
      "metadata": {
        "id": "AXUiKJ2GlJNd"
      }
    },
    {
      "cell_type": "markdown",
      "source": [
        "# CHAPTER 1: Fundamental Sequence Data Types\n",
        "\n"
      ],
      "metadata": {
        "id": "2ttQkzH9lc7C"
      }
    },
    {
      "cell_type": "markdown",
      "source": [
        "This chapter will introduce you to the fundamental Python data types - lists, sets, and strings. These data containers are critical as they provide the basis for storing and looping over ordered data. To make things interesting, you'll apply what you learn about these types to answer questions about the New York Baby Names dataset!"
      ],
      "metadata": {
        "id": "gmfB7ff3lkHq"
      }
    },
    {
      "cell_type": "markdown",
      "source": [
        "## Lesson 1: Introduction and lists"
      ],
      "metadata": {
        "id": "P7wAKBL2nnsr"
      }
    },
    {
      "cell_type": "markdown",
      "source": [
        "### Data types\n",
        "* Data type system sets the stage for the capabilities of the language\n",
        "* Understanding data types empowers you as a data scientist"
      ],
      "metadata": {
        "id": "kVsE78ZBnqRD"
      }
    },
    {
      "cell_type": "markdown",
      "source": [
        "### Container sequences\n",
        "* Hold other types of data\n",
        "* Used for aggregation, sorting, and more\n",
        "* Can be mutable ( `list` , `set` ) or immutable ( `tuple` )\n",
        "* Iterable"
      ],
      "metadata": {
        "id": "CJ7aBXBan8Lj"
      }
    },
    {
      "cell_type": "markdown",
      "source": [
        "### Lists\n",
        "* Hold data in order it was added\n",
        "* Mutable\n",
        "* Index"
      ],
      "metadata": {
        "id": "gU_HKXMqtsME"
      }
    },
    {
      "cell_type": "markdown",
      "source": [
        "### Accessing single items in list"
      ],
      "metadata": {
        "id": "i88mgJ4Wt3Yu"
      }
    },
    {
      "cell_type": "code",
      "source": [
        "cookies = ['chocolate chip', 'peanut butter', 'sugar']"
      ],
      "metadata": {
        "id": "7vptBI-lt4iW"
      },
      "execution_count": null,
      "outputs": []
    },
    {
      "cell_type": "code",
      "source": [
        "cookies.append('Tirggel')"
      ],
      "metadata": {
        "id": "sxxHBIf3t8vU"
      },
      "execution_count": null,
      "outputs": []
    },
    {
      "cell_type": "code",
      "source": [
        "print(cookies)"
      ],
      "metadata": {
        "colab": {
          "base_uri": "https://localhost:8080/"
        },
        "id": "KdJqRSKdt_Rl",
        "outputId": "9334b175-3d16-4d06-82f7-8cfd255f06af"
      },
      "execution_count": null,
      "outputs": [
        {
          "output_type": "stream",
          "name": "stdout",
          "text": [
            "['chocolate chip', 'peanut butter', 'sugar', 'Tirggel']\n"
          ]
        }
      ]
    },
    {
      "cell_type": "code",
      "source": [
        "print(cookies[2])"
      ],
      "metadata": {
        "colab": {
          "base_uri": "https://localhost:8080/"
        },
        "id": "ptD08t_suC-G",
        "outputId": "fa4891b6-5a4d-4ec3-ce98-bc5de57541bf"
      },
      "execution_count": null,
      "outputs": [
        {
          "output_type": "stream",
          "name": "stdout",
          "text": [
            "sugar\n"
          ]
        }
      ]
    },
    {
      "cell_type": "markdown",
      "source": [
        "### Combining lists"
      ],
      "metadata": {
        "id": "yET5kKGHuHP0"
      }
    },
    {
      "cell_type": "markdown",
      "source": [
        "* Using operators, you can combine two lists into a new one"
      ],
      "metadata": {
        "id": "ddu5D3qkuLaV"
      }
    },
    {
      "cell_type": "code",
      "source": [
        "cakes = ['strawberry', 'vanilla']\n",
        "desserts = cookies + cakes\n",
        "print(desserts)"
      ],
      "metadata": {
        "colab": {
          "base_uri": "https://localhost:8080/"
        },
        "id": "Hicde7_1uMTU",
        "outputId": "d2cddbf8-cee7-425c-9d94-966eb838800a"
      },
      "execution_count": null,
      "outputs": [
        {
          "output_type": "stream",
          "name": "stdout",
          "text": [
            "['chocolate chip', 'peanut butter', 'sugar', 'Tirggel', 'strawberry', 'vanilla']\n"
          ]
        }
      ]
    },
    {
      "cell_type": "markdown",
      "source": [
        "* `.extend()` method merges a list into another list at the end\n"
      ],
      "metadata": {
        "id": "ktALyag8uUu_"
      }
    },
    {
      "cell_type": "code",
      "source": [
        "cookies.extend(cakes)"
      ],
      "metadata": {
        "id": "5drTKDAquaK5"
      },
      "execution_count": null,
      "outputs": []
    },
    {
      "cell_type": "markdown",
      "source": [
        "### Finding elements in a list"
      ],
      "metadata": {
        "id": "9ZcVi3qvuvMc"
      }
    },
    {
      "cell_type": "markdown",
      "source": [
        "`.index()` method locates the position of a data element in a\n",
        "list"
      ],
      "metadata": {
        "id": "LO-kt9GYuxkd"
      }
    },
    {
      "cell_type": "code",
      "source": [
        "position = cookies.index('sugar')\n",
        "print(position)"
      ],
      "metadata": {
        "colab": {
          "base_uri": "https://localhost:8080/"
        },
        "id": "SUyvfBD7uwO8",
        "outputId": "33abbad7-78cc-4cf5-a765-9e2b2ea223ce"
      },
      "execution_count": null,
      "outputs": [
        {
          "output_type": "stream",
          "name": "stdout",
          "text": [
            "2\n"
          ]
        }
      ]
    },
    {
      "cell_type": "markdown",
      "source": [
        "### Removing elements in a List"
      ],
      "metadata": {
        "id": "dG6N_bbQu919"
      }
    },
    {
      "cell_type": "markdown",
      "source": [
        "`.pop()` method removes an item from a list and allows you\n",
        "to save it"
      ],
      "metadata": {
        "id": "-NvMHT2Cu_Ms"
      }
    },
    {
      "cell_type": "code",
      "source": [
        "name = cookies.pop(position)\n",
        "print(name)"
      ],
      "metadata": {
        "colab": {
          "base_uri": "https://localhost:8080/"
        },
        "id": "E4QpzylYvCGb",
        "outputId": "8f10eafd-0aa3-404d-a2a2-5ce485d9929d"
      },
      "execution_count": null,
      "outputs": [
        {
          "output_type": "stream",
          "name": "stdout",
          "text": [
            "sugar\n"
          ]
        }
      ]
    },
    {
      "cell_type": "code",
      "source": [
        "print(cookies)"
      ],
      "metadata": {
        "colab": {
          "base_uri": "https://localhost:8080/"
        },
        "id": "rWhFoDStvGV2",
        "outputId": "8d37a151-67a2-409b-b3da-b638299d3317"
      },
      "execution_count": null,
      "outputs": [
        {
          "output_type": "stream",
          "name": "stdout",
          "text": [
            "['chocolate chip', 'peanut butter', 'Tirggel', 'strawberry', 'vanilla']\n"
          ]
        }
      ]
    },
    {
      "cell_type": "markdown",
      "source": [
        "### Iterating over lists"
      ],
      "metadata": {
        "id": "pKvZbq9H1Qh_"
      }
    },
    {
      "cell_type": "markdown",
      "source": [
        "* **List comprehensions** are a common way of iterating over a list to perform some action on them"
      ],
      "metadata": {
        "id": "498XQiDx1Re5"
      }
    },
    {
      "cell_type": "code",
      "source": [
        "titlecase_cookies = [cookie.title() for cookie in cookies]\n",
        "print(titlecase_cookies)"
      ],
      "metadata": {
        "colab": {
          "base_uri": "https://localhost:8080/"
        },
        "id": "mCwgUhPs1ceB",
        "outputId": "53115f9c-f41c-4360-c359-4de842e858b9"
      },
      "execution_count": null,
      "outputs": [
        {
          "output_type": "stream",
          "name": "stdout",
          "text": [
            "['Chocolate Chip', 'Peanut Butter', 'Tirggel', 'Strawberry', 'Vanilla']\n"
          ]
        }
      ]
    },
    {
      "cell_type": "markdown",
      "source": [
        "### Sorting lists"
      ],
      "metadata": {
        "id": "-w53RoQe1tRQ"
      }
    },
    {
      "cell_type": "markdown",
      "source": [
        "* `sorted()` function sorts data in numerical or alphabetical\n",
        "order and returns a new list"
      ],
      "metadata": {
        "id": "la5BGeFT1wx4"
      }
    },
    {
      "cell_type": "code",
      "source": [
        "print(cookies)"
      ],
      "metadata": {
        "colab": {
          "base_uri": "https://localhost:8080/"
        },
        "id": "wrnkD2Xp11NQ",
        "outputId": "78eee39d-43e2-4767-8ae5-06be23c381d5"
      },
      "execution_count": null,
      "outputs": [
        {
          "output_type": "stream",
          "name": "stdout",
          "text": [
            "['chocolate chip', 'peanut butter', 'Tirggel', 'strawberry', 'vanilla']\n"
          ]
        }
      ]
    },
    {
      "cell_type": "code",
      "source": [
        "sorted_cookies = sorted(cookies)\n",
        "print(sorted_cookies)"
      ],
      "metadata": {
        "colab": {
          "base_uri": "https://localhost:8080/"
        },
        "id": "YFVD21mD2CC5",
        "outputId": "a5b982f7-5d9b-4a96-84e9-96d1f1229d33"
      },
      "execution_count": null,
      "outputs": [
        {
          "output_type": "stream",
          "name": "stdout",
          "text": [
            "['Tirggel', 'chocolate chip', 'peanut butter', 'strawberry', 'vanilla']\n"
          ]
        }
      ]
    },
    {
      "cell_type": "markdown",
      "source": [
        "### Excercise 1: Manipulating lists for fun and profit"
      ],
      "metadata": {
        "id": "wFTr0rOd2qCx"
      }
    },
    {
      "cell_type": "markdown",
      "source": [
        "You may be familiar with adding individual data elements to a list by using the `.append()` method. However, if you want to combine a list with another array type (`list`, `set`, `tuple`), you can use the `.extend()` method on the list.\n",
        "\n",
        "You can also use the `.index()` method to find the position of an item in a list. You can then use that position to remove the item with the `.pop()` method.\n",
        "\n",
        "In this exercise, you'll practice using all these methods!"
      ],
      "metadata": {
        "id": "Iy5Ced7Y2saS"
      }
    },
    {
      "cell_type": "markdown",
      "source": [
        "**Instructions**\n",
        "* Create a list called `baby_names` with the names `'Ximena'`, `'Aliza'`, `'Ayden'`, and `'Calvin'`.\n",
        "* Use the `.extend()` method on `baby_names` to add `'Rowen'` and `'Sandeep'` and print the list.\n",
        "* Use the `.index()` method to find the position of `'Rowen'` in the list. Save the result as position.\n",
        "* Use the `.pop()` method with position to remove 'Rowen' from the list."
      ],
      "metadata": {
        "id": "vtEl4NEF27YA"
      }
    },
    {
      "cell_type": "code",
      "source": [
        "# Create a list containing the names: baby_names\n",
        "baby_names = ['Ximena', 'Aliza', 'Ayden', 'Calvin']\n",
        "\n",
        "# Extend baby_names with 'Rowen' and 'Sandeep'\n",
        "baby_names.extend(['Rowen', 'Sandeep'])\n",
        "\n",
        "# Find the position of 'Rowen': position\n",
        "position = baby_names.index('Rowen')\n",
        "\n",
        "# Remove 'Rowen' from baby_names\n",
        "baby_names.pop(position)\n",
        "\n",
        "# Print baby_names\n",
        "print(baby_names)"
      ],
      "metadata": {
        "colab": {
          "base_uri": "https://localhost:8080/"
        },
        "id": "OFzYy9OS3UF4",
        "outputId": "30513de4-317c-4f6c-cd2a-f46b2fbf5c8d"
      },
      "execution_count": null,
      "outputs": [
        {
          "output_type": "stream",
          "name": "stdout",
          "text": [
            "['Ximena', 'Aliza', 'Ayden', 'Calvin', 'Sandeep']\n"
          ]
        }
      ]
    },
    {
      "cell_type": "markdown",
      "source": [
        "### Excercise 2: Looping over lists"
      ],
      "metadata": {
        "id": "GDY8Ugo136jd"
      }
    },
    {
      "cell_type": "markdown",
      "source": [
        "Previously, you've used a `for` loop to iterate over a list, but you can also use a list comprehension. List comprehensions take the form of `[action for item in list]` and return a new list.\n",
        "\n",
        "We can use the `sorted()` function to sort the data in a list from lowest to highest in the case of numbers and alphabetical order if the list contains strings. The `sorted()` function returns a new list and does not affect the list you passed into the function. You can learn more about `sorted()` in the Python documentation.\n",
        "\n",
        "A list of lists, `records` has been pre-loaded, and each entry is a list of this form:\n",
        "\n",
        "`['2014','F','20799','Emma']`"
      ],
      "metadata": {
        "id": "566do4ed3-EQ"
      }
    },
    {
      "cell_type": "code",
      "source": [
        "records = [['2014', 'F', '20799', 'Emma'],\n",
        "            ['2014', 'F', '19674', 'Olivia'],\n",
        "            ['2014', 'F', '18490', 'Sophia'],\n",
        "            ['2014', 'F', '16950', 'Isabella'],\n",
        "            ['2014', 'F', '15586', 'Ava'],\n",
        "            ['2014', 'F', '13442', 'Mia'],\n",
        "            ['2014', 'F', '12562', 'Emily'],\n",
        "            ['2014', 'F', '11985', 'Abigail'],\n",
        "            ['2014', 'F', '10247', 'Madison'],\n",
        "            ['2014', 'F', '10048', 'Charlotte'],\n",
        "            ['2014', 'F', '9564', 'Harper'],\n",
        "            ['2014', 'F', '9542', 'Sofia'],\n",
        "            ['2014', 'F', '9517', 'Avery'],\n",
        "            ['2014', 'F', '9492', 'Elizabeth'],\n",
        "            ['2014', 'F', '8727', 'Amelia'],\n",
        "            ['2014', 'F', '8692', 'Evelyn'],\n",
        "            ['2014', 'F', '8489', 'Ella'],\n",
        "            ['2014', 'F', '8469', 'Chloe'],\n",
        "            ['2014', 'F', '7955', 'Victoria'],\n",
        "            ['2014', 'F', '7589', 'Aubrey'],\n",
        "            ['2014', 'F', '7554', 'Grace'],\n",
        "            ['2014', 'F', '7358', 'Zoey'],\n",
        "            ['2014', 'F', '7061', 'Natalie'],\n",
        "            ['2014', 'F', '6950', 'Addison'],\n",
        "            ['2014', 'F', '6869', 'Lillian'],\n",
        "            ['2014', 'F', '6767', 'Brooklyn']]"
      ],
      "metadata": {
        "id": "aAyyouD_4U7h"
      },
      "execution_count": null,
      "outputs": []
    },
    {
      "cell_type": "markdown",
      "source": [
        "**Instructions**\n",
        "* Use a list comprehension on `records` to create a list called `baby_names` that contains the name, found in the fourth element of `row`.\n",
        "* Print `baby_names` in alphabetical order using the `sorted()` function."
      ],
      "metadata": {
        "id": "S3wGYtkn4dLf"
      }
    },
    {
      "cell_type": "code",
      "source": [
        "# Create the list comprehension: baby_names\n",
        "baby_names = [row[3] for row in records]\n",
        "\n",
        "# Print the sorted baby names in ascending alphabetical order\n",
        "print(sorted(baby_names))"
      ],
      "metadata": {
        "colab": {
          "base_uri": "https://localhost:8080/"
        },
        "id": "0fp5z1m-4wRx",
        "outputId": "95916474-f847-46c2-ba8b-4b62cd4ff39b"
      },
      "execution_count": null,
      "outputs": [
        {
          "output_type": "stream",
          "name": "stdout",
          "text": [
            "['Abigail', 'Addison', 'Amelia', 'Aubrey', 'Ava', 'Avery', 'Brooklyn', 'Charlotte', 'Chloe', 'Elizabeth', 'Ella', 'Emily', 'Emma', 'Evelyn', 'Grace', 'Harper', 'Isabella', 'Lillian', 'Madison', 'Mia', 'Natalie', 'Olivia', 'Sofia', 'Sophia', 'Victoria', 'Zoey']\n"
          ]
        }
      ]
    },
    {
      "cell_type": "markdown",
      "source": [
        "## Lesson 2: Meet the tuples"
      ],
      "metadata": {
        "id": "3bNw1fQi6qqs"
      }
    },
    {
      "cell_type": "markdown",
      "source": [
        "### Tuple, tuple"
      ],
      "metadata": {
        "id": "vycG4W3Z7v2s"
      }
    },
    {
      "cell_type": "markdown",
      "source": [
        "* Hold data in order\n",
        "* Index\n",
        "* *Immutable*\n",
        "* Pairing\n",
        "* Unpackable"
      ],
      "metadata": {
        "id": "iJk9G8bB7xuL"
      }
    },
    {
      "cell_type": "markdown",
      "source": [
        "### Zipping tuples"
      ],
      "metadata": {
        "id": "GYBrARN17_8h"
      }
    },
    {
      "cell_type": "markdown",
      "source": [
        "* Tuples are commonly created by zipping lists together with\n",
        "`zip()`\n",
        "* Two lists: `us_cookies` , `in_cookies`"
      ],
      "metadata": {
        "id": "ks1x6rht8DSz"
      }
    },
    {
      "cell_type": "code",
      "source": [
        "us_cookies = ['chocolate chip', 'peanut butter', 'sugar']\n",
        "in_cookies = ['raisin', 'chocolate chip', 'snickerdoodle']\n",
        "top_pairs = list(zip(us_cookies, in_cookies))\n",
        "print(top_pairs)"
      ],
      "metadata": {
        "colab": {
          "base_uri": "https://localhost:8080/"
        },
        "id": "SYc4dk1f8Mb6",
        "outputId": "86be8f88-69d4-483b-99bd-cbcc0def046e"
      },
      "execution_count": null,
      "outputs": [
        {
          "output_type": "stream",
          "name": "stdout",
          "text": [
            "[('chocolate chip', 'raisin'), ('peanut butter', 'chocolate chip'), ('sugar', 'snickerdoodle')]\n"
          ]
        }
      ]
    },
    {
      "cell_type": "markdown",
      "source": [
        "### Unpacking tuples"
      ],
      "metadata": {
        "id": "S8ODqB3k8ba7"
      }
    },
    {
      "cell_type": "markdown",
      "source": [
        "* Unpacking tuples is a very expressive way for working with data"
      ],
      "metadata": {
        "id": "Gh1tknKR8cw6"
      }
    },
    {
      "cell_type": "code",
      "source": [
        "us_num_1, in_num_1 = top_pairs[0]\n",
        "print(us_num_1)"
      ],
      "metadata": {
        "colab": {
          "base_uri": "https://localhost:8080/"
        },
        "id": "oU4UgOsx8hqN",
        "outputId": "39690237-c1d5-4b4e-ba0a-6a9ae28ecfab"
      },
      "execution_count": null,
      "outputs": [
        {
          "output_type": "stream",
          "name": "stdout",
          "text": [
            "chocolate chip\n"
          ]
        }
      ]
    },
    {
      "cell_type": "code",
      "source": [
        "print(in_num_1)"
      ],
      "metadata": {
        "colab": {
          "base_uri": "https://localhost:8080/"
        },
        "id": "CWIL2xOw8mgJ",
        "outputId": "76dba54d-7cac-45a5-9b13-8a46acb38128"
      },
      "execution_count": null,
      "outputs": [
        {
          "output_type": "stream",
          "name": "stdout",
          "text": [
            "raisin\n"
          ]
        }
      ]
    },
    {
      "cell_type": "markdown",
      "source": [
        "### More unpacking in Loops"
      ],
      "metadata": {
        "id": "Kfqx34WG8qlj"
      }
    },
    {
      "cell_type": "markdown",
      "source": [
        "* Unpacking is especially powerful in loops"
      ],
      "metadata": {
        "id": "tAvA6T-E8tvr"
      }
    },
    {
      "cell_type": "code",
      "source": [
        "for us_cookie, in_cookie in top_pairs:\n",
        "  print(in_cookie)\n",
        "  print(us_cookie)"
      ],
      "metadata": {
        "colab": {
          "base_uri": "https://localhost:8080/"
        },
        "id": "rJ0-4zEv8u7J",
        "outputId": "345465ca-bc06-4152-d46f-ea40b3f9a80d"
      },
      "execution_count": null,
      "outputs": [
        {
          "output_type": "stream",
          "name": "stdout",
          "text": [
            "raisin\n",
            "chocolate chip\n",
            "chocolate chip\n",
            "peanut butter\n",
            "snickerdoodle\n",
            "sugar\n"
          ]
        }
      ]
    },
    {
      "cell_type": "markdown",
      "source": [
        "### Enumerating positions"
      ],
      "metadata": {
        "id": "_mIV7dXS6D3E"
      }
    },
    {
      "cell_type": "markdown",
      "source": [
        "* Another useful tuple creation method is the `enumerate()`\n",
        "function\n",
        "* Enumeration is used in loops to return the position and the data in that position while looping"
      ],
      "metadata": {
        "id": "Kx56eO5M6IdG"
      }
    },
    {
      "cell_type": "code",
      "source": [
        "for idx, item in enumerate(top_pairs):\n",
        "  us_cookie, in_cookie = item\n",
        "  print(idx, us_cookie, in_cookie)"
      ],
      "metadata": {
        "colab": {
          "base_uri": "https://localhost:8080/"
        },
        "id": "3nf4Qyty6Rtu",
        "outputId": "727bd7ae-01a5-4be5-efa2-ae6d6f6692bb"
      },
      "execution_count": null,
      "outputs": [
        {
          "output_type": "stream",
          "name": "stdout",
          "text": [
            "0 chocolate chip raisin\n",
            "1 peanut butter chocolate chip\n",
            "2 sugar snickerdoodle\n"
          ]
        }
      ]
    },
    {
      "cell_type": "markdown",
      "source": [
        "### Be careful when making tuples"
      ],
      "metadata": {
        "id": "4YTwylfk6hUa"
      }
    },
    {
      "cell_type": "markdown",
      "source": [
        "* Use `zip()` , `enumerate()` , or `()` to make tuples"
      ],
      "metadata": {
        "id": "jDrIVyot6kud"
      }
    },
    {
      "cell_type": "code",
      "source": [
        "item = ('vanilla', 'chocolate')\n",
        "print(item)"
      ],
      "metadata": {
        "colab": {
          "base_uri": "https://localhost:8080/"
        },
        "id": "gWGDwwY76r0V",
        "outputId": "b40bf260-9560-409d-ac30-66dffe8b9e55"
      },
      "execution_count": null,
      "outputs": [
        {
          "output_type": "stream",
          "name": "stdout",
          "text": [
            "('vanilla', 'chocolate')\n"
          ]
        }
      ]
    },
    {
      "cell_type": "markdown",
      "source": [
        "* Beware of tailing commas!"
      ],
      "metadata": {
        "id": "oZfHzj7b6xKG"
      }
    },
    {
      "cell_type": "code",
      "source": [
        "item2 = 'butter',\n",
        "print(item2)"
      ],
      "metadata": {
        "colab": {
          "base_uri": "https://localhost:8080/"
        },
        "id": "S0jDDuUX60L8",
        "outputId": "45d8e28f-1c2f-4c8d-8157-0add29f8a20b"
      },
      "execution_count": null,
      "outputs": [
        {
          "output_type": "stream",
          "name": "stdout",
          "text": [
            "('butter',)\n"
          ]
        }
      ]
    },
    {
      "cell_type": "markdown",
      "source": [
        "### Excercise 1: Using and unpacking tuples"
      ],
      "metadata": {
        "id": "33Tnypqd7Kkz"
      }
    },
    {
      "cell_type": "markdown",
      "source": [
        "If you have a tuple like `('chocolate chip cookies', 15)` and you want to access each part of the data, you can use an index just like a list. However, you can also \"unpack\" the tuple into multiple variables such as `type, count = ('chocolate chip cookies', 15)` that will set `type` to `'chocolate chip cookies'` and `count` to `15`.\n",
        "\n",
        "Often you'll want to pair up multiple array data types. The `zip()` function does just that. It will return a list of tuples containing one element from each list passed into `zip()`.\n",
        "\n",
        "When looping over a list, you can also track your position in the list by using the `enumerate()` function. The function returns the index of the list item you are currently on in the list and the list item itself. (We'll talk more about the last line of code in our next lesson)"
      ],
      "metadata": {
        "id": "aQOidEbn7Pn4"
      }
    },
    {
      "cell_type": "markdown",
      "source": [
        "**Instructions**\n",
        "* Use the `zip()` function to pair up `girl_names` and `boy_names` into a variable called pairs.\n",
        "* Use a `for` loop to loop through `pairs`, using `enumerate()` to keep track of your position. Unpack `pairs` into the variables `rank` and `pair`.\n",
        "* Unpack `pair` into the variables `girl_name` and `boy_name`.\n",
        "* Print the rank, girl name, and boy name, in that order. The rank is contained in `rank`."
      ],
      "metadata": {
        "id": "IYBGl5_T70BO"
      }
    },
    {
      "cell_type": "code",
      "source": [
        "girl_names = ['Jada',\n",
        "            'Emily',\n",
        "            'Ava',\n",
        "            'Serenity',\n",
        "            'Claire',\n",
        "            'Sophia',\n",
        "            'Sarah',\n",
        "            'Ashley',\n",
        "            'Chaya',\n",
        "            'Abigail',\n",
        "            'Zoe',\n",
        "            'Leah',\n",
        "            'Hailey',\n",
        "            'Ava',\n",
        "            'Olivia',\n",
        "            'Emma',\n",
        "            'Chloe',\n",
        "            'Sophia',\n",
        "            'Aaliyah',\n",
        "            'Angela',\n",
        "            'Camila',\n",
        "            'Savannah',\n",
        "            'Serenity',\n",
        "            'Chloe',\n",
        "            'Fatoumata']"
      ],
      "metadata": {
        "id": "xZoIWs6u8Z7F"
      },
      "execution_count": null,
      "outputs": []
    },
    {
      "cell_type": "code",
      "source": [
        "boy_names = ['Josiah',\n",
        "          'Ethan',\n",
        "          'David',\n",
        "          'Jayden',\n",
        "          'Mason',\n",
        "          'Ryan',\n",
        "          'Christian',\n",
        "          'Isaiah',\n",
        "          'Jayden',\n",
        "          'Michael',\n",
        "          'Noah',\n",
        "          'Samuel',\n",
        "          'Sebastian',\n",
        "          'Noah',\n",
        "          'Dylan',\n",
        "          'Lucas',\n",
        "          'Joshua',\n",
        "          'Angel',\n",
        "          'Jacob',\n",
        "          'Matthew',\n",
        "          'Josiah',\n",
        "          'Jacob',\n",
        "          'Muhammad',\n",
        "          'Alexander',\n",
        "          'Jason']"
      ],
      "metadata": {
        "id": "2yYkUd4Z8fOm"
      },
      "execution_count": null,
      "outputs": []
    },
    {
      "cell_type": "code",
      "source": [
        "# Pair up the girl and boy names: pairs\n",
        "pairs = zip(girl_names, boy_names)\n",
        "\n",
        "# Iterate over pairs\n",
        "for rank, pair in enumerate(pairs):\n",
        "    # Unpack pair: girl_name, boy_name\n",
        "    girl_name, boy_name = pair\n",
        "    # Print the rank and names associated with each rank\n",
        "    print(f'Rank {rank+1}: {girl_name} and {boy_name}')"
      ],
      "metadata": {
        "colab": {
          "base_uri": "https://localhost:8080/"
        },
        "id": "20pMSaDr9coH",
        "outputId": "294cd7a5-e1c2-4418-b190-3507607700e7"
      },
      "execution_count": null,
      "outputs": [
        {
          "output_type": "stream",
          "name": "stdout",
          "text": [
            "Rank 1: Jada and Josiah\n",
            "Rank 2: Emily and Ethan\n",
            "Rank 3: Ava and David\n",
            "Rank 4: Serenity and Jayden\n",
            "Rank 5: Claire and Mason\n",
            "Rank 6: Sophia and Ryan\n",
            "Rank 7: Sarah and Christian\n",
            "Rank 8: Ashley and Isaiah\n",
            "Rank 9: Chaya and Jayden\n",
            "Rank 10: Abigail and Michael\n",
            "Rank 11: Zoe and Noah\n",
            "Rank 12: Leah and Samuel\n",
            "Rank 13: Hailey and Sebastian\n",
            "Rank 14: Ava and Noah\n",
            "Rank 15: Olivia and Dylan\n",
            "Rank 16: Emma and Lucas\n",
            "Rank 17: Chloe and Joshua\n",
            "Rank 18: Sophia and Angel\n",
            "Rank 19: Aaliyah and Jacob\n",
            "Rank 20: Angela and Matthew\n",
            "Rank 21: Camila and Josiah\n",
            "Rank 22: Savannah and Jacob\n",
            "Rank 23: Serenity and Muhammad\n",
            "Rank 24: Chloe and Alexander\n",
            "Rank 25: Fatoumata and Jason\n"
          ]
        }
      ]
    },
    {
      "cell_type": "markdown",
      "source": [
        "### Exercise 2: Making tuples by accident"
      ],
      "metadata": {
        "id": "PR6KMC0z9p28"
      }
    },
    {
      "cell_type": "markdown",
      "source": [
        "Tuples are very powerful and useful, and it's super easy to make one by accident. All you have to do is create a variable and follow the assignment with a comma. This becomes an error when you try to use the variable later expecting it to be a string or a number.\n",
        "\n",
        "You can verify the data type of a variable with the `type()` function. In this exercise, you'll see for yourself how easy it is to make a tuple by accident."
      ],
      "metadata": {
        "id": "6z9oU5z49syA"
      }
    },
    {
      "cell_type": "markdown",
      "source": [
        "**Instructions**\n",
        "* Create a variable named `normal` and set it equal to `'simple'`.\n",
        "* Create a variable named `error` and set it equal to `'trailing comma',`.\n",
        "* Print the type of the `normal` and `error` variables."
      ],
      "metadata": {
        "id": "ACRTwErk9zH4"
      }
    },
    {
      "cell_type": "code",
      "source": [
        "# Create the normal variable: normal\n",
        "normal = 'simple'\n",
        "\n",
        "# Create the mistaken variable: error\n",
        "error = 'trailing comma',\n",
        "\n",
        "# Print the types of the variables\n",
        "print(type(normal))\n",
        "print(type(error))"
      ],
      "metadata": {
        "colab": {
          "base_uri": "https://localhost:8080/"
        },
        "id": "VIPq4ihD-A8T",
        "outputId": "156aee40-9f69-4611-b4f5-b4fe0fbb1bef"
      },
      "execution_count": null,
      "outputs": [
        {
          "output_type": "stream",
          "name": "stdout",
          "text": [
            "<class 'str'>\n",
            "<class 'tuple'>\n"
          ]
        }
      ]
    },
    {
      "cell_type": "markdown",
      "source": [
        "## Lesson 3: Strings"
      ],
      "metadata": {
        "id": "ZFlJ1txM9G3D"
      }
    },
    {
      "cell_type": "markdown",
      "source": [
        "### Creating formatted strings"
      ],
      "metadata": {
        "id": "atX2L6kt9OLD"
      }
    },
    {
      "cell_type": "markdown",
      "source": [
        "* f-strings (formatted string literals) - `f\"\"`"
      ],
      "metadata": {
        "id": "JaP6yK0E9bq0"
      }
    },
    {
      "cell_type": "code",
      "source": [
        "cookie_name = \"Anzac\"\n",
        "cookie_price = \"$1.99\"\n",
        "print(f\"Each { cookie_name } cookie costs { cookie_price }.\")"
      ],
      "metadata": {
        "colab": {
          "base_uri": "https://localhost:8080/"
        },
        "id": "O8XgZwLV9iWb",
        "outputId": "0afa7441-0b8b-4912-e675-f1be3cc4d709"
      },
      "execution_count": null,
      "outputs": [
        {
          "output_type": "stream",
          "name": "stdout",
          "text": [
            "Each Anzac cookie costs $1.99.\n"
          ]
        }
      ]
    },
    {
      "cell_type": "markdown",
      "source": [
        "### Joining with strings"
      ],
      "metadata": {
        "id": "egx7oHES91p6"
      }
    },
    {
      "cell_type": "markdown",
      "source": [
        "* `\"\".join()` uses the string it's called on to join an iterable"
      ],
      "metadata": {
        "id": "uW2Em34493Ai"
      }
    },
    {
      "cell_type": "code",
      "source": [
        "child_ages = [\"3\", \"4\", \"7\", \"8\"]\n",
        "print(\", \".join(child_ages))"
      ],
      "metadata": {
        "colab": {
          "base_uri": "https://localhost:8080/"
        },
        "id": "2HBuV7ZK-AIE",
        "outputId": "cd4ee5eb-6cb8-472a-df7b-560d26a03c11"
      },
      "execution_count": null,
      "outputs": [
        {
          "output_type": "stream",
          "name": "stdout",
          "text": [
            "3, 4, 7, 8\n"
          ]
        }
      ]
    },
    {
      "cell_type": "code",
      "source": [
        "print(f\"The children are ages {','.join(child_ages[0:3])}, and {child_ages[-1]}.\")"
      ],
      "metadata": {
        "colab": {
          "base_uri": "https://localhost:8080/"
        },
        "id": "yCY5QDSd-MQa",
        "outputId": "c36e99d5-bd6d-4a55-d1ad-e0c30c12356f"
      },
      "execution_count": null,
      "outputs": [
        {
          "output_type": "stream",
          "name": "stdout",
          "text": [
            "The children are ages 3,4,7, and 8.\n"
          ]
        }
      ]
    },
    {
      "cell_type": "markdown",
      "source": [
        "### Matching parts of a string"
      ],
      "metadata": {
        "id": "rV1bLsCk-U9t"
      }
    },
    {
      "cell_type": "markdown",
      "source": [
        "* `.startswith()` and `.endswith()` methods will tell you if a\n",
        "string starts or ends with another character or string"
      ],
      "metadata": {
        "id": "4v5UjkeA-ZPY"
      }
    },
    {
      "cell_type": "code",
      "source": [
        "boy_names = [\"Mohamed\", \"Youssef\", \"Ahmed\"]\n",
        "print([name for name in boy_names if name.startswith('A')])"
      ],
      "metadata": {
        "colab": {
          "base_uri": "https://localhost:8080/"
        },
        "id": "Ck-jsgA8-gMT",
        "outputId": "8d996bed-639e-47f3-83a2-85f134267807"
      },
      "execution_count": null,
      "outputs": [
        {
          "output_type": "stream",
          "name": "stdout",
          "text": [
            "['Ahmed']\n"
          ]
        }
      ]
    },
    {
      "cell_type": "markdown",
      "source": [
        "* Be careful as these and most string functions are casesensitive."
      ],
      "metadata": {
        "id": "9RW-5FqQ-sFa"
      }
    },
    {
      "cell_type": "markdown",
      "source": [
        "### Searching for things in strings"
      ],
      "metadata": {
        "id": "0R2wVC9w_zrp"
      }
    },
    {
      "cell_type": "markdown",
      "source": [
        "* The `in` operator searches for some value in some iterable\n",
        "type like a string."
      ],
      "metadata": {
        "id": "cBfLGOla_2ya"
      }
    },
    {
      "cell_type": "code",
      "source": [
        "\"long\" in \"Life is a long lesson in humility.\""
      ],
      "metadata": {
        "colab": {
          "base_uri": "https://localhost:8080/"
        },
        "id": "B4lr5h56_8Kq",
        "outputId": "1288a7a6-d582-4089-c416-9603c78b9723"
      },
      "execution_count": null,
      "outputs": [
        {
          "output_type": "execute_result",
          "data": {
            "text/plain": [
              "True"
            ]
          },
          "metadata": {},
          "execution_count": 5
        }
      ]
    },
    {
      "cell_type": "code",
      "source": [
        "\"life\" in \"Life is a long lesson in humility.\""
      ],
      "metadata": {
        "colab": {
          "base_uri": "https://localhost:8080/"
        },
        "id": "kPlIrIpy__zj",
        "outputId": "f1eccabb-3c34-4ce5-aec4-70698e10c683"
      },
      "execution_count": null,
      "outputs": [
        {
          "output_type": "execute_result",
          "data": {
            "text/plain": [
              "False"
            ]
          },
          "metadata": {},
          "execution_count": 6
        }
      ]
    },
    {
      "cell_type": "markdown",
      "source": [
        "### An approach to being case insensitive"
      ],
      "metadata": {
        "id": "UfG8JJXZAC36"
      }
    },
    {
      "cell_type": "markdown",
      "source": [
        "* `.lower()` method returns a lower case string"
      ],
      "metadata": {
        "id": "VnhTc7KaAGpr"
      }
    },
    {
      "cell_type": "code",
      "source": [
        "\"life\" in \"Life is a long lesson in humility.\".lower()"
      ],
      "metadata": {
        "colab": {
          "base_uri": "https://localhost:8080/"
        },
        "id": "AofTNFW_ALci",
        "outputId": "ab06fcd4-013e-4a04-b277-d96519444045"
      },
      "execution_count": null,
      "outputs": [
        {
          "output_type": "execute_result",
          "data": {
            "text/plain": [
              "True"
            ]
          },
          "metadata": {},
          "execution_count": 7
        }
      ]
    },
    {
      "cell_type": "markdown",
      "source": [
        "### Excercise 1: Formatted String Literals (\"f\" strings)"
      ],
      "metadata": {
        "id": "CKbdlNAlAhp7"
      }
    },
    {
      "cell_type": "markdown",
      "source": [
        "We've been using plain strings with `\"\"` or `''` in this class so far, but there are several types of strings and blend variables with them. the most recent addition of a string type to Python is the \"f-strings\", which is short for formatted string literals. \"F-strings\" make it easy to mix strings with variables and formatting to help get exactly the output you want and you make them by prefacing the quotes with the letter f like `f\"\"`. If you want to include a variable within a string you can use the `{}` around the variable in an f-string to insert the variable's value into the string itself. For example if we had a variable `count` with the number `12` stored it in, we could make an f-string like `f\"{count} cookies\"`, which would output the string `\"12 cookies\"` when printed. The list `top_ten_girl_names` contains tuples that correspond to the `top_ten_rank` and name for each position."
      ],
      "metadata": {
        "id": "_3Wm8umQAluj"
      }
    },
    {
      "cell_type": "markdown",
      "source": [
        "* Loop over the `top_ten_girl_names` list and use tuple unpacking to get the `top_ten_rank` and `name`.\n",
        "* Print out each rank and name like this `Rank #: 1 - Jada` where the number 1 is the rank and Jada is the name."
      ],
      "metadata": {
        "id": "NByAIv_JBM3j"
      }
    },
    {
      "cell_type": "code",
      "source": [
        "top_ten_girl_names = [(1, 'Jada'),\n",
        "                      (2, 'Emily'),\n",
        "                      (3, 'Ava'),\n",
        "                      (4, 'Serenity'),\n",
        "                      (5, 'Claire'),\n",
        "                      (6, 'Sophia'),\n",
        "                      (7, 'Sarah'),\n",
        "                      (8, 'Ashley'),\n",
        "                      (9, 'Chaya'),\n",
        "                      (10, 'Abigail')]"
      ],
      "metadata": {
        "id": "9deL8XHXBa5L"
      },
      "execution_count": null,
      "outputs": []
    },
    {
      "cell_type": "code",
      "source": [
        "# Loop over top_ten_girl_names and unpack each tuple into top_ten_rank and name\n",
        "for top_ten_rank, name in top_ten_girl_names:\n",
        "  \t# Print each name in the proper format\n",
        "    print(f\"Rank #: {top_ten_rank} - {name}\")"
      ],
      "metadata": {
        "colab": {
          "base_uri": "https://localhost:8080/"
        },
        "id": "iiUXRA_ICIKY",
        "outputId": "fb7c70ea-6f4b-4d1f-ffd7-ee8138a18d7b"
      },
      "execution_count": null,
      "outputs": [
        {
          "output_type": "stream",
          "name": "stdout",
          "text": [
            "Rank #: 1 - Jada\n",
            "Rank #: 2 - Emily\n",
            "Rank #: 3 - Ava\n",
            "Rank #: 4 - Serenity\n",
            "Rank #: 5 - Claire\n",
            "Rank #: 6 - Sophia\n",
            "Rank #: 7 - Sarah\n",
            "Rank #: 8 - Ashley\n",
            "Rank #: 9 - Chaya\n",
            "Rank #: 10 - Abigail\n"
          ]
        }
      ]
    },
    {
      "cell_type": "markdown",
      "source": [
        "### Excercise 2: Combining multiple strings"
      ],
      "metadata": {
        "id": "W2RdeA0TDEX3"
      }
    },
    {
      "cell_type": "markdown",
      "source": [
        "F strings work great for a few variables, but what if you want to combine a whole list of variables into a string. You can use the `\"\".join()` method for just that. You put what you want to join the list items with inside the `\"\"` and then pass the list into the `join()` method. For example, if you want to join all the items in a list named cookies with a comma and space it would look like `\", \".join(cookies)`.\n",
        "\n",
        "In this exercise, you'll use these skills to convert a list of the top ten boy names into a sentence stored in a string."
      ],
      "metadata": {
        "id": "T0GxiVDTDHTP"
      }
    },
    {
      "cell_type": "markdown",
      "source": [
        "**Instructions**\n",
        "* Make a string that contains: `The top ten boy names are:` and store it as `preamble`.\n",
        "* Make a string that contains: `, and` and store it as conjunction.\n",
        "* Make a string that combines the first 9 names in `boy_names` list with a comma and store it as `first_nine_names`.\n",
        "* Make an f-string that contains preamble, `first_nine_names`, `conjunction`, the final item in `boy_names` and a period."
      ],
      "metadata": {
        "id": "EVKd_GC7DcOT"
      }
    },
    {
      "cell_type": "code",
      "source": [
        "boy_names = ['Josiah',\n",
        "            'Ethan',\n",
        "            'David',\n",
        "            'Jayden',\n",
        "            'Mason',\n",
        "            'Ryan',\n",
        "            'Christian',\n",
        "            'Isaiah',\n",
        "            'Jayden',\n",
        "            'Michael']"
      ],
      "metadata": {
        "id": "C-aLyw9_EPpi"
      },
      "execution_count": null,
      "outputs": []
    },
    {
      "cell_type": "code",
      "source": [
        "# The top ten boy names are:  as preamble\n",
        "preamble = \"The top ten boy names are: \"\n",
        "\n",
        "# , and as conjunction\n",
        "conjunction = \", and\"\n",
        "\n",
        "# Combines the first 9 names in boy_names with a comma and space as first_nine_names\n",
        "first_nine_names = \", \".join(boy_names[0:9])\n",
        "\n",
        "# Print f-string preamble, first_nine_names, conjunction, the final item in boy_names and a period\n",
        "print(f\"{preamble}{first_nine_names}{conjunction} {boy_names[-1]}.\")"
      ],
      "metadata": {
        "colab": {
          "base_uri": "https://localhost:8080/"
        },
        "id": "EyKn7vuoFITS",
        "outputId": "df1e47d3-8bb6-4079-a5ba-54fcd5948cfb"
      },
      "execution_count": null,
      "outputs": [
        {
          "output_type": "stream",
          "name": "stdout",
          "text": [
            "The top ten boy names are: Josiah, Ethan, David, Jayden, Mason, Ryan, Christian, Isaiah, Jayden, and Michael.\n"
          ]
        }
      ]
    },
    {
      "cell_type": "markdown",
      "source": [
        "### Excercise 3: Finding strings in other strings"
      ],
      "metadata": {
        "id": "cVrKFRiNFrpf"
      }
    },
    {
      "cell_type": "markdown",
      "source": [
        "Many times when we are working with strings, we care about which characters are in the string. For example, we may want to know how many cookies in a list of cookies have the word `Chocolate` in them, or how many start with the letter `C`. We can perform these checks by using the in keyword and the `.startswith()` method on a string. We can also use conditionals on a list comprehension in the form of `[action for item in list if something is true]`. Using our cookies examples, it would be something like` [cookie_name for cookie_name in cookies if 'chocolate' in cookie_name.lower()]`. Note these checks are case sensitive so we're using the `.lower()` method on the string. We can also \"chain\" methods together by calling them one after the other."
      ],
      "metadata": {
        "id": "eupTDIqTFuFq"
      }
    },
    {
      "cell_type": "markdown",
      "source": [
        "**Instructions**\n",
        "* Store and print a list of `girl_names` that start with `s`.\n",
        "* Store and print a list of `girl_names` with `angel` in them."
      ],
      "metadata": {
        "id": "GoNN8_kvGRbS"
      }
    },
    {
      "cell_type": "code",
      "source": [
        "girl_names = ['Jada',\n",
        "            'Emily',\n",
        "            'Ava',\n",
        "            'Serenity',\n",
        "            'Claire',\n",
        "            'Sophia',\n",
        "            'Sarah',\n",
        "            'Ashley',\n",
        "            'Chaya',\n",
        "            'Abigail',\n",
        "            'Zoe',\n",
        "            'Leah',\n",
        "            'Hailey',\n",
        "            'Ava',\n",
        "            'Olivia',\n",
        "            'Emma',\n",
        "            'Chloe',\n",
        "            'Sophia',\n",
        "            'Aaliyah',\n",
        "            'Angela',\n",
        "            'Camila',\n",
        "            'Savannah',\n",
        "            'Serenity',\n",
        "            'Fatoumata']"
      ],
      "metadata": {
        "id": "2IJub88bG5cv"
      },
      "execution_count": null,
      "outputs": []
    },
    {
      "cell_type": "code",
      "source": [
        "# Store a list of girl_names that start with s: names_with_s\n",
        "names_with_s = [name for name in girl_names if name.lower().startswith('s')]\n",
        "\n",
        "print(names_with_s)\n",
        "\n",
        "# Store a list of girl_names that contain angel: names_with_angel\n",
        "names_with_angel = [name for name in girl_names if 'angel' in name.lower()]\n",
        "\n",
        "print(names_with_angel)"
      ],
      "metadata": {
        "colab": {
          "base_uri": "https://localhost:8080/"
        },
        "id": "HiMVgx9cG2wo",
        "outputId": "7e7faa5c-8554-4beb-8e07-d4806c545faf"
      },
      "execution_count": null,
      "outputs": [
        {
          "output_type": "stream",
          "name": "stdout",
          "text": [
            "['Serenity', 'Sophia', 'Sarah', 'Sophia', 'Savannah', 'Serenity']\n",
            "['Angela']\n"
          ]
        }
      ]
    },
    {
      "cell_type": "markdown",
      "source": [
        "# CHAPTER 2: Dictionaries - The Root of Python"
      ],
      "metadata": {
        "id": "RgLTMfyjlqwy"
      }
    },
    {
      "cell_type": "markdown",
      "source": [
        "At the root of all things Python is a dictionary. Herein, you'll learn how to use them to safely handle data that can viewed in a variety of ways to answer even more questions about the New York Baby Names dataset. You'll explore how to loop through data in a dictionary, access nested data, add new data, and come to appreciate all of the wonderful capabilities of Python dictionaries."
      ],
      "metadata": {
        "id": "rFbn-V0IltMM"
      }
    },
    {
      "cell_type": "markdown",
      "source": [
        "## Lesson 1: Using dictionaries"
      ],
      "metadata": {
        "id": "_rCseQtAJoa9"
      }
    },
    {
      "cell_type": "markdown",
      "source": [
        "### Creating and looping through dictionaries"
      ],
      "metadata": {
        "id": "bn74EoEfJ0T2"
      }
    },
    {
      "cell_type": "markdown",
      "source": [
        "* Hold data in key/value pairs\n",
        "* Nestable (use a dictionary as the value of a key within a dictionary)\n",
        "* Iterable\n",
        "* Created by `dict()` or `{}`"
      ],
      "metadata": {
        "id": "j32HFQ82J3y2"
      }
    },
    {
      "cell_type": "code",
      "source": [
        "galleries = ( ('A', 1), ('B', 2), ('C', 3))"
      ],
      "metadata": {
        "id": "BhCAXrqCMj99"
      },
      "execution_count": null,
      "outputs": []
    },
    {
      "cell_type": "code",
      "source": [
        "art_galleries = {}\n",
        "for name, zip_code in galleries:\n",
        "  art_galleries[name] = zip_code"
      ],
      "metadata": {
        "id": "R7dcaQ5nKj13"
      },
      "execution_count": null,
      "outputs": []
    },
    {
      "cell_type": "markdown",
      "source": [
        "### Printing in the loop"
      ],
      "metadata": {
        "id": "-92HRN_wLi87"
      }
    },
    {
      "cell_type": "code",
      "source": [
        "for name in sorted(art_galleries)[-5:]:\n",
        "  print(name)"
      ],
      "metadata": {
        "colab": {
          "base_uri": "https://localhost:8080/"
        },
        "id": "NXPPf26wLsgY",
        "outputId": "00371dd1-cfd4-422f-f571-199c9b38b791"
      },
      "execution_count": null,
      "outputs": [
        {
          "output_type": "stream",
          "name": "stdout",
          "text": [
            "A\n",
            "B\n",
            "C\n"
          ]
        }
      ]
    },
    {
      "cell_type": "markdown",
      "source": [
        "### Safely finding by key"
      ],
      "metadata": {
        "id": "D_6J0JGYLzku"
      }
    },
    {
      "cell_type": "code",
      "source": [
        "art_galleries['Louvre']"
      ],
      "metadata": {
        "colab": {
          "base_uri": "https://localhost:8080/",
          "height": 141
        },
        "id": "jZlD71EZL1NH",
        "outputId": "f4667243-57ec-41ec-a837-073108c06e7f"
      },
      "execution_count": null,
      "outputs": [
        {
          "output_type": "error",
          "ename": "KeyError",
          "evalue": "'Louvre'",
          "traceback": [
            "\u001b[0;31m---------------------------------------------------------------------------\u001b[0m",
            "\u001b[0;31mKeyError\u001b[0m                                  Traceback (most recent call last)",
            "\u001b[0;32m<ipython-input-23-124888f6e125>\u001b[0m in \u001b[0;36m<cell line: 0>\u001b[0;34m()\u001b[0m\n\u001b[0;32m----> 1\u001b[0;31m \u001b[0mart_galleries\u001b[0m\u001b[0;34m[\u001b[0m\u001b[0;34m'Louvre'\u001b[0m\u001b[0;34m]\u001b[0m\u001b[0;34m\u001b[0m\u001b[0;34m\u001b[0m\u001b[0m\n\u001b[0m",
            "\u001b[0;31mKeyError\u001b[0m: 'Louvre'"
          ]
        }
      ]
    },
    {
      "cell_type": "markdown",
      "source": [
        "* Getting a value from a dictionary is done using the key as an index\n",
        "* If you ask for a key that does not exist that will stop your program from running in a KeyError\n",
        "* `.get()` method allows you to safely access a key without error or exception handling\n",
        "* If a key is not in the dictionary, `.get()` returns `None` by\n",
        "default or you can supply a value to return"
      ],
      "metadata": {
        "id": "Hz4stO2jL7su"
      }
    },
    {
      "cell_type": "code",
      "source": [
        "art_galleries.get('Louvre', 'Not Found')"
      ],
      "metadata": {
        "colab": {
          "base_uri": "https://localhost:8080/",
          "height": 36
        },
        "id": "TVnT9MAtMRJ1",
        "outputId": "f5ddc20d-6dce-4971-b18e-70a4d3551fad"
      },
      "execution_count": null,
      "outputs": [
        {
          "output_type": "execute_result",
          "data": {
            "text/plain": [
              "'Not Found'"
            ],
            "application/vnd.google.colaboratory.intrinsic+json": {
              "type": "string"
            }
          },
          "metadata": {},
          "execution_count": 24
        }
      ]
    },
    {
      "cell_type": "code",
      "source": [
        "art_galleries.get('Zarre Andre Gallery')"
      ],
      "metadata": {
        "id": "cr273JUfMR7X"
      },
      "execution_count": null,
      "outputs": []
    },
    {
      "cell_type": "markdown",
      "source": [
        "### Excercise 1: Creating and looping through dictionaries"
      ],
      "metadata": {
        "id": "fryxjQ0ENcN4"
      }
    },
    {
      "cell_type": "markdown",
      "source": [
        "You'll often encounter the need to loop over some array type data, like in Chapter 1, and provide it some structure so you can find the data you desire quickly.\n",
        "\n",
        "You start that by creating an empty dictionary and assigning part of your array data as the key and the rest as the value.\n",
        "\n",
        "Previously, you used `sorted()` to organize your data in a list. Dictionaries can also be sorted. By default, using `sorted()` on a dictionary will sort by the keys of the dictionary.\n",
        "\n",
        "The goal of this exercise is to get familiar with building dictionaries via looping over some data source, and then looping over the dictionary to use that data."
      ],
      "metadata": {
        "id": "CTZk7kzbNjwy"
      }
    },
    {
      "cell_type": "markdown",
      "source": [
        "**Instructions**\n",
        "* Create an empty dictionary called `squirrels_by_park`.\n",
        "* Loop over `squirrels`, unpacking it into the variables `park` and `squirrel_details`.\n",
        "* Inside the loop, add each `squirrel_details` to the `squirrels_by_park` dictionary using the `park` as the key.\n",
        "* Sort the `squirrel_details` dictionary keys in ascending order, print each park and its value using an F string.."
      ],
      "metadata": {
        "id": "l84tIe5xN0y3"
      }
    },
    {
      "cell_type": "code",
      "source": [
        "squirrels = [('Marcus Garvey Park', ('Black', 'Cinnamon', 'Cleaning', None)),\n",
        "              ('Highbridge Park',   ('Gray',  'Cinnamon', 'Running, Eating',\n",
        "                                      'Runs From, watches us in short tree')),\n",
        "              ('Madison Square Park', ('Gray', None, 'Foraging', 'Indifferent')),\n",
        "              ('City Hall Park', ('Gray', 'Cinnamon', 'Eating', 'Approaches')),\n",
        "              ('J. Hood Wright Park', ('Gray', 'White', 'Running', 'Indifferent')),\n",
        "              ('Seward Park', ('Gray', 'Cinnamon', 'Eating', 'Indifferent')),\n",
        "              ('Union Square Park', ('Gray', 'Black', 'Climbing', None)),\n",
        "              ('Tompkins Square Park', ('Gray', 'Gray', 'Lounging', 'Approaches'))]"
      ],
      "metadata": {
        "id": "H3VT975aOVPc"
      },
      "execution_count": null,
      "outputs": []
    },
    {
      "cell_type": "code",
      "source": [
        "# Create an empty dictionary: squirrels_by_park\n",
        "squirrels_by_park = {}\n",
        "\n",
        "# Loop over the squirrels list and unpack each tuple\n",
        "for park, squirrel_details in squirrels:\n",
        "    # Add each squirrel_details to the squirrels_by_park dictionary\n",
        "    squirrels_by_park[park] = squirrel_details\n",
        "\n",
        "# Sort the squirrels_by_park dict alphabetically by park\n",
        "for park in sorted(squirrels_by_park):\n",
        "    # Print each park and its value in squirrels_by_park\n",
        "    print(f'{park}: {squirrels_by_park[park]}')"
      ],
      "metadata": {
        "colab": {
          "base_uri": "https://localhost:8080/"
        },
        "id": "3sCpLrABP76k",
        "outputId": "135cb31b-c314-45a8-e9a5-27762c1660e1"
      },
      "execution_count": null,
      "outputs": [
        {
          "output_type": "stream",
          "name": "stdout",
          "text": [
            "City Hall Park: ('Gray', 'Cinnamon', 'Eating', 'Approaches')\n",
            "Highbridge Park: ('Gray', 'Cinnamon', 'Running, Eating', 'Runs From, watches us in short tree')\n",
            "J. Hood Wright Park: ('Gray', 'White', 'Running', 'Indifferent')\n",
            "Madison Square Park: ('Gray', None, 'Foraging', 'Indifferent')\n",
            "Marcus Garvey Park: ('Black', 'Cinnamon', 'Cleaning', None)\n",
            "Seward Park: ('Gray', 'Cinnamon', 'Eating', 'Indifferent')\n",
            "Tompkins Square Park: ('Gray', 'Gray', 'Lounging', 'Approaches')\n",
            "Union Square Park: ('Gray', 'Black', 'Climbing', None)\n"
          ]
        }
      ]
    },
    {
      "cell_type": "markdown",
      "source": [
        "### Excercise: Safely finding by key"
      ],
      "metadata": {
        "id": "jbHeDPgHQlHV"
      }
    },
    {
      "cell_type": "markdown",
      "source": [
        "As demonstrated in the video, if you attempt to access a key that isn't present in a dictionary, you'll get a `KeyError`. One option to handle this type of error is to use a `try: except:` block. You can learn more about error handling in Python Data Science Toolbox (Part 1).\n",
        "\n",
        "Python provides a faster, more versatile tool to help with this problem in the form of the `.get()` method. The `.get()` method allows you to supply the name of a key, and optionally, what you'd like to have returned if the key is not found.\n",
        "\n",
        "You'll be using same `squirrels_by_park` dictionary, which is keyed by the park name and the value is a tuple with the main color, highlights, action, and reaction to humans, and will gain practice using the `.get()` method."
      ],
      "metadata": {
        "id": "hTp1LVfLQsQk"
      }
    },
    {
      "cell_type": "markdown",
      "source": [
        "**Instructions**\n",
        "* Safely print `'Union Square Park'` from the `squirrels_by_park` dictionary .\n",
        "* Safely print the type of `'Fort Tryon Park'` from the `squirrels_by_park` dictionary.\n",
        "* Safely print `'Central Park'` from the `squirrels_by_park` dictionary or `'Not Found'`."
      ],
      "metadata": {
        "id": "80Wqi3FxRTB0"
      }
    },
    {
      "cell_type": "code",
      "source": [
        "# Safely print 'Union Square Park' from the squirrels_by_park dictionary\n",
        "print(squirrels_by_park.get('Union Square Park'))\n",
        "\n",
        "# Safely print the type of 'Fort Tryon Park' from the squirrels_by_park dictionary\n",
        "print(type(squirrels_by_park.get('Fort Tryon Park')))\n",
        "\n",
        "# Safely print 'Central Park' from the squirrels_by_park dictionary or 'Not Found'\n",
        "print(squirrels_by_park.get('Central Park', 'Not Found'))"
      ],
      "metadata": {
        "colab": {
          "base_uri": "https://localhost:8080/"
        },
        "id": "PlA0KIW-R3ts",
        "outputId": "4e914f2f-a466-421c-c854-d53fdc9d27c5"
      },
      "execution_count": null,
      "outputs": [
        {
          "output_type": "stream",
          "name": "stdout",
          "text": [
            "('Gray', 'Black', 'Climbing', None)\n",
            "<class 'NoneType'>\n",
            "Not Found\n"
          ]
        }
      ]
    },
    {
      "cell_type": "markdown",
      "source": [
        "## Lesson 2: Altering dictionaries"
      ],
      "metadata": {
        "id": "lyTdn4kMT9Tk"
      }
    },
    {
      "cell_type": "markdown",
      "source": [
        "### Adding and extending dictionaries"
      ],
      "metadata": {
        "id": "g9dE3eY8UL_8"
      }
    },
    {
      "cell_type": "markdown",
      "source": [
        "* Assignment to add a new key/value to a dictionary\n",
        "* `.update()` method to update a dictionary from another dictionary, tuples or keywords"
      ],
      "metadata": {
        "id": "vmH1P71jUXkC"
      }
    },
    {
      "cell_type": "code",
      "source": [
        "galleries_10007 = {'Nyabinghi Africian Gift Shop': '(212) 566-3336'}\n",
        "print(galleries_10007)"
      ],
      "metadata": {
        "colab": {
          "base_uri": "https://localhost:8080/"
        },
        "id": "IdJjFOTYUnUq",
        "outputId": "ba15b5b1-77ba-493d-ac94-68de152c84bc"
      },
      "execution_count": null,
      "outputs": [
        {
          "output_type": "stream",
          "name": "stdout",
          "text": [
            "{'Nyabinghi Africian Gift Shop': '(212) 566-3336'}\n"
          ]
        }
      ]
    },
    {
      "cell_type": "code",
      "source": [
        "art_galleries['10007'] = galleries_10007"
      ],
      "metadata": {
        "id": "NKrwFJ05Uuwy"
      },
      "execution_count": null,
      "outputs": []
    },
    {
      "cell_type": "markdown",
      "source": [
        "### Updating a dictionary"
      ],
      "metadata": {
        "id": "t50EHr6JVFpl"
      }
    },
    {
      "cell_type": "code",
      "source": [
        "galleries_11234 = [\n",
        "('A J ARTS LTD', '(718) 763-5473'),\n",
        "('Doug Meyer Fine Art', '(718) 375-8006'),\n",
        "('Portrait Gallery', '(718) 377-8762')]\n",
        "art_galleries['10007'].update(galleries_11234)\n",
        "print(art_galleries['10007'])"
      ],
      "metadata": {
        "colab": {
          "base_uri": "https://localhost:8080/"
        },
        "id": "CsoD6W3zVHX9",
        "outputId": "2a048910-624e-4e19-d4e0-00e8947bff03"
      },
      "execution_count": null,
      "outputs": [
        {
          "output_type": "stream",
          "name": "stdout",
          "text": [
            "{'Nyabinghi Africian Gift Shop': '(212) 566-3336', 'A J ARTS LTD': '(718) 763-5473', 'Doug Meyer Fine Art': '(718) 375-8006', 'Portrait Gallery': '(718) 377-8762'}\n"
          ]
        }
      ]
    },
    {
      "cell_type": "code",
      "source": [
        "art_galleries"
      ],
      "metadata": {
        "colab": {
          "base_uri": "https://localhost:8080/"
        },
        "id": "xvLpPLRCVSis",
        "outputId": "4056d350-df4b-409f-a8fa-b22b011c3dde"
      },
      "execution_count": null,
      "outputs": [
        {
          "output_type": "execute_result",
          "data": {
            "text/plain": [
              "{'A': 1,\n",
              " 'B': 2,\n",
              " 'C': 3,\n",
              " '10007': {'Nyabinghi Africian Gift Shop': '(212) 566-3336'}}"
            ]
          },
          "metadata": {},
          "execution_count": 32
        }
      ]
    },
    {
      "cell_type": "markdown",
      "source": [
        "### Popping and deleting from dictionaries"
      ],
      "metadata": {
        "id": "rsEmeKwEue-r"
      }
    },
    {
      "cell_type": "markdown",
      "source": [
        "* `del` instruction deletes a key/value\n",
        "* `.pop()` method safely removes a key/value from a\n",
        "dictionary."
      ],
      "metadata": {
        "id": "TIz4zURkukoZ"
      }
    },
    {
      "cell_type": "code",
      "source": [
        "del art_galleries['11234']\n",
        "galleries_10310 = art_galleries.pop('10310')\n",
        "print(galleries_10310)"
      ],
      "metadata": {
        "colab": {
          "base_uri": "https://localhost:8080/",
          "height": 176
        },
        "id": "KUyLVoBwuzgZ",
        "outputId": "8ca799c9-3a48-40a9-f9c5-d35e155c4cb1"
      },
      "execution_count": null,
      "outputs": [
        {
          "output_type": "error",
          "ename": "NameError",
          "evalue": "name 'art_galleries' is not defined",
          "traceback": [
            "\u001b[0;31m---------------------------------------------------------------------------\u001b[0m",
            "\u001b[0;31mNameError\u001b[0m                                 Traceback (most recent call last)",
            "\u001b[0;32m<ipython-input-1-4ba86604da01>\u001b[0m in \u001b[0;36m<cell line: 0>\u001b[0;34m()\u001b[0m\n\u001b[0;32m----> 1\u001b[0;31m \u001b[0;32mdel\u001b[0m \u001b[0mart_galleries\u001b[0m\u001b[0;34m[\u001b[0m\u001b[0;34m'11234'\u001b[0m\u001b[0;34m]\u001b[0m\u001b[0;34m\u001b[0m\u001b[0;34m\u001b[0m\u001b[0m\n\u001b[0m\u001b[1;32m      2\u001b[0m \u001b[0mgalleries_10310\u001b[0m \u001b[0;34m=\u001b[0m \u001b[0mart_galleries\u001b[0m\u001b[0;34m.\u001b[0m\u001b[0mpop\u001b[0m\u001b[0;34m(\u001b[0m\u001b[0;34m'10310'\u001b[0m\u001b[0;34m)\u001b[0m\u001b[0;34m\u001b[0m\u001b[0;34m\u001b[0m\u001b[0m\n\u001b[1;32m      3\u001b[0m \u001b[0mprint\u001b[0m\u001b[0;34m(\u001b[0m\u001b[0mgalleries_10310\u001b[0m\u001b[0;34m)\u001b[0m\u001b[0;34m\u001b[0m\u001b[0;34m\u001b[0m\u001b[0m\n",
            "\u001b[0;31mNameError\u001b[0m: name 'art_galleries' is not defined"
          ]
        }
      ]
    },
    {
      "cell_type": "markdown",
      "source": [
        "### Excercise 1: Adding and extending dictionaries"
      ],
      "metadata": {
        "id": "CVKObHAMvN7g"
      }
    },
    {
      "cell_type": "markdown",
      "source": [
        "If you have a dictionary and you want to add data to it, you can simply create a new key and assign the data you desire to it. It's important to remember that if it's a nested dictionary, then all the keys in the data path must exist, and each key in the path must be assigned individually.\n",
        "\n",
        "You can also use the `.update()` method to update a dictionary with a list of keys and values from another dictionary, tuples or keyword arguments.\n",
        "\n",
        "The `squirrels_by_park` dictionary is already loaded for you, which is keyed by the park name and the value is a tuple with the main color, highlights, action, and reaction to humans."
      ],
      "metadata": {
        "id": "es5xqMOSvU_x"
      }
    },
    {
      "cell_type": "code",
      "source": [
        "squirrels_by_park = {'Union Square Park': []}\n",
        "squirrels_madison = [{'primary_fur_color': 'Gray',\n",
        "                      'highlights_in_fur_color': None,\n",
        "                      'activities': 'Sitting',\n",
        "                      'interactions_with_humans': 'Indifferent'},\n",
        "                    {'primary_fur_color': 'Gray',\n",
        "                      'highlights_in_fur_color': 'Cinnamon',\n",
        "                      'activities': 'Foraging',\n",
        "                      'interactions_with_humans': 'Indifferent'},\n",
        "                    {'primary_fur_color': 'Gray',\n",
        "                      'highlights_in_fur_color': None,\n",
        "                      'activities': 'Climbing, Foraging',\n",
        "                      'interactions_with_humans': 'Indifferent'}]\n",
        "squirrels_union = ('Union Square Park',\n",
        "                    [{'primary_fur_color': 'Gray',\n",
        "                      'highlights_in_fur_color': None,\n",
        "                      'activities': 'Eating, Foraging',\n",
        "                      'interactions_with_humans': None},\n",
        "                      {'primary_fur_color': 'Gray',\n",
        "                      'highlights_in_fur_color': 'Cinnamon',\n",
        "                      'activities': 'Climbing, Eating',\n",
        "                      'interactions_with_humans': None},\n",
        "                      {'primary_fur_color': 'Cinnamon',\n",
        "                      'highlights_in_fur_color': None,\n",
        "                      'activities': 'Foraging',\n",
        "                      'interactions_with_humans': 'Indifferent'},\n",
        "                      {'primary_fur_color': 'Gray',\n",
        "                      'highlights_in_fur_color': None,\n",
        "                      'activities': 'Running, Digging',\n",
        "                      'interactions_with_humans': 'Runs From'},\n",
        "                      {'primary_fur_color': 'Gray',\n",
        "                      'highlights_in_fur_color': None,\n",
        "                      'activities': 'Digging',\n",
        "                      'interactions_with_humans': 'Indifferent'},\n",
        "                      {'primary_fur_color': 'Gray',\n",
        "                      'highlights_in_fur_color': 'Black',\n",
        "                      'activities': 'Climbing',\n",
        "                      'interactions_with_humans': None},\n",
        "                      {'primary_fur_color': 'Gray',\n",
        "                      'highlights_in_fur_color': None,\n",
        "                      'activities': 'Eating, Foraging',\n",
        "                      'interactions_with_humans': None}])"
      ],
      "metadata": {
        "id": "w9WE4YQXvhLD"
      },
      "execution_count": null,
      "outputs": []
    },
    {
      "cell_type": "markdown",
      "source": [
        "**Instructions**\n",
        "* Assign the `squirrels_madison` list as the value to the `'Madison Square Park'` key of the `squirrels_by_park` dictionary.\n",
        "* Update the `'Union Square Park'` key in the `squirrels_by_park` dictionary with the data in the `squirrels_union` tuple.\n",
        "* Loop over the `squirrels_by_park` dictionary.\n",
        "  * Print the `park_name` and a list of all `primary_fur_colors` for squirrels safely in that park using a list comprehension; return `'N/A'` if the key isn't found."
      ],
      "metadata": {
        "id": "XIu8CxNkvkt4"
      }
    },
    {
      "cell_type": "code",
      "source": [
        "# Assign squirrels_madison as the value to the 'Madison Square Park' key\n",
        "squirrels_by_park['Madison Square Park'] = squirrels_madison\n",
        "\n",
        "# Update squirrels_by_park with the squirrels_union tuple\n",
        "squirrels_by_park.update([squirrels_union])\n",
        "\n",
        "# Loop over the park_name in the squirrels_by_park dictionary\n",
        "for park_name in squirrels_by_park:\n",
        "    # Safely print a list of the primary_fur_color for each squirrel in park_name\n",
        "    print(park_name, [squirrel.get('primary_fur_color', 'N/A') for squirrel in squirrels_by_park[park_name]])"
      ],
      "metadata": {
        "colab": {
          "base_uri": "https://localhost:8080/"
        },
        "id": "EOt0wxe1wP6y",
        "outputId": "a815860f-feb8-496c-c369-8ee50d94edb8"
      },
      "execution_count": null,
      "outputs": [
        {
          "output_type": "stream",
          "name": "stdout",
          "text": [
            "Union Square Park ['Gray', 'Gray', 'Cinnamon', 'Gray', 'Gray', 'Gray', 'Gray']\n",
            "Madison Square Park ['Gray', 'Gray', 'Gray']\n"
          ]
        }
      ]
    },
    {
      "cell_type": "markdown",
      "source": [
        "### Excercise 2: Popping and deleting from dictionaries"
      ],
      "metadata": {
        "id": "OKeD0vQxyz5C"
      }
    },
    {
      "cell_type": "markdown",
      "source": [
        "Often, you will want to remove keys and value from a dictionary. You can do so using the `del` Python instruction. It's important to remember that `del` will throw a `KeyError` if the key you are trying to delete does not exist. You can not use it with the `.get()` method to safely delete items; however, it can be used with `try: catch:`.\n",
        "\n",
        "If you want to save that deleted data into another variable for further processing, the `.pop()` dictionary method will do just that. You can supply a default value for `.pop()` much like you did for `.get()` to safely deal with missing keys. It's also typical to use `.pop()` instead of del since it is a safe method."
      ],
      "metadata": {
        "id": "a6jPntn6zP5n"
      }
    },
    {
      "cell_type": "markdown",
      "source": [
        "**Instructions**\n",
        "* Remove `\"Madison Square Park\"` from `squirrels_by_park` and store it as `squirrels_madison`.\n",
        "* Safely remove `\"City Hall Park\"` from `squirrels_by_park` with a empty dictionary as the default and store it as `squirrels_city_hall`. To do this, pass in an empty dictionary `{}` as a second argument to `.pop()`.\n",
        "* Delete `\"Union Square Park\"` from `squirrels_by_park`.\n",
        "* Print `squirrels_by_park`."
      ],
      "metadata": {
        "id": "Ks_SCxdizge3"
      }
    },
    {
      "cell_type": "code",
      "source": [
        "squirrels_by_park = {'Madison Square Park': [{'primary_fur_color': 'Gray',\n",
        "                          'highlights_in_fur_color': None,\n",
        "                          'activities': 'Foraging',\n",
        "                          'interactions_with_humans': 'Indifferent'},\n",
        "                          {'primary_fur_color': 'Gray',\n",
        "                          'highlights_in_fur_color': None,\n",
        "                          'activities': 'Sitting',\n",
        "                          'interactions_with_humans': 'Indifferent'}],\n",
        "                        'Tompkins Square Park': [{'primary_fur_color': 'Gray',\n",
        "                          'highlights_in_fur_color': 'Gray',\n",
        "                          'activities': 'Foraging',\n",
        "                          'interactions_with_humans': 'Approaches'},\n",
        "                          {'primary_fur_color': 'Gray',\n",
        "                          'highlights_in_fur_color': 'Gray',\n",
        "                          'activities': 'Climbing (down tree)',\n",
        "                          'interactions_with_humans': 'Indifferent'},\n",
        "                          {'primary_fur_color': 'Gray',\n",
        "                          'highlights_in_fur_color': 'Gray',\n",
        "                          'activities': 'Foraging',\n",
        "                          'interactions_with_humans': 'Indifferent'},\n",
        "                          {'primary_fur_color': 'Gray',\n",
        "                          'highlights_in_fur_color': 'Gray',\n",
        "                          'activities': 'Foraging',\n",
        "                          'interactions_with_humans': 'Indifferent'}],\n",
        "                        'Union Square Park': [{'primary_fur_color': 'Gray',\n",
        "                          'highlights_in_fur_color': None,\n",
        "                          'activities': 'Eating, Foraging',\n",
        "                          'interactions_with_humans': None},\n",
        "                          {'primary_fur_color': 'Cinnamon',\n",
        "                          'highlights_in_fur_color': None,\n",
        "                          'activities': 'Foraging',\n",
        "                          'interactions_with_humans': None},\n",
        "                          {'primary_fur_color': 'Gray',\n",
        "                          'highlights_in_fur_color': None,\n",
        "                          'activities': 'Eating, Foraging',\n",
        "                          'interactions_with_humans': None},\n",
        "                          {'primary_fur_color': 'Gray',\n",
        "                          'highlights_in_fur_color': None,\n",
        "                          'activities': 'Digging',\n",
        "                          'interactions_with_humans': 'Indifferent'}]}"
      ],
      "metadata": {
        "id": "jkpk6C3X0G7_"
      },
      "execution_count": null,
      "outputs": []
    },
    {
      "cell_type": "code",
      "source": [
        "# Remove \"Madison Square Park\" from squirrels_by_park\n",
        "squirrels_madison = squirrels_by_park.pop(\"Madison Square Park\")\n",
        "\n",
        "# Safely remove \"City Hall Park\" from squirrels_by_park with an empty dictionary as the default\n",
        "squirrels_city_hall = squirrels_by_park.pop(\"City Hall Park\", {})\n",
        "\n",
        "# Delete \"Union Square Park\" from squirrels_by_park\n",
        "del squirrels_by_park[\"Union Square Park\"]\n",
        "\n",
        "# Print squirrels_by_park\n",
        "print(squirrels_by_park)"
      ],
      "metadata": {
        "colab": {
          "base_uri": "https://localhost:8080/"
        },
        "id": "ppEhR___0wXX",
        "outputId": "202e0339-a061-4872-89be-ba1d93a046f3"
      },
      "execution_count": null,
      "outputs": [
        {
          "output_type": "stream",
          "name": "stdout",
          "text": [
            "{'Tompkins Square Park': [{'primary_fur_color': 'Gray', 'highlights_in_fur_color': 'Gray', 'activities': 'Foraging', 'interactions_with_humans': 'Approaches'}, {'primary_fur_color': 'Gray', 'highlights_in_fur_color': 'Gray', 'activities': 'Climbing (down tree)', 'interactions_with_humans': 'Indifferent'}, {'primary_fur_color': 'Gray', 'highlights_in_fur_color': 'Gray', 'activities': 'Foraging', 'interactions_with_humans': 'Indifferent'}, {'primary_fur_color': 'Gray', 'highlights_in_fur_color': 'Gray', 'activities': 'Foraging', 'interactions_with_humans': 'Indifferent'}]}\n"
          ]
        }
      ]
    },
    {
      "cell_type": "markdown",
      "source": [
        "## Lesson 2: Pythonically using dictionaries"
      ],
      "metadata": {
        "id": "KA-aGjlP1c5i"
      }
    },
    {
      "cell_type": "markdown",
      "source": [
        "### Working with dictionaries more pythonically"
      ],
      "metadata": {
        "id": "6wAWuJQp1mWo"
      }
    },
    {
      "cell_type": "markdown",
      "source": [
        "* `.items()` method returns an object we can iterate over"
      ],
      "metadata": {
        "id": "GoiZ6A1I1rNc"
      }
    },
    {
      "cell_type": "code",
      "source": [
        "art_galleries = {'Miakey Art Gallery': '(718) 686-0788',\n",
        "                 'Morning Star Gallery Ltd' : '(212) 334-9330',\n",
        "                 'New York Art Expo Inc'  : '(212) 363-8280'}"
      ],
      "metadata": {
        "id": "O92_9tS7192R"
      },
      "execution_count": null,
      "outputs": []
    },
    {
      "cell_type": "code",
      "source": [
        "for gallery, phone_num in art_galleries.items():\n",
        "  print(gallery)\n",
        "  print(phone_num)"
      ],
      "metadata": {
        "colab": {
          "base_uri": "https://localhost:8080/"
        },
        "id": "WB-RYBut17lk",
        "outputId": "e09504f3-c053-4e0a-d6b9-3653929a8b0a"
      },
      "execution_count": null,
      "outputs": [
        {
          "output_type": "stream",
          "name": "stdout",
          "text": [
            "Miakey Art Gallery\n",
            "(718) 686-0788\n",
            "Morning Star Gallery Ltd\n",
            "(212) 334-9330\n",
            "New York Art Expo Inc\n",
            "(212) 363-8280\n"
          ]
        }
      ]
    },
    {
      "cell_type": "markdown",
      "source": [
        "### Checking dictionaries for data"
      ],
      "metadata": {
        "id": "ld7OaUg73NVz"
      }
    },
    {
      "cell_type": "markdown",
      "source": [
        "* `.get()` does a lot of work to check for a key\n",
        "* `in` operator is much more efficient and clearer"
      ],
      "metadata": {
        "id": "xXbkkLuL3QR2"
      }
    },
    {
      "cell_type": "code",
      "source": [
        "art_galleries = {'10001': {'Miakey Art Gallery': '(718) 686-0788'},\n",
        "                 '10002': {'Morning Star Gallery Ltd' : '(212) 334-9330'},\n",
        "                 '10010': {'New York Art Expo Inc'  : '(212) 363-8280'}}"
      ],
      "metadata": {
        "id": "3gQG5QjN3b-n"
      },
      "execution_count": null,
      "outputs": []
    },
    {
      "cell_type": "code",
      "source": [
        "'11234' in art_galleries"
      ],
      "metadata": {
        "colab": {
          "base_uri": "https://localhost:8080/"
        },
        "id": "4hthBZZd3cLp",
        "outputId": "2e6c7f74-c815-4537-fc0b-4c63bd3539b4"
      },
      "execution_count": null,
      "outputs": [
        {
          "output_type": "execute_result",
          "data": {
            "text/plain": [
              "False"
            ]
          },
          "metadata": {},
          "execution_count": 15
        }
      ]
    },
    {
      "cell_type": "code",
      "source": [
        "if '10010' in art_galleries:\n",
        "  print('I found: %s' % art_galleries['10010'])\n",
        "else:\n",
        "  print('No galleries found.')"
      ],
      "metadata": {
        "colab": {
          "base_uri": "https://localhost:8080/"
        },
        "id": "_Ornm_1x3d4W",
        "outputId": "4ce24a93-6e2b-44ba-97dd-a6859a23a57b"
      },
      "execution_count": null,
      "outputs": [
        {
          "output_type": "stream",
          "name": "stdout",
          "text": [
            "I found: {'New York Art Expo Inc': '(212) 363-8280'}\n"
          ]
        }
      ]
    },
    {
      "cell_type": "markdown",
      "source": [
        "### Excercise 1: Working with dictionaries more pythonically"
      ],
      "metadata": {
        "id": "QbHMcFlw_tDk"
      }
    },
    {
      "cell_type": "markdown",
      "source": [
        "So far, you've worked a lot with the keys of a dictionary to access data, but in Python, the preferred manner for iterating over items in a dictionary is with the `.items()` method.\n",
        "\n",
        "This returns each key and value from the dictionary as a tuple, which you can unpack in a `for` loop. You'll now get practice doing this.\n",
        "\n",
        "We've loaded a `squirrels_by_park` dictionary, and the `Madison Square Park` key contains a list of dictionaries."
      ],
      "metadata": {
        "id": "lHCjxzdo_wQx"
      }
    },
    {
      "cell_type": "code",
      "source": [
        "squirrels_by_park = {'Madison Square Park': [{'primary_fur_color': 'Gray',\n",
        "                          'highlights_in_fur_color': None,\n",
        "                          'activities': 'Foraging',\n",
        "                          'interactions_with_humans': 'Indifferent'},\n",
        "                          {'primary_fur_color': 'Gray',\n",
        "                          'highlights_in_fur_color': None,\n",
        "                          'activities': 'Sitting',\n",
        "                          'interactions_with_humans': 'Indifferent'}],\n",
        "                        'Union Square Park': [{'primary_fur_color': 'Gray',\n",
        "                          'highlights_in_fur_color': None,\n",
        "                          'activities': 'Eating, Foraging',\n",
        "                          'interactions_with_humans': None},\n",
        "                          {'primary_fur_color': 'Cinnamon',\n",
        "                          'highlights_in_fur_color': None,\n",
        "                          'activities': 'Foraging',\n",
        "                          'interactions_with_humans': None},\n",
        "                          {'primary_fur_color': 'Gray',\n",
        "                          'highlights_in_fur_color': None,\n",
        "                          'activities': 'Eating, Foraging',\n",
        "                          'interactions_with_humans': None},\n",
        "                          {'primary_fur_color': 'Gray',\n",
        "                          'highlights_in_fur_color': None,\n",
        "                          'activities': 'Digging',\n",
        "                          'interactions_with_humans': 'Indifferent'}]}"
      ],
      "metadata": {
        "id": "Qu0r_3QsACr7"
      },
      "execution_count": null,
      "outputs": []
    },
    {
      "cell_type": "markdown",
      "source": [
        "**Instructions**\n",
        "* Iterate over the first record in `squirrels_by_park[\"Madison Square Park\"]`, unpacking its items into `field` and `value`.\n",
        "  * Print each `field` and `value`.\n",
        "* Repeat the process for the second record in `squirrels_by_park[\"Union Square Park\"]`."
      ],
      "metadata": {
        "id": "nUJx-BTIALe4"
      }
    },
    {
      "cell_type": "code",
      "source": [
        "# Iterate over the first squirrel entry in the Madison Square Park list\n",
        "for field, value in squirrels_by_park[\"Madison Square Park\"][0].items():\n",
        "    # Print field and value\n",
        "    print(field, value)\n",
        "\n",
        "print('-' * 13)\n",
        "\n",
        "# Iterate over the second squirrel entry in the Union Square Park list\n",
        "for field, value in squirrels_by_park[\"Union Square Park\"][1].items():\n",
        "    # Print field and value\n",
        "    print(field, value)"
      ],
      "metadata": {
        "colab": {
          "base_uri": "https://localhost:8080/"
        },
        "id": "gd8Esq3OBS15",
        "outputId": "347507b3-fd7d-4fb3-c67e-eb5025d4cb01"
      },
      "execution_count": null,
      "outputs": [
        {
          "output_type": "stream",
          "name": "stdout",
          "text": [
            "primary_fur_color Gray\n",
            "highlights_in_fur_color None\n",
            "activities Foraging\n",
            "interactions_with_humans Indifferent\n",
            "-------------\n",
            "primary_fur_color Cinnamon\n",
            "highlights_in_fur_color None\n",
            "activities Foraging\n",
            "interactions_with_humans None\n"
          ]
        }
      ]
    },
    {
      "cell_type": "markdown",
      "source": [
        "### Excercise 2: Checking dictionaries for data"
      ],
      "metadata": {
        "id": "73DN3XceBlFP"
      }
    },
    {
      "cell_type": "markdown",
      "source": [
        "You can check to see if a key exists in a dictionary by using the in expression.\n",
        "\n",
        "For example, you can check to see if `'cookies'` is a key in the `recipes` dictionary by using `if 'cookies' in recipes:` this allows you to safely react to data being present in the dictionary.\n",
        "\n",
        "We've loaded a `squirrels_by_park` dictionary with park names for the keys and a list of dictionaries of the squirrels."
      ],
      "metadata": {
        "id": "O3FDTsKiBqlD"
      }
    },
    {
      "cell_type": "code",
      "source": [
        "squirrels_by_park = {'Tompkins Square Park': [{'primary_fur_color': 'Gray',\n",
        "                        'highlights_in_fur_color': 'Gray',\n",
        "                        'activities': 'Foraging',\n",
        "                        'interactions_with_humans': 'Approaches'},\n",
        "                        {'primary_fur_color': 'Gray',\n",
        "                        'highlights_in_fur_color': 'Gray',\n",
        "                        'activities': 'Climbing (down tree)',\n",
        "                        'interactions_with_humans': 'Indifferent'},\n",
        "                        {'primary_fur_color': 'Gray',\n",
        "                        'highlights_in_fur_color': 'Gray',\n",
        "                        'activities': 'Foraging',\n",
        "                        'interactions_with_humans': 'Indifferent'},\n",
        "                        {'primary_fur_color': 'Gray',\n",
        "                        'highlights_in_fur_color': 'Gray',\n",
        "                        'activities': 'Foraging',\n",
        "                        'interactions_with_humans': 'Indifferent'}],\n",
        "                      'Union Square Park': [{'primary_fur_color': 'Gray',\n",
        "                        'highlights_in_fur_color': None,\n",
        "                        'activities': 'Eating, Foraging',\n",
        "                        'interactions_with_humans': None},\n",
        "                        {'primary_fur_color': 'Cinnamon',\n",
        "                        'highlights_in_fur_color': None,\n",
        "                        'activities': 'Foraging',\n",
        "                        'interactions_with_humans': None},\n",
        "                        {'primary_fur_color': 'Gray',\n",
        "                        'highlights_in_fur_color': None,\n",
        "                        'activities': 'Eating, Foraging',\n",
        "                        'interactions_with_humans': None},\n",
        "                        {'primary_fur_color': 'Gray',\n",
        "                        'highlights_in_fur_color': None,\n",
        "                        'activities': 'Digging',\n",
        "                        'interactions_with_humans': 'Indifferent'}]}"
      ],
      "metadata": {
        "id": "7CB5y0w0B8WK"
      },
      "execution_count": null,
      "outputs": []
    },
    {
      "cell_type": "markdown",
      "source": [
        "**Instructions**\n",
        "* Check to see if `Tompkins Square Park` is in the `squirrels_by_park` dictionary, and print `'Found Tompkins Square Park'` if it is present.\n",
        "* Check to see if `Central Park` is in `squirrels_by_park`. Then, print `'Found Central Park'` if found and `'Central Park missing'` if not found."
      ],
      "metadata": {
        "id": "umruULvhCEMS"
      }
    },
    {
      "cell_type": "code",
      "source": [
        "# Check to see if Tompkins Square Park is in squirrels_by_park\n",
        "if \"Tompkins Square Park\" in squirrels_by_park:\n",
        "    # Print 'Found Tompkins Square Park'\n",
        "    print('Found Tompkins Square Park')\n",
        "\n",
        "# Check to see if Central Park is in squirrels_by_park\n",
        "if \"Central Park\" in squirrels_by_park:\n",
        "    # Print 'Found Central Park' if found\n",
        "    print('Found Central Park')\n",
        "else:\n",
        "    # Print 'Central Park missing' if not found\n",
        "    print('Central Park missing')"
      ],
      "metadata": {
        "colab": {
          "base_uri": "https://localhost:8080/"
        },
        "id": "K_lXHGqjCSaq",
        "outputId": "84d9ab32-84b2-4d6f-f7e0-ea1a6be7c6af"
      },
      "execution_count": null,
      "outputs": [
        {
          "output_type": "stream",
          "name": "stdout",
          "text": [
            "Found Tompkins Square Park\n",
            "Central Park missing\n"
          ]
        }
      ]
    },
    {
      "cell_type": "markdown",
      "source": [
        "## Lesson 3: Mixed data types in dictionaries"
      ],
      "metadata": {
        "id": "6T1dLepeCz88"
      }
    },
    {
      "cell_type": "markdown",
      "source": [
        "### Working with nested dictionaries"
      ],
      "metadata": {
        "id": "3rXmLd_FDNgr"
      }
    },
    {
      "cell_type": "code",
      "source": [
        "art_galleries = {'10001': {'Miakey Art Gallery': '(718) 686-0788'},\n",
        "                 '10002': {'Morning Star Gallery Ltd' : '(212) 334-9330'},\n",
        "                 '10010': {'New York Art Expo Inc'  : '(212) 363-8280'},\n",
        "                 '10027': {\"Paige's Art Gallery\": '(212) 531-1577',\n",
        "                            'Triple Candie': '(212) 865-0783',\n",
        "                            'Africart Motherland Inc': '(212) 368-6802',\n",
        "                            'Inner City Art Gallery Inc': '(212) 368-4941'}}"
      ],
      "metadata": {
        "id": "XdEBLnUmDrNO"
      },
      "execution_count": null,
      "outputs": []
    },
    {
      "cell_type": "code",
      "source": [
        "art_galleries.keys()"
      ],
      "metadata": {
        "colab": {
          "base_uri": "https://localhost:8080/"
        },
        "id": "MYjqHvuvDQo0",
        "outputId": "f2aa667f-cc5f-4380-9fbd-a5c315ca975c"
      },
      "execution_count": null,
      "outputs": [
        {
          "output_type": "execute_result",
          "data": {
            "text/plain": [
              "dict_keys(['10001', '10002', '10010', '10027'])"
            ]
          },
          "metadata": {},
          "execution_count": 24
        }
      ]
    },
    {
      "cell_type": "code",
      "source": [
        "print(art_galleries['10027'])"
      ],
      "metadata": {
        "colab": {
          "base_uri": "https://localhost:8080/"
        },
        "id": "0w5jPoWuDT-J",
        "outputId": "7d2f5dc6-1765-4b63-ff52-387b9b99da01"
      },
      "execution_count": null,
      "outputs": [
        {
          "output_type": "stream",
          "name": "stdout",
          "text": [
            "{\"Paige's Art Gallery\": '(212) 531-1577', 'Triple Candie': '(212) 865-0783', 'Africart Motherland Inc': '(212) 368-6802', 'Inner City Art Gallery Inc': '(212) 368-4941'}\n"
          ]
        }
      ]
    },
    {
      "cell_type": "markdown",
      "source": [
        "* The `.keys()` method shows the keys for a given dictionary"
      ],
      "metadata": {
        "id": "TUTebcqEDZNA"
      }
    },
    {
      "cell_type": "markdown",
      "source": [
        "### Accessing nested data"
      ],
      "metadata": {
        "id": "Y9yzOxKmEAxA"
      }
    },
    {
      "cell_type": "code",
      "source": [
        "art_galleries['10027']['Inner City Art Gallery Inc']"
      ],
      "metadata": {
        "colab": {
          "base_uri": "https://localhost:8080/",
          "height": 36
        },
        "id": "jfb8TERdECWe",
        "outputId": "a18567c8-94a8-44f9-fbc3-bb87caa4f68b"
      },
      "execution_count": null,
      "outputs": [
        {
          "output_type": "execute_result",
          "data": {
            "text/plain": [
              "'(212) 368-4941'"
            ],
            "application/vnd.google.colaboratory.intrinsic+json": {
              "type": "string"
            }
          },
          "metadata": {},
          "execution_count": 26
        }
      ]
    },
    {
      "cell_type": "markdown",
      "source": [
        "* Common way to deal with repeating data structures\n",
        "* Can be accessed using multiple indices or the `.get()` method"
      ],
      "metadata": {
        "id": "OOexZ8gQEI7w"
      }
    },
    {
      "cell_type": "markdown",
      "source": [
        "### Excercise 1: Dealing with nested dictionaries"
      ],
      "metadata": {
        "id": "GT9lS-ioEg-b"
      }
    },
    {
      "cell_type": "markdown",
      "source": [
        "A dictionary can contain another dictionary as the value of a key, and this is a very common way to deal with repeating data structures such as yearly, monthly or weekly data. All the same rules apply when creating or accessing the dictionary.\n",
        "\n",
        "For example, if you had a dictionary that had a ranking of my cookie consumption by year and type of cookie. It might look like `cookies = {'2017': {'chocolate chip': 483, 'peanut butter': 115}, '2016': {'chocolate chip': 9513, 'peanut butter': 6792}}`. I could access how many chocolate chip cookies I ate in 2016 using `cookies['2016']['chocolate chip']`.\n",
        "\n",
        "When exploring a new dictionary, it can be helpful to use the `.keys()` method to get an idea of what data might be available within the dictionary. You can also iterate over a dictionary and it will return each key in the dictionary for you to use inside the loop.\n",
        "\n",
        "We've loaded a `squirrels_by_park` dictionary with park names for the keys and a nested dictionary of one squirrels data."
      ],
      "metadata": {
        "id": "VtS02-YKEoh0"
      }
    },
    {
      "cell_type": "code",
      "source": [
        "squirrels_by_park = {'J. Hood Wright Park': {'primary_fur_color': 'Gray',\n",
        "                        'highlights_in_fur_color': 'Cinnamon',\n",
        "                        'activities': 'Running',\n",
        "                        'interactions_with_humans': 'Indifferent'},\n",
        "                      'Stuyvesant Square Park': {'primary_fur_color': 'Gray',\n",
        "                        'highlights_in_fur_color': 'Cinnamon',\n",
        "                        'activities': 'Foraging',\n",
        "                        'interactions_with_humans': 'Indifferent'},\n",
        "                      'Highbridge Park': {'primary_fur_color': 'Gray',\n",
        "                        'highlights_in_fur_color': 'White',\n",
        "                        'activities': 'Climbing',\n",
        "                        'interactions_with_humans': None},\n",
        "                      'Tompkins Square Park': {'primary_fur_color': 'Gray',\n",
        "                        'highlights_in_fur_color': 'Gray',\n",
        "                        'activities': 'Foraging',\n",
        "                        'interactions_with_humans': None},\n",
        "                      'Union Square Park': {'primary_fur_color': 'Gray',\n",
        "                        'activities': 'Eating, Foraging',\n",
        "                        'interactions_with_humans': None},\n",
        "                      'City Hall Park': {'primary_fur_color': 'Gray',\n",
        "                        'highlights_in_fur_color': 'White',\n",
        "                        'activities': 'Eating, Foraging',\n",
        "                        'interactions_with_humans': 'Indifferent'},\n",
        "                      'Msgr. McGolrick Park': {'primary_fur_color': 'Gray',\n",
        "                        'highlights_in_fur_color': 'Cinnamon',\n",
        "                        'activities': 'Running',\n",
        "                        'interactions_with_humans': 'Indifferent'},\n",
        "                      'John V. Lindsay East River Park': {'primary_fur_color': 'Gray',\n",
        "                        'highlights_in_fur_color': 'Gray',\n",
        "                        'activities': 'Running, Chasing, Eating',\n",
        "                        'interactions_with_humans': None}}"
      ],
      "metadata": {
        "id": "YddhsH6lFSl_"
      },
      "execution_count": null,
      "outputs": []
    },
    {
      "cell_type": "markdown",
      "source": [
        "* Print the keys of the `squirrels_by_park` dictionary, NOTE: They are park_names.\n",
        "* Print the keys of the `squirrels_by_park` dictionary for the `park_name` `Union Square Park`.\n",
        "* Loop over the `squirrels_by_park` dictionary.\n",
        "  * Inside the loop, safely print the `park_name` and the `highlights_in_fur_color`. Print `'N/A'` if the `highlightsinfur_color` is not found or None."
      ],
      "metadata": {
        "id": "1qam_syfFck3"
      }
    },
    {
      "cell_type": "code",
      "source": [
        "# Print a list of keys from the squirrels_by_park dictionary\n",
        "print(squirrels_by_park.keys())\n",
        "\n",
        "# Print the keys from the squirrels_by_park dictionary for 'Union Square Park'\n",
        "print(squirrels_by_park['Union Square Park'].keys())\n",
        "\n",
        "# Loop over the dictionary\n",
        "for park_name in squirrels_by_park:\n",
        "    # Safely print the park_name and the highlights_in_fur_color or 'N/A'\n",
        "    print(park_name, squirrels_by_park[park_name].get('highlights_in_fur_color', 'N/A'))"
      ],
      "metadata": {
        "colab": {
          "base_uri": "https://localhost:8080/"
        },
        "id": "7AUcKdTUF2Qi",
        "outputId": "d0d36d2a-5be8-41a3-c222-da3eab8a93b8"
      },
      "execution_count": null,
      "outputs": [
        {
          "output_type": "stream",
          "name": "stdout",
          "text": [
            "dict_keys(['J. Hood Wright Park', 'Stuyvesant Square Park', 'Highbridge Park', 'Tompkins Square Park', 'Union Square Park', 'City Hall Park', 'Msgr. McGolrick Park', 'John V. Lindsay East River Park'])\n",
            "dict_keys(['primary_fur_color', 'activities', 'interactions_with_humans'])\n",
            "J. Hood Wright Park Cinnamon\n",
            "Stuyvesant Square Park Cinnamon\n",
            "Highbridge Park White\n",
            "Tompkins Square Park Gray\n",
            "Union Square Park N/A\n",
            "City Hall Park White\n",
            "Msgr. McGolrick Park Cinnamon\n",
            "John V. Lindsay East River Park Gray\n"
          ]
        }
      ]
    },
    {
      "cell_type": "markdown",
      "source": [
        "### Excercise 2: Dealing with nested mixed types"
      ],
      "metadata": {
        "id": "hHETsV4eGfv1"
      }
    },
    {
      "cell_type": "markdown",
      "source": [
        "Previously, we used the `in` expression so see if data is in a dictionary such as `if 'cookies' in recipes_dict`. However, what if we want to find data in a dictionary key that is a list of dictionaries? In that scenario, we can use a `for` loop to loop over the items in the nested list and operate on them. Additionally, we can leverage list comprehensions to effectively filter nested lists of dictionaries. For example: `[cookie for cookie in recipes[\"cookies\"] if \"chocolate chip\" in cookie[\"name\"]]` would return a list of cookies in recipes list that have chocolate chip in the name key of the cookie.\n",
        "\n",
        "We've loaded a `squirrels_by_park` dictionary with park names for the keys and a list of dictionaries of the squirrels."
      ],
      "metadata": {
        "id": "-MzUfS9XGjiw"
      }
    },
    {
      "cell_type": "code",
      "source": [
        "squirrels_by_park = {'Tompkins Square Park': [{'primary_fur_color': 'Gray',\n",
        "                      'highlights_in_fur_color': 'Gray',\n",
        "                      'activities': 'Foraging',\n",
        "                      'interactions_with_humans': 'Approaches'},\n",
        "                      {'primary_fur_color': 'Gray',\n",
        "                      'highlights_in_fur_color': 'Gray',\n",
        "                      'activities': 'Climbing (down tree)',\n",
        "                      'interactions_with_humans': 'Indifferent'},\n",
        "                      {'primary_fur_color': 'Gray',\n",
        "                      'highlights_in_fur_color': 'Gray',\n",
        "                      'interactions_with_humans': 'Indifferent'},\n",
        "                      {'primary_fur_color': 'Gray',\n",
        "                      'highlights_in_fur_color': 'Gray',\n",
        "                      'activities': 'Foraging',\n",
        "                      'interactions_with_humans': 'Indifferent'}],\n",
        "                    'Union Square Park': [{'primary_fur_color': 'Gray',\n",
        "                      'highlights_in_fur_color': None,\n",
        "                      'activities': 'Eating, Foraging',\n",
        "                      'interactions_with_humans': None},\n",
        "                      {'primary_fur_color': 'Cinnamon',\n",
        "                      'highlights_in_fur_color': None,\n",
        "                      'activities': 'Foraging',\n",
        "                      'interactions_with_humans': None},\n",
        "                      {'primary_fur_color': 'Gray',\n",
        "                      'highlights_in_fur_color': None,\n",
        "                      'activities': 'Eating, Foraging',\n",
        "                      'interactions_with_humans': None},\n",
        "                      {'primary_fur_color': 'Gray',\n",
        "                      'highlights_in_fur_color': None,\n",
        "                      'activities': 'Digging',\n",
        "                      'interactions_with_humans': 'Indifferent'}]}"
      ],
      "metadata": {
        "id": "SlLwZW5zG-mr"
      },
      "execution_count": null,
      "outputs": []
    },
    {
      "cell_type": "markdown",
      "source": [
        "**Instructions**\n",
        "* Use a `for` loop to iterate over the squirrels found in the `Tompkins Square Park` key of `squirrels_by_park`:\n",
        "  * Safely print each activities of each squirrel.\n",
        "* Print the list of `'Cinnamon'` `primary_fur_color` squirrels found in `Union Square Park` using a list comprehension."
      ],
      "metadata": {
        "id": "QO60vtNMHFpQ"
      }
    },
    {
      "cell_type": "code",
      "source": [
        "# Use a for loop to iterate over the squirrels in Tompkins Square Park:\n",
        "for squirrel in squirrels_by_park[\"Tompkins Square Park\"]:\n",
        "\t# Safely print the activities of each squirrel or None\n",
        "    print(squirrel.get(\"activities\"))\n",
        "\n",
        "# Print the list of 'Cinnamon' primary_fur_color squirrels in Union Square Park\n",
        "print([squirrel for squirrel in squirrels_by_park[\"Union Square Park\"] if \"Cinnamon\" in squirrel[\"primary_fur_color\"]])"
      ],
      "metadata": {
        "colab": {
          "base_uri": "https://localhost:8080/"
        },
        "id": "237YP1akHZ7J",
        "outputId": "470cc7c4-4f5f-4659-ffa3-eae1a22bde4b"
      },
      "execution_count": null,
      "outputs": [
        {
          "output_type": "stream",
          "name": "stdout",
          "text": [
            "Foraging\n",
            "Climbing (down tree)\n",
            "None\n",
            "Foraging\n",
            "[{'primary_fur_color': 'Cinnamon', 'highlights_in_fur_color': None, 'activities': 'Foraging', 'interactions_with_humans': None}]\n"
          ]
        }
      ]
    },
    {
      "cell_type": "markdown",
      "source": [
        "# CHAPTER 3: Numeric Data Types, Booleans, and Sets"
      ],
      "metadata": {
        "id": "l721vsWXlzbj"
      }
    },
    {
      "cell_type": "markdown",
      "source": [
        "Let's take a step away from dictionaries and look at some other common numeric and boolean data types along with sets"
      ],
      "metadata": {
        "id": "CpWabHKtl3yr"
      }
    },
    {
      "cell_type": "markdown",
      "source": [
        "## Lesson 1: Numeric data types"
      ],
      "metadata": {
        "id": "Wveadz18R5Rk"
      }
    },
    {
      "cell_type": "markdown",
      "source": [
        "### Built in numeric types"
      ],
      "metadata": {
        "id": "G372OykrR_W1"
      }
    },
    {
      "cell_type": "markdown",
      "source": [
        "**Integer**\n",
        "* Whole numbers\n",
        "* Large values"
      ],
      "metadata": {
        "id": "e8tCdLPRSD8c"
      }
    },
    {
      "cell_type": "code",
      "source": [
        "int(123456789123456789)"
      ],
      "metadata": {
        "colab": {
          "base_uri": "https://localhost:8080/"
        },
        "id": "CcNfOQ6CSHb1",
        "outputId": "80ae7945-088e-418c-869d-f71268439f8e"
      },
      "execution_count": null,
      "outputs": [
        {
          "output_type": "execute_result",
          "data": {
            "text/plain": [
              "123456789123456789"
            ]
          },
          "metadata": {},
          "execution_count": 31
        }
      ]
    },
    {
      "cell_type": "markdown",
      "source": [
        "**Float**\n",
        "* Fractional amounts\n",
        "(approximation)\n",
        "* Scientific notation"
      ],
      "metadata": {
        "id": "UGtKWfZvSKON"
      }
    },
    {
      "cell_type": "code",
      "source": [
        "float(123456789123456789)"
      ],
      "metadata": {
        "colab": {
          "base_uri": "https://localhost:8080/"
        },
        "id": "pAHa3potSSa2",
        "outputId": "72690590-9397-4a2a-ba38-023319c00701"
      },
      "execution_count": null,
      "outputs": [
        {
          "output_type": "execute_result",
          "data": {
            "text/plain": [
              "1.2345678912345678e+17"
            ]
          },
          "metadata": {},
          "execution_count": 32
        }
      ]
    },
    {
      "cell_type": "markdown",
      "source": [
        "**Decimals**\n",
        "* Exact precision\n",
        "* Currency operations"
      ],
      "metadata": {
        "id": "frj-OWe2SYe4"
      }
    },
    {
      "cell_type": "code",
      "source": [
        "from decimal import Decimal\n",
        "Decimal('123456789123456789')"
      ],
      "metadata": {
        "colab": {
          "base_uri": "https://localhost:8080/"
        },
        "id": "NLegklXeSjR9",
        "outputId": "9c67af3f-e46f-4203-9445-0cda4d83ca14"
      },
      "execution_count": null,
      "outputs": [
        {
          "output_type": "execute_result",
          "data": {
            "text/plain": [
              "Decimal('123456789123456789')"
            ]
          },
          "metadata": {},
          "execution_count": 33
        }
      ]
    },
    {
      "cell_type": "markdown",
      "source": [
        "**Printing floats**"
      ],
      "metadata": {
        "id": "R_pCsToxSp-s"
      }
    },
    {
      "cell_type": "code",
      "source": [
        "print(0.00001)"
      ],
      "metadata": {
        "colab": {
          "base_uri": "https://localhost:8080/"
        },
        "id": "wGf8oJufSsQn",
        "outputId": "8b91f0e3-76fb-4a3b-fdfa-cd0765eaf5ce"
      },
      "execution_count": null,
      "outputs": [
        {
          "output_type": "stream",
          "name": "stdout",
          "text": [
            "1e-05\n"
          ]
        }
      ]
    },
    {
      "cell_type": "code",
      "source": [
        "print(f\"{0.00001:f}\")"
      ],
      "metadata": {
        "colab": {
          "base_uri": "https://localhost:8080/"
        },
        "id": "7TnBPboRS148",
        "outputId": "f68b6013-95ba-42a6-b058-fd9fb22a722e"
      },
      "execution_count": null,
      "outputs": [
        {
          "output_type": "stream",
          "name": "stdout",
          "text": [
            "0.000010\n"
          ]
        }
      ]
    },
    {
      "cell_type": "code",
      "source": [
        "print(f\"{0.0000001:f}\")"
      ],
      "metadata": {
        "colab": {
          "base_uri": "https://localhost:8080/"
        },
        "id": "gT3JQWM6S7hY",
        "outputId": "52944aaf-d3da-4a24-f1e3-bb5e6ded1e13"
      },
      "execution_count": null,
      "outputs": [
        {
          "output_type": "stream",
          "name": "stdout",
          "text": [
            "0.000000\n"
          ]
        }
      ]
    },
    {
      "cell_type": "code",
      "source": [
        "print(f\"{0.0000001:.7f}\")"
      ],
      "metadata": {
        "colab": {
          "base_uri": "https://localhost:8080/"
        },
        "id": "SL6u46KGTCK-",
        "outputId": "58eeb0c8-fa4b-4a42-fa84-aab52adc5ffa"
      },
      "execution_count": null,
      "outputs": [
        {
          "output_type": "stream",
          "name": "stdout",
          "text": [
            "0.0000001\n"
          ]
        }
      ]
    },
    {
      "cell_type": "markdown",
      "source": [
        "### Python division types"
      ],
      "metadata": {
        "id": "LB7HV5Q-TGhr"
      }
    },
    {
      "cell_type": "code",
      "source": [
        "4/2"
      ],
      "metadata": {
        "colab": {
          "base_uri": "https://localhost:8080/"
        },
        "id": "GSLlHIBRTI6u",
        "outputId": "7f6fdbb1-a55c-4dc4-e711-8edf245a884e"
      },
      "execution_count": null,
      "outputs": [
        {
          "output_type": "execute_result",
          "data": {
            "text/plain": [
              "2.0"
            ]
          },
          "metadata": {},
          "execution_count": 38
        }
      ]
    },
    {
      "cell_type": "code",
      "source": [
        "4//2"
      ],
      "metadata": {
        "colab": {
          "base_uri": "https://localhost:8080/"
        },
        "id": "lygg784RTLP1",
        "outputId": "faf98419-08a5-48bb-8c69-b930fb630746"
      },
      "execution_count": null,
      "outputs": [
        {
          "output_type": "execute_result",
          "data": {
            "text/plain": [
              "2"
            ]
          },
          "metadata": {},
          "execution_count": 39
        }
      ]
    },
    {
      "cell_type": "code",
      "source": [
        "7//3"
      ],
      "metadata": {
        "colab": {
          "base_uri": "https://localhost:8080/"
        },
        "id": "ikDEPIcNTPRW",
        "outputId": "7bdcb0bd-0e34-472f-9013-70cfc813b461"
      },
      "execution_count": null,
      "outputs": [
        {
          "output_type": "execute_result",
          "data": {
            "text/plain": [
              "2"
            ]
          },
          "metadata": {},
          "execution_count": 40
        }
      ]
    },
    {
      "cell_type": "markdown",
      "source": [
        "### Excercise 1: Printing floats"
      ],
      "metadata": {
        "id": "hg_sW-MSBK3r"
      }
    },
    {
      "cell_type": "markdown",
      "source": [
        "Scientific notation is a powerful tool for representing numbers, but it can be confusing to handle when trying to print float values. However, we can use the f strings we learned about previously to make sure we get them printed properly every time by using a format specifier. For example, if we wanted to format a variable in an f string as a float, we can use the f format specifier, such as: `print(f\"{some_variable:f}\")`. It also takes an operation precision on the float format specifier, for example, `print(f\"{some_variable:.4f}\")` would print four decimal places of precision."
      ],
      "metadata": {
        "id": "A13ekWq2BQDX"
      }
    },
    {
      "cell_type": "markdown",
      "source": [
        "**Instructions**\n",
        "* Print `float1`, `float2`, and `float3` notice where the jump to scientific notation occurs.\n",
        "* Print `float2` and `float3` using the default float format specifier, and notice what happened to `float3`.\n",
        "* Print `float3` with the float format specifier and a precision of `7`."
      ],
      "metadata": {
        "id": "0at0f7qZBcdr"
      }
    },
    {
      "cell_type": "code",
      "source": [
        "float1 = 0.0001\n",
        "float2 = 0.00001\n",
        "float3 = 0.0000001"
      ],
      "metadata": {
        "id": "AO1_BlqPCAT6"
      },
      "execution_count": null,
      "outputs": []
    },
    {
      "cell_type": "code",
      "source": [
        "# Print floats 1, 2, and 3\n",
        "print(float1)\n",
        "print(float2)\n",
        "print(float3)\n",
        "\n",
        "# Print floats 2 and 3 using the f string formatter\n",
        "print(f\"{float2: f}\")\n",
        "print(f\"{float3: f}\")\n",
        "\n",
        "# Print float 3 with a 7 f string precision\n",
        "print(f\"{float3: 0.7f}\")"
      ],
      "metadata": {
        "colab": {
          "base_uri": "https://localhost:8080/"
        },
        "id": "_dyaEO5BCNIx",
        "outputId": "e5085fe2-af2e-4a4d-ef2c-e180571f6b81"
      },
      "execution_count": null,
      "outputs": [
        {
          "output_type": "stream",
          "name": "stdout",
          "text": [
            "0.0001\n",
            "1e-05\n",
            "1e-07\n",
            " 0.000010\n",
            " 0.000000\n",
            " 0.0000001\n"
          ]
        }
      ]
    },
    {
      "cell_type": "markdown",
      "source": [
        "### Excercise 2: Division with integers and floats"
      ],
      "metadata": {
        "id": "TM_Y9IocCV2q"
      }
    },
    {
      "cell_type": "markdown",
      "source": [
        "Python supports two different division operators: `/` and `//`. In Python 3, `/` will consistently return a float result, and `//` is floor division and will consistently return an integer result. Floor division is the same as doing `math.floor(numerator/divisor)`, which returns the highest integer less than or equal to the result of the division operation. You can learn more about `math.floor` in the [Python Docs](https://docs.python.org/3/library/math.html#math.floor)."
      ],
      "metadata": {
        "id": "K7nIeT4vCYxB"
      }
    },
    {
      "cell_type": "markdown",
      "source": [
        "**Instructions**\n",
        "* Print the result of `2/1` and `1/2`.\n",
        "* Print the floored division result of `2//1` and `1//2`.\n",
        "* Print the type of `2/1` and `2//1`."
      ],
      "metadata": {
        "id": "eqlTMH7QC3rY"
      }
    },
    {
      "cell_type": "code",
      "source": [
        "# Print the result of 2/1 and 1/2\n",
        "print(2/1)\n",
        "print(1/2)\n",
        "\n",
        "# Print the floored division result of 2//1 and 1//2\n",
        "print(2//1)\n",
        "print(1//2)\n",
        "\n",
        "# Print the type of 2/1 and 2//1\n",
        "print(type(2/1))\n",
        "print(type(2//1))"
      ],
      "metadata": {
        "colab": {
          "base_uri": "https://localhost:8080/"
        },
        "id": "Xe5X2BAHDSuM",
        "outputId": "49282dbd-abf3-4390-ea56-3ee7725a89c7"
      },
      "execution_count": null,
      "outputs": [
        {
          "output_type": "stream",
          "name": "stdout",
          "text": [
            "2.0\n",
            "0.5\n",
            "2\n",
            "0\n",
            "<class 'float'>\n",
            "<class 'int'>\n"
          ]
        }
      ]
    },
    {
      "cell_type": "markdown",
      "source": [
        "## Lesson 2: Booleans - The logical data type"
      ],
      "metadata": {
        "id": "_Rz8c0fODfwq"
      }
    },
    {
      "cell_type": "markdown",
      "source": [
        "### Booleans as a data type"
      ],
      "metadata": {
        "id": "PtgKL78JDjri"
      }
    },
    {
      "cell_type": "markdown",
      "source": [
        "* `True`\n",
        "* `False`\n",
        "Notice the capitalization as this can trip you up when switching\n",
        "between Python and other languages."
      ],
      "metadata": {
        "id": "cnE8-VfvDrBZ"
      }
    },
    {
      "cell_type": "code",
      "source": [
        "out_of_cookies = True\n",
        "if out_of_cookies:\n",
        "  print(\"Run to the store NOW!\")"
      ],
      "metadata": {
        "colab": {
          "base_uri": "https://localhost:8080/"
        },
        "id": "TMQ6rolcD4VA",
        "outputId": "1dfd5507-2053-4910-b57d-1496282721fc"
      },
      "execution_count": null,
      "outputs": [
        {
          "output_type": "stream",
          "name": "stdout",
          "text": [
            "Run to the store NOW!\n"
          ]
        }
      ]
    },
    {
      "cell_type": "markdown",
      "source": [
        "### Truthy and Falsey"
      ],
      "metadata": {
        "id": "ae7uYvLSDzvT"
      }
    },
    {
      "cell_type": "markdown",
      "source": [
        "* Truthy values are ones that will return true\n",
        "* Falsey values will evaluate to false"
      ],
      "metadata": {
        "id": "9YkwCRYYEAqw"
      }
    },
    {
      "cell_type": "code",
      "source": [
        "apples=2\n",
        "if apples:\n",
        "  print(\"We have apples.\")"
      ],
      "metadata": {
        "colab": {
          "base_uri": "https://localhost:8080/"
        },
        "id": "673v1n7jEHat",
        "outputId": "8ea07be1-1505-435a-fa59-2b7952756ae2"
      },
      "execution_count": null,
      "outputs": [
        {
          "output_type": "stream",
          "name": "stdout",
          "text": [
            "We have apples.\n"
          ]
        }
      ]
    },
    {
      "cell_type": "code",
      "source": [
        "apples=0\n",
        "if apples:\n",
        "  print('We have apples.')"
      ],
      "metadata": {
        "id": "a2gYaXT1EMPK"
      },
      "execution_count": null,
      "outputs": []
    },
    {
      "cell_type": "markdown",
      "source": [
        "**Truthy**\n",
        "* `1`\n",
        "* `\"Cookies\"`\n",
        "* `[\"Cake\", \"Pie\"]`\n",
        "* `{\"key\": \"value\"}`\n",
        "\n",
        "**Falsey**\n",
        "* `0`\n",
        "* `\"\"`\n",
        "* `[]`\n",
        "* `{}`\n",
        "* `None`"
      ],
      "metadata": {
        "id": "ChJYZf3eEZeR"
      }
    },
    {
      "cell_type": "markdown",
      "source": [
        "### Operators - a boolean evaluation context"
      ],
      "metadata": {
        "id": "ii30-hqaFIVU"
      }
    },
    {
      "cell_type": "code",
      "source": [
        "cookie_qty = 3\n",
        "cookie_qty == 3"
      ],
      "metadata": {
        "colab": {
          "base_uri": "https://localhost:8080/"
        },
        "id": "ZfKB5ek_FKrk",
        "outputId": "37d3fa3f-a76d-4181-ffce-b4f50c6d95f0"
      },
      "execution_count": null,
      "outputs": [
        {
          "output_type": "execute_result",
          "data": {
            "text/plain": [
              "True"
            ]
          },
          "metadata": {},
          "execution_count": 8
        }
      ]
    },
    {
      "cell_type": "markdown",
      "source": [
        "* `==` equal to\n",
        "* `!=` not equal to\n",
        "* `<` less than\n",
        "* `<=` less than or equal to\n",
        "* `>` greater than\n",
        "* `>=` greater than or equal to"
      ],
      "metadata": {
        "id": "3gF1DDJvFSer"
      }
    },
    {
      "cell_type": "markdown",
      "source": [
        "### Floats are approximately an issue"
      ],
      "metadata": {
        "id": "p6OCSjh9Fkw7"
      }
    },
    {
      "cell_type": "code",
      "source": [
        "x = 0.1 + 1.1\n",
        "x == 1.2"
      ],
      "metadata": {
        "colab": {
          "base_uri": "https://localhost:8080/"
        },
        "id": "yb4izl0YFlza",
        "outputId": "2429b989-c2ff-418f-d893-5daeb2b5dcda"
      },
      "execution_count": null,
      "outputs": [
        {
          "output_type": "execute_result",
          "data": {
            "text/plain": [
              "False"
            ]
          },
          "metadata": {},
          "execution_count": 9
        }
      ]
    },
    {
      "cell_type": "code",
      "source": [
        "print(x)"
      ],
      "metadata": {
        "colab": {
          "base_uri": "https://localhost:8080/"
        },
        "id": "JmYmEq5PFrJ6",
        "outputId": "627aea82-9fd0-46a1-d3aa-5ae64c23e4ef"
      },
      "execution_count": null,
      "outputs": [
        {
          "output_type": "stream",
          "name": "stdout",
          "text": [
            "1.2000000000000002\n"
          ]
        }
      ]
    },
    {
      "cell_type": "markdown",
      "source": [
        "**Be careful with equality comparisons of floats!**"
      ],
      "metadata": {
        "id": "Wo09YaKPFu5y"
      }
    },
    {
      "cell_type": "markdown",
      "source": [
        "### Excercise 1: More than just true and false"
      ],
      "metadata": {
        "id": "mRCAVRBWF8rD"
      }
    },
    {
      "cell_type": "markdown",
      "source": [
        "Python has two boolean values available for you to use: `True` and `False`. Most commonly these boolean values are used to indicate that something is on or off, yes or no, or similar states. Additionally, many python types return \"truthy\" or \"falsey\" values depending on their condition when evaluated using the `bool()` function."
      ],
      "metadata": {
        "id": "lSAUdNbjF_pb"
      }
    },
    {
      "cell_type": "markdown",
      "source": [
        "**Instructions**\n",
        "* Create an empty list called `my_list`\n",
        "* Print the truthiness of `my_list`.\n",
        "* Append the string `'cookies'` to `my_list`\n",
        "* Print the truthiness of `my_list`."
      ],
      "metadata": {
        "id": "SkUUquHrGM7m"
      }
    },
    {
      "cell_type": "code",
      "source": [
        "# Create an empty list\n",
        "my_list = []\n",
        "\n",
        "# Check the truthiness of my_list\n",
        "print(bool(my_list))\n",
        "\n",
        "# Append the string 'cookies' to my_list\n",
        "my_list.append('cookies')\n",
        "\n",
        "# Check the truthiness of my_list\n",
        "print(bool(my_list))"
      ],
      "metadata": {
        "colab": {
          "base_uri": "https://localhost:8080/"
        },
        "id": "CrUajdSNG8-f",
        "outputId": "f983cbab-1477-488b-cd1f-fa407131e8c2"
      },
      "execution_count": null,
      "outputs": [
        {
          "output_type": "stream",
          "name": "stdout",
          "text": [
            "False\n",
            "True\n"
          ]
        }
      ]
    },
    {
      "cell_type": "markdown",
      "source": [
        "### Excercise 2: Comparisons"
      ],
      "metadata": {
        "id": "8GC-tPBWHJwL"
      }
    },
    {
      "cell_type": "markdown",
      "source": [
        "Booleans and their truthiness are most often used in comparisions, and we use comparisions without even thinking about their underlying data type. To perform a comparision, we can use a comparision operator. Python supports the following comparision operators:\n",
        "\n",
        "* `==` equal to\n",
        "* `!=` not equal to\n",
        "* `>` greater than\n",
        "* `<` less than\n",
        "* `>=` greater than or equal to\n",
        "* `<=` less than or equal to\n",
        "\n",
        "For this exercise, we'll be using a subset of the Palmer Archipelago (Antarctica) penguin data set, named `penguins`, as a list of dictionaries with the keys of `species`, `flipper_length`, `body_mass` and `sex`."
      ],
      "metadata": {
        "id": "JhT48mW0HMom"
      }
    },
    {
      "cell_type": "markdown",
      "source": [
        "**Instructions**\n",
        "* Use a for loop to iterate over the `penguins` list.\n",
        "* Check the penguin entry for a `body_mass` of more than 3300 grams.\n",
        "* Print the `species` and `sex` of the penguin if true."
      ],
      "metadata": {
        "id": "Q8h6BtQXH7-S"
      }
    },
    {
      "cell_type": "code",
      "source": [
        "penguins = [{'species': 'Adlie',\n",
        "              'flipper_length': 190.0,\n",
        "              'body_mass': 3050.0,\n",
        "              'sex': 'FEMALE'},\n",
        "            {'species': 'Adlie',\n",
        "              'flipper_length': 184.0,\n",
        "              'body_mass': 3325.0,\n",
        "              'sex': 'FEMALE'},\n",
        "            {'species': 'Gentoo',\n",
        "              'flipper_length': 209.0,\n",
        "              'body_mass': 4800.0,\n",
        "              'sex': 'FEMALE'},\n",
        "            {'species': 'Adlie',\n",
        "              'flipper_length': 193.0,\n",
        "              'body_mass': 4200.0,\n",
        "              'sex': 'MALE'},\n",
        "            {'species': 'Gentoo',\n",
        "              'flipper_length': 210.0,\n",
        "              'body_mass': 4400.0,\n",
        "              'sex': 'FEMALE'},\n",
        "            {'species': 'Gentoo',\n",
        "              'flipper_length': 213.0,\n",
        "              'body_mass': 4650.0,\n",
        "              'sex': 'FEMALE'},\n",
        "            {'species': 'Chinstrap',\n",
        "              'flipper_length': 193.0,\n",
        "              'body_mass': 3600.0,\n",
        "              'sex': 'FEMALE'},\n",
        "            {'species': 'Adlie',\n",
        "              'flipper_length': 193.0,\n",
        "              'body_mass': 3800.0,\n",
        "              'sex': 'MALE'},\n",
        "            {'species': 'Chinstrap',\n",
        "              'flipper_length': 199.0,\n",
        "              'body_mass': 3900.0,\n",
        "              'sex': 'FEMALE'},\n",
        "            {'species': 'Chinstrap',\n",
        "              'flipper_length': 195.0,\n",
        "              'body_mass': 3650.0,\n",
        "              'sex': 'FEMALE'},\n",
        "            {'species': 'Adlie',\n",
        "              'flipper_length': 185.0,\n",
        "              'body_mass': 3700.0,\n",
        "              'sex': 'FEMALE'},\n",
        "            {'species': 'Gentoo',\n",
        "              'flipper_length': 208.0,\n",
        "              'body_mass': 4575.0,\n",
        "              'sex': 'FEMALE'},\n",
        "            {'species': 'Adlie',\n",
        "              'flipper_length': 196.0,\n",
        "              'body_mass': 4350.0,\n",
        "              'sex': 'MALE'},\n",
        "            {'species': 'Adlie',\n",
        "              'flipper_length': 191.0,\n",
        "              'body_mass': 3700.0,\n",
        "              'sex': 'FEMALE'},\n",
        "            {'species': 'Chinstrap',\n",
        "              'flipper_length': 195.0,\n",
        "              'body_mass': 3300.0,\n",
        "              'sex': 'FEMALE'},\n",
        "            {'species': 'Adlie',\n",
        "              'flipper_length': 195.0,\n",
        "              'body_mass': 3450.0,\n",
        "              'sex': 'FEMALE'},\n",
        "            {'species': 'Gentoo',\n",
        "              'flipper_length': 217.0,\n",
        "              'body_mass': 4875.0,\n",
        "              'sex': '.'},\n",
        "            {'species': 'Gentoo',\n",
        "              'flipper_length': 212.0,\n",
        "              'body_mass': 4875.0,\n",
        "              'sex': 'FEMALE'},\n",
        "            {'species': 'Adlie',\n",
        "              'flipper_length': 205.0,\n",
        "              'body_mass': 4300.0,\n",
        "              'sex': 'MALE'},\n",
        "            {'species': 'Gentoo',\n",
        "              'flipper_length': 220.0,\n",
        "              'body_mass': 6000.0,\n",
        "              'sex': 'MALE'}]"
      ],
      "metadata": {
        "id": "yfH0gqvtIM_K"
      },
      "execution_count": null,
      "outputs": []
    },
    {
      "cell_type": "code",
      "source": [
        "# Use a for loop to iterate over the penguins list\n",
        "for penguin in penguins:\n",
        "  # Check the penguin entry for a body mass of more than 3300 grams\n",
        "  if penguin[\"body_mass\"] > 3300 :\n",
        "  \t# Print the species and sex of the penguin if true\n",
        "    print(f\"{penguin['species']} - {penguin['sex']}\")"
      ],
      "metadata": {
        "colab": {
          "base_uri": "https://localhost:8080/"
        },
        "id": "dgO3erpNJFMO",
        "outputId": "f59210fa-3231-4c28-dac7-2fdfb1500042"
      },
      "execution_count": null,
      "outputs": [
        {
          "output_type": "stream",
          "name": "stdout",
          "text": [
            "Adlie - FEMALE\n",
            "Gentoo - FEMALE\n",
            "Adlie - MALE\n",
            "Gentoo - FEMALE\n",
            "Gentoo - FEMALE\n",
            "Chinstrap - FEMALE\n",
            "Adlie - MALE\n",
            "Chinstrap - FEMALE\n",
            "Chinstrap - FEMALE\n",
            "Adlie - FEMALE\n",
            "Gentoo - FEMALE\n",
            "Adlie - MALE\n",
            "Adlie - FEMALE\n",
            "Adlie - FEMALE\n",
            "Gentoo - .\n",
            "Gentoo - FEMALE\n",
            "Adlie - MALE\n",
            "Gentoo - MALE\n"
          ]
        }
      ]
    },
    {
      "cell_type": "markdown",
      "source": [
        "### Excercise 3: Truthy, True, Falsey, and False"
      ],
      "metadata": {
        "id": "xdYBCQhNJSgD"
      }
    },
    {
      "cell_type": "markdown",
      "source": [
        "While comparisons check for truthiness, something being truthy is not the same as it being `True`. The inverse of that statement is also true about falsey values and them not being `False`. So we need to be vigilent when we are checking is something is `True` or `False` vs truthy or falsey. In Python, we have the `is` operator to check if two things are identical. This time we'll be using a penguin details record dictionary which has the same keys as the prior exercise (`species`, `flipper_length`, `body_mass`, `sex`) with the `tracked` key that has a boolean value.\n",
        "\n",
        "We loaded a dictionary, `penguin_305_details`, with all the details of a singular penguin's data."
      ],
      "metadata": {
        "id": "2rnmlDjxJ8BC"
      }
    },
    {
      "cell_type": "code",
      "source": [
        "penguin_305_details = {'species': 'Adlie',\n",
        "                      'flipper_length': 190.0,\n",
        "                      'body_mass': 3050.0,\n",
        "                      'tracked': True,\n",
        "                      'sex': 'FEMALE'}"
      ],
      "metadata": {
        "id": "GbNGNUfZKby6"
      },
      "execution_count": null,
      "outputs": []
    },
    {
      "cell_type": "markdown",
      "source": [
        "**Instructions**\n",
        "* Check the truthiness of `penguin_305_details` `sex` key.\n",
        "  * If true, check if `sex` is `True` and store it as `sex_is_true`.\n",
        "  * Print the `sex` key and `sex_is_true`.\n",
        "* Check the truthiness of `penguin_305_details` tracked key.\n",
        "  * If true, check if `tracked` is `True` and store it as `tracked_is_true`.\n",
        "  * Print the `tracked` key and `tracked_is_true`."
      ],
      "metadata": {
        "id": "IpTt6z1gKpeM"
      }
    },
    {
      "cell_type": "code",
      "source": [
        "# Check the truthiness of penguin_305_details sex key\n",
        "if penguin_305_details[\"sex\"]:\n",
        "\t# If true, check if sex is True and store it as sex_is_true\n",
        "    sex_is_true = penguin_305_details[\"sex\"] is True\n",
        "    # Print the sex key's value and sex_is_true\n",
        "    print(f\"{penguin_305_details['sex']}: {sex_is_true}\")\n",
        "\n",
        "# Check the truthiness of penguin_305_details tracked key\n",
        "if penguin_305_details[\"tracked\"]:\n",
        "\t# If true, check if tracked is True and store it as tracked_is_true\n",
        "    tracked_is_true = penguin_305_details[\"tracked\"] is True\n",
        "    # Print the tracked key and tracked_is_true\n",
        "    print(f\"{penguin_305_details['tracked']}: {tracked_is_true}\")"
      ],
      "metadata": {
        "colab": {
          "base_uri": "https://localhost:8080/"
        },
        "id": "VvxH13pnLL8g",
        "outputId": "ec33ff1a-4a25-443c-8ca7-57f6ad48331d"
      },
      "execution_count": null,
      "outputs": [
        {
          "output_type": "stream",
          "name": "stdout",
          "text": [
            "FEMALE: False\n",
            "True: True\n"
          ]
        }
      ]
    },
    {
      "cell_type": "markdown",
      "source": [
        "## Lesson 3: Sets (unordered data with optimized logic operations)"
      ],
      "metadata": {
        "id": "g7FUsO9iRaLg"
      }
    },
    {
      "cell_type": "markdown",
      "source": [
        "### Set\n"
      ],
      "metadata": {
        "id": "y18DWScORzSY"
      }
    },
    {
      "cell_type": "markdown",
      "source": [
        "* Unique\n",
        "* Unordered\n",
        "* Mutable\n",
        "* Python's implementation of Set Theory from Mathematics"
      ],
      "metadata": {
        "id": "AA_Y3jv9R7f4"
      }
    },
    {
      "cell_type": "markdown",
      "source": [
        "### Creating sets"
      ],
      "metadata": {
        "id": "-8ktFeOeSE2x"
      }
    },
    {
      "cell_type": "markdown",
      "source": [
        "* Sets are created from a list"
      ],
      "metadata": {
        "id": "ZqkYX3h1SIPh"
      }
    },
    {
      "cell_type": "code",
      "source": [
        "cookies_eaten_today = ['chocolate chip', 'peanut butter',\n",
        "                        'chocolate chip', 'oatmeal cream', 'chocolate chip']\n",
        "types_of_cookies_eaten = set(cookies_eaten_today)\n",
        "print(types_of_cookies_eaten)"
      ],
      "metadata": {
        "colab": {
          "base_uri": "https://localhost:8080/"
        },
        "id": "OiYzU19TSLc7",
        "outputId": "81c9efcd-20ea-4ee4-8e64-631c094c7255"
      },
      "execution_count": null,
      "outputs": [
        {
          "output_type": "stream",
          "name": "stdout",
          "text": [
            "{'chocolate chip', 'peanut butter', 'oatmeal cream'}\n"
          ]
        }
      ]
    },
    {
      "cell_type": "markdown",
      "source": [
        "### Modifying sets"
      ],
      "metadata": {
        "id": "ERyjt4kWSioQ"
      }
    },
    {
      "cell_type": "markdown",
      "source": [
        "* `.add()` adds single elements"
      ],
      "metadata": {
        "id": "6AdTE4BeSmfh"
      }
    },
    {
      "cell_type": "code",
      "source": [
        "types_of_cookies_eaten.add('biscotti')\n",
        "types_of_cookies_eaten.add('chocolate chip')\n",
        "print(types_of_cookies_eaten)"
      ],
      "metadata": {
        "colab": {
          "base_uri": "https://localhost:8080/"
        },
        "id": "w7SWWkoTStS4",
        "outputId": "009e7d05-26f3-41c5-875f-27e3aad9ea03"
      },
      "execution_count": null,
      "outputs": [
        {
          "output_type": "stream",
          "name": "stdout",
          "text": [
            "{'chocolate chip', 'biscotti', 'peanut butter', 'oatmeal cream'}\n"
          ]
        }
      ]
    },
    {
      "cell_type": "markdown",
      "source": [
        "### Updating sets"
      ],
      "metadata": {
        "id": "4NLpEkd9S2Wh"
      }
    },
    {
      "cell_type": "markdown",
      "source": [
        "* `.update()` merges in another set or list"
      ],
      "metadata": {
        "id": "vcz1N8pPS7WM"
      }
    },
    {
      "cell_type": "code",
      "source": [
        "cookies_hugo_ate = ['chocolate chip', 'anzac']\n",
        "types_of_cookies_eaten.update(cookies_hugo_ate)\n",
        "print(types_of_cookies_eaten)"
      ],
      "metadata": {
        "colab": {
          "base_uri": "https://localhost:8080/"
        },
        "id": "Ki_l-oYaTBB_",
        "outputId": "47a55b54-7787-43ad-ecb8-5b160552b19f"
      },
      "execution_count": null,
      "outputs": [
        {
          "output_type": "stream",
          "name": "stdout",
          "text": [
            "{'chocolate chip', 'biscotti', 'anzac', 'peanut butter', 'oatmeal cream'}\n"
          ]
        }
      ]
    },
    {
      "cell_type": "markdown",
      "source": [
        "### Removing data from sets"
      ],
      "metadata": {
        "id": "DaBsIBY8TNcJ"
      }
    },
    {
      "cell_type": "markdown",
      "source": [
        "* `.discard()` safely removes an element from the set by value\n",
        "* `.pop()` removes and returns an arbitrary element from the\n",
        "set (KeyError when empty)"
      ],
      "metadata": {
        "id": "2T-wb6V3TPDk"
      }
    },
    {
      "cell_type": "code",
      "source": [
        "types_of_cookies_eaten.discard('biscotti')\n",
        "print(types_of_cookies_eaten)"
      ],
      "metadata": {
        "colab": {
          "base_uri": "https://localhost:8080/"
        },
        "id": "nRtaJTlSTXrZ",
        "outputId": "f6fef364-216a-4eba-eb00-a7d9fece72c4"
      },
      "execution_count": null,
      "outputs": [
        {
          "output_type": "stream",
          "name": "stdout",
          "text": [
            "{'chocolate chip', 'anzac', 'peanut butter', 'oatmeal cream'}\n"
          ]
        }
      ]
    },
    {
      "cell_type": "code",
      "source": [
        "types_of_cookies_eaten.pop()\n",
        "types_of_cookies_eaten.pop()"
      ],
      "metadata": {
        "colab": {
          "base_uri": "https://localhost:8080/",
          "height": 36
        },
        "id": "XsjTD1r7TeLR",
        "outputId": "a97438f0-7272-4a1f-db64-dc917d0623c3"
      },
      "execution_count": null,
      "outputs": [
        {
          "output_type": "execute_result",
          "data": {
            "text/plain": [
              "'anzac'"
            ],
            "application/vnd.google.colaboratory.intrinsic+json": {
              "type": "string"
            }
          },
          "metadata": {},
          "execution_count": 29
        }
      ]
    },
    {
      "cell_type": "markdown",
      "source": [
        "### Set operations - similarities"
      ],
      "metadata": {
        "id": "EILw7_AZT00-"
      }
    },
    {
      "cell_type": "markdown",
      "source": [
        "* `.union()` set method returns a set of all the names ( `or` )\n",
        "* `.intersection()` method identifies overlapping data ( `and` )"
      ],
      "metadata": {
        "id": "oMsAJ8POT2Kd"
      }
    },
    {
      "cell_type": "code",
      "source": [
        "cookies_jason_ate = set(['chocolate chip', 'oatmeal cream', 'peanut butter'])\n",
        "cookies_hugo_ate = set(['chocolate chip', 'anzac'])\n",
        "cookies_jason_ate.union(cookies_hugo_ate)"
      ],
      "metadata": {
        "colab": {
          "base_uri": "https://localhost:8080/"
        },
        "id": "GgpxupbRUEdo",
        "outputId": "8ea59b21-b716-4736-ca84-7888591eb1ef"
      },
      "execution_count": null,
      "outputs": [
        {
          "output_type": "execute_result",
          "data": {
            "text/plain": [
              "{'anzac', 'chocolate chip', 'oatmeal cream', 'peanut butter'}"
            ]
          },
          "metadata": {},
          "execution_count": 31
        }
      ]
    },
    {
      "cell_type": "code",
      "source": [
        "cookies_jason_ate.intersection(cookies_hugo_ate)"
      ],
      "metadata": {
        "colab": {
          "base_uri": "https://localhost:8080/"
        },
        "id": "8nVPwuQYUK2u",
        "outputId": "a671ed96-d6e9-45dd-bd8b-901a4aae6b24"
      },
      "execution_count": null,
      "outputs": [
        {
          "output_type": "execute_result",
          "data": {
            "text/plain": [
              "{'chocolate chip'}"
            ]
          },
          "metadata": {},
          "execution_count": 32
        }
      ]
    },
    {
      "cell_type": "markdown",
      "source": [
        "### Set operations - differences\n"
      ],
      "metadata": {
        "id": "pLzwaxXnUPvs"
      }
    },
    {
      "cell_type": "markdown",
      "source": [
        "* `.difference()` method identifies data present in the set on which the method was used that is not in the arguments ( `-` )\n",
        "\n",
        "* Target is important!"
      ],
      "metadata": {
        "id": "1gpD5xdnUUxi"
      }
    },
    {
      "cell_type": "code",
      "source": [
        "cookies_jason_ate.difference(cookies_hugo_ate)"
      ],
      "metadata": {
        "colab": {
          "base_uri": "https://localhost:8080/"
        },
        "id": "jxc8U4DPUfT6",
        "outputId": "86258d75-7420-4529-8394-f2372a00a406"
      },
      "execution_count": null,
      "outputs": [
        {
          "output_type": "execute_result",
          "data": {
            "text/plain": [
              "{'oatmeal cream', 'peanut butter'}"
            ]
          },
          "metadata": {},
          "execution_count": 33
        }
      ]
    },
    {
      "cell_type": "code",
      "source": [
        "cookies_hugo_ate.difference(cookies_jason_ate)"
      ],
      "metadata": {
        "colab": {
          "base_uri": "https://localhost:8080/"
        },
        "id": "BpcH0H59UqaP",
        "outputId": "ed85f3ad-8842-4cff-b663-8355750dcd9d"
      },
      "execution_count": null,
      "outputs": [
        {
          "output_type": "execute_result",
          "data": {
            "text/plain": [
              "{'anzac'}"
            ]
          },
          "metadata": {},
          "execution_count": 34
        }
      ]
    },
    {
      "cell_type": "markdown",
      "source": [
        "### Excercise 1: Determining set differences"
      ],
      "metadata": {
        "id": "ci_u808xVk4P"
      }
    },
    {
      "cell_type": "markdown",
      "source": [
        "Another way of comparing sets is to use the `difference()` method. It returns all the items found in one set but not another. It's important to remember the set you call the method on will be the one from which the items are returned. Unlike tuples, you can `add()` items to a set. A set will only add items that do not exist in the set.\n",
        "\n",
        "In this exercise, you'll explore what species had male subjects in our sample, but didn't have female subjects. The set `male_penguin_species` has been pre-loaded into your workspace."
      ],
      "metadata": {
        "id": "aGv7oWLsVraa"
      }
    },
    {
      "cell_type": "code",
      "source": [
        "male_penguin_species = {'Adlie', 'Gentoo'}\n",
        "penguins = [{'species': 'Adlie',\n",
        "            'flipper_length': 190.0,\n",
        "            'body_mass': 3050.0,\n",
        "            'sex': 'FEMALE'},\n",
        "          {'species': 'Adlie',\n",
        "            'flipper_length': 184.0,\n",
        "            'body_mass': 3325.0,\n",
        "            'sex': 'FEMALE'},\n",
        "          {'species': 'Gentoo',\n",
        "            'flipper_length': 209.0,\n",
        "            'body_mass': 4800.0,\n",
        "            'sex': 'FEMALE'},\n",
        "          {'species': 'Adlie',\n",
        "            'flipper_length': 193.0,\n",
        "            'body_mass': 4200.0,\n",
        "            'sex': 'MALE'},\n",
        "          {'species': 'Gentoo',\n",
        "            'flipper_length': 210.0,\n",
        "            'body_mass': 4400.0,\n",
        "            'sex': 'FEMALE'},\n",
        "          {'species': 'Gentoo',\n",
        "            'flipper_length': 213.0,\n",
        "            'body_mass': 4650.0,\n",
        "            'sex': 'FEMALE'},\n",
        "          {'species': 'Chinstrap',\n",
        "            'flipper_length': 193.0,\n",
        "            'body_mass': 3600.0,\n",
        "            'sex': 'FEMALE'},\n",
        "          {'species': 'Adlie',\n",
        "            'flipper_length': 193.0,\n",
        "            'body_mass': 3800.0,\n",
        "            'sex': 'MALE'},\n",
        "          {'species': 'Chinstrap',\n",
        "            'flipper_length': 199.0,\n",
        "            'body_mass': 3900.0,\n",
        "            'sex': 'FEMALE'},\n",
        "          {'species': 'Chinstrap',\n",
        "            'flipper_length': 195.0,\n",
        "            'body_mass': 3650.0,\n",
        "            'sex': 'FEMALE'},\n",
        "          {'species': 'Adlie',\n",
        "            'flipper_length': 185.0,\n",
        "            'body_mass': 3700.0,\n",
        "            'sex': 'FEMALE'},\n",
        "          {'species': 'Gentoo',\n",
        "            'flipper_length': 208.0,\n",
        "            'body_mass': 4575.0,\n",
        "            'sex': 'FEMALE'},\n",
        "          {'species': 'Adlie',\n",
        "            'flipper_length': 196.0,\n",
        "            'body_mass': 4350.0,\n",
        "            'sex': 'MALE'},\n",
        "          {'species': 'Adlie',\n",
        "            'flipper_length': 191.0,\n",
        "            'body_mass': 3700.0,\n",
        "            'sex': 'FEMALE'},\n",
        "          {'species': 'Chinstrap',\n",
        "            'flipper_length': 195.0,\n",
        "            'body_mass': 3300.0,\n",
        "            'sex': 'FEMALE'},\n",
        "          {'species': 'Adlie',\n",
        "            'flipper_length': 195.0,\n",
        "            'body_mass': 3450.0,\n",
        "            'sex': 'FEMALE'},\n",
        "          {'species': 'Gentoo',\n",
        "            'flipper_length': 217.0,\n",
        "            'body_mass': 4875.0,\n",
        "            'sex': '.'},\n",
        "          {'species': 'Gentoo',\n",
        "            'flipper_length': 212.0,\n",
        "            'body_mass': 4875.0,\n",
        "            'sex': 'FEMALE'},\n",
        "          {'species': 'Adlie',\n",
        "            'flipper_length': 205.0,\n",
        "            'body_mass': 4300.0,\n",
        "            'sex': 'MALE'},\n",
        "          {'species': 'Gentoo',\n",
        "            'flipper_length': 220.0,\n",
        "            'body_mass': 6000.0,\n",
        "            'sex': 'MALE'}]"
      ],
      "metadata": {
        "id": "1N-hDzJeV18a"
      },
      "execution_count": null,
      "outputs": []
    },
    {
      "cell_type": "markdown",
      "source": [
        "**Instructions**\n",
        "* Use a list comprehension to iterate over each `penguin` in `penguins` saved as `female_species_list`:\n",
        "  * If the the sex of the penguin is `'FEMALE'`, return the `species` value.\n",
        "* Create a set using the `female_species_list` as `female_penguin_species`.\n",
        "* Find the difference between `female_penguin_species` and `male_penguin_species`. Store the result as differences.\n",
        "* Print the differences. This has been done for you, so hit 'Submit Answer' to see the result!"
      ],
      "metadata": {
        "id": "J07bwlNhV6lH"
      }
    },
    {
      "cell_type": "code",
      "source": [
        "# Use a list comprehension to iterate over each penguin in penguins saved as female_species_list\n",
        "# If the the sex of the penguin is 'FEMALE', return the species value\n",
        "female_species_list = [penguin[\"species\"] for penguin in penguins if penguin[\"sex\"] == 'FEMALE']\n",
        "\n",
        "# Create a set using the female_species_list as female_penguin_species\n",
        "female_penguin_species = set(female_species_list)\n",
        "\n",
        "# Find the difference between female_penguin_species and male_penguin_species. Store the result as differences\n",
        "differences = female_penguin_species.difference(male_penguin_species)\n",
        "\n",
        "# Print the differences\n",
        "print(differences)"
      ],
      "metadata": {
        "colab": {
          "base_uri": "https://localhost:8080/"
        },
        "id": "2yVDFMT7XS_2",
        "outputId": "cb31d316-0c71-4a86-92c0-5ce6a0498077"
      },
      "execution_count": null,
      "outputs": [
        {
          "output_type": "stream",
          "name": "stdout",
          "text": [
            "{'Chinstrap'}\n"
          ]
        }
      ]
    },
    {
      "cell_type": "markdown",
      "source": [
        "### Excercise 2: Finding all the data and the overlapping data between sets"
      ],
      "metadata": {
        "id": "AHHyUVWhXqd2"
      }
    },
    {
      "cell_type": "markdown",
      "source": [
        "Sets have several methods to combine, compare, and study them all based on mathematical set theory. The `.union()` method returns a set of all the elements found in the set you used the method on plus any sets passed as arguments to the method. You can also look for overlapping data in sets by using the `.intersection()` method on a set and passing another set as an argument. It will return an empty set if nothing matches.\n",
        "\n",
        "Your job in this exercise is to find the union and intersection in the species from male and female penguins. For this purpose, two sets have been pre-loaded into your workspace: `female_penguin_species` and `male_penguin_species`."
      ],
      "metadata": {
        "id": "6Ix2_ALGXtBL"
      }
    },
    {
      "cell_type": "code",
      "source": [
        "female_penguin_species = {'Adlie', 'Chinstrap', 'Gentoo'}\n",
        "male_penguin_species = {'Adlie', 'Gentoo'}"
      ],
      "metadata": {
        "id": "s8w-eEXjYCgW"
      },
      "execution_count": null,
      "outputs": []
    },
    {
      "cell_type": "markdown",
      "source": [
        "**Instructions**\n",
        "* Combine all the species in `female_penguin_species` and `male_penguin_species` by computing their union. Store the result as all_species.\n",
        "* Print the number of species in `all_species`. You can use the `len()` function to compute the number of species in `all_species`.\n",
        "* Find all the species that occur in both `female_penguin_species` and `male_penguin_species` by computing their intersection. Store the result as `overlapping_species`.\n",
        "* Print the number of species in `overlapping_species`."
      ],
      "metadata": {
        "id": "Nnn-gw29YS5q"
      }
    },
    {
      "cell_type": "code",
      "source": [
        "# Find the union: all_species\n",
        "all_species = female_penguin_species.union(male_penguin_species)\n",
        "\n",
        "# Print the count of names in all_species\n",
        "print(len(all_species))\n",
        "\n",
        "# Find the intersection: overlapping_species\n",
        "overlapping_species = female_penguin_species.intersection(male_penguin_species)\n",
        "\n",
        "# Print the count of species in overlapping_species\n",
        "print(len(overlapping_species))"
      ],
      "metadata": {
        "colab": {
          "base_uri": "https://localhost:8080/"
        },
        "id": "-4eCmwUeZAVP",
        "outputId": "1c102a5b-8d41-40dc-f198-2daf81ec5b14"
      },
      "execution_count": null,
      "outputs": [
        {
          "output_type": "stream",
          "name": "stdout",
          "text": [
            "3\n",
            "2\n"
          ]
        }
      ]
    },
    {
      "cell_type": "markdown",
      "source": [
        "# CHAPTER 4: Advanced Data Types"
      ],
      "metadata": {
        "id": "UVIXxMgHl6mi"
      }
    },
    {
      "cell_type": "markdown",
      "source": [
        "Some data types are composites of other data types and give me even more capabilities than a fundamental data type. Let's explore a few complex types from the collections module and data classes."
      ],
      "metadata": {
        "id": "KnxGOS7cmFSj"
      }
    },
    {
      "cell_type": "markdown",
      "source": [
        "## Lesson 1: Counting made easy"
      ],
      "metadata": {
        "id": "lh3jYlcfaKo-"
      }
    },
    {
      "cell_type": "markdown",
      "source": [
        "### Collections Module"
      ],
      "metadata": {
        "id": "b1QWU2Q8aPYA"
      }
    },
    {
      "cell_type": "markdown",
      "source": [
        "* Part of Standard Library\n",
        "* Advanced data containers"
      ],
      "metadata": {
        "id": "llVR1fCraQvG"
      }
    },
    {
      "cell_type": "markdown",
      "source": [
        "### Counter"
      ],
      "metadata": {
        "id": "sJM7Qr7VaYyq"
      }
    },
    {
      "cell_type": "markdown",
      "source": [
        "* Special dictionary used for counting data, measuring frequency"
      ],
      "metadata": {
        "id": "v-DyzP5uabPV"
      }
    },
    {
      "cell_type": "code",
      "source": [
        "nyc_eatery_types = [\n",
        "    \"Mobile Food Truck\", \"Food Cart\", \"Mobile Food Truck\", \"Snack Bar\",\n",
        "    \"Specialty Cart\", \"Restaurant\", \"Food Cart\", \"Mobile Food Truck\",\n",
        "    \"Fruit & Vegetable Cart\", \"Mobile Food Truck\", \"Snack Bar\",\n",
        "    \"Mobile Food Truck\", \"Restaurant\", \"Food Cart\", \"Food Cart\",\n",
        "    \"Specialty Cart\", \"Snack Bar\", \"Mobile Food Truck\", \"Restaurant\",\n",
        "    \"Food Cart\", \"Food Cart\", \"Mobile Food Truck\", \"Specialty Cart\",\n",
        "    \"Mobile Food Truck\", \"Snack Bar\", \"Fruit & Vegetable Cart\",\n",
        "    \"Mobile Food Truck\", \"Food Cart\", \"Mobile Food Truck\",\n",
        "    \"Mobile Food Truck\", \"Snack Bar\", \"Food Cart\", \"Restaurant\",\n",
        "    \"Food Cart\", \"Snack Bar\", \"Mobile Food Truck\", \"Specialty Cart\",\n",
        "    \"Fruit & Vegetable Cart\", \"Mobile Food Truck\", \"Mobile Food Truck\",\n",
        "] * 3"
      ],
      "metadata": {
        "id": "oBcksIR1cOFG"
      },
      "execution_count": null,
      "outputs": []
    },
    {
      "cell_type": "code",
      "execution_count": null,
      "metadata": {
        "id": "y0xY17C7lC76",
        "colab": {
          "base_uri": "https://localhost:8080/"
        },
        "outputId": "450240c9-24b0-477a-c579-f1d5f9d82b3c"
      },
      "outputs": [
        {
          "output_type": "stream",
          "name": "stdout",
          "text": [
            "Counter({'Mobile Food Truck': 42, 'Food Cart': 27, 'Snack Bar': 18, 'Specialty Cart': 12, 'Restaurant': 12, 'Fruit & Vegetable Cart': 9})\n"
          ]
        }
      ],
      "source": [
        "from collections import Counter\n",
        "nyc_eatery_count_by_types = Counter(nyc_eatery_types)\n",
        "print(nyc_eatery_count_by_types)"
      ]
    },
    {
      "cell_type": "code",
      "source": [
        "print(nyc_eatery_count_by_types['Restaurant'])"
      ],
      "metadata": {
        "colab": {
          "base_uri": "https://localhost:8080/"
        },
        "id": "UBIAmVCda_1K",
        "outputId": "064841fa-d591-44fa-87bd-886315e275ea"
      },
      "execution_count": null,
      "outputs": [
        {
          "output_type": "stream",
          "name": "stdout",
          "text": [
            "12\n"
          ]
        }
      ]
    },
    {
      "cell_type": "markdown",
      "source": [
        "### Counter to find the most common"
      ],
      "metadata": {
        "id": "FC0_cbWybHhu"
      }
    },
    {
      "cell_type": "markdown",
      "source": [
        "* `.most_common()` method returns the counter values in descending order"
      ],
      "metadata": {
        "id": "80usWuQgbK8x"
      }
    },
    {
      "cell_type": "code",
      "source": [
        "print(nyc_eatery_count_by_types.most_common(3))"
      ],
      "metadata": {
        "colab": {
          "base_uri": "https://localhost:8080/"
        },
        "id": "sPektieNbSM2",
        "outputId": "d8b2c98f-0c6d-4e79-8186-4ec8b7850ab7"
      },
      "execution_count": null,
      "outputs": [
        {
          "output_type": "stream",
          "name": "stdout",
          "text": [
            "[('Mobile Food Truck', 42), ('Food Cart', 27), ('Snack Bar', 18)]\n"
          ]
        }
      ]
    },
    {
      "cell_type": "markdown",
      "source": [
        "### Excercise 1: Using Counter on lists"
      ],
      "metadata": {
        "id": "fZZgMccpcs40"
      }
    },
    {
      "cell_type": "markdown",
      "source": [
        "`Counter` is a powerful tool for counting, validating, and learning more about the elements within a dataset that is found in the collections module. You pass an iterable (list, set, tuple) or a dictionary to the Counter. You can also use the Counter object similarly to a dictionary with key/value assignment, for example `counter[key] = value`.\n",
        "\n",
        "A common usage for `Counter` is checking data for consistency prior to using it, so let's do just that."
      ],
      "metadata": {
        "id": "k1Pk9ygHcv38"
      }
    },
    {
      "cell_type": "code",
      "source": [
        "penguins = [{'Species': 'Gentoo',\n",
        "  'Flipper Length (mm)': 230.0,\n",
        "  'Body Mass (g)': 5500.0,\n",
        "  'Sex': 'MALE'},\n",
        " {'Species': 'Chinstrap',\n",
        "  'Flipper Length (mm)': 201.0,\n",
        "  'Body Mass (g)': 4300.0,\n",
        "  'Sex': 'MALE'},\n",
        " {'Species': 'Adlie',\n",
        "  'Flipper Length (mm)': 180.0,\n",
        "  'Body Mass (g)': 3800.0,\n",
        "  'Sex': 'MALE'},\n",
        " {'Species': 'Gentoo',\n",
        "  'Flipper Length (mm)': 229.0,\n",
        "  'Body Mass (g)': 5800.0,\n",
        "  'Sex': 'MALE'},\n",
        " {'Species': 'Chinstrap',\n",
        "  'Flipper Length (mm)': 210.0,\n",
        "  'Body Mass (g)': 4100.0,\n",
        "  'Sex': 'MALE'},\n",
        " {'Species': 'Adlie',\n",
        "  'Flipper Length (mm)': 200.0,\n",
        "  'Body Mass (g)': 3975.0,\n",
        "  'Sex': 'MALE'},\n",
        " {'Species': 'Gentoo',\n",
        "  'Flipper Length (mm)': 225.0,\n",
        "  'Body Mass (g)': 5400.0,\n",
        "  'Sex': 'MALE'},\n",
        " {'Species': 'Chinstrap',\n",
        "  'Flipper Length (mm)': 210.0,\n",
        "  'Body Mass (g)': 4800.0,\n",
        "  'Sex': 'MALE'},\n",
        " {'Species': 'Chinstrap',\n",
        "  'Flipper Length (mm)': 193.0,\n",
        "  'Body Mass (g)': 3800.0,\n",
        "  'Sex': 'FEMALE'},\n",
        " {'Species': 'Adlie',\n",
        "  'Flipper Length (mm)': 176.0,\n",
        "  'Body Mass (g)': 3450.0,\n",
        "  'Sex': 'FEMALE'},\n",
        " {'Species': 'Chinstrap',\n",
        "  'Flipper Length (mm)': 210.0,\n",
        "  'Body Mass (g)': 3950.0,\n",
        "  'Sex': 'MALE'},\n",
        " {'Species': 'Gentoo',\n",
        "  'Flipper Length (mm)': 219.0,\n",
        "  'Body Mass (g)': 5250.0,\n",
        "  'Sex': 'MALE'},\n",
        " {'Species': 'Gentoo',\n",
        "  'Flipper Length (mm)': 210.0,\n",
        "  'Body Mass (g)': 4300.0,\n",
        "  'Sex': 'FEMALE'},\n",
        " {'Species': 'Gentoo',\n",
        "  'Flipper Length (mm)': 216.0,\n",
        "  'Body Mass (g)': 4925.0,\n",
        "  'Sex': 'MALE'},\n",
        " {'Species': 'Adlie',\n",
        "  'Flipper Length (mm)': 187.0,\n",
        "  'Body Mass (g)': 3550.0,\n",
        "  'Sex': 'FEMALE'},\n",
        " {'Species': 'Adlie',\n",
        "  'Flipper Length (mm)': 192.0,\n",
        "  'Body Mass (g)': 3950.0,\n",
        "  'Sex': 'MALE'},\n",
        " {'Species': 'Chinstrap',\n",
        "  'Flipper Length (mm)': 193.0,\n",
        "  'Body Mass (g)': 3800.0,\n",
        "  'Sex': 'MALE'},\n",
        " {'Species': 'Chinstrap',\n",
        "  'Flipper Length (mm)': 201.0,\n",
        "  'Body Mass (g)': 4050.0,\n",
        "  'Sex': 'MALE'},\n",
        " {'Species': 'Adlie',\n",
        "  'Flipper Length (mm)': 190.0,\n",
        "  'Body Mass (g)': 3650.0,\n",
        "  'Sex': 'MALE'},\n",
        " {'Species': 'Adlie',\n",
        "  'Flipper Length (mm)': 181.0,\n",
        "  'Body Mass (g)': 3175.0,\n",
        "  'Sex': 'FEMALE'}]"
      ],
      "metadata": {
        "id": "iQkQpVpCdMTd"
      },
      "execution_count": null,
      "outputs": []
    },
    {
      "cell_type": "markdown",
      "source": [
        "**Instructions**\n",
        "* Import the `Counter` object from `collections`.\n",
        "* Create a Counter of the `penguins` list called `penguins_sex_counts`; use a list comprehension to return the `Sex` of each penguin to the Counter.\n",
        "Print the `penguins_sex_counts`."
      ],
      "metadata": {
        "id": "HtHVtiZHc-cO"
      }
    },
    {
      "cell_type": "code",
      "source": [
        "# Import the Counter object\n",
        "from collections import Counter\n",
        "\n",
        "# Create a Counter of the penguins sex using a list comp\n",
        "penguins_sex_counts = Counter(penguin['Sex'] for penguin in penguins)\n",
        "\n",
        "# Print the penguins_sex_counts\n",
        "print(penguins_sex_counts)"
      ],
      "metadata": {
        "colab": {
          "base_uri": "https://localhost:8080/"
        },
        "id": "7A-9xhRKdWMT",
        "outputId": "7e3d742e-e382-4fb2-b22b-dd9e8b2bb3b1"
      },
      "execution_count": null,
      "outputs": [
        {
          "output_type": "stream",
          "name": "stdout",
          "text": [
            "Counter({'MALE': 15, 'FEMALE': 5})\n"
          ]
        }
      ]
    },
    {
      "cell_type": "markdown",
      "source": [
        "### Excercise 2: Finding most common elements"
      ],
      "metadata": {
        "id": "dXJMEv2WeHT-"
      }
    },
    {
      "cell_type": "markdown",
      "source": [
        "Another powerful usage of Counter is finding the most common elements in a list. This can be done with the `.most_common()` method.\n",
        "\n",
        "Practice using this now to find the most common species in a penguins list."
      ],
      "metadata": {
        "id": "l9gygacCeJyN"
      }
    },
    {
      "cell_type": "markdown",
      "source": [
        "**Instructions**\n",
        "* Import the `Counter` object from `collections`.\n",
        "* Create a Counter of the penguins list called `penguins_species_counts`; use a list comprehension to return the `Species` of each penguin to the Counter.\n",
        "* Print the three most common species counts."
      ],
      "metadata": {
        "id": "lCICi4wVeUYF"
      }
    },
    {
      "cell_type": "code",
      "source": [
        "# Import the Counter object\n",
        "from collections import Counter\n",
        "\n",
        "# Create a Counter of the penguins list: penguins_species_counts\n",
        "penguins_species_counts = Counter(penguin['Species'] for penguin in penguins)\n",
        "\n",
        "# Find the 3 most common species counts\n",
        "print(penguins_species_counts.most_common(3))"
      ],
      "metadata": {
        "colab": {
          "base_uri": "https://localhost:8080/"
        },
        "id": "po7YGnVme-6l",
        "outputId": "b9901332-df1d-4e2c-f92c-fafe9da45867"
      },
      "execution_count": null,
      "outputs": [
        {
          "output_type": "stream",
          "name": "stdout",
          "text": [
            "[('Chinstrap', 7), ('Adlie', 7), ('Gentoo', 6)]\n"
          ]
        }
      ]
    },
    {
      "cell_type": "markdown",
      "source": [
        "## Lesson 2: Dictionaries of unknown structure - defaultdict"
      ],
      "metadata": {
        "id": "GlreSFQQft0e"
      }
    },
    {
      "cell_type": "markdown",
      "source": [
        "### Dictionary Handling"
      ],
      "metadata": {
        "id": "xI3PPFr2gjQT"
      }
    },
    {
      "cell_type": "code",
      "source": [
        "nyc_eateries_parks = [\n",
        "    ('M010', 'MOHAMMAD MATIN'),\n",
        "    ('M010', 'PRODUCTS CORP.'),\n",
        "    ('M010', 'Loeb Boathouse Restaurant'),\n",
        "    ('M010', 'Nandita Inc.'),\n",
        "    ('M010', 'SALIM AHAMED'),\n",
        "    ('M010', 'THE NY PICNIC COMPANY'),\n",
        "    ('M010', 'THE NEW YORK PICNIC COMPANY, INC.'),\n",
        "    ('M010', 'NANDITA, INC.'),\n",
        "    ('M010', 'JANANI FOOD SERVICE, INC.'),\n",
        "    ('M020', 'Central Park Food Stand'),\n",
        "    ('M020', 'Downtown Snacks'),\n",
        "    ('M030', 'Brooklyn Bites'),\n",
        "    ('M030', 'Sunset Park Cafe'),\n",
        "]\n",
        "\n",
        "\n",
        "eateries_by_park = {}\n",
        "\n",
        "for park_id, name in nyc_eateries_parks:\n",
        "    if park_id not in eateries_by_park:\n",
        "        eateries_by_park[park_id] = []\n",
        "    eateries_by_park[park_id].append(name)\n",
        "\n",
        "print(eateries_by_park['M010'])\n",
        "\n"
      ],
      "metadata": {
        "colab": {
          "base_uri": "https://localhost:8080/"
        },
        "id": "toFWKN_1gpsV",
        "outputId": "63b48217-ec3f-4535-9677-96da3e4fc848"
      },
      "execution_count": null,
      "outputs": [
        {
          "output_type": "stream",
          "name": "stdout",
          "text": [
            "['MOHAMMAD MATIN', 'PRODUCTS CORP.', 'Loeb Boathouse Restaurant', 'Nandita Inc.', 'SALIM AHAMED', 'THE NY PICNIC COMPANY', 'THE NEW YORK PICNIC COMPANY, INC.', 'NANDITA, INC.', 'JANANI FOOD SERVICE, INC.']\n"
          ]
        }
      ]
    },
    {
      "cell_type": "markdown",
      "source": [
        "### Using defaultdict"
      ],
      "metadata": {
        "id": "f6Pihc8Bir7q"
      }
    },
    {
      "cell_type": "markdown",
      "source": [
        "* Pass it a default type that every key will have even if it doesn't currently exist\n",
        "* Works exactly like a dictionary"
      ],
      "metadata": {
        "id": "SQtoHaz7iul7"
      }
    },
    {
      "cell_type": "code",
      "source": [
        "from collections import defaultdict\n",
        "eateries_by_park = defaultdict(list)\n",
        "for park_id, name in nyc_eateries_parks:\n",
        "  eateries_by_park[park_id].append(name)\n",
        "print(eateries_by_park['M010'])"
      ],
      "metadata": {
        "colab": {
          "base_uri": "https://localhost:8080/"
        },
        "id": "QeFkYNkJi00F",
        "outputId": "5d74e3a0-af9e-4c78-9bef-4c94fea321b3"
      },
      "execution_count": null,
      "outputs": [
        {
          "output_type": "stream",
          "name": "stdout",
          "text": [
            "['MOHAMMAD MATIN', 'PRODUCTS CORP.', 'Loeb Boathouse Restaurant', 'Nandita Inc.', 'SALIM AHAMED', 'THE NY PICNIC COMPANY', 'THE NEW YORK PICNIC COMPANY, INC.', 'NANDITA, INC.', 'JANANI FOOD SERVICE, INC.']\n"
          ]
        }
      ]
    },
    {
      "cell_type": "markdown",
      "source": [
        "### Using defaultdict"
      ],
      "metadata": {
        "id": "84NKDuATjfLu"
      }
    },
    {
      "cell_type": "code",
      "source": [
        "nyc_eateries = [\n",
        "    {\"name\": \"Eatery 1\", \"phone\": \"123-456\", \"website\": \"eatery1.com\"},\n",
        "    {\"name\": \"Eatery 2\", \"phone\": \"789-012\"},\n",
        "    {\"name\": \"Eatery 3\", \"website\": \"eatery3.com\"},\n",
        "    {\"name\": \"Eatery 4\", \"phone\": \"234-567\", \"website\": \"eatery4.com\"},\n",
        "] * 10  # Nhân lên để đạt số lượng quán ăn lớn hơn\n",
        "\n",
        "nyc_eateries += [{\"name\": \"Eatery 5\", \"phone\": \"345-678\"}] * 8  # Thêm 8 quán chỉ có phone\n",
        "nyc_eateries += [{\"name\": \"Eatery 6\", \"website\": \"eatery6.com\"}] * 11  # Thêm 11 quán chỉ có website"
      ],
      "metadata": {
        "id": "dDAa2H8Dj7ID"
      },
      "execution_count": null,
      "outputs": []
    },
    {
      "cell_type": "code",
      "source": [
        "from collections import defaultdict\n",
        "eatery_contact_types = defaultdict(int)\n",
        "for eatery in nyc_eateries:\n",
        "  if eatery.get('phone'):\n",
        "    eatery_contact_types['phones'] += 1\n",
        "  if eatery.get('website'):\n",
        "    eatery_contact_types['websites'] += 1\n",
        "print(eatery_contact_types)"
      ],
      "metadata": {
        "colab": {
          "base_uri": "https://localhost:8080/"
        },
        "id": "MDIfhguijgaj",
        "outputId": "8f5e295d-d3cc-454e-8ca1-0967ce77d9bf"
      },
      "execution_count": null,
      "outputs": [
        {
          "output_type": "stream",
          "name": "stdout",
          "text": [
            "defaultdict(<class 'int'>, {'phones': 38, 'websites': 41})\n"
          ]
        }
      ]
    },
    {
      "cell_type": "markdown",
      "source": [
        "### Excercise 1: Creating dictionaries of an unknown structure"
      ],
      "metadata": {
        "id": "Qu_mQ4DQ-gb5"
      }
    },
    {
      "cell_type": "markdown",
      "source": [
        "Occasionally, you'll need a structure to hold nested data, and you may not be certain that the keys will all actually exist. This can be an issue if you're trying to append items to a list for that key. You might remember the NYC data that we explored in the video. In order to solve the problem with a regular dictionary, you'll need to test that the key exists in the dictionary, and if not, add it with an empty list.\n",
        "\n",
        "You'll be working with a list of entries that contains species, flipper length, body mass, and sex of the female penguins in our study. You're going to solve this same type of problem with a much easier solution in the next exercise."
      ],
      "metadata": {
        "id": "AweRKWn6-kwg"
      }
    },
    {
      "cell_type": "markdown",
      "source": [
        "**Instructions**\n",
        "* Create an empty dictionary called `female_penguin_weights`.\n",
        "* Iterate over `weight_log`, unpacking it into the variables `species`, `sex`, and `body_mass`.\n",
        "* Check to see if the `species` already exists in the `female_penguin_weights` dictionary. If it does not exist, create an empty list for the species key. Then, append a tuple consisting of `sex` and `body_mass` to the species key of the `female_penguin_weights` dictionary for all entries in the `weight_log`.\n",
        "* Print the `female_penguin_weights` for `'Adlie'`."
      ],
      "metadata": {
        "id": "i_z2Qt0L-yma"
      }
    },
    {
      "cell_type": "code",
      "source": [
        "weight_log = [('Chinstrap', 'FEMALE', 3800.0),\n",
        "              ('Adlie', 'FEMALE', 3450.0),\n",
        "              ('Gentoo', 'FEMALE', 4300.0),\n",
        "              ('Adlie', 'FEMALE', 3550.0),\n",
        "              ('Adlie', 'FEMALE', 3175.0)]"
      ],
      "metadata": {
        "id": "tnQ3oEq6_SR1"
      },
      "execution_count": null,
      "outputs": []
    },
    {
      "cell_type": "code",
      "source": [
        "# Create an empty dictionary: female_penguin_weights\n",
        "female_penguin_weights = {}\n",
        "\n",
        "# Iterate over the weight_log entries\n",
        "for species, sex, body_mass in weight_log:\n",
        "    # Check to see if species is already in the dictionary\n",
        "    if species not in female_penguin_weights:\n",
        "        # Create an empty list for any missing species\n",
        "        female_penguin_weights[species] = []\n",
        "    # Append the sex and body_mass as a tuple to the species keys list\n",
        "    female_penguin_weights[species].append((sex,body_mass) )\n",
        "\n",
        "# Print the weights for 'Adlie'\n",
        "print(female_penguin_weights['Adlie'])"
      ],
      "metadata": {
        "colab": {
          "base_uri": "https://localhost:8080/"
        },
        "id": "9QzbsNaCAeWx",
        "outputId": "2274ee58-7695-4ba2-f156-b129e59bd0f3"
      },
      "execution_count": null,
      "outputs": [
        {
          "output_type": "stream",
          "name": "stdout",
          "text": [
            "[('FEMALE', 3450.0), ('FEMALE', 3550.0), ('FEMALE', 3175.0)]\n"
          ]
        }
      ]
    },
    {
      "cell_type": "markdown",
      "source": [
        "### Excercise 2: Safely appending to a key's value list"
      ],
      "metadata": {
        "id": "QYukUTXxAiZ_"
      }
    },
    {
      "cell_type": "markdown",
      "source": [
        "Often when working with dictionaries, you will need to initialize a data type before you can use it. A prime example of this is a list, which has to be initialized on each key before you can append to that list.\n",
        "\n",
        "A `defaultdict` allows you to define what each uninitialized key will contain. When establishing a `defaultdict`, you pass it the type you want it to be, such as a `list`, `tuple`, `set`, `int`, `string`, `dictionary` or any other valid type object.\n",
        "\n",
        "You'll be working with the same weight log as last exercise, but with the male penguins in our study."
      ],
      "metadata": {
        "id": "nScYJc4UAnZK"
      }
    },
    {
      "cell_type": "markdown",
      "source": [
        "**Instructions**\n",
        "* Import `defaultdict` from `collections`.\n",
        "* Create a `defaultdict` with a default type of `list` called `male_penguin_weights`.\n",
        "* Iterate over the list `weight_log`, unpacking it into the variables `species`, `sex`, and `body_mass`, as you did in the previous exercise. Use `species` as the key of the `male_penguin_weights` dictionary and append `body_mass` to its value.\n",
        "* Print the first 2 items of the `male_penguin_weights` dictionary. You can use the `.items()` method for this. Remember to make it a list."
      ],
      "metadata": {
        "id": "O5uOY4P4A5Dg"
      }
    },
    {
      "cell_type": "code",
      "source": [
        "weight_log = [('Gentoo', 'MALE', 5500.0),\n",
        " ('Chinstrap', 'MALE', 4300.0),\n",
        " ('Adlie', 'MALE', 3800.0),\n",
        " ('Gentoo', 'MALE', 5800.0),\n",
        " ('Chinstrap', 'MALE', 4100.0),\n",
        " ('Adlie', 'MALE', 3975.0),\n",
        " ('Gentoo', 'MALE', 5400.0),\n",
        " ('Chinstrap', 'MALE', 4800.0),\n",
        " ('Chinstrap', 'MALE', 3950.0),\n",
        " ('Gentoo', 'MALE', 5250.0),\n",
        " ('Gentoo', 'MALE', 4925.0),\n",
        " ('Adlie', 'MALE', 3950.0),\n",
        " ('Chinstrap', 'MALE', 3800.0),\n",
        " ('Chinstrap', 'MALE', 4050.0),\n",
        " ('Adlie', 'MALE', 3650.0)]"
      ],
      "metadata": {
        "id": "0vK4ovDJBTVS"
      },
      "execution_count": null,
      "outputs": []
    },
    {
      "cell_type": "code",
      "source": [
        "# Import defaultdict\n",
        "from collections import defaultdict\n",
        "\n",
        "# Create a defaultdict with a default type of list: male_penguin_weights\n",
        "male_penguin_weights = defaultdict(list)\n",
        "\n",
        "# Iterate over the weight_log entries\n",
        "for species, sex, body_mass in weight_log:\n",
        "    # Use the species as the key, and append the body_mass to it\n",
        "    male_penguin_weights[species].append(body_mass)\n",
        "\n",
        "# Print the first 2 items of the male_penguin_weights dictionary\n",
        "print(list(male_penguin_weights.items())[:2])"
      ],
      "metadata": {
        "colab": {
          "base_uri": "https://localhost:8080/"
        },
        "id": "lErhi92bBjqt",
        "outputId": "ca431de4-a998-48f7-b6a8-af02cc3efafb"
      },
      "execution_count": null,
      "outputs": [
        {
          "output_type": "stream",
          "name": "stdout",
          "text": [
            "[('Gentoo', [5500.0, 5800.0, 5400.0, 5250.0, 4925.0]), ('Chinstrap', [4300.0, 4100.0, 4800.0, 3950.0, 3800.0, 4050.0])]\n"
          ]
        }
      ]
    },
    {
      "cell_type": "markdown",
      "source": [
        "## Lesson 2: Namedtuple"
      ],
      "metadata": {
        "id": "1xCKCnBHCplZ"
      }
    },
    {
      "cell_type": "markdown",
      "source": [
        "### What is a namedtuple?\n"
      ],
      "metadata": {
        "id": "jOaqUaHVCtjQ"
      }
    },
    {
      "cell_type": "markdown",
      "source": [
        "* A tuple where each position (column) has a name\n",
        "* Ensure each one has the same properties\n",
        "* Alternative to a `pandas` DataFrame row"
      ],
      "metadata": {
        "id": "CvpRT7v2Cvg-"
      }
    },
    {
      "cell_type": "markdown",
      "source": [
        "### Creating a namedtuple"
      ],
      "metadata": {
        "id": "BjxBsCCUDBYR"
      }
    },
    {
      "cell_type": "code",
      "source": [
        "nyc_eateries = [\n",
        "    {\n",
        "        \"name\": \"Mapes Avenue Ballfields Mobile Food Truck\",\n",
        "        \"location\": \"Prospect Avenue, E. 181st Street\",\n",
        "        \"park_id\": \"X289\",\n",
        "        \"type_name\": \"Mobile Food Truck\"\n",
        "    },\n",
        "    {\n",
        "        \"name\": \"Central Park Snack Bar\",\n",
        "        \"location\": \"Central Park, Near Bethesda Terrace\",\n",
        "        \"park_id\": \"M010\",\n",
        "        \"type_name\": \"Snack Bar\"\n",
        "    },\n",
        "    {\n",
        "        \"name\": \"Brooklyn Bridge Food Cart\",\n",
        "        \"location\": \"Brooklyn Bridge Park, Pier 1\",\n",
        "        \"park_id\": \"B023\",\n",
        "        \"type_name\": \"Food Cart\"\n",
        "    },\n",
        "    {\n",
        "        \"name\": \"Queens Botanical Garden Café\",\n",
        "        \"location\": \"43-50 Main St, Queens\",\n",
        "        \"park_id\": \"Q045\",\n",
        "        \"type_name\": \"Restaurant\"\n",
        "    }\n",
        "]\n",
        "\n",
        "\n"
      ],
      "metadata": {
        "id": "uAR2J5ZDDSn4"
      },
      "execution_count": null,
      "outputs": []
    },
    {
      "cell_type": "code",
      "source": [
        "from collections import namedtuple\n",
        "Eatery = namedtuple('Eatery', ['name', 'location', 'park_id','type_name'])\n",
        "eateries = []\n",
        "for eatery in nyc_eateries:\n",
        "  details = Eatery(eatery['name'],\n",
        "                  eatery['location'],\n",
        "                  eatery['park_id'],\n",
        "                  eatery['type_name'])\n",
        "  eateries.append(details)"
      ],
      "metadata": {
        "id": "1DfHJFj2DCnK"
      },
      "execution_count": null,
      "outputs": []
    },
    {
      "cell_type": "code",
      "source": [
        "print(eateries[0])"
      ],
      "metadata": {
        "colab": {
          "base_uri": "https://localhost:8080/"
        },
        "id": "eCjtQ9BlEo_f",
        "outputId": "50aa80ff-e3dc-4d8c-feac-61b2ad9bdde5"
      },
      "execution_count": null,
      "outputs": [
        {
          "output_type": "stream",
          "name": "stdout",
          "text": [
            "Eatery(name='Mapes Avenue Ballfields Mobile Food Truck', location='Prospect Avenue, E. 181st Street', park_id='X289', type_name='Mobile Food Truck')\n"
          ]
        }
      ]
    },
    {
      "cell_type": "markdown",
      "source": [
        "### Leveraging namedtuples"
      ],
      "metadata": {
        "id": "ZfNArKHsFDbZ"
      }
    },
    {
      "cell_type": "markdown",
      "source": [
        "* Each field is available as an attribute of the namedtuple"
      ],
      "metadata": {
        "id": "8ST5w0AvFH-f"
      }
    },
    {
      "cell_type": "code",
      "source": [
        "for eatery in eateries[:3]:\n",
        "  print(eatery.name)\n",
        "  print(eatery.park_id)\n",
        "  print(eatery.location)"
      ],
      "metadata": {
        "colab": {
          "base_uri": "https://localhost:8080/"
        },
        "id": "zjFgxYmYFMjI",
        "outputId": "41539c7c-b14a-4e37-a0a4-dbe7de5425cb"
      },
      "execution_count": null,
      "outputs": [
        {
          "output_type": "stream",
          "name": "stdout",
          "text": [
            "Mapes Avenue Ballfields Mobile Food Truck\n",
            "X289\n",
            "Prospect Avenue, E. 181st Street\n",
            "Central Park Snack Bar\n",
            "M010\n",
            "Central Park, Near Bethesda Terrace\n",
            "Brooklyn Bridge Food Cart\n",
            "B023\n",
            "Brooklyn Bridge Park, Pier 1\n"
          ]
        }
      ]
    },
    {
      "cell_type": "markdown",
      "source": [
        "### Excercise 1: Creating namedtuples for storing data"
      ],
      "metadata": {
        "id": "BAmXXDSUGd5Q"
      }
    },
    {
      "cell_type": "markdown",
      "source": [
        "Often times when working with data, you will use a dictionary just so you can use key names to make reading the code and accessing the data easier to understand. Python has another container called a `namedtuple` that is a tuple, but has names for each position of the tuple. You create one by passing a name for the tuple type and a list of field names.\n",
        "\n",
        "For example, `Cookie = namedtuple(\"Cookie\", ['name', 'quantity'])` will create a container, and you can create new ones of the type using `Cookie('chocolate chip', 1)` where you can access the name using the name attribute, and then get the quantity using the quantity attribute.\n",
        "\n",
        "In this exercise, you're going to restructure the penguin weight log data you've been working with into namedtuples for more descriptive code."
      ],
      "metadata": {
        "id": "dvNPa2NyGg8e"
      }
    },
    {
      "cell_type": "markdown",
      "source": [
        "**Instructions**\n",
        "* Import `namedtuple` from `collections`.\n",
        "* Create a namedtuple called `SpeciesDetails` with a type name of `SpeciesDetails` and fields of `'species'`, `'sex'`, and `'body_mass'`.\n",
        "* Create a list called `labeled_entries`.\n",
        "* Iterate over the `weight_log` list, unpacking it into `species`, `sex`, and `body_mass`, and create a new `SpeciesDetails` namedtuple instance for each entry and append it to `labeled_entries`."
      ],
      "metadata": {
        "id": "GGgeAzGwG08u"
      }
    },
    {
      "cell_type": "code",
      "source": [
        "weight_log = [('Gentoo', 'MALE', 5500.0),\n",
        "              ('Chinstrap', 'MALE', 4300.0),\n",
        "              ('Adlie', 'MALE', 3800.0),\n",
        "              ('Gentoo', 'MALE', 5800.0),\n",
        "              ('Chinstrap', 'MALE', 4100.0),\n",
        "              ('Adlie', 'MALE', 3975.0),\n",
        "              ('Gentoo', 'MALE', 5400.0),\n",
        "              ('Chinstrap', 'MALE', 4800.0),\n",
        "              ('Chinstrap', 'FEMALE', 3800.0),\n",
        "              ('Adlie', 'FEMALE', 3450.0),\n",
        "              ('Chinstrap', 'MALE', 3950.0),\n",
        "              ('Gentoo', 'MALE', 5250.0),\n",
        "              ('Gentoo', 'FEMALE', 4300.0),\n",
        "              ('Gentoo', 'MALE', 4925.0),\n",
        "              ('Adlie', 'FEMALE', 3550.0),\n",
        "              ('Adlie', 'MALE', 3950.0),\n",
        "              ('Chinstrap', 'MALE', 3800.0),\n",
        "              ('Chinstrap', 'MALE', 4050.0),\n",
        "              ('Adlie', 'MALE', 3650.0),\n",
        "              ('Adlie', 'FEMALE', 3175.0)]"
      ],
      "metadata": {
        "id": "zzNUYic4HckP"
      },
      "execution_count": null,
      "outputs": []
    },
    {
      "cell_type": "code",
      "source": [
        "# Import namedtuple from collections\n",
        "from collections import namedtuple\n",
        "\n",
        "# Create the namedtuple: SpeciesDetails\n",
        "SpeciesDetails = namedtuple('SpeciesDetails', ['species', 'sex', 'body_mass'])\n",
        "\n",
        "# Create the empty list: labeled_entries\n",
        "labeled_entries = []\n",
        "\n",
        "# Iterate over the weight_log entries\n",
        "for species, sex, body_mass in weight_log:\n",
        "    # Append a new SpeciesDetails namedtuple instance for each entry to labeled_entries\n",
        "    labeled_entries.append(SpeciesDetails(species, sex, body_mass))\n",
        "\n",
        "print(labeled_entries[:5])"
      ],
      "metadata": {
        "colab": {
          "base_uri": "https://localhost:8080/"
        },
        "id": "DB2Ig6ZbHhek",
        "outputId": "a3d313d8-f0e6-4e4e-c451-d16a1b05e71c"
      },
      "execution_count": null,
      "outputs": [
        {
          "output_type": "stream",
          "name": "stdout",
          "text": [
            "[SpeciesDetails(species='Gentoo', sex='MALE', body_mass=5500.0), SpeciesDetails(species='Chinstrap', sex='MALE', body_mass=4300.0), SpeciesDetails(species='Adlie', sex='MALE', body_mass=3800.0), SpeciesDetails(species='Gentoo', sex='MALE', body_mass=5800.0), SpeciesDetails(species='Chinstrap', sex='MALE', body_mass=4100.0)]\n"
          ]
        }
      ]
    },
    {
      "cell_type": "markdown",
      "source": [
        "### Excercise 2: Leveraging attributes on namedtuples"
      ],
      "metadata": {
        "id": "QF-wmCGEIIXO"
      }
    },
    {
      "cell_type": "markdown",
      "source": [
        "Once you have a namedtuple, you can write more expressive code that is easier to understand. Remember, you can access the elements in the tuple by their name as an attribute. For example, you can access the species of the namedtuples in the previous exercise using the `.species` attribute.\n",
        "\n",
        "Here, you'll use the tuples you made in the previous exercise to see how this works."
      ],
      "metadata": {
        "id": "U6lNMKjNIMp2"
      }
    },
    {
      "cell_type": "markdown",
      "source": [
        "**Instructions**\n",
        "* Iterate over the first twenty `entrys` s in the `labeled_entries` list:\n",
        "  * If it is a `Chinstrap` species:\n",
        "    * Print the entry's `sex` and `body_mass` separated by a `:`."
      ],
      "metadata": {
        "id": "oVWZDNEyIUml"
      }
    },
    {
      "cell_type": "code",
      "source": [
        "# Iterate over the first twenty entries in labeled_entries\n",
        "for entry in labeled_entries[:20]:\n",
        "    # if the entry's species equals Chinstrap\n",
        "    if entry.species == 'Chinstrap':\n",
        "      # Print each entry's sex and body_mass seperated by a colon\n",
        "      print(f'{entry.sex}:{entry.body_mass}')"
      ],
      "metadata": {
        "colab": {
          "base_uri": "https://localhost:8080/"
        },
        "id": "YlJXzZInJ0DC",
        "outputId": "c6dc98a1-3a94-4958-d86d-ab5fff003f01"
      },
      "execution_count": null,
      "outputs": [
        {
          "output_type": "stream",
          "name": "stdout",
          "text": [
            "MALE:4300.0\n",
            "MALE:4100.0\n",
            "MALE:4800.0\n",
            "FEMALE:3800.0\n",
            "MALE:3950.0\n",
            "MALE:3800.0\n",
            "MALE:4050.0\n"
          ]
        }
      ]
    },
    {
      "cell_type": "markdown",
      "source": [
        "## Lesson 4: Dataclasses"
      ],
      "metadata": {
        "id": "S_TJjvubK2sT"
      }
    },
    {
      "cell_type": "markdown",
      "source": [
        "### Why use dataclasses"
      ],
      "metadata": {
        "id": "RKsipEeaK7mV"
      }
    },
    {
      "cell_type": "markdown",
      "source": [
        "* Support for default values\n",
        "* Custom representations of the objects\n",
        "* Easy tuple or a dictionary conversion\n",
        "* Custom properties\n",
        "* Frozen instances"
      ],
      "metadata": {
        "id": "Ordiu4JhLALZ"
      }
    },
    {
      "cell_type": "markdown",
      "source": [
        "### Looking at our first dataclass"
      ],
      "metadata": {
        "id": "GT6XgGkZLJhZ"
      }
    },
    {
      "cell_type": "code",
      "source": [
        "from dataclasses import dataclass"
      ],
      "metadata": {
        "id": "MHHcyzHnLK_I"
      },
      "execution_count": null,
      "outputs": []
    },
    {
      "cell_type": "code",
      "source": [
        "@dataclass\n",
        "class Cookie:\n",
        "  name: str\n",
        "  quantity: int = 0"
      ],
      "metadata": {
        "id": "vpTzhE2GLPAV"
      },
      "execution_count": null,
      "outputs": []
    },
    {
      "cell_type": "code",
      "source": [
        "chocolate_chip = Cookie(\"chocolate chip\", 13)\n",
        "print(chocolate_chip.name)\n",
        "print(chocolate_chip.quantity)"
      ],
      "metadata": {
        "colab": {
          "base_uri": "https://localhost:8080/"
        },
        "id": "Uenqh_UvLSyc",
        "outputId": "0a29505a-f31f-4eef-dc18-cfeaeb227b8f"
      },
      "execution_count": null,
      "outputs": [
        {
          "output_type": "stream",
          "name": "stdout",
          "text": [
            "chocolate chip\n",
            "13\n"
          ]
        }
      ]
    },
    {
      "cell_type": "markdown",
      "source": [
        "### Easy tuple or a dictionary conversion"
      ],
      "metadata": {
        "id": "sWxUyQMfLWdG"
      }
    },
    {
      "cell_type": "code",
      "source": [
        "from dataclasses import asdict, astuple\n",
        "\n",
        "ginger_molasses = Cookie(\"ginger molasses\", 8)\n",
        "asdict(ginger_molasses)"
      ],
      "metadata": {
        "colab": {
          "base_uri": "https://localhost:8080/"
        },
        "id": "8tjUyzY_LX9n",
        "outputId": "6be57466-c454-4b31-af04-c2f7c53824ff"
      },
      "execution_count": null,
      "outputs": [
        {
          "output_type": "execute_result",
          "data": {
            "text/plain": [
              "{'name': 'ginger molasses', 'quantity': 8}"
            ]
          },
          "metadata": {},
          "execution_count": 30
        }
      ]
    },
    {
      "cell_type": "code",
      "source": [
        "astuple(ginger_molasses)"
      ],
      "metadata": {
        "colab": {
          "base_uri": "https://localhost:8080/"
        },
        "id": "10K8UNJpLefp",
        "outputId": "211a48bf-55a0-4aad-9d45-b86c3186926a"
      },
      "execution_count": null,
      "outputs": [
        {
          "output_type": "execute_result",
          "data": {
            "text/plain": [
              "('ginger molasses', 8)"
            ]
          },
          "metadata": {},
          "execution_count": 31
        }
      ]
    },
    {
      "cell_type": "markdown",
      "source": [
        "### Custom properties"
      ],
      "metadata": {
        "id": "kFuLj6AVLiFP"
      }
    },
    {
      "cell_type": "code",
      "source": [
        "from decimal import Decimal\n",
        "@dataclass\n",
        "class Cookie:\n",
        "  name: str\n",
        "  cost: Decimal\n",
        "  quantity: int\n",
        "\n",
        "  @property\n",
        "  def value_of_goods(self):\n",
        "    return int(self.quantity) * self.cost"
      ],
      "metadata": {
        "id": "4WwXsMtiLjYG"
      },
      "execution_count": null,
      "outputs": []
    },
    {
      "cell_type": "markdown",
      "source": [
        "### Using custom properties"
      ],
      "metadata": {
        "id": "_q2pCfdgL1hH"
      }
    },
    {
      "cell_type": "code",
      "source": [
        "peanut = Cookie(\"peanut butter\", Decimal(\"1.2\"), 8)\n",
        "peanut.value_of_goods"
      ],
      "metadata": {
        "colab": {
          "base_uri": "https://localhost:8080/"
        },
        "id": "LSzowqqeL2kx",
        "outputId": "7c657d4b-8964-40e7-8bb6-1c0e246fe350"
      },
      "execution_count": null,
      "outputs": [
        {
          "output_type": "execute_result",
          "data": {
            "text/plain": [
              "Decimal('9.6')"
            ]
          },
          "metadata": {},
          "execution_count": 35
        }
      ]
    },
    {
      "cell_type": "markdown",
      "source": [
        "### Frozen instances"
      ],
      "metadata": {
        "id": "kAocIaaRL8Xd"
      }
    },
    {
      "cell_type": "code",
      "source": [
        "@dataclass(frozen=True)\n",
        "class Cookie:\n",
        "  name: str\n",
        "  quantity: int = 0\n",
        "\n",
        "c = Cookie(\"chocolate chip\", 10)"
      ],
      "metadata": {
        "id": "detSRvoIL-7q"
      },
      "execution_count": null,
      "outputs": []
    },
    {
      "cell_type": "code",
      "source": [
        "c.quantity = 15"
      ],
      "metadata": {
        "colab": {
          "base_uri": "https://localhost:8080/",
          "height": 176
        },
        "id": "p-fL55ESMBib",
        "outputId": "8459c282-8bca-4576-ad70-2513a404596e"
      },
      "execution_count": null,
      "outputs": [
        {
          "output_type": "error",
          "ename": "FrozenInstanceError",
          "evalue": "cannot assign to field 'quantity'",
          "traceback": [
            "\u001b[0;31m---------------------------------------------------------------------------\u001b[0m",
            "\u001b[0;31mFrozenInstanceError\u001b[0m                       Traceback (most recent call last)",
            "\u001b[0;32m<ipython-input-37-ed9ae6680a09>\u001b[0m in \u001b[0;36m<cell line: 0>\u001b[0;34m()\u001b[0m\n\u001b[0;32m----> 1\u001b[0;31m \u001b[0mc\u001b[0m\u001b[0;34m.\u001b[0m\u001b[0mquantity\u001b[0m \u001b[0;34m=\u001b[0m \u001b[0;36m15\u001b[0m\u001b[0;34m\u001b[0m\u001b[0;34m\u001b[0m\u001b[0m\n\u001b[0m",
            "\u001b[0;32m<string>\u001b[0m in \u001b[0;36m__setattr__\u001b[0;34m(self, name, value)\u001b[0m\n",
            "\u001b[0;31mFrozenInstanceError\u001b[0m: cannot assign to field 'quantity'"
          ]
        }
      ]
    },
    {
      "cell_type": "markdown",
      "source": [
        "### Excercise 1: Creating a dataclass"
      ],
      "metadata": {
        "id": "8fqsRXzVMJbU"
      }
    },
    {
      "cell_type": "markdown",
      "source": [
        "Dataclasses can provide even richer ways of storing and working with data. Previously we used a namedtuple on weight log entries to make a nice easy to use data structure. In this code, we're going to use a dataclass to do the same thing, but add a custom `property` to return the body mass to flipper length ratio. Dataclasses start with a collection of fields and their types. Then you define any properties, which are functions on the dataclass that operate on itself to return additional information about the data. For example, a person dataclass might have a property that calculates someone's current age based on their birthday and the current date."
      ],
      "metadata": {
        "id": "j3Z0BsizMNDm"
      }
    },
    {
      "cell_type": "markdown",
      "source": [
        "**Instructions**\n",
        "* Import `dataclass` from `dataclasses`.\n",
        "* Add the `species` (`string`), `sex` (`string`), `body_mass` (`int`), and `flipper_length` (`int`) fields to the dataclass.\n",
        "* Add a property (`mass_to_flipper_length_ratio`) that returns the `body_mass` divided by the `flipper_length`."
      ],
      "metadata": {
        "id": "IO2WfcXtMZNI"
      }
    },
    {
      "cell_type": "code",
      "source": [
        "# Import dataclass\n",
        "from dataclasses  import dataclass\n",
        "\n",
        "@dataclass\n",
        "class WeightEntry:\n",
        "    # Define the fields on the class\n",
        "    species: str\n",
        "    sex: int\n",
        "    body_mass: int\n",
        "    flipper_length: str\n",
        "\n",
        "    # Define a property that returns the body_mass / flipper_length\n",
        "    @property\n",
        "    def mass_to_flipper_length_ratio(self):\n",
        "        return self.body_mass / self.flipper_length"
      ],
      "metadata": {
        "id": "TJuCOI1lNY7r"
      },
      "execution_count": null,
      "outputs": []
    },
    {
      "cell_type": "markdown",
      "source": [
        "### Excercise 2: Using dataclasses"
      ],
      "metadata": {
        "id": "Z7BniUnFNeEP"
      }
    },
    {
      "cell_type": "markdown",
      "source": [
        "Let's put our `WeightEntry` dataclass we created in the prior exercise to use. We'll create an instance of the `WeightEntry` for each entry in the `weight_log` and then use the `mass_to_flipper_length_ratio` property we added to perform the calculation. Here is a reminder of our `WeightEntry` dataclass.\n",
        "\n",
        "```\n",
        "@dataclass\n",
        "class WeightEntry:\n",
        "    # Define the fields on the class\n",
        "    species: str\n",
        "    flipper_length: int\n",
        "    body_mass: int\n",
        "    sex: str\n",
        "\n",
        "    @property\n",
        "    def mass_to_flipper_length_ratio(self):\n",
        "        return self.body_mass / self.flipper_length\n",
        "```\n",
        "\n"
      ],
      "metadata": {
        "id": "Z_J4I8uyNkwK"
      }
    },
    {
      "cell_type": "markdown",
      "source": [
        "**Instructions**\n",
        "* Create an empty list called `labeled_entries`.\n",
        "* Iterate over the `weight_log` entries using tuple expansion to break out `species`, `flipper_length`, `body_mass`, `sex`.\n",
        "  * Append a new `WeightEntry` dataclass instance for each entry to `labeled_entries`.\n",
        "* Print a list of the first 5 `mass_to_flipper_length_ratio` values using a list comprehension."
      ],
      "metadata": {
        "id": "-oTsfeRnN0Lf"
      }
    },
    {
      "cell_type": "code",
      "source": [
        "weight_log = [('Gentoo', 230.0, 5500.0, 'MALE'),\n",
        "              ('Gentoo', 229.0, 5800.0, 'MALE'),\n",
        "              ('Gentoo', 225.0, 5400.0, 'MALE'),\n",
        "              ('Gentoo', 219.0, 5250.0, 'MALE'),\n",
        "              ('Gentoo', 210.0, 4300.0, 'FEMALE'),\n",
        "              ('Gentoo', 216.0, 4925.0, 'MALE')]"
      ],
      "metadata": {
        "id": "grPt6c2OOIrA"
      },
      "execution_count": null,
      "outputs": []
    },
    {
      "cell_type": "code",
      "source": [
        "@dataclass\n",
        "class WeightEntry:\n",
        "    # Define the fields on the class\n",
        "    species: str\n",
        "    flipper_length: int\n",
        "    body_mass: int\n",
        "    sex: str\n",
        "\n",
        "    @property\n",
        "    def mass_to_flipper_length_ratio(self):\n",
        "        return self.body_mass / self.flipper_length"
      ],
      "metadata": {
        "id": "L_h0lkXnPPyc"
      },
      "execution_count": null,
      "outputs": []
    },
    {
      "cell_type": "code",
      "source": [
        "# Create the empty list: labeled_entries\n",
        "labeled_entries = []\n",
        "\n",
        "# Iterate over the weight_log entries\n",
        "for species, flipper_length, body_mass, sex in weight_log:\n",
        "    # Append a new WeightEntry instance to labeled_entries\n",
        "    labeled_entries.append(WeightEntry(species, flipper_length, body_mass, sex))\n",
        "\n",
        "# Print a list of the first 5 mass_to_flipper_length_ratio values\n",
        "print([entry.mass_to_flipper_length_ratio for entry in labeled_entries[:5]])"
      ],
      "metadata": {
        "colab": {
          "base_uri": "https://localhost:8080/"
        },
        "id": "XHW1uY8LOMxD",
        "outputId": "9ffe71c8-ddd0-447f-ad27-61b0a292e05a"
      },
      "execution_count": null,
      "outputs": [
        {
          "output_type": "stream",
          "name": "stdout",
          "text": [
            "[23.91304347826087, 25.32751091703057, 24.0, 23.972602739726028, 20.476190476190474]\n"
          ]
        }
      ]
    }
  ]
}