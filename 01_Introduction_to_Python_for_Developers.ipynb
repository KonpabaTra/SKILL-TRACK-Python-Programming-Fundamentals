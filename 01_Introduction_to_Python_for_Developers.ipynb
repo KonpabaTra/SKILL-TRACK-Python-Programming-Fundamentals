{
  "nbformat": 4,
  "nbformat_minor": 0,
  "metadata": {
    "colab": {
      "provenance": [],
      "collapsed_sections": [
        "4uP9GN0UFtq_",
        "mZkKdrZmGCSe",
        "ETyyso8CIpsR",
        "8CpORipyJ5Cv",
        "xnF6jbCoFaJg",
        "WT70XR6RL15v",
        "h0qTu9CMNNpg",
        "3IcFe_oqQgF8",
        "rOXAqQP7TV-D",
        "rt71O2ubSDK7",
        "W91Y2PLLSPac",
        "YaKygICHSetR",
        "ISQy_DVASqjx",
        "1BhbTi8_S8Vz",
        "QCbodRPATEWt",
        "oNmPX-qvUj63",
        "OSvK-WTAXKMZ",
        "tA2iVWbmZQ75",
        "OaVeaVs8Zwix",
        "1C0tSJsfanRA",
        "bTw_AVHQbJLj",
        "p3lLSHIJbuUA",
        "Aq3syj1AcM1w",
        "Y_YdNDGpfxgW",
        "OhAmRXSMguwW",
        "mi3VBH17kLIN",
        "axA-Ycz2kPfd",
        "V63LzbHaE3GT",
        "zarD6nXqFFFF",
        "MjjpqEpHFQ8-",
        "Ts700OpqFj7f",
        "G4RaZ6RmF0WA",
        "9RAM_NalGBn_",
        "EiG0xYrxGLR9",
        "Bg1V-s5BGXG4",
        "1nLn8dSoHiV_",
        "qo1Ck_KoJ8cD",
        "HsPgeWtsN3o9",
        "h6ZE81ssOTLl",
        "Bi5KWAPLOjkD",
        "KTqAusTTP2aV",
        "Th3knKmGQE77",
        "kY5h8O6QQ2ie",
        "U6pt81p1RCG5",
        "6aTG13DQRjoc",
        "vMOC66jMSfYz",
        "sYIXkJx8S3GQ",
        "qmNv_XtCT_MR",
        "ZFHCEtOgV2cA",
        "3ZoKPVDiZ9Et",
        "xI5ScgBPh7kb",
        "Jf6GqSCmbQdv",
        "a2GsWmpebxN5",
        "u76nkf33cClY",
        "-LofoFUidNxn",
        "Hx6cavQledWM",
        "vN975s-Yr8-F",
        "KF2IvxBctJcU",
        "cOES3g9_0DbX",
        "gxY-8KkC0sEZ",
        "S_E7vRbJ1CU1",
        "YU092Gny1bkL",
        "1R0MYuyi2Tuw",
        "oZvW_dPb-bY9",
        "irpYAqc5AIB9"
      ],
      "authorship_tag": "ABX9TyNiWHLuLaOoE2EoSIjooIX8",
      "include_colab_link": true
    },
    "kernelspec": {
      "name": "python3",
      "display_name": "Python 3"
    },
    "language_info": {
      "name": "python"
    }
  },
  "cells": [
    {
      "cell_type": "markdown",
      "metadata": {
        "id": "view-in-github",
        "colab_type": "text"
      },
      "source": [
        "<a href=\"https://colab.research.google.com/github/KonpabaTra/SKILL-TRACK-Python-Programming-Fundamentals/blob/main/01_Introduction_to_Python_for_Developers.ipynb\" target=\"_parent\"><img src=\"https://colab.research.google.com/assets/colab-badge.svg\" alt=\"Open In Colab\"/></a>"
      ]
    },
    {
      "cell_type": "markdown",
      "source": [
        "# Chapter 2: Working with Data Types"
      ],
      "metadata": {
        "id": "4uP9GN0UFtq_"
      }
    },
    {
      "cell_type": "markdown",
      "source": [
        "## Lesson 1: Working with strings"
      ],
      "metadata": {
        "id": "mZkKdrZmGCSe"
      }
    },
    {
      "cell_type": "markdown",
      "source": [
        "### Excercise 1: Multi-line strings\n",
        "\n",
        "\n",
        "\n",
        "\n",
        "\n",
        "\n"
      ],
      "metadata": {
        "id": "ETyyso8CIpsR"
      }
    },
    {
      "cell_type": "markdown",
      "source": [
        "You have a friend who works at an e-learning company called LLM Camp, where they teach people how to work with large language models (LLMS).\n",
        "\n",
        "They want to use Python to store their user reviews and you've volunteered to help set this up! They've provided two of their most recent reviews:\n",
        "```\n",
        "# review_one\n",
        "I really enjoy the courses,\n",
        "and they are easy to fit into my busy schedule.\n",
        "I wish I had started using your platform sooner.\n",
        "I'll be recommending you to my friends!!\n",
        "\n",
        "# review_two\n",
        "One year ago, I was unsure of how to make progress in my career.\n",
        "Now, I work as a Prompt Engineer, and I can't thank you enough!\n",
        "Keep up the great work.\n",
        "```\n"
      ],
      "metadata": {
        "id": "xydpjUbmGiV8"
      }
    },
    {
      "cell_type": "markdown",
      "source": [
        "**Instructions**\n",
        "*  Store the first review as a multi-line string variable called `review_one`.\n",
        "*  Store the second review as a multi-line string variable called `review_two`.\n",
        "*   Print `review_one` then print `review_two`."
      ],
      "metadata": {
        "id": "tzUbxCiFGlD3"
      }
    },
    {
      "cell_type": "code",
      "execution_count": null,
      "metadata": {
        "colab": {
          "base_uri": "https://localhost:8080/"
        },
        "id": "fWJX1QRPIUgu",
        "outputId": "73bdc113-adf3-4a03-fcb8-aab97b331b9b"
      },
      "outputs": [
        {
          "output_type": "stream",
          "name": "stdout",
          "text": [
            " I really enjoy the courses,\n",
            "and they are easy to fit into my busy schedule. \n",
            "I wish I had started using your platform sooner.\n",
            "I'll be recommending you to my friends!! \n",
            " One year ago, I was unsure of how to make progress in my career. \n",
            "Now, I work as a Prompt Engineer, and I can't thank you enough! \n",
            "Keep up the great work.\n"
          ]
        }
      ],
      "source": [
        "# Create review_one\n",
        "review_one = \"\"\" I really enjoy the courses,\n",
        "and they are easy to fit into my busy schedule.\n",
        "I wish I had started using your platform sooner.\n",
        "I'll be recommending you to my friends!! \"\"\"\n",
        "\n",
        "# Create review_two\n",
        "review_two = \"\"\" One year ago, I was unsure of how to make progress in my career.\n",
        "Now, I work as a Prompt Engineer, and I can't thank you enough!\n",
        "Keep up the great work.\"\"\"\n",
        "\n",
        "# Print the two reviews individually\n",
        "print(review_one)\n",
        "print(review_two)"
      ]
    },
    {
      "cell_type": "markdown",
      "source": [
        "### Excercise 2: Modifying string variables\n"
      ],
      "metadata": {
        "id": "8CpORipyJ5Cv"
      }
    },
    {
      "cell_type": "markdown",
      "source": [
        "You did so well working with LLM Camp's reviews that they've asked for your help again.\n",
        "\n",
        "They have a variable called `most_popular_course`, which contains the name of their highest-ranked course. It has been provided in script.py so you can see its contents. However, there are issues with it:\n",
        "\n",
        "*   There's a typo. It should be `\"Introduction\"` rather than `\"Intro\"`.\n",
        "*   They want to remove spaces and use underscores to make it easier to analyze.\n",
        "*   For consistency, they want all characters to be lowercase.\n",
        "\n",
        "They'd like your support in making these changes!"
      ],
      "metadata": {
        "id": "lOOBe5uZG8hX"
      }
    },
    {
      "cell_type": "markdown",
      "source": [
        "**Instructions**\n",
        "*   Update the variable so that `\"Intro\"` now reads `\"Introduction\"`.\n",
        "*   Swap spaces to underscores throughout the string contained in `most_popular_course`.\n",
        "*   Update `most_popular_course` so that it only contains lowercase characters."
      ],
      "metadata": {
        "id": "c7Q37OOHHEVl"
      }
    },
    {
      "cell_type": "code",
      "source": [
        "most_popular_course = \"Intro to Embeddings with the OpenAI API\"\n",
        "print(most_popular_course)\n",
        "\n",
        "# Update the first word\n",
        "most_popular_course = most_popular_course.replace(\"Intro\", \"Introduction\")\n",
        "print(most_popular_course)\n",
        "\n",
        "# Swap spaces for underscores\n",
        "most_popular_course = most_popular_course.replace(\" \", \"_\")\n",
        "print(most_popular_course)\n",
        "\n",
        "# Change to lowercase\n",
        "most_popular_course = most_popular_course.lower()\n",
        "print(most_popular_course)"
      ],
      "metadata": {
        "colab": {
          "base_uri": "https://localhost:8080/"
        },
        "id": "mz8TLrDpKYPa",
        "outputId": "4132d02f-651d-4d07-d3a0-9b5dcaff487b"
      },
      "execution_count": null,
      "outputs": [
        {
          "output_type": "stream",
          "name": "stdout",
          "text": [
            "Intro to Embeddings with the OpenAI API\n",
            "Introduction to Embeddings with the OpenAI API\n",
            "Introduction_to_Embeddings_with_the_OpenAI_API\n",
            "introduction_to_embeddings_with_the_openai_api\n"
          ]
        }
      ]
    },
    {
      "cell_type": "markdown",
      "source": [
        "## Lesson 2: List"
      ],
      "metadata": {
        "id": "xnF6jbCoFaJg"
      }
    },
    {
      "cell_type": "markdown",
      "source": [
        "### Excersise 1: Building a party playlist\n",
        "\n",
        "\n"
      ],
      "metadata": {
        "id": "WT70XR6RL15v"
      }
    },
    {
      "cell_type": "markdown",
      "source": [
        "You're planning a party and want to build a playlist containing songs and the order in which they should be played.\n",
        "\n",
        "You decide this is a great opportunity to build a list in Python! In this exercise, you will create your `playlist` variable and add the first three songs.\n",
        "\n"
      ],
      "metadata": {
        "id": "WZbiPtJEHeN-"
      }
    },
    {
      "cell_type": "markdown",
      "source": [
        "**Instructions**\n",
        "*   Create a list variable called `playlist`, containing the following numeric and string values (in order): `1, \"Blinding Lights\", 2, \"One Dance\", 3, \"Uptown Funk\".`\n",
        "*   Print the list."
      ],
      "metadata": {
        "id": "3e3M7rLfHg9F"
      }
    },
    {
      "cell_type": "code",
      "source": [
        "# Create the playlist variable\n",
        "playlist = [1, \"Blinding Lights\", 2, \"One Dance\", 3, \"Uptown Funk\"]\n",
        "\n",
        "# Print the list\n",
        "print(playlist)"
      ],
      "metadata": {
        "colab": {
          "base_uri": "https://localhost:8080/"
        },
        "id": "qbOxyikaMjWm",
        "outputId": "07349874-52aa-4d0d-b2f5-1567fd301352"
      },
      "execution_count": null,
      "outputs": [
        {
          "output_type": "stream",
          "name": "stdout",
          "text": [
            "[1, 'Blinding Lights', 2, 'One Dance', 3, 'Uptown Funk']\n"
          ]
        }
      ]
    },
    {
      "cell_type": "markdown",
      "source": [
        "### Excersise 2: Subsetting lists\n",
        "\n",
        "\n",
        "\n",
        "\n",
        "\n"
      ],
      "metadata": {
        "id": "h0qTu9CMNNpg"
      }
    },
    {
      "cell_type": "markdown",
      "source": [
        "You've expanded your `playlist`. It still contains the song order and song names, but now you've also added the artist name for each song, as well as some additional songs!\n",
        "\n",
        "It repeats the same order throughout the list - 1) song number, 2) song name, 3) artist name, repeat.\n",
        "\n",
        "The new `playlist` has been printed in the IPython Shell for your reference.\n",
        "\n",
        "This is a great opportunity for you to practice extracting specific information from your list.\n",
        "\n"
      ],
      "metadata": {
        "id": "08vVCtCdHw2Q"
      }
    },
    {
      "cell_type": "markdown",
      "source": [
        "**Instructions**\n",
        "*   Find the name of the second song, which is the fifth element, in the `playlist`, and print the value.\n",
        "*   Print the name of the artist for the final song in the `playlist`.\n",
        "*   Print every song name in the `playlist`."
      ],
      "metadata": {
        "id": "Hep8zvJdHyoQ"
      }
    },
    {
      "cell_type": "code",
      "source": [
        "playlist = [1, 'Blinding Lights', 'The Weeknd', 2, 'One Dance', 'Drake', 3,\n",
        "            'Uptown Funk', 'Mark Ronson', 4, 'Closer', 'The Chainsmokers', 5,\n",
        "            'One Kiss', 'Calvin Harris', 6, 'Mr. Brightside', 'The Killers']\n",
        "print(playlist)\n",
        "\n",
        "# Find the second song\n",
        "print(playlist[4])\n",
        "\n",
        "# Get the last song's artist\n",
        "print(playlist[-1])\n",
        "\n",
        "# Print all songs in the playlist\n",
        "print(playlist[1::3])"
      ],
      "metadata": {
        "colab": {
          "base_uri": "https://localhost:8080/"
        },
        "id": "D-5sleDgN-xe",
        "outputId": "5fe1d672-3a96-4418-8014-7f8cfe3895e3"
      },
      "execution_count": null,
      "outputs": [
        {
          "output_type": "stream",
          "name": "stdout",
          "text": [
            "[1, 'Blinding Lights', 'The Weeknd', 2, 'One Dance', 'Drake', 3, 'Uptown Funk', 'Mark Ronson', 4, 'Closer', 'The Chainsmokers', 5, 'One Kiss', 'Calvin Harris', 6, 'Mr. Brightside', 'The Killers']\n",
            "One Dance\n",
            "The Killers\n",
            "['Blinding Lights', 'One Dance', 'Uptown Funk', 'Closer', 'One Kiss', 'Mr. Brightside']\n"
          ]
        }
      ]
    },
    {
      "cell_type": "markdown",
      "source": [
        "##Lesson 3: Dictionaries\n",
        "\n"
      ],
      "metadata": {
        "id": "3IcFe_oqQgF8"
      }
    },
    {
      "cell_type": "markdown",
      "source": [
        "### Creating a dictionary"
      ],
      "metadata": {
        "id": "rOXAqQP7TV-D"
      }
    },
    {
      "cell_type": "code",
      "source": [
        "# Creating a dictionary\n",
        "products_dict =  {\"AG32\": 10, \"HT91\": 20,\n",
        "                  \"PL65\": 30, \"OS31\": 15,\n",
        "                  \"KB07\": 25, \"TR48\": 35}\n"
      ],
      "metadata": {
        "colab": {
          "base_uri": "https://localhost:8080/"
        },
        "id": "_QWv0us5RW0G",
        "outputId": "155f1b18-1352-412f-83aa-7a52f539f486"
      },
      "execution_count": null,
      "outputs": [
        {
          "output_type": "stream",
          "name": "stdout",
          "text": [
            "10\n"
          ]
        }
      ]
    },
    {
      "cell_type": "markdown",
      "source": [
        "### Accessing a value based on the key"
      ],
      "metadata": {
        "id": "rt71O2ubSDK7"
      }
    },
    {
      "cell_type": "code",
      "source": [
        "# Find the product's price\n",
        "print(products_dict[\"AG32\"])"
      ],
      "metadata": {
        "id": "46Xn1AjUR7Z4"
      },
      "execution_count": null,
      "outputs": []
    },
    {
      "cell_type": "markdown",
      "source": [
        "### Accessing all values"
      ],
      "metadata": {
        "id": "W91Y2PLLSPac"
      }
    },
    {
      "cell_type": "code",
      "source": [
        "# Get all values from a dictionary\n",
        "products_dict.values()"
      ],
      "metadata": {
        "colab": {
          "base_uri": "https://localhost:8080/"
        },
        "id": "2IKu5Wk3SR5y",
        "outputId": "b4a5b35a-e509-4b72-907c-25b01e8c8463"
      },
      "execution_count": null,
      "outputs": [
        {
          "output_type": "execute_result",
          "data": {
            "text/plain": [
              "dict_values([10, 20, 30, 15, 25, 35])"
            ]
          },
          "metadata": {},
          "execution_count": 10
        }
      ]
    },
    {
      "cell_type": "markdown",
      "source": [
        "### Accessing all keys"
      ],
      "metadata": {
        "id": "YaKygICHSetR"
      }
    },
    {
      "cell_type": "code",
      "source": [
        "# Retrieve all keys in a dictionary\n",
        "products_dict.keys()"
      ],
      "metadata": {
        "colab": {
          "base_uri": "https://localhost:8080/"
        },
        "id": "2QurKKYtSgST",
        "outputId": "25d88867-992d-4d87-89e6-5a7f7f381541"
      },
      "execution_count": null,
      "outputs": [
        {
          "output_type": "execute_result",
          "data": {
            "text/plain": [
              "dict_keys(['AG32', 'HT91', 'PL65', 'OS31', 'KB07', 'TR48'])"
            ]
          },
          "metadata": {},
          "execution_count": 11
        }
      ]
    },
    {
      "cell_type": "markdown",
      "source": [
        "### Viewing an entire dictionary"
      ],
      "metadata": {
        "id": "ISQy_DVASqjx"
      }
    },
    {
      "cell_type": "code",
      "source": [
        "# Print the dictionary\n",
        "print(products_dict)"
      ],
      "metadata": {
        "colab": {
          "base_uri": "https://localhost:8080/"
        },
        "id": "rTcNsHYzSvAz",
        "outputId": "2ce7f9a9-5a1f-40f1-c227-4898110b8863"
      },
      "execution_count": null,
      "outputs": [
        {
          "output_type": "stream",
          "name": "stdout",
          "text": [
            "{'AG32': 10, 'HT91': 20, 'PL65': 30, 'OS31': 15, 'KB07': 25, 'TR48': 35}\n"
          ]
        }
      ]
    },
    {
      "cell_type": "code",
      "source": [
        "# Get all items (key-value pairs)\n",
        "products_dict.items()"
      ],
      "metadata": {
        "colab": {
          "base_uri": "https://localhost:8080/"
        },
        "id": "YjvEC_sFSyzB",
        "outputId": "868caafe-84ac-4658-bdd8-240b4f28cf8d"
      },
      "execution_count": null,
      "outputs": [
        {
          "output_type": "execute_result",
          "data": {
            "text/plain": [
              "dict_items([('AG32', 10), ('HT91', 20), ('PL65', 30), ('OS31', 15), ('KB07', 25), ('TR48', 35)])"
            ]
          },
          "metadata": {},
          "execution_count": 13
        }
      ]
    },
    {
      "cell_type": "markdown",
      "source": [
        "### Adding a key-value pair"
      ],
      "metadata": {
        "id": "1BhbTi8_S8Vz"
      }
    },
    {
      "cell_type": "code",
      "source": [
        "# Add a new key-value pair\n",
        "products_dict[\"UI56\"] = 40"
      ],
      "metadata": {
        "id": "PqqOYNleS-xK"
      },
      "execution_count": null,
      "outputs": []
    },
    {
      "cell_type": "markdown",
      "source": [
        "### Updating a value"
      ],
      "metadata": {
        "id": "QCbodRPATEWt"
      }
    },
    {
      "cell_type": "code",
      "source": [
        "# Updating a value associated with an existing key\n",
        "products_dict[\"HT91\"] = 12"
      ],
      "metadata": {
        "id": "vPG8rwVDTG9l"
      },
      "execution_count": null,
      "outputs": []
    },
    {
      "cell_type": "markdown",
      "source": [
        "### Excercie 1: Building a playlist dictionary"
      ],
      "metadata": {
        "id": "oNmPX-qvUj63"
      }
    },
    {
      "cell_type": "markdown",
      "source": [
        "With your new-found knowledge of dictionaries, you decide to translate your `playlist` from a list into a dictionary! As a reminder, this is the contents of `playlist`:\n",
        "\n",
        "\n",
        "\n",
        "```\n",
        "[1, \"Blinding Lights\", \"The Weeknd\", 2, \"One Dance\", \"Drake\",\n",
        " 3, \"Uptown Funk\", \"Mark Ronson\", 4, \"Closer\", \"The Chainsmokers\",\n",
        " 5, \"One Kiss\", \"Calvin Harris\", 6, \"Mr. Brightside\", \"The Killers\"]\n",
        "```\n",
        "\n",
        "\n",
        "The song names start at the second index `\"Blinding Lights\"` and make up every third value afterward.\n",
        "\n",
        "Artist names start at the third index `\"The Weeknd\"` and also make up every third value afterward."
      ],
      "metadata": {
        "id": "yHJRHCHKVbQa"
      }
    },
    {
      "cell_type": "markdown",
      "source": [
        "**Instructions**\n",
        "\n",
        "\n",
        "*   Create a dictionary called `playlist` containing the first two songs, in that order, with artist names as keys and their respective songs as values.\n",
        "*   Print the dictionary.\n",
        "\n",
        "\n"
      ],
      "metadata": {
        "id": "qCkgUdqTVwyC"
      }
    },
    {
      "cell_type": "code",
      "source": [
        "# Create the playlist dictionary\n",
        "playlist = {\"The Weeknd\" : \"Blinding Lights\", \"Drake\" : \"One Dance\"}\n",
        "\n",
        "# Print the playlist\n",
        "print(playlist)"
      ],
      "metadata": {
        "colab": {
          "base_uri": "https://localhost:8080/"
        },
        "id": "TQSrbBHdUuxN",
        "outputId": "3646fec2-3812-40e3-9298-13b96939b3c7"
      },
      "execution_count": null,
      "outputs": [
        {
          "output_type": "stream",
          "name": "stdout",
          "text": [
            "{'The Weeknd': 'Blinding Lights', 'Drake': 'One Dance'}\n"
          ]
        }
      ]
    },
    {
      "cell_type": "markdown",
      "source": [
        "### Excercise 2: Working with dictionaries\n"
      ],
      "metadata": {
        "id": "OSvK-WTAXKMZ"
      }
    },
    {
      "cell_type": "markdown",
      "source": [
        "You've been busy, adding more artists and songs to your `playlist` dictionary in preparation for the party!\n",
        "\n",
        "As a reminder, it contains artist names as keys and song names as values.\n",
        "\n",
        "In this exercise, you'll access parts of the dictionary as well as adding a new artist and song."
      ],
      "metadata": {
        "id": "U0XKq7RMY9f4"
      }
    },
    {
      "cell_type": "markdown",
      "source": [
        "**Instructions**\n",
        "\n",
        "\n",
        "*   Print the name of the song in the `playlist` that is by the artist `\"Coldplay\"`.\n",
        "*   Add a new key-value pair to the `playlist`, where the key is `\"Usher\"` and the value is `\"Yeah!\"`.\n",
        "*   Print **only** the songs in the `playlist`.\n",
        "\n"
      ],
      "metadata": {
        "id": "fAkXEe5dXU1H"
      }
    },
    {
      "cell_type": "code",
      "source": [
        "playlist = {'The Weeknd': 'Blinding Lights',\n",
        " 'Drake': 'One Dance',\n",
        " 'Mark Ronson': 'Uptown Funk',\n",
        " 'The Chainsmokers': 'Closer',\n",
        " 'Calvin Harris': 'One Kiss',\n",
        " 'The Killers': 'Mr. Brightside',\n",
        " 'Oasis': 'Wonderwall',\n",
        " 'Rihanna': 'We Found Love',\n",
        " 'Coldplay': 'Paradise'}\n",
        "\n",
        "# Print the song by Coldplay\n",
        "print(playlist[\"Coldplay\"])\n",
        "\n",
        "# Add a new song\n",
        "playlist[\"Usher\"] = \"Yeah!\"\n",
        "\n",
        "# Print the songs in the playlist\n",
        "print(playlist.values())"
      ],
      "metadata": {
        "colab": {
          "base_uri": "https://localhost:8080/"
        },
        "id": "yMy5-bLJXxNS",
        "outputId": "bd402169-c298-4a6a-db99-8dc3c47c5d18"
      },
      "execution_count": null,
      "outputs": [
        {
          "output_type": "stream",
          "name": "stdout",
          "text": [
            "Paradise\n",
            "dict_values(['Blinding Lights', 'One Dance', 'Uptown Funk', 'Closer', 'One Kiss', 'Mr. Brightside', 'Wonderwall', 'We Found Love', 'Paradise', 'Yeah!'])\n"
          ]
        }
      ]
    },
    {
      "cell_type": "markdown",
      "source": [
        "## Lesson 4: Sets and Tuples"
      ],
      "metadata": {
        "id": "tA2iVWbmZQ75"
      }
    },
    {
      "cell_type": "markdown",
      "source": [
        "### Sets\n",
        "\n",
        "\n"
      ],
      "metadata": {
        "id": "OaVeaVs8Zwix"
      }
    },
    {
      "cell_type": "markdown",
      "source": [
        "\n",
        "\n",
        "*   Contain **unique** data\n",
        "\n",
        "*   Unchangeable*: Can add or remove values, but cannot change them\n",
        "*   Ideal to identify and remove duplicates\n",
        "\n",
        "\n",
        "*   Quick to search (compared to other data structures such as lists)"
      ],
      "metadata": {
        "id": "7uM-xPpLaYuo"
      }
    },
    {
      "cell_type": "markdown",
      "source": [
        "### Creating a set"
      ],
      "metadata": {
        "id": "1C0tSJsfanRA"
      }
    },
    {
      "cell_type": "code",
      "source": [
        "# Create an attendee set\n",
        "attendees_set = {\"John Smith\", \"Alan Jones\", \"Roger Thompson\", \"John Smith\", \"Brandon Sharp\", \"Sam Washington\"}\n",
        "print(attendees_set)"
      ],
      "metadata": {
        "colab": {
          "base_uri": "https://localhost:8080/"
        },
        "id": "5tmwC1txbCyg",
        "outputId": "f41ce9d9-c2c2-47cd-cf34-aa014679299c"
      },
      "execution_count": null,
      "outputs": [
        {
          "output_type": "stream",
          "name": "stdout",
          "text": [
            "{'Brandon Sharp', 'Alan Jones', 'Roger Thompson', 'John Smith', 'Sam Washington'}\n"
          ]
        }
      ]
    },
    {
      "cell_type": "markdown",
      "source": [
        "### Converting to a set"
      ],
      "metadata": {
        "id": "bTw_AVHQbJLj"
      }
    },
    {
      "cell_type": "code",
      "source": [
        "# Existing list variable\n",
        "attendees_list = [\"John Smith\", \"Alan Jones\", \"Roger Thompson\", \"John Smith\", \"Brandon Sharp\", \"Sam Washington\"]\n",
        "\n",
        "# Convert to a set\n",
        "attendees_set = set(attendees_list)\n",
        "\n",
        "# Check the data type\n",
        "type(attendees_set)\n",
        "\n",
        "print(attendees_set)"
      ],
      "metadata": {
        "colab": {
          "base_uri": "https://localhost:8080/"
        },
        "id": "lvOZqyGhbKY6",
        "outputId": "e5309c9f-c2bc-4086-c590-edb1e3831a27"
      },
      "execution_count": null,
      "outputs": [
        {
          "output_type": "stream",
          "name": "stdout",
          "text": [
            "{'Alan Jones', 'Sam Washington', 'Brandon Sharp', 'Roger Thompson', 'John Smith'}\n"
          ]
        }
      ]
    },
    {
      "cell_type": "markdown",
      "source": [
        "### Limitations of sets"
      ],
      "metadata": {
        "id": "p3lLSHIJbuUA"
      }
    },
    {
      "cell_type": "markdown",
      "source": [
        "\n",
        "\n",
        "1.   Don't have an index\n",
        "\n",
        "\n",
        "*   Can't have duplicates\n",
        "*   Can't subset with []\n",
        "\n",
        "\n",
        "\n"
      ],
      "metadata": {
        "id": "N-SozJyXbyGB"
      }
    },
    {
      "cell_type": "code",
      "source": [
        "# Trying to subset a set\n",
        "attendees_set[0]"
      ],
      "metadata": {
        "colab": {
          "base_uri": "https://localhost:8080/",
          "height": 158
        },
        "id": "McfEtxujb_zQ",
        "outputId": "83ceaf59-9baf-44ee-9cbb-d1264cb33ab8"
      },
      "execution_count": null,
      "outputs": [
        {
          "output_type": "error",
          "ename": "TypeError",
          "evalue": "'set' object is not subscriptable",
          "traceback": [
            "\u001b[0;31m---------------------------------------------------------------------------\u001b[0m",
            "\u001b[0;31mTypeError\u001b[0m                                 Traceback (most recent call last)",
            "\u001b[0;32m<ipython-input-24-e7fc3dc62ea7>\u001b[0m in \u001b[0;36m<cell line: 0>\u001b[0;34m()\u001b[0m\n\u001b[1;32m      1\u001b[0m \u001b[0;31m# Trying to subset a set\u001b[0m\u001b[0;34m\u001b[0m\u001b[0;34m\u001b[0m\u001b[0m\n\u001b[0;32m----> 2\u001b[0;31m \u001b[0mattendees_set\u001b[0m\u001b[0;34m[\u001b[0m\u001b[0;36m0\u001b[0m\u001b[0;34m]\u001b[0m\u001b[0;34m\u001b[0m\u001b[0;34m\u001b[0m\u001b[0m\n\u001b[0m",
            "\u001b[0;31mTypeError\u001b[0m: 'set' object is not subscriptable"
          ]
        }
      ]
    },
    {
      "cell_type": "markdown",
      "source": [
        "### Sorting a set"
      ],
      "metadata": {
        "id": "Aq3syj1AcM1w"
      }
    },
    {
      "cell_type": "markdown",
      "source": [
        "`.sorted()` return a list"
      ],
      "metadata": {
        "id": "FLavsAaKcYzX"
      }
    },
    {
      "cell_type": "code",
      "source": [
        "attendees_set = {\"John Smith\", \"Alan Jones\", \"Roger Thompson\", \"John Smith\", \"Brandon Sharp\", \"Sam Washington\"}\n",
        "# Sorting a set\n",
        "sorted(attendees_set)"
      ],
      "metadata": {
        "colab": {
          "base_uri": "https://localhost:8080/"
        },
        "id": "c1OM4aT8cQgg",
        "outputId": "e3b119a4-f03a-4597-87b0-40eb6ed060a5"
      },
      "execution_count": null,
      "outputs": [
        {
          "output_type": "execute_result",
          "data": {
            "text/plain": [
              "['Alan Jones',\n",
              " 'Brandon Sharp',\n",
              " 'John Smith',\n",
              " 'Roger Thompson',\n",
              " 'Sam Washington']"
            ]
          },
          "metadata": {},
          "execution_count": 26
        }
      ]
    },
    {
      "cell_type": "markdown",
      "source": [
        "### Excercise 1: Last quarter's revenue\n",
        "\n",
        "\n",
        "\n",
        "\n",
        "\n",
        "\n",
        "\n",
        "\n",
        "\n"
      ],
      "metadata": {
        "id": "Y_YdNDGpfxgW"
      }
    },
    {
      "cell_type": "markdown",
      "source": [
        "Your friend at LLM Camp has finalized the financial performance for the last quarter and would like you to store this information in a format that cannot be modified. It will contain their revenue, new customer acquisitions, and cash position.\n",
        "\n",
        "You've decided to make a tuple containing this information."
      ],
      "metadata": {
        "id": "szGNX5TzEU0O"
      }
    },
    {
      "cell_type": "markdown",
      "source": [
        "**Instructions**\n",
        "\n",
        "\n",
        "*   Create a tuple called `q3_financials` containing the following values: `325780`, `1041`, and `4271599`.\n",
        "*   Print the tuple.\n",
        "\n",
        "\n",
        "\n",
        "\n",
        "\n"
      ],
      "metadata": {
        "id": "OwsJLfVPf9xW"
      }
    },
    {
      "cell_type": "code",
      "source": [
        "# Create a tuple\n",
        "q3_financials = (325780, 1041, 4271599)\n",
        "\n",
        "# Print the tuple\n",
        "print(q3_financials)"
      ],
      "metadata": {
        "colab": {
          "base_uri": "https://localhost:8080/"
        },
        "id": "s6N9qStLgact",
        "outputId": "43075f4b-7d4e-416c-e135-b21f7eefec91"
      },
      "execution_count": null,
      "outputs": [
        {
          "output_type": "stream",
          "name": "stdout",
          "text": [
            "(325780, 1041, 4271599)\n"
          ]
        }
      ]
    },
    {
      "cell_type": "markdown",
      "source": [
        "### Excercise 2: DJ Sets\n"
      ],
      "metadata": {
        "id": "OhAmRXSMguwW"
      }
    },
    {
      "cell_type": "code",
      "source": [
        "hip_hop = [\"Drake\", \"JAY-Z\", \"50 Cent\", \"Drake\"]"
      ],
      "metadata": {
        "id": "V59jUkOXhzcE"
      },
      "execution_count": null,
      "outputs": []
    },
    {
      "cell_type": "markdown",
      "source": [
        "**Instructions**\n",
        "\n",
        "\n",
        "*   Create a set called `indie_set` containing `\"Kings of Leon\"`, `\"Arctic Monkeys\"`, and `\"Stereophonics\"`.\n",
        "*   Convert the `hip_hop` list into a set, saving it as a new variable called `hip_hop_set`\n",
        "*   Print the `indie_set` and `hip_hop_set` set variables."
      ],
      "metadata": {
        "id": "KgtMzS7Qg7Hd"
      }
    },
    {
      "cell_type": "code",
      "source": [
        "# Create a set\n",
        "indie_set = {\"Kings of Leon\", \"Arctic Monkeys\", \"Stereophonics\"}\n",
        "\n",
        "# Convert hip_hop to a set\n",
        "hip_hop_set = set(hip_hop)\n",
        "\n",
        "# Print the indie and hip_hop sets\n",
        "print(indie_set, hip_hop_set)"
      ],
      "metadata": {
        "colab": {
          "base_uri": "https://localhost:8080/"
        },
        "id": "FvV_j7zuhULW",
        "outputId": "6b7390de-ce34-44f7-8fba-4b7b553cecfa"
      },
      "execution_count": null,
      "outputs": [
        {
          "output_type": "stream",
          "name": "stdout",
          "text": [
            "{'Arctic Monkeys', 'Stereophonics', 'Kings of Leon'} {'Drake', 'JAY-Z', '50 Cent'}\n"
          ]
        }
      ]
    },
    {
      "cell_type": "markdown",
      "source": [
        "# Chapter 3: Control flow and loops"
      ],
      "metadata": {
        "id": "mi3VBH17kLIN"
      }
    },
    {
      "cell_type": "markdown",
      "source": [
        "## Lesson 1: Conditional statements and operators"
      ],
      "metadata": {
        "id": "axA-Ycz2kPfd"
      }
    },
    {
      "cell_type": "markdown",
      "source": [
        "### Booleans\n"
      ],
      "metadata": {
        "id": "V63LzbHaE3GT"
      }
    },
    {
      "cell_type": "code",
      "source": [
        "# Boolean variable\n",
        "the_truth = True\n",
        "print(the_truth)"
      ],
      "metadata": {
        "id": "42T_-0RjE4av"
      },
      "execution_count": null,
      "outputs": []
    },
    {
      "cell_type": "markdown",
      "source": [
        "### Operators"
      ],
      "metadata": {
        "id": "hSCBf1ftFDf_"
      }
    },
    {
      "cell_type": "markdown",
      "source": [
        "### Checking for equality"
      ],
      "metadata": {
        "id": "zarD6nXqFFFF"
      }
    },
    {
      "cell_type": "code",
      "source": [
        "# Compare if 2 is equal to 3\n",
        "2 == 3"
      ],
      "metadata": {
        "colab": {
          "base_uri": "https://localhost:8080/"
        },
        "id": "nZcna0niFH5_",
        "outputId": "1aa98ddc-4b57-4b27-da07-7ab5869c0e69"
      },
      "execution_count": null,
      "outputs": [
        {
          "output_type": "execute_result",
          "data": {
            "text/plain": [
              "False"
            ]
          },
          "metadata": {},
          "execution_count": 1
        }
      ]
    },
    {
      "cell_type": "code",
      "source": [
        "# Check that 2 is not equal to 3\n",
        "2 != 3"
      ],
      "metadata": {
        "colab": {
          "base_uri": "https://localhost:8080/"
        },
        "id": "sqnL2zT1FKwG",
        "outputId": "bab1a0f1-3cf1-45b3-b749-de84c7175ea4"
      },
      "execution_count": null,
      "outputs": [
        {
          "output_type": "execute_result",
          "data": {
            "text/plain": [
              "True"
            ]
          },
          "metadata": {},
          "execution_count": 2
        }
      ]
    },
    {
      "cell_type": "markdown",
      "source": [
        "### Numeric comparison operators"
      ],
      "metadata": {
        "id": "MjjpqEpHFQ8-"
      }
    },
    {
      "cell_type": "code",
      "source": [
        "# Is 5 less than 7?\n",
        "5 < 7"
      ],
      "metadata": {
        "colab": {
          "base_uri": "https://localhost:8080/"
        },
        "id": "FJno-UdbFSPd",
        "outputId": "6f9d04a7-2b8a-4cc4-d666-3c320bb28cd8"
      },
      "execution_count": null,
      "outputs": [
        {
          "output_type": "execute_result",
          "data": {
            "text/plain": [
              "True"
            ]
          },
          "metadata": {},
          "execution_count": 3
        }
      ]
    },
    {
      "cell_type": "code",
      "source": [
        "# Is 5 greater than 7?\n",
        "5 > 7"
      ],
      "metadata": {
        "colab": {
          "base_uri": "https://localhost:8080/"
        },
        "id": "slRHQSBuFWB7",
        "outputId": "9723f6e3-1419-47b1-e0ac-a737c41c897a"
      },
      "execution_count": null,
      "outputs": [
        {
          "output_type": "execute_result",
          "data": {
            "text/plain": [
              "False"
            ]
          },
          "metadata": {},
          "execution_count": 4
        }
      ]
    },
    {
      "cell_type": "code",
      "source": [
        "# Is 5 less than or equal to 7?\n",
        "5 <= 7"
      ],
      "metadata": {
        "colab": {
          "base_uri": "https://localhost:8080/"
        },
        "id": "N2F6jOjNFZ12",
        "outputId": "714d827c-bdf7-4bcb-82c9-aca42b52909a"
      },
      "execution_count": null,
      "outputs": [
        {
          "output_type": "execute_result",
          "data": {
            "text/plain": [
              "True"
            ]
          },
          "metadata": {},
          "execution_count": 5
        }
      ]
    },
    {
      "cell_type": "code",
      "source": [
        "# Is 5 greater or equal to 7?\n",
        "5 >= 7"
      ],
      "metadata": {
        "colab": {
          "base_uri": "https://localhost:8080/"
        },
        "id": "RJHVMWNHFdmN",
        "outputId": "74823323-c717-4889-cf66-9dc6e4350462"
      },
      "execution_count": null,
      "outputs": [
        {
          "output_type": "execute_result",
          "data": {
            "text/plain": [
              "False"
            ]
          },
          "metadata": {},
          "execution_count": 6
        }
      ]
    },
    {
      "cell_type": "markdown",
      "source": [
        "### Other comparisons"
      ],
      "metadata": {
        "id": "Ts700OpqFj7f"
      }
    },
    {
      "cell_type": "code",
      "source": [
        "# Is James greater than Brian\n",
        "\"James\" > \"Brian\""
      ],
      "metadata": {
        "colab": {
          "base_uri": "https://localhost:8080/"
        },
        "id": "tyW4NmbrFlI_",
        "outputId": "5a17032b-c07f-449c-f12f-e00601dd7c00"
      },
      "execution_count": null,
      "outputs": [
        {
          "output_type": "execute_result",
          "data": {
            "text/plain": [
              "True"
            ]
          },
          "metadata": {},
          "execution_count": 7
        }
      ]
    },
    {
      "cell_type": "markdown",
      "source": [
        "### Conditional statements"
      ],
      "metadata": {
        "id": "G4RaZ6RmF0WA"
      }
    },
    {
      "cell_type": "code",
      "source": [
        "# Target units sold and actual units sold\n",
        "sales_target = 350\n",
        "units_sold = 355\n",
        "# Compare sales\n",
        "if units_sold >= sales_target:\n",
        "  print(\"Target achieved\")"
      ],
      "metadata": {
        "colab": {
          "base_uri": "https://localhost:8080/"
        },
        "id": "GRvoFMlnF6AZ",
        "outputId": "d0f0e094-9856-4881-d720-c3ad70bc50cb"
      },
      "execution_count": null,
      "outputs": [
        {
          "output_type": "stream",
          "name": "stdout",
          "text": [
            "Target achieved\n"
          ]
        }
      ]
    },
    {
      "cell_type": "markdown",
      "source": [
        "### Indentation"
      ],
      "metadata": {
        "id": "9RAM_NalGBn_"
      }
    },
    {
      "cell_type": "code",
      "source": [
        "# Target units sold and actual units sold\n",
        "sales_target = 350\n",
        "units_sold = 355\n",
        "# Compare sales\n",
        "if units_sold >= sales_target:\n",
        "print(\"Target achieved\") # This line is not indented"
      ],
      "metadata": {
        "colab": {
          "base_uri": "https://localhost:8080/",
          "height": 106
        },
        "id": "9mkgal6tGDiu",
        "outputId": "c0456b43-49fd-4abd-c503-860a77b0d95e"
      },
      "execution_count": null,
      "outputs": [
        {
          "output_type": "error",
          "ename": "IndentationError",
          "evalue": "expected an indented block after 'if' statement on line 5 (<ipython-input-9-dbe9cd50e4dc>, line 6)",
          "traceback": [
            "\u001b[0;36m  File \u001b[0;32m\"<ipython-input-9-dbe9cd50e4dc>\"\u001b[0;36m, line \u001b[0;32m6\u001b[0m\n\u001b[0;31m    print(\"Target achieved\") # This line is not indented\u001b[0m\n\u001b[0m    ^\u001b[0m\n\u001b[0;31mIndentationError\u001b[0m\u001b[0;31m:\u001b[0m expected an indented block after 'if' statement on line 5\n"
          ]
        }
      ]
    },
    {
      "cell_type": "markdown",
      "source": [
        "### Elif statement"
      ],
      "metadata": {
        "id": "EiG0xYrxGLR9"
      }
    },
    {
      "cell_type": "code",
      "source": [
        "# Target units sold and actual units sold\n",
        "sales_target = 350\n",
        "units_sold = 325\n",
        "# Compare sales\n",
        "if units_sold >= sales_target:\n",
        "    print(\"Target achieved\")\n",
        "# Check if we were close to the target\n",
        "elif units_sold >= 320:\n",
        "    print(\"Target almost achieved\")"
      ],
      "metadata": {
        "colab": {
          "base_uri": "https://localhost:8080/"
        },
        "id": "TLrxhRh3GM5t",
        "outputId": "0207b9d3-81ae-4ff6-d6b3-086cc3bc67ad"
      },
      "execution_count": null,
      "outputs": [
        {
          "output_type": "stream",
          "name": "stdout",
          "text": [
            "Target almost achieved\n"
          ]
        }
      ]
    },
    {
      "cell_type": "markdown",
      "source": [
        "### Else statement"
      ],
      "metadata": {
        "id": "Bg1V-s5BGXG4"
      }
    },
    {
      "cell_type": "code",
      "source": [
        "# Compare sales\n",
        "if units_sold >= sales_target:\n",
        "  print(\"Target achieved\")\n",
        "# Check if we were close to the target\n",
        "elif units_sold >= 320:\n",
        "  print(\"Target almost achieved\")\n",
        "# Otherwise...\n",
        "else:\n",
        "  print(\"Target not achieved\")"
      ],
      "metadata": {
        "colab": {
          "base_uri": "https://localhost:8080/"
        },
        "id": "aWJVZYEdGYct",
        "outputId": "ef5d5122-56aa-4bf8-ef00-99062d232c63"
      },
      "execution_count": null,
      "outputs": [
        {
          "output_type": "stream",
          "name": "stdout",
          "text": [
            "Target almost achieved\n"
          ]
        }
      ]
    },
    {
      "cell_type": "markdown",
      "source": [
        "### Excercise 1: Checking inflation\n"
      ],
      "metadata": {
        "id": "1nLn8dSoHiV_"
      }
    },
    {
      "cell_type": "markdown",
      "source": [
        "You've been asked to support the UK Government in analyzing their inflation statistics.\n",
        "\n",
        "They've supplied you with data for September and August 2023 stored as two float variables, `inflation_september` and `inflation_august` respectively.\n",
        "\n",
        "You'll need to build a workflow that compares these statistics."
      ],
      "metadata": {
        "id": "RSONh7AJM0f6"
      }
    },
    {
      "cell_type": "code",
      "source": [
        "inflation_september = 6.7\n",
        "inflation_august = 6.7"
      ],
      "metadata": {
        "id": "BQFGP4doI3-_"
      },
      "execution_count": null,
      "outputs": []
    },
    {
      "cell_type": "markdown",
      "source": [
        "**Instructions**\n",
        "\n",
        "\n",
        "*   Check if `inflation_september` is less than `inflation_august`, printing \"Inflation decreased\" if this is the case.\n",
        "*   *Else*, check *if* `inflation_september` is more than `inflation_august`, printing `\"Inflation increased\"` if true.\n",
        "*   Otherwise, print `\"Inflation remained stable\"`.\n",
        "\n"
      ],
      "metadata": {
        "id": "TLoL3houH-zs"
      }
    },
    {
      "cell_type": "code",
      "source": [
        "# Check if September inflation is less than August inflation\n",
        "if inflation_september < inflation_august:\n",
        "  print(\"Inflation decreased\")\n",
        "\n",
        "# Check if September inflation is more than August inflation\n",
        "elif inflation_september > inflation_august:\n",
        "  print(\"Inflation increased\")\n",
        "\n",
        "# Confirm that they are equal\n",
        "else:\n",
        "  print(\"Inflation remained stable\")"
      ],
      "metadata": {
        "colab": {
          "base_uri": "https://localhost:8080/"
        },
        "id": "guwPeAs7I05O",
        "outputId": "b4f8468f-b361-4b78-c9e6-a0acdf161fe8"
      },
      "execution_count": null,
      "outputs": [
        {
          "output_type": "stream",
          "name": "stdout",
          "text": [
            "Inflation remained stable\n"
          ]
        }
      ]
    },
    {
      "cell_type": "markdown",
      "source": [
        "### Excercise 2: On the rental market\n"
      ],
      "metadata": {
        "id": "qo1Ck_KoJ8cD"
      }
    },
    {
      "cell_type": "markdown",
      "source": [
        "You are looking to move and have defined variables containing your requirements/limits for number of bedrooms, minimum square feet (area), and maximum rent:\n",
        "\n"
      ],
      "metadata": {
        "id": "d1nldKh-M7p1"
      }
    },
    {
      "cell_type": "code",
      "source": [
        "min_num_beds = 2\n",
        "min_sq_foot = 750\n",
        "max_rent = 1900"
      ],
      "metadata": {
        "id": "QE638PxcNO_C"
      },
      "execution_count": null,
      "outputs": []
    },
    {
      "cell_type": "markdown",
      "source": [
        "You've seen a property you are interested in and have stored its information in the variables `num_beds`, `sq_foot`, and `rent`. You will build a custom workflow to check if this potential property suits your needs."
      ],
      "metadata": {
        "id": "lnzn-CjnNLLC"
      }
    },
    {
      "cell_type": "code",
      "source": [
        "num_beds = 3\n",
        "sq_foot = 800\n",
        "rent = 1750"
      ],
      "metadata": {
        "id": "e5o2oT-TMQga"
      },
      "execution_count": null,
      "outputs": []
    },
    {
      "cell_type": "markdown",
      "source": [
        "**Instructions**\n",
        "\n",
        "\n",
        "*   Check if `num_beds` is less than `min_num_beds`, printing `\"Insufficient bedrooms\"` if this is the case\n",
        "*   Else, check if `sq_foot` is less than or equal to `min_sq_foot`, printing `\"Too small\"` if this is the case.\n",
        "*   Else, check if `rent` is more than `max_rent`, printing `\"Too expensive\"` if this is the case.\n",
        "*   Otherwise, print `\"This looks promising!\"`.\n"
      ],
      "metadata": {
        "id": "MJNRMUXqKXKq"
      }
    },
    {
      "cell_type": "code",
      "source": [
        "# Check the number of beds\n",
        "if num_beds < min_num_beds:\n",
        "  print(\"Insufficient bedrooms\")\n",
        "\n",
        "# Check square feet\n",
        "elif sq_foot <= min_sq_foot:\n",
        "  print(\"Too small\")\n",
        "\n",
        "\n",
        "# Check the rent\n",
        "elif rent > max_rent:\n",
        "  print(\"Too expensive\")\n",
        "\n",
        "\n",
        "# If all conditions met\n",
        "else:\n",
        "  print(\"This looks promising!\")"
      ],
      "metadata": {
        "colab": {
          "base_uri": "https://localhost:8080/"
        },
        "id": "GfOD_T4bLUtT",
        "outputId": "27ad2969-e099-401d-aada-1839fa8fd898"
      },
      "execution_count": null,
      "outputs": [
        {
          "output_type": "stream",
          "name": "stdout",
          "text": [
            "This looks promising!\n"
          ]
        }
      ]
    },
    {
      "cell_type": "markdown",
      "source": [
        "## Lesson 2: For loops"
      ],
      "metadata": {
        "id": "HsPgeWtsN3o9"
      }
    },
    {
      "cell_type": "markdown",
      "source": [
        "### Individual comparisons"
      ],
      "metadata": {
        "id": "h6ZE81ssOTLl"
      }
    },
    {
      "cell_type": "code",
      "source": [
        "# Prices list\n",
        "prices = [9.99, 8.99, 35.25, 1.50, 5.75]\n",
        "prices[0] > 10"
      ],
      "metadata": {
        "colab": {
          "base_uri": "https://localhost:8080/"
        },
        "id": "VxMvDm4OOVWM",
        "outputId": "9babdebd-f49f-411b-9383-caccdcb7a48a"
      },
      "execution_count": null,
      "outputs": [
        {
          "output_type": "execute_result",
          "data": {
            "text/plain": [
              "False"
            ]
          },
          "metadata": {},
          "execution_count": 18
        }
      ]
    },
    {
      "cell_type": "code",
      "source": [
        "prices[0] < 5"
      ],
      "metadata": {
        "colab": {
          "base_uri": "https://localhost:8080/"
        },
        "id": "0whFibmGOYSL",
        "outputId": "d7d11a79-385d-4d20-f61e-b3fb47560983"
      },
      "execution_count": null,
      "outputs": [
        {
          "output_type": "execute_result",
          "data": {
            "text/plain": [
              "False"
            ]
          },
          "metadata": {},
          "execution_count": 19
        }
      ]
    },
    {
      "cell_type": "code",
      "source": [
        "prices[0] >= 5 and prices[0] <= 10"
      ],
      "metadata": {
        "colab": {
          "base_uri": "https://localhost:8080/"
        },
        "id": "XStKoEq-ObFa",
        "outputId": "505a6b5b-9600-41cf-ff46-d03a467ff8b6"
      },
      "execution_count": null,
      "outputs": [
        {
          "output_type": "execute_result",
          "data": {
            "text/plain": [
              "True"
            ]
          },
          "metadata": {},
          "execution_count": 20
        }
      ]
    },
    {
      "cell_type": "markdown",
      "source": [
        "### For loop syntax"
      ],
      "metadata": {
        "id": "Bi5KWAPLOjkD"
      }
    },
    {
      "cell_type": "markdown",
      "source": [
        "\n",
        "```\n",
        "for value in sequence:\n",
        "  action\n",
        "```\n",
        "\n"
      ],
      "metadata": {
        "id": "VBNdfm-hOlR6"
      }
    },
    {
      "cell_type": "markdown",
      "source": [
        "*   `for` each `value` in `sequence` , perform `action`\n",
        "    *   `action` is indented because of the colon in the previous line\n",
        "*   `sequence` = iterable e.g., list, dictionary, etc\n",
        "*   `value` = iterator, i.e., the index\n",
        "    *   Placeholder (can give it any name), `i` is common."
      ],
      "metadata": {
        "id": "Vex_ypyTPWQp"
      }
    },
    {
      "cell_type": "markdown",
      "source": [
        "### Print individual values"
      ],
      "metadata": {
        "id": "KTqAusTTP2aV"
      }
    },
    {
      "cell_type": "code",
      "source": [
        "# Prices list\n",
        "prices = [9.99, 8.99, 35.25, 1.50, 5.75]\n",
        "# Print each value in prices\n",
        "for price in prices:\n",
        "  print(price)"
      ],
      "metadata": {
        "colab": {
          "base_uri": "https://localhost:8080/"
        },
        "id": "fXXAxjvRP4dL",
        "outputId": "f55a19c3-794d-4945-f69a-ed43e46db301"
      },
      "execution_count": null,
      "outputs": [
        {
          "output_type": "stream",
          "name": "stdout",
          "text": [
            "9.99\n",
            "8.99\n",
            "35.25\n",
            "1.5\n",
            "5.75\n"
          ]
        }
      ]
    },
    {
      "cell_type": "markdown",
      "source": [
        "### Conditional statements in for loops"
      ],
      "metadata": {
        "id": "Th3knKmGQE77"
      }
    },
    {
      "cell_type": "code",
      "source": [
        "for price in prices:\n",
        "  # Check if the price is more than 10\n",
        "  if price > 10:\n",
        "    print(\"More than $10\")\n",
        "  # Check if the price is less than 5\n",
        "  elif price < 5:\n",
        "    print(\"Less than $5\")\n",
        "  # Otherwise print the price\n",
        "  else:\n",
        "    print(price)"
      ],
      "metadata": {
        "colab": {
          "base_uri": "https://localhost:8080/"
        },
        "id": "CkA4Sxd3QGV8",
        "outputId": "e44198e6-2ee2-49fc-f94f-7a5a3df86d36"
      },
      "execution_count": null,
      "outputs": [
        {
          "output_type": "stream",
          "name": "stdout",
          "text": [
            "9.99\n",
            "8.99\n",
            "More than $10\n",
            "Less than $5\n",
            "5.75\n"
          ]
        }
      ]
    },
    {
      "cell_type": "markdown",
      "source": [
        "### Looping through strings"
      ],
      "metadata": {
        "id": "kY5h8O6QQ2ie"
      }
    },
    {
      "cell_type": "code",
      "source": [
        "username = \"george_dc\"\n",
        "# Loop through username and print each character\n",
        "for char in username:\n",
        "  print(char)"
      ],
      "metadata": {
        "colab": {
          "base_uri": "https://localhost:8080/"
        },
        "id": "rHR1hZgzQ4Iy",
        "outputId": "bc814eb1-3efd-4437-e388-c28076d994bb"
      },
      "execution_count": null,
      "outputs": [
        {
          "output_type": "stream",
          "name": "stdout",
          "text": [
            "g\n",
            "e\n",
            "o\n",
            "r\n",
            "g\n",
            "e\n",
            "_\n",
            "d\n",
            "c\n"
          ]
        }
      ]
    },
    {
      "cell_type": "markdown",
      "source": [
        "### Looping through dictionaries\n"
      ],
      "metadata": {
        "id": "U6pt81p1RCG5"
      }
    },
    {
      "cell_type": "code",
      "source": [
        "products_dict = {\"AG32\":87.99, \"HT91\":21.50,\n",
        "\"PL65\":43.75, \"OS31\":19.99,\n",
        "\"KB07\":62.95, \"TR48\":98.0}\n",
        "\n",
        "# Loop through keys and values\n",
        "for key, val in products_dict.items():\n",
        "  print(key, val)"
      ],
      "metadata": {
        "colab": {
          "base_uri": "https://localhost:8080/"
        },
        "id": "iq8aWyzHRGhY",
        "outputId": "a9ec890c-14ac-4dfc-90af-9d0767c3ef96"
      },
      "execution_count": null,
      "outputs": [
        {
          "output_type": "stream",
          "name": "stdout",
          "text": [
            "AG32 87.99\n",
            "HT91 21.5\n",
            "PL65 43.75\n",
            "OS31 19.99\n",
            "KB07 62.95\n",
            "TR48 98.0\n"
          ]
        }
      ]
    },
    {
      "cell_type": "code",
      "source": [
        "# Loop through keys\n",
        "for key in products_dict.keys():\n",
        "  print(key)"
      ],
      "metadata": {
        "colab": {
          "base_uri": "https://localhost:8080/"
        },
        "id": "W7Wa2vDERTVT",
        "outputId": "940dcbbb-a4ad-419e-d372-502edd5c6ddd"
      },
      "execution_count": null,
      "outputs": [
        {
          "output_type": "stream",
          "name": "stdout",
          "text": [
            "AG32\n",
            "HT91\n",
            "PL65\n",
            "OS31\n",
            "KB07\n",
            "TR48\n"
          ]
        }
      ]
    },
    {
      "cell_type": "code",
      "source": [
        "# Loop through values\n",
        "for val in products_dict.values():\n",
        "  print(val)"
      ],
      "metadata": {
        "colab": {
          "base_uri": "https://localhost:8080/"
        },
        "id": "ruifjrHzRWpS",
        "outputId": "0e640f00-1e86-4aef-816e-4c5f2b73a791"
      },
      "execution_count": null,
      "outputs": [
        {
          "output_type": "stream",
          "name": "stdout",
          "text": [
            "87.99\n",
            "21.5\n",
            "43.75\n",
            "19.99\n",
            "62.95\n",
            "98.0\n"
          ]
        }
      ]
    },
    {
      "cell_type": "markdown",
      "source": [
        "### Range"
      ],
      "metadata": {
        "id": "6aTG13DQRjoc"
      }
    },
    {
      "cell_type": "markdown",
      "source": [
        "*   Can use `for` loops to update variables\n",
        "\n",
        "\n",
        "```\n",
        "    range(start, end + 1)\n",
        "```\n",
        "\n",
        "*   `start` = inclusive\n",
        "*   `end` = not inclusive"
      ],
      "metadata": {
        "id": "TrXREdofRzgb"
      }
    },
    {
      "cell_type": "code",
      "source": [
        "for i in range(1, 6):\n",
        "  print(i)"
      ],
      "metadata": {
        "colab": {
          "base_uri": "https://localhost:8080/"
        },
        "id": "WtfC_nNARl8b",
        "outputId": "82ae11d9-c1c2-413e-fa40-cf08038b4d6b"
      },
      "execution_count": null,
      "outputs": [
        {
          "output_type": "stream",
          "name": "stdout",
          "text": [
            "1\n",
            "2\n",
            "3\n",
            "4\n",
            "5\n"
          ]
        }
      ]
    },
    {
      "cell_type": "markdown",
      "source": [
        "### Building a counter"
      ],
      "metadata": {
        "id": "vMOC66jMSfYz"
      }
    },
    {
      "cell_type": "code",
      "source": [
        "# No visits yet\n",
        "visits = 0\n",
        "\n",
        "# Loop through numbers 1-10\n",
        "for i in range(1, 11):\n",
        "# Add one to visits during each iteration\n",
        "  visits += 1 # Same as visits = visits + 1\n",
        "\n",
        "print(visits)"
      ],
      "metadata": {
        "colab": {
          "base_uri": "https://localhost:8080/"
        },
        "id": "hX-qzy-hShdj",
        "outputId": "9cf3d260-9c47-42a2-97dc-c26d1fb13b52"
      },
      "execution_count": null,
      "outputs": [
        {
          "output_type": "stream",
          "name": "stdout",
          "text": [
            "10\n"
          ]
        }
      ]
    },
    {
      "cell_type": "markdown",
      "source": [
        "### Exercise 1: Looping through a list"
      ],
      "metadata": {
        "id": "sYIXkJx8S3GQ"
      }
    },
    {
      "cell_type": "markdown",
      "source": [
        "Time to test your for-loop skills! In the `script.py` a list called `user_ids` has been stored, containing, you guessed it - user IDs!\n",
        "\n",
        "Your task is to loop through the list and print each ID individually."
      ],
      "metadata": {
        "id": "J4TrszUIS8x1"
      }
    },
    {
      "cell_type": "code",
      "source": [
        "user_ids = [\"T42YG4KTK\", \"VTQ39IDQ0\", \"CRL11YUWX\", \"K6Y5URXLR\", \"V4XCBER7V\", \"IOGQWC61K\"]"
      ],
      "metadata": {
        "id": "TedYfKi0Tdui"
      },
      "execution_count": null,
      "outputs": []
    },
    {
      "cell_type": "markdown",
      "source": [
        "**Instructions**\n",
        "*   Create a for loop to iterate over each `user_id` in `user_ids`.\n",
        "*   Within the for loop, print the `user_id`."
      ],
      "metadata": {
        "id": "FQaRk014TI_9"
      }
    },
    {
      "cell_type": "code",
      "source": [
        "# Loop through user_ids\n",
        "for user_id in user_ids:\n",
        "  # Print the user_id\n",
        "  print(user_id)"
      ],
      "metadata": {
        "colab": {
          "base_uri": "https://localhost:8080/"
        },
        "id": "_ViCk6c4Tj-y",
        "outputId": "7ba4dc68-4d79-4f11-c4f7-b1d0042b14ff"
      },
      "execution_count": null,
      "outputs": [
        {
          "output_type": "stream",
          "name": "stdout",
          "text": [
            "T42YG4KTK\n",
            "VTQ39IDQ0\n",
            "CRL11YUWX\n",
            "K6Y5URXLR\n",
            "V4XCBER7V\n",
            "IOGQWC61K\n"
          ]
        }
      ]
    },
    {
      "cell_type": "markdown",
      "source": [
        "### Excercise 2: Updating a variable with for loops"
      ],
      "metadata": {
        "id": "qmNv_XtCT_MR"
      }
    },
    {
      "cell_type": "markdown",
      "source": [
        "You're planning to hold a party so you can show off your playlist to friends and family. You've hired a venue that has a maximum capacity of 30 people, and you'd like to keep track of tickets sold.\n",
        "\n",
        "This is a perfect opportunity to use a for loop - it will increment the value of a variable each time a ticket is sold and then print a statement once the event is sold out."
      ],
      "metadata": {
        "id": "qpXPovDQUDkc"
      }
    },
    {
      "cell_type": "markdown",
      "source": [
        "**Instructions**\n",
        "*   Create a variable called `tickets_sold` with a value of `0`.\n",
        "*   Create a variable called `max_capacity` with a value of `30`.\n",
        "*   Loop through a range starting at `1` and finishing at `max_capacity` plus one, naming the iterator as `tickets`.\n",
        "*   Inside the for loop, add `1` to the value of `tickets_sold`."
      ],
      "metadata": {
        "id": "X-a8CBZVUKDR"
      }
    },
    {
      "cell_type": "code",
      "source": [
        "# Create the tickets_sold variable\n",
        "tickets_sold = 0\n",
        "\n",
        "# Create the max_capacity variable\n",
        "max_capacity = 30\n",
        "\n",
        "# Loop through a range up to and including max_capacity's value\n",
        "for i in range(1, max_capacity+1):\n",
        "\n",
        "  # Add one to tickets_sold in each iteration\n",
        "  tickets_sold = tickets_sold + 1\n",
        "\n",
        "print(\"Sold out:\", tickets_sold, \"tickets sold!\")"
      ],
      "metadata": {
        "colab": {
          "base_uri": "https://localhost:8080/"
        },
        "id": "tpDDZfFVU3cY",
        "outputId": "85acfcac-56ed-40ca-c49d-e2a529b3a396"
      },
      "execution_count": null,
      "outputs": [
        {
          "output_type": "stream",
          "name": "stdout",
          "text": [
            "Sold out: 30 tickets sold!\n"
          ]
        }
      ]
    },
    {
      "cell_type": "markdown",
      "source": [
        "### Excercise 3: Conditional looping with a dictionary"
      ],
      "metadata": {
        "id": "ZFHCEtOgV2cA"
      }
    },
    {
      "cell_type": "markdown",
      "source": [
        "Your friend at LLM Camp has provided you with a dictionary called `courses`. It contains the names of courses as keys and their associated topic as a value. There are three topics: `\"AI\"`, `\"Programming\"`, and `\"Data Engineering\"`."
      ],
      "metadata": {
        "id": "Ok8PaGoAV5z1"
      }
    },
    {
      "cell_type": "code",
      "source": [
        "courses = {\"LLM Concepts\": \"AI\",\n",
        "           \"Introduction to Data Pipelines\": \"Data Engineering\",\n",
        "           \"AI Ethics\": \"AI\",\n",
        "           \"Introduction to dbt\": \"Data Engineering\",\n",
        "           \"Writing Efficient Python Code\": \"Programming\",\n",
        "           \"Introduction to Docker\": \"Programming\"}"
      ],
      "metadata": {
        "id": "JR-kRBDCWU9v"
      },
      "execution_count": null,
      "outputs": []
    },
    {
      "cell_type": "markdown",
      "source": [
        "This is a great chance to practice looping through dictionaries!"
      ],
      "metadata": {
        "id": "KllEkhCEWWoY"
      }
    },
    {
      "cell_type": "markdown",
      "source": [
        "**Instructions**\n",
        "\n",
        "\n",
        "*   Create a for loop to iterate over `key`, `value` in `courses.items()`.\n",
        "*   Check if the value is `\"AI\"`, and print the `key` if so.\n",
        "*   Else, check if the `value` is `\"Programming\"`, printing the `key` if so.\n",
        "*   Otherwise, print the `key` to confirm it is a `\"Data Engineering\"` course.\n",
        "\n"
      ],
      "metadata": {
        "id": "jip47Ui7WZkU"
      }
    },
    {
      "cell_type": "code",
      "source": [
        "# Loop through the dictionary's keys and values\n",
        "for key, value in courses.items():\n",
        "\n",
        "  # Check if the value is \"AI\"\n",
        "  if value == \"AI\":\n",
        "    print(key, \"is an AI course\")\n",
        "\n",
        "  # Check if the value is \"Programming\"\n",
        "  elif value == \"Programming\":\n",
        "    print(key, \"is a Programming course\")\n",
        "\n",
        "  # Otherwise, print that it is a \"Data Engineering\" course\n",
        "  else:\n",
        "    print(key, \"is a Data Engineering course\")"
      ],
      "metadata": {
        "colab": {
          "base_uri": "https://localhost:8080/"
        },
        "id": "tvgNC2CFXQA4",
        "outputId": "3f246f1e-5178-4a1f-aa61-ef84a653a04a"
      },
      "execution_count": null,
      "outputs": [
        {
          "output_type": "stream",
          "name": "stdout",
          "text": [
            "LLM Concepts is an AI course\n",
            "Introduction to Data Pipelines is a Data Engineering course\n",
            "AI Ethics is an AI course\n",
            "Introduction to dbt is a Data Engineering course\n",
            "Writing Efficient Python Code is a Programming course\n",
            "Introduction to Docker is a Programming course\n"
          ]
        }
      ]
    },
    {
      "cell_type": "markdown",
      "source": [
        "## Lesson 3: While loops"
      ],
      "metadata": {
        "id": "3ZoKPVDiZ9Et"
      }
    },
    {
      "cell_type": "markdown",
      "source": [
        "### While loop"
      ],
      "metadata": {
        "id": "xI5ScgBPh7kb"
      }
    },
    {
      "cell_type": "code",
      "source": [
        "# Stock limit\n",
        "stock = 10\n",
        "\n",
        "# Number of purchases\n",
        "num_purchases = 0\n",
        "\n",
        "# While num_purchases < stock limit\n",
        "while num_purchases < stock:\n",
        "  # Increment num_purchases\n",
        "  num_purchases += 1\n",
        "  # Print remaining stock\n",
        "  print(stock - num_purchases)"
      ],
      "metadata": {
        "colab": {
          "base_uri": "https://localhost:8080/"
        },
        "id": "yKE_bK-paou1",
        "outputId": "c9927ca2-307f-46db-9dca-dee2a69a60f5"
      },
      "execution_count": null,
      "outputs": [
        {
          "output_type": "stream",
          "name": "stdout",
          "text": [
            "9\n",
            "8\n",
            "7\n",
            "6\n",
            "5\n",
            "4\n",
            "3\n",
            "2\n",
            "1\n",
            "0\n"
          ]
        }
      ]
    },
    {
      "cell_type": "markdown",
      "source": [
        "### A word of caution\n"
      ],
      "metadata": {
        "id": "Jf6GqSCmbQdv"
      }
    },
    {
      "cell_type": "code",
      "source": [
        "# Stock limit\n",
        "stock = 10\n",
        "\n",
        "# Number of purchases\n",
        "num_purchases = 0\n",
        "\n",
        "# While num_purchases < threshold\n",
        "while num_purchases < stock:\n",
        "  # Print remaining stock\n",
        "  print(stock - num_purchases)"
      ],
      "metadata": {
        "id": "kPU979AQbY53"
      },
      "execution_count": null,
      "outputs": []
    },
    {
      "cell_type": "markdown",
      "source": [
        "### Breaking a loop\n"
      ],
      "metadata": {
        "id": "a2GsWmpebxN5"
      }
    },
    {
      "cell_type": "code",
      "source": [
        "# While num_purchases < threshold\n",
        "while num_purchases < stock:\n",
        "  # Print remaining stock\n",
        "  print(stock - num_purchases)\n",
        "\n",
        "  # Terminate the loop\n",
        "  break"
      ],
      "metadata": {
        "colab": {
          "base_uri": "https://localhost:8080/"
        },
        "id": "imfOcpi1b3uN",
        "outputId": "27c93482-e9a2-44cf-c7a8-7ace4557130f"
      },
      "execution_count": null,
      "outputs": [
        {
          "output_type": "stream",
          "name": "stdout",
          "text": [
            "10\n"
          ]
        }
      ]
    },
    {
      "cell_type": "markdown",
      "source": [
        "### Conditional statements within while loops"
      ],
      "metadata": {
        "id": "u76nkf33cClY"
      }
    },
    {
      "cell_type": "code",
      "source": [
        "# While num_purchases < threshold\n",
        "while num_purchases < stock:\n",
        "  # Increment num_purchases\n",
        "  num_purchases += 1\n",
        "  # Conditional statement inside the loop\n",
        "  if stock - num_purchases > 7:\n",
        "    print(\"Plenty of stock remaining\")\n",
        "  elif stock - num_purchases > 3:\n",
        "    print(\"Some stock remaining\")\n",
        "  elif stock - num_purchases != 0:\n",
        "    print(\"Low stock!\")\n",
        "  else:\n",
        "    print(\"No stock!\")"
      ],
      "metadata": {
        "colab": {
          "base_uri": "https://localhost:8080/"
        },
        "id": "CdykdPNfcD98",
        "outputId": "5b37c30e-be2e-4914-dc95-1cbf73f3a8c6"
      },
      "execution_count": null,
      "outputs": [
        {
          "output_type": "stream",
          "name": "stdout",
          "text": [
            "Plenty of stock remaining\n",
            "Plenty of stock remaining\n",
            "Some stock remaining\n",
            "Some stock remaining\n",
            "Some stock remaining\n",
            "Some stock remaining\n",
            "Low stock!\n",
            "Low stock!\n",
            "Low stock!\n",
            "No stock!\n"
          ]
        }
      ]
    },
    {
      "cell_type": "markdown",
      "source": [
        "### Excercise 1: Converting to a while loop"
      ],
      "metadata": {
        "id": "-LofoFUidNxn"
      }
    },
    {
      "cell_type": "markdown",
      "source": [
        "You can often achieve the same tasks using either a `for` or `while` loop.\n",
        "\n",
        "To demonstrate this, you'll convert this `for` loop into a `while`!"
      ],
      "metadata": {
        "id": "it6SJ3I0dTGw"
      }
    },
    {
      "cell_type": "markdown",
      "source": [
        "\n",
        "\n",
        "```\n",
        "# Create the tickets_sold variable\n",
        "tickets_sold = 0\n",
        "\n",
        "# Create the max_capacity variable\n",
        "max_capacity = 10\n",
        "\n",
        "# Loop through a range up to and including max_capacity's value\n",
        "for tickets in range(1, max_capacity + 1):\n",
        "\n",
        "  # Add one to tickets_sold in each iteration\n",
        "  tickets_sold += 1\n",
        "\n",
        "print(\"Sold out:\", tickets_sold, \"tickets sold!\")\n",
        "```\n",
        "\n"
      ],
      "metadata": {
        "id": "XqUw82V-dbi0"
      }
    },
    {
      "cell_type": "markdown",
      "source": [
        "**Note that if your `while` loop takes too long to run, or your session is expiring, you might have created an infinite loop.** In particular, remember to **indent** the contents of the loop using four spaces or auto-indentation, and make sure the conditions are such that the loop has a stopping point."
      ],
      "metadata": {
        "id": "nj8f5BTOdjPh"
      }
    },
    {
      "cell_type": "markdown",
      "source": [
        "**Instructions**\n",
        "*   Create a while loop to run while `tickets_sold` is less than `max_capacity`.\n",
        "*   Inside the loop, increment `tickets_sold` by `1`, representing an increase for each ticket sold.\n",
        "*   Outside of the loop, print `tickets_sold`."
      ],
      "metadata": {
        "id": "r8iBJkOzdt0l"
      }
    },
    {
      "cell_type": "code",
      "source": [
        "tickets_sold = 0\n",
        "max_capacity = 10\n",
        "\n",
        "# Create a while loop\n",
        "while tickets_sold < max_capacity:\n",
        "\n",
        "  # Add one to tickets_sold in each iteration\n",
        "  tickets_sold += 1\n",
        "\n",
        "# Print the number of tickets sold\n",
        "print(\"Sold out:\", tickets_sold, \"tickets sold!\")"
      ],
      "metadata": {
        "colab": {
          "base_uri": "https://localhost:8080/"
        },
        "id": "e1BmEcqed_7X",
        "outputId": "940cbbc5-a15c-411f-dfd7-0b993c917045"
      },
      "execution_count": null,
      "outputs": [
        {
          "output_type": "stream",
          "name": "stdout",
          "text": [
            "Sold out: 10 tickets sold!\n"
          ]
        }
      ]
    },
    {
      "cell_type": "markdown",
      "source": [
        "### Excercise 2: Conditional while loops"
      ],
      "metadata": {
        "id": "Hx6cavQledWM"
      }
    },
    {
      "cell_type": "markdown",
      "source": [
        "You've offered to help build a program that LLM Camp can use to promote an upcoming new course launching on the 26th of the month.\n",
        "\n",
        "Today's date is the 22nd, and they have a pre-release version available from the 24th for all users who purchase a subscription on or before the 24th!\n",
        "\n",
        "You'll need to build a custom workflow that provides tailored messages depending on the date.\n",
        "\n",
        "**Note that if your `while` loop takes too long to run, or your session is expiring, you might have created an infinite loop.** In particular, remember to **indent** the contents of the loop using four spaces or auto-indentation, and make sure the conditions are such that the loop has a stopping point."
      ],
      "metadata": {
        "id": "HqpzQuu6eniR"
      }
    },
    {
      "cell_type": "markdown",
      "source": [
        "**Instructions**\n",
        "*   Create a `while` loop based on `current_date` being less than or equal to `release_date`\n",
        "*   Check if `current_date` is less than or equal to `24` and, if so, print `\"Purchase before the 25th for early access\"`\n",
        "*   Otherwise, check if `current_date` is equal to `25`, printing `\"Coming soon!\"`.\n",
        "*   After all checks, increment `current_date` by one for each day that passes."
      ],
      "metadata": {
        "id": "tOcef-plf4km"
      }
    },
    {
      "cell_type": "code",
      "source": [
        "release_date = 26\n",
        "current_date = 22\n",
        "\n",
        "# Create a conditional loop while current_date is less than or equal to the release_date\n",
        "while current_date <= release_date:\n",
        "\n",
        "  # Promote purchases\n",
        "  if current_date <= 24:\n",
        "    print(\"Purchase before the 25th for early access\")\n",
        "\n",
        "  # Check if the date is equal to the 25th\n",
        "  elif current_date == 25:\n",
        "    print(\"Coming soon\")\n",
        "  else:\n",
        "    print(\"Available now!\")\n",
        "\n",
        "  # Increment current_date by one\n",
        "  current_date += 1"
      ],
      "metadata": {
        "colab": {
          "base_uri": "https://localhost:8080/"
        },
        "id": "WyvpjgYYgwhV",
        "outputId": "b0672ab0-5a9e-403e-83e2-9718fb5b6b76"
      },
      "execution_count": null,
      "outputs": [
        {
          "output_type": "stream",
          "name": "stdout",
          "text": [
            "Purchase before the 25th for early access\n",
            "Purchase before the 25th for early access\n",
            "Purchase before the 25th for early access\n",
            "Coming soon\n",
            "Available now!\n"
          ]
        }
      ]
    },
    {
      "cell_type": "markdown",
      "source": [
        "## Lesson 4: Building a workflow"
      ],
      "metadata": {
        "id": "4Cinl3k6h_wB"
      }
    },
    {
      "cell_type": "markdown",
      "source": [
        "### Complex workflows"
      ],
      "metadata": {
        "id": "vN975s-Yr8-F"
      }
    },
    {
      "cell_type": "markdown",
      "source": [
        "*   Loops through data structures\n",
        "    *   `for` , `while`"
      ],
      "metadata": {
        "id": "Oxc_5lHJr_XG"
      }
    },
    {
      "cell_type": "markdown",
      "source": [
        "  *   Evaluate multiple conditions\n",
        "      *   `if` , `elif` , `else` , `>` , `>=` , `<` , `<=` , `==` , `!=`"
      ],
      "metadata": {
        "id": "_QFqfcKusQLG"
      }
    },
    {
      "cell_type": "markdown",
      "source": [
        "  *   Update variables\n",
        "        *   `+=`"
      ],
      "metadata": {
        "id": "2NpLmBshspSW"
      }
    },
    {
      "cell_type": "markdown",
      "source": [
        "*    Return outputs\n",
        "     *    `print()`"
      ],
      "metadata": {
        "id": "LUsZ20FYsyOc"
      }
    },
    {
      "cell_type": "markdown",
      "source": [
        "### The \"`in`\" keyword\n"
      ],
      "metadata": {
        "id": "KF2IvxBctJcU"
      }
    },
    {
      "cell_type": "markdown",
      "source": [
        "*    `in` = check if a value is `in` a variable/data structure"
      ],
      "metadata": {
        "id": "yTuVoVwKzr-o"
      }
    },
    {
      "cell_type": "code",
      "source": [
        "products_dict = {\"AG32\": 10, \"HT91\": 20,\n",
        "                  \"PL65\": 30, \"OS31\": 15,\n",
        "                  \"KB07\": 25, \"TR48\": 35}\n",
        "# Check if \"OS31\" is a key in products_dict\n",
        "if \"OS31\" in products_dict.keys():\n",
        "  print(True)\n",
        "else:\n",
        "  print(False)"
      ],
      "metadata": {
        "colab": {
          "base_uri": "https://localhost:8080/"
        },
        "id": "POAHWVDKzy5w",
        "outputId": "3965766b-1fa7-454f-b8c4-98c77ba4f263"
      },
      "execution_count": null,
      "outputs": [
        {
          "output_type": "stream",
          "name": "stdout",
          "text": [
            "True\n"
          ]
        }
      ]
    },
    {
      "cell_type": "markdown",
      "source": [
        "### The \"`not`\" keyword"
      ],
      "metadata": {
        "id": "cOES3g9_0DbX"
      }
    },
    {
      "cell_type": "markdown",
      "source": [
        "*    `not` = check if a condition is **not** met"
      ],
      "metadata": {
        "id": "QIhbVarN0JeE"
      }
    },
    {
      "cell_type": "code",
      "source": [
        "# Check if \"OS31\" is not a key in products_dict\n",
        "if \"OS31\" not in products_dict.keys():\n",
        "  print(False)\n",
        "else:\n",
        "  print(True)"
      ],
      "metadata": {
        "colab": {
          "base_uri": "https://localhost:8080/"
        },
        "id": "Gkwi2qIs0PZU",
        "outputId": "3e7d9788-d8e3-4d03-c89d-368c7369540f"
      },
      "execution_count": null,
      "outputs": [
        {
          "output_type": "stream",
          "name": "stdout",
          "text": [
            "True\n"
          ]
        }
      ]
    },
    {
      "cell_type": "markdown",
      "source": [
        "### The \"`and`\" keyword"
      ],
      "metadata": {
        "id": "gxY-8KkC0sEZ"
      }
    },
    {
      "cell_type": "markdown",
      "source": [
        "*   `and` = check if **multiple conditions** are met"
      ],
      "metadata": {
        "id": "DoMv7Wut0wT4"
      }
    },
    {
      "cell_type": "code",
      "source": [
        "# Check if \"HT91\" is a key and the minimum price of all products is > 5\n",
        "if \"HT91\" in products_dict.keys() and min(products_dict.values()) > 5:\n",
        "  print(True)\n",
        "else:\n",
        "  print(False)"
      ],
      "metadata": {
        "colab": {
          "base_uri": "https://localhost:8080/"
        },
        "id": "k1bHAgNs04tU",
        "outputId": "7de5ac6e-b815-4b27-d99a-3d2b05541519"
      },
      "execution_count": null,
      "outputs": [
        {
          "output_type": "stream",
          "name": "stdout",
          "text": [
            "True\n"
          ]
        }
      ]
    },
    {
      "cell_type": "markdown",
      "source": [
        "### The \"`or`\" keyword"
      ],
      "metadata": {
        "id": "S_E7vRbJ1CU1"
      }
    },
    {
      "cell_type": "markdown",
      "source": [
        "*   `or` = check if **one (or more) condition** is met"
      ],
      "metadata": {
        "id": "I5jhXw7q1EtM"
      }
    },
    {
      "cell_type": "code",
      "source": [
        "# Check if \"HT91\" is a key or that the minimum price of all products is < 5\n",
        "if \"HT91\" in products_dict.keys() or min(products_dict.values()) < 5:\n",
        "  print(True)\n",
        "else:\n",
        "  print(False)"
      ],
      "metadata": {
        "colab": {
          "base_uri": "https://localhost:8080/"
        },
        "id": "vdLXjUqR1MHg",
        "outputId": "c72219eb-c731-4ff5-a16d-14edae342e8f"
      },
      "execution_count": null,
      "outputs": [
        {
          "output_type": "stream",
          "name": "stdout",
          "text": [
            "True\n"
          ]
        }
      ]
    },
    {
      "cell_type": "markdown",
      "source": [
        "### Adding/subtracting from variables"
      ],
      "metadata": {
        "id": "YU092Gny1bkL"
      }
    },
    {
      "cell_type": "markdown",
      "source": [
        "*   Combine keywords with other techniques to build complex workflows"
      ],
      "metadata": {
        "id": "gJ_NWSjc1ddL"
      }
    },
    {
      "cell_type": "code",
      "source": [
        "sales_count = 0\n",
        "\n",
        "for sale in range(1, 10):\n",
        "  # sales_count = sales_count + 1\n",
        "  sales_count += 1\n",
        "\n",
        "stock = 10\n",
        "\n",
        "for sale in range(1, 10):\n",
        "  # sales_count = sales_count - 1\n",
        "  stock -= 1"
      ],
      "metadata": {
        "id": "t0Jr5rBz1itc"
      },
      "execution_count": null,
      "outputs": []
    },
    {
      "cell_type": "markdown",
      "source": [
        "*   Other ways to update variables"
      ],
      "metadata": {
        "id": "1e1VL9dg2CNV"
      }
    },
    {
      "cell_type": "markdown",
      "source": [
        "### Appending"
      ],
      "metadata": {
        "id": "1R0MYuyi2Tuw"
      }
    },
    {
      "cell_type": "markdown",
      "source": [
        "*    Store information that meets specific criteria in a list"
      ],
      "metadata": {
        "id": "Eh2DZUvb2cUW"
      }
    },
    {
      "cell_type": "code",
      "source": [
        "# Create an empty list\n",
        "expensive_products = []\n",
        "\n",
        "# Loop through the dictionary\n",
        "for key, val in products_dict.items():\n",
        "\n",
        "  # Check if price is 20 dollars or more\n",
        "  if val >= 20:\n",
        "\n",
        "    # Append the product ID to the list\n",
        "    expensive_products.append(key)\n",
        "\n",
        "print(expensive_products)"
      ],
      "metadata": {
        "colab": {
          "base_uri": "https://localhost:8080/"
        },
        "id": "KLGY5g142d6o",
        "outputId": "3290aadf-8f14-48cc-d7ff-ea312d3695ff"
      },
      "execution_count": null,
      "outputs": [
        {
          "output_type": "stream",
          "name": "stdout",
          "text": [
            "['HT91', 'PL65', 'KB07', 'TR48']\n"
          ]
        }
      ]
    },
    {
      "cell_type": "markdown",
      "source": [
        "### Excercise 1: Appending to a list"
      ],
      "metadata": {
        "id": "oZvW_dPb-bY9"
      }
    },
    {
      "cell_type": "markdown",
      "source": [
        "You've been provided with a dictionary called `authors`, which has information about 20 of the most popular fiction authors in the World. It contains the names of authors as keys and the number of books they've created as values.\n",
        "\n",
        "You're interested in finding out how many of these authors have made less than 25 books. To do this, you will create a list called `authors_below_twenty_five`, filling it with author names conditionally based on whether they have created less than 25 books."
      ],
      "metadata": {
        "id": "595WiWdb-k3V"
      }
    },
    {
      "cell_type": "code",
      "source": [
        "authors = {'Penny Jordan': 200,\n",
        " 'Nicholas Sparks': 22,\n",
        " 'Ken Follett': 30,\n",
        " 'Erskine Caldwell': 25,\n",
        " 'Wilbur Smith': 32,\n",
        " 'Judith Krantz': 12,\n",
        " 'Harold Robbins': 23,\n",
        " 'J. K. Rowling': 22,\n",
        " 'Debbie Macomber': 199,\n",
        " 'Eiichiro Oda': 106,\n",
        " 'Danielle Steel': 179,\n",
        " 'Barbara Cartland': 723,\n",
        " 'Georges Simenon': 570,\n",
        " 'Corín Tellado': 4000,\n",
        " 'Clive Cussler': 37,\n",
        " 'Sidney Sheldon': 21,\n",
        " 'Dean Koontz': 91,\n",
        " 'Janet Dailey': 93,\n",
        " 'Jirō Akagawa': 500,\n",
        " 'Stephen King': 77}"
      ],
      "metadata": {
        "id": "Dbw6Wnph_mPh"
      },
      "execution_count": null,
      "outputs": []
    },
    {
      "cell_type": "markdown",
      "source": [
        "**Instructions**\n",
        "*    Create an empty list called `authors_below_twenty_five`.\n",
        "*    Loop through the key and `value` iterators in the `authors` dictionary.\n",
        "*    Inside the for loop, check if `value` iterator is less than `25`.\n",
        "*    If so, append the author's name to the `authors_below_twenty_five` list."
      ],
      "metadata": {
        "id": "VKykRif6-qef"
      }
    },
    {
      "cell_type": "code",
      "source": [
        "# Create an empty list\n",
        "authors_below_twenty_five = []\n",
        "\n",
        "# Loop through the authors dictionary\n",
        "for key, value in authors.items():\n",
        "\n",
        "  # Check for values less than 25\n",
        "  if value < 25:\n",
        "\n",
        "    # Append the author to the list\n",
        "    authors_below_twenty_five.append(key)\n",
        "\n",
        "print(authors_below_twenty_five)"
      ],
      "metadata": {
        "colab": {
          "base_uri": "https://localhost:8080/"
        },
        "id": "vI-eapK0_GAH",
        "outputId": "264ce26d-27d8-41b4-dce8-d937c96c62c1"
      },
      "execution_count": null,
      "outputs": [
        {
          "output_type": "stream",
          "name": "stdout",
          "text": [
            "['Nicholas Sparks', 'Judith Krantz', 'Harold Robbins', 'J. K. Rowling', 'Sidney Sheldon']\n"
          ]
        }
      ]
    },
    {
      "cell_type": "markdown",
      "source": [
        "### Excercise 2: Book genre popularity"
      ],
      "metadata": {
        "id": "irpYAqc5AIB9"
      }
    },
    {
      "cell_type": "markdown",
      "source": [
        "Previously, you worked with a dictionary containing information about authors and the number of books that they have written.\n",
        "\n",
        "In this exercise, data about the same authors has been aggregated to create a new dictionary called `genre_sales`, where the keys are the genre and the values are the average sales for that genre among the 20 most popular authors.\n",
        "\n",
        "Your job is to find the most and least popular genres among these authors, along with their average sales revenue."
      ],
      "metadata": {
        "id": "CH5PomxuAMsv"
      }
    },
    {
      "cell_type": "code",
      "source": [
        "genre_sales = {'Adventure': 367500000,\n",
        " 'Horror': 312500000,\n",
        " 'Literature': 80000000,\n",
        " 'Manga': 5166000000,\n",
        " 'Mystery': 300000000,\n",
        " 'Romance': 252500000,\n",
        " 'Thriller': 320000000}"
      ],
      "metadata": {
        "id": "YGDgYE09BRpR"
      },
      "execution_count": null,
      "outputs": []
    },
    {
      "cell_type": "markdown",
      "source": [
        "**Instructions**\n",
        "*   Check if `average_sale` is equal to the largest sales revenue (`5166000000`) in `genre_sales`.\n",
        "*   Print the `genre` with the largest average sales.\n",
        "*   Next, check whether `average_sale` is equal to the smallest sales revenue (`80000000`).\n",
        "*   Lastly, print the `genre` with the smallest average sales."
      ],
      "metadata": {
        "id": "PzSm5jxUAWtn"
      }
    },
    {
      "cell_type": "code",
      "source": [
        "for genre, average_sale in genre_sales.items():\n",
        "\n",
        "    # Filter for the maximum sales value\n",
        "    if average_sale == 5166000000:\n",
        "\n",
        "      # Print the genre\n",
        "      print(\"Most popular genre: \", genre)\n",
        "      print(\"Average sales: \", average_sale)\n",
        "\n",
        "    # Filter for the minimum sales value\n",
        "    elif average_sale == 80000000:\n",
        "\n",
        "      # Print the genre\n",
        "      print(\"Least popular genre: \", genre)\n",
        "      print(\"Average sales: \", average_sale)"
      ],
      "metadata": {
        "colab": {
          "base_uri": "https://localhost:8080/"
        },
        "id": "2p7CXqVPBICH",
        "outputId": "9e297ed4-4153-4462-9b97-cc32e3985465"
      },
      "execution_count": null,
      "outputs": [
        {
          "output_type": "stream",
          "name": "stdout",
          "text": [
            "Least popular genre:  Literature\n",
            "Average sales:  80000000\n",
            "Most popular genre:  Manga\n",
            "Average sales:  5166000000\n"
          ]
        }
      ]
    },
    {
      "cell_type": "markdown",
      "source": [
        "### Excercise 3: Working with keywords\n"
      ],
      "metadata": {
        "id": "mz94rJnVCFK3"
      }
    },
    {
      "cell_type": "markdown",
      "source": [
        "Working with the `genre_sales` dictionary again, this time you will apply multiple conditions simultaneously to find out information about book genres and average sales!"
      ],
      "metadata": {
        "id": "_GMrYbNpCRc2"
      }
    },
    {
      "cell_type": "markdown",
      "source": [
        "**Instructions**\n",
        "*   Loop through the keys and values of the `genre_sales` dictionary.\n",
        "*   Inside the loop, check if the genre is `\"Horror\"` Inline code or `\"Mystery\"`.\n",
        "*   Check if `genre` is `\"Thriller\"` and average sales is more than or equal to `3000000`"
      ],
      "metadata": {
        "id": "PbzREdSYCeX1"
      }
    },
    {
      "cell_type": "code",
      "source": [
        "# Loop through the dictionary\n",
        "for genre, sale in genre_sales.items():\n",
        "\n",
        "  # Check if genre is Horror or Mystery\n",
        "  if genre == \"Horror\" or genre == \"Mystery\":\n",
        "    print(genre, sale)\n",
        "\n",
        "  # Check if genre is Thriller and sale is at least 3 million\n",
        "  elif genre == \"Thriller\" and sale >= 3000000:\n",
        "    print(genre, sale)"
      ],
      "metadata": {
        "colab": {
          "base_uri": "https://localhost:8080/"
        },
        "id": "AfHhAwN7DHug",
        "outputId": "b0b97e65-11c2-419b-c495-333e6e30efa0"
      },
      "execution_count": null,
      "outputs": [
        {
          "output_type": "stream",
          "name": "stdout",
          "text": [
            "Horror 312500000\n",
            "Mystery 300000000\n",
            "Thriller 320000000\n"
          ]
        }
      ]
    }
  ]
}